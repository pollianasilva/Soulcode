{
  "nbformat": 4,
  "nbformat_minor": 0,
  "metadata": {
    "colab": {
      "provenance": [],
      "authorship_tag": "ABX9TyMPoGMmCRklJnMHJnrh2tNA",
      "include_colab_link": true
    },
    "kernelspec": {
      "name": "python3",
      "display_name": "Python 3"
    },
    "language_info": {
      "name": "python"
    }
  },
  "cells": [
    {
      "cell_type": "markdown",
      "metadata": {
        "id": "view-in-github",
        "colab_type": "text"
      },
      "source": [
        "<a href=\"https://colab.research.google.com/github/pollianasilva/Soulcode/blob/main/Atividade02_PollianaSilva.ipynb\" target=\"_parent\"><img src=\"https://colab.research.google.com/assets/colab-badge.svg\" alt=\"Open In Colab\"/></a>"
      ]
    },
    {
      "cell_type": "markdown",
      "source": [
        "Escola: Soulcode Academy\n",
        "\n",
        "Curso: Analista de dados e Dashboards\n",
        "\n",
        "Período: Noturno\n",
        "\n",
        "Assunto: Python\n",
        "\n",
        "Aluna: Polliana Silva"
      ],
      "metadata": {
        "id": "6SX_9j6TKvjN"
      }
    },
    {
      "cell_type": "markdown",
      "source": [
        "# **Atividade proposta 2**"
      ],
      "metadata": {
        "id": "BzkpVMmyKhOv"
      }
    },
    {
      "cell_type": "markdown",
      "source": [
        "* Contagem de Vendas: Uma loja de eletrônicos deseja saber quantos produtos de cada tipo foram vendidos durante a semana. Escreva um programa em Python que solicite ao usuário a quantidade de vendas de três tipos de produtos: smartphones, laptops e tablets. O programa deve calcular e exibir o total de vendas de cada tipo"
      ],
      "metadata": {
        "id": "2trSIDPwMhDm"
      }
    },
    {
      "cell_type": "code",
      "execution_count": 1,
      "metadata": {
        "id": "8qoZFgaNKaeS",
        "colab": {
          "base_uri": "https://localhost:8080/"
        },
        "outputId": "cacc97d4-41ad-494c-ddcc-071e675b846a"
      },
      "outputs": [
        {
          "output_type": "stream",
          "name": "stdout",
          "text": [
            "Por favor, insira a quantidade de smartphones vendidos: 100\n",
            "Por favor, insira a quantidade de laptops vendidos: 60\n",
            "Por favor, insira a quantidade de tablets vendidos: 30\n",
            "\n",
            "Total de vendas de smartphones: 100\n",
            "Total de vendas de laptops: 60\n",
            "Total de vendas de tablets: 30\n"
          ]
        }
      ],
      "source": [
        "def contagem_vendas():\n",
        "    # Solicita a quantidade de vendas para cada tipo de produto\n",
        "    vendas_smartphones = int(input(\"Por favor, insira a quantidade de smartphones vendidos: \"))\n",
        "    vendas_laptops = int(input(\"Por favor, insira a quantidade de laptops vendidos: \"))\n",
        "    vendas_tablets = int(input(\"Por favor, insira a quantidade de tablets vendidos: \"))\n",
        "\n",
        "    # Exibe o total de vendas de cada tipo de produto\n",
        "    print(f\"\\nTotal de vendas de smartphones: {vendas_smartphones}\")\n",
        "    print(f\"Total de vendas de laptops: {vendas_laptops}\")\n",
        "    print(f\"Total de vendas de tablets: {vendas_tablets}\")\n",
        "\n",
        "# Chama a função para executar o processo\n",
        "contagem_vendas()"
      ]
    },
    {
      "cell_type": "markdown",
      "source": [
        "* Enunciado: Um cliente deseja fazer uma lista de compras de supermercado. Escreva um programa em Python que permita ao usuário adicionar itens à lista de compras e, em seguida, exiba todos os itens adicionados."
      ],
      "metadata": {
        "id": "1UbFjG8vMrxO"
      }
    },
    {
      "cell_type": "code",
      "source": [
        "def lista_compras():\n",
        "    lista_de_compras = []  # Inicializa uma lista vazia para armazenar os itens\n",
        "\n",
        "    while True:\n",
        "        # Solicita ao usuário para adicionar um item à lista\n",
        "        item = input(\"Por favor, insira um item para adicionar à lista de compras (ou digite 'sair' para finalizar): \")\n",
        "\n",
        "        # Verifica se o usuário digitou 'sair' para encerrar a adição de itens\n",
        "        if item.lower() == 'sair':\n",
        "            break\n",
        "\n",
        "        # Adiciona o item à lista de compras\n",
        "        lista_de_compras.append(item)\n",
        "\n",
        "    # Exibe todos os itens adicionados à lista de compras\n",
        "    print(\"\\nItens na sua lista de compras:\")\n",
        "    for item in lista_de_compras:\n",
        "        print(f\"- {item}\")\n",
        "\n",
        "# Chama a função para executar o processo\n",
        "lista_compras()"
      ],
      "metadata": {
        "id": "F3yrdN4GMrB1",
        "colab": {
          "base_uri": "https://localhost:8080/"
        },
        "outputId": "fe10c353-80db-4c0b-8286-6282d8696c1f"
      },
      "execution_count": 2,
      "outputs": [
        {
          "output_type": "stream",
          "name": "stdout",
          "text": [
            "Por favor, insira um item para adicionar à lista de compras (ou digite 'sair' para finalizar): manteiga\n",
            "Por favor, insira um item para adicionar à lista de compras (ou digite 'sair' para finalizar): sair\n",
            "\n",
            "Itens na sua lista de compras:\n",
            "- manteiga\n"
          ]
        }
      ]
    },
    {
      "cell_type": "markdown",
      "source": [
        "Enunciado: Uma empresa deseja manter um registro de seus clientes, incluindo nome, idade e e-mail. Escreva um programa em Python que permita ao usuário adicionar novos clientes ao registro e, em seguida, exiba todos os clientes registrados."
      ],
      "metadata": {
        "id": "I62e-GW-MvO1"
      }
    },
    {
      "cell_type": "markdown",
      "source": [
        "* Uma empresa deseja coletar feedback de satisfação de seus clientes. Escreva um programa em Python que solicite ao usuário que atribua uma nota de 1 a 5 para a qualidade de um serviço. O programa deve armazenar as respostas dos clientes e contar quantos deram cada nota."
      ],
      "metadata": {
        "id": "ENBvMctVMzXm"
      }
    },
    {
      "cell_type": "code",
      "source": [
        "#Programa 1: Registro de Clientes\n",
        "def registro_clientes():\n",
        "    clientes = []  # Inicializa uma lista vazia para armazenar os registros dos clientes\n",
        "\n",
        "    while True:\n",
        "        # Solicita informações do cliente\n",
        "        nome = input(\"Por favor, insira o nome do cliente (ou digite 'sair' para finalizar): \")\n",
        "        if nome.lower() == 'sair':\n",
        "            break\n",
        "        idade = input(\"Por favor, insira a idade do cliente: \")\n",
        "        email = input(\"Por favor, insira o e-mail do cliente: \")\n",
        "\n",
        "        # Adiciona o registro do cliente à lista\n",
        "        cliente = {\"nome\": nome, \"idade\": idade, \"email\": email}\n",
        "        clientes.append(cliente)\n",
        "\n",
        "    # Exibe todos os clientes registrados\n",
        "    print(\"\\nClientes registrados:\")\n",
        "    for cliente in clientes:\n",
        "        print(f\"Nome: {cliente['nome']}, Idade: {cliente['idade']}, E-mail: {cliente['email']}\")\n",
        "\n",
        "# Chama a função para executar o processo\n",
        "registro_clientes()"
      ],
      "metadata": {
        "id": "J4FAU64aMy7W",
        "colab": {
          "base_uri": "https://localhost:8080/"
        },
        "outputId": "a62d40e1-f09d-4b96-f3fc-a3c09a69b282"
      },
      "execution_count": 3,
      "outputs": [
        {
          "output_type": "stream",
          "name": "stdout",
          "text": [
            "Por favor, insira o nome do cliente (ou digite 'sair' para finalizar): Jorge\n",
            "Por favor, insira a idade do cliente: 40\n",
            "Por favor, insira o e-mail do cliente: jorge@jorge.com\n",
            "Por favor, insira o nome do cliente (ou digite 'sair' para finalizar): sair\n",
            "\n",
            "Clientes registrados:\n",
            "Nome: Jorge, Idade: 40, E-mail: jorge@jorge.com\n"
          ]
        }
      ]
    },
    {
      "cell_type": "code",
      "source": [
        "#Programa 2: Coleta de Feedback de Satisfação\n",
        "def coleta_feedback():\n",
        "    notas = [0, 0, 0, 0, 0]  # Lista para contar o número de cada nota (1 a 5)\n",
        "\n",
        "    while True:\n",
        "        # Solicita uma nota ao usuário\n",
        "        try:\n",
        "            nota = int(input(\"Por favor, avalie a qualidade do serviço de 1 a 5 (ou digite 0 para finalizar): \"))\n",
        "            if nota == 0:\n",
        "                break\n",
        "            if 1 <= nota <= 5:\n",
        "                notas[nota - 1] += 1\n",
        "            else:\n",
        "                print(\"Por favor, insira uma nota válida entre 1 e 5.\")\n",
        "        except ValueError:\n",
        "            print(\"Por favor, insira um número válido.\")\n",
        "\n",
        "    # Exibe a contagem de cada nota\n",
        "    print(\"\\nContagem de feedbacks:\")\n",
        "    for i in range(5):\n",
        "        print(f\"Nota {i + 1}: {notas[i]}\")\n",
        "\n",
        "# Chama a função para executar o processo\n",
        "coleta_feedback()"
      ],
      "metadata": {
        "colab": {
          "base_uri": "https://localhost:8080/"
        },
        "id": "KZyw_MMFvLPj",
        "outputId": "833bfa7a-970b-4e57-f6f0-a9168f38a736"
      },
      "execution_count": 4,
      "outputs": [
        {
          "output_type": "stream",
          "name": "stdout",
          "text": [
            "Por favor, avalie a qualidade do serviço de 1 a 5 (ou digite 0 para finalizar): 5\n",
            "Por favor, avalie a qualidade do serviço de 1 a 5 (ou digite 0 para finalizar): 0\n",
            "\n",
            "Contagem de feedbacks:\n",
            "Nota 1: 0\n",
            "Nota 2: 0\n",
            "Nota 3: 0\n",
            "Nota 4: 0\n",
            "Nota 5: 1\n"
          ]
        }
      ]
    },
    {
      "cell_type": "markdown",
      "source": [
        "* Escreva um programa em Python que permita ao usuário gerenciar uma lista de tarefas. O programa deve oferecer as opções de adicionar uma nova tarefa, listar todas as tarefas e marcar uma tarefa como concluída."
      ],
      "metadata": {
        "id": "HanDqD2CM3A9"
      }
    },
    {
      "cell_type": "code",
      "source": [
        "def gerenciar_tarefas():\n",
        "    tarefas = []  # Inicializa uma lista vazia para armazenar as tarefas\n",
        "\n",
        "    while True:\n",
        "        # Exibe o menu de opções\n",
        "        print(\"\\nMenu de Gerenciamento de Tarefas\")\n",
        "        print(\"1. Adicionar nova tarefa\")\n",
        "        print(\"2. Listar todas as tarefas\")\n",
        "        print(\"3. Marcar tarefa como concluída\")\n",
        "        print(\"4. Sair\")\n",
        "\n",
        "        # Solicita a escolha do usuário\n",
        "        opcao = input(\"Escolha uma opção (1-4): \")\n",
        "\n",
        "        if opcao == '1':\n",
        "            # Adicionar nova tarefa\n",
        "            tarefa = input(\"Digite a nova tarefa: \")\n",
        "            tarefas.append({\"tarefa\": tarefa, \"concluida\": False})\n",
        "            print(\"Tarefa adicionada com sucesso!\")\n",
        "\n",
        "        elif opcao == '2':\n",
        "            # Listar todas as tarefas\n",
        "            if not tarefas:\n",
        "                print(\"Nenhuma tarefa adicionada.\")\n",
        "            else:\n",
        "                print(\"\\nLista de Tarefas:\")\n",
        "                for i, tarefa in enumerate(tarefas):\n",
        "                    status = \"Concluída\" if tarefa[\"concluida\"] else \"Pendente\"\n",
        "                    print(f\"{i + 1}. {tarefa['tarefa']} - {status}\")\n",
        "\n",
        "        elif opcao == '3':\n",
        "            # Marcar tarefa como concluída\n",
        "            if not tarefas:\n",
        "                print(\"Nenhuma tarefa para marcar como concluída.\")\n",
        "            else:\n",
        "                for i, tarefa in enumerate(tarefas):\n",
        "                    status = \"Concluída\" if tarefa[\"concluida\"] else \"Pendente\"\n",
        "                    print(f\"{i + 1}. {tarefa['tarefa']} - {status}\")\n",
        "\n",
        "                try:\n",
        "                    numero_tarefa = int(input(\"Digite o número da tarefa a ser marcada como concluída: \"))\n",
        "                    if 1 <= numero_tarefa <= len(tarefas):\n",
        "                        tarefas[numero_tarefa - 1][\"concluida\"] = True\n",
        "                        print(\"Tarefa marcada como concluída!\")\n",
        "                    else:\n",
        "                        print(\"Número de tarefa inválido.\")\n",
        "                except ValueError:\n",
        "                    print(\"Por favor, insira um número válido.\")\n",
        "\n",
        "        elif opcao == '4':\n",
        "            # Sair\n",
        "            print(\"Saindo do programa.\")\n",
        "            break\n",
        "\n",
        "        else:\n",
        "            print(\"Opção inválida. Por favor, escolha uma opção entre 1 e 4.\")\n",
        "\n",
        "# Chama a função para executar o processo\n",
        "gerenciar_tarefas()"
      ],
      "metadata": {
        "id": "kDgLbUMRM7bF",
        "colab": {
          "base_uri": "https://localhost:8080/"
        },
        "outputId": "c70ead54-de80-4412-f7e1-7a9c056675e9"
      },
      "execution_count": 5,
      "outputs": [
        {
          "output_type": "stream",
          "name": "stdout",
          "text": [
            "\n",
            "Menu de Gerenciamento de Tarefas\n",
            "1. Adicionar nova tarefa\n",
            "2. Listar todas as tarefas\n",
            "3. Marcar tarefa como concluída\n",
            "4. Sair\n",
            "Escolha uma opção (1-4): 1\n",
            "Digite a nova tarefa: Cozinha\n",
            "Tarefa adicionada com sucesso!\n",
            "\n",
            "Menu de Gerenciamento de Tarefas\n",
            "1. Adicionar nova tarefa\n",
            "2. Listar todas as tarefas\n",
            "3. Marcar tarefa como concluída\n",
            "4. Sair\n",
            "Escolha uma opção (1-4): 1\n",
            "Digite a nova tarefa: lavar roupa\n",
            "Tarefa adicionada com sucesso!\n",
            "\n",
            "Menu de Gerenciamento de Tarefas\n",
            "1. Adicionar nova tarefa\n",
            "2. Listar todas as tarefas\n",
            "3. Marcar tarefa como concluída\n",
            "4. Sair\n",
            "Escolha uma opção (1-4): 2\n",
            "\n",
            "Lista de Tarefas:\n",
            "1. Cozinha - Pendente\n",
            "2. lavar roupa - Pendente\n",
            "\n",
            "Menu de Gerenciamento de Tarefas\n",
            "1. Adicionar nova tarefa\n",
            "2. Listar todas as tarefas\n",
            "3. Marcar tarefa como concluída\n",
            "4. Sair\n",
            "Escolha uma opção (1-4): 3\n",
            "1. Cozinha - Pendente\n",
            "2. lavar roupa - Pendente\n",
            "Digite o número da tarefa a ser marcada como concluída: 2\n",
            "Tarefa marcada como concluída!\n",
            "\n",
            "Menu de Gerenciamento de Tarefas\n",
            "1. Adicionar nova tarefa\n",
            "2. Listar todas as tarefas\n",
            "3. Marcar tarefa como concluída\n",
            "4. Sair\n",
            "Escolha uma opção (1-4): 4\n",
            "Saindo do programa.\n"
          ]
        }
      ]
    }
  ]
}