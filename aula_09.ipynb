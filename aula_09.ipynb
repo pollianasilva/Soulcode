{
  "nbformat": 4,
  "nbformat_minor": 0,
  "metadata": {
    "colab": {
      "provenance": [],
      "authorship_tag": "ABX9TyOcSflQPOh7nucZqTHwj1+B",
      "include_colab_link": true
    },
    "kernelspec": {
      "name": "python3",
      "display_name": "Python 3"
    },
    "language_info": {
      "name": "python"
    }
  },
  "cells": [
    {
      "cell_type": "markdown",
      "metadata": {
        "id": "view-in-github",
        "colab_type": "text"
      },
      "source": [
        "<a href=\"https://colab.research.google.com/github/pollianasilva/Soulcode/blob/main/aula_09.ipynb\" target=\"_parent\"><img src=\"https://colab.research.google.com/assets/colab-badge.svg\" alt=\"Open In Colab\"/></a>"
      ]
    },
    {
      "cell_type": "markdown",
      "source": [
        "## **Recapitulando**"
      ],
      "metadata": {
        "id": "TOwZJdVrNOCe"
      }
    },
    {
      "cell_type": "code",
      "execution_count": null,
      "metadata": {
        "colab": {
          "base_uri": "https://localhost:8080/"
        },
        "id": "feCMO98QLjLT",
        "outputId": "293fa9e0-ff74-40c6-9abc-e37eeae6f1bc"
      },
      "outputs": [
        {
          "output_type": "stream",
          "name": "stdout",
          "text": [
            "Informe a 1ª nota de 0 a 10: 10\n",
            "Informe a 2ª nota de 0 a 10: 0\n",
            "Informe a 3ª nota de 0 a 10: 5\n",
            "Informe a 4ª nota de 0 a 10: 10\n",
            "Informe a 5ª nota de 0 a 10: 6\n",
            "A média aritmética dos valores informados é 6.20\n"
          ]
        }
      ],
      "source": [
        "'''\n",
        "Crie um programa que receba do usuário cinco valores de notas (0 - 10)\n",
        "calcule a média,\n",
        "informe o usuário a média aritmética dos valores informados.\n",
        "Método de resolução sem estruturas\n",
        "'''\n",
        "n1 = float(input('Informe a 1ª nota de 0 a 10: '))\n",
        "n2 = float(input('Informe a 2ª nota de 0 a 10: '))\n",
        "n3 = float(input('Informe a 3ª nota de 0 a 10: '))\n",
        "n4 = float(input('Informe a 4ª nota de 0 a 10: '))\n",
        "n5 = float(input('Informe a 5ª nota de 0 a 10: '))\n",
        "\n",
        "media = (n1+n2+n3+n4+n5)/5\n",
        "\n",
        "print(f'A média aritmética dos valores informados é {media:.2f}')"
      ]
    },
    {
      "cell_type": "code",
      "source": [
        "'''\n",
        "Crie um programa que receba do usuário n valores de notas (0 - 10)\n",
        "calcule a média e\n",
        "informe o usuário a média aritmética dos valores informados\n",
        "Método de resolução com while\n",
        "'''\n",
        "# Cria a lista vazia que receberá as notas\n",
        "notas = []\n",
        "\n",
        "# Cria a variável contadora (inicial) que deverá ser atualizada a cada novo input do usuários\n",
        "c = 0\n",
        "\n",
        "# cria a variável que o usuário informará a qtde de notas a ser inserida no sistema\n",
        "qtde = float(input('Informe a quantidade de notas que deseja inserir no sistema: '))\n",
        "\n",
        "while c < qtde: # cria a condição para o laço ser executado\n",
        "  notas.append(float(input(f'Informe a {c+1}ª nota: '))) # cria o input com cada nota e as insere na lista notas criada anteriormente\n",
        "  c += 1 # Atualiza a variável contadora a cada novo input\n",
        "\n",
        "# Calcula a média aritmética das notas\n",
        "media = sum(notas)/len(notas) # metodo sum: soma todos os valores\n",
        "\n",
        "# Imprime a média\n",
        "print(f'A média aritmética dos valores informados é {media:.2f}')"
      ],
      "metadata": {
        "colab": {
          "base_uri": "https://localhost:8080/"
        },
        "id": "DbLnPhvcQ7zd",
        "outputId": "789c295c-6d6c-4561-869f-53f796f7752b"
      },
      "execution_count": null,
      "outputs": [
        {
          "output_type": "stream",
          "name": "stdout",
          "text": [
            "Informe a quantidade de notas que deseja inserir no sistema: 2\n",
            "Informe a 1ª nota: 10\n",
            "Informe a 2ª nota: 0\n",
            "A média aritmética dos valores informados é 5.00\n"
          ]
        }
      ]
    },
    {
      "cell_type": "markdown",
      "source": [
        "## **Estrutura de repetição: FOR**"
      ],
      "metadata": {
        "id": "SiJwC0LBRDZE"
      }
    },
    {
      "cell_type": "markdown",
      "source": [
        "O loop for é uma estrutura de repetição que permite executar um bloco de código várias vezes. Ele é amplamente usado para percorrer elementos em sequências, como listas, tuplas e strings. O loop for é uma escolha natural quando você sabe quantas vezes deseja repetir uma ação."
      ],
      "metadata": {
        "id": "ZSu_Y5tHRCal"
      }
    },
    {
      "cell_type": "code",
      "source": [
        "'''\n",
        "for variável in sequência:\n",
        "    bloco de codigo a ser repetido\n",
        "'''"
      ],
      "metadata": {
        "id": "_pJyiw0RSCZV"
      },
      "execution_count": null,
      "outputs": []
    },
    {
      "cell_type": "code",
      "source": [
        "# Exemplo comparativo: Imprima na tela os números de 0 a 9 com while e for"
      ],
      "metadata": {
        "id": "Oasj0KiKTHuk"
      },
      "execution_count": null,
      "outputs": []
    },
    {
      "cell_type": "code",
      "source": [
        "# Usando While\n",
        "i = 0\n",
        "while i < 10:\n",
        "    print(i)\n",
        "    i += 1"
      ],
      "metadata": {
        "colab": {
          "base_uri": "https://localhost:8080/"
        },
        "id": "tLzJxOPOTJsF",
        "outputId": "30718e8d-4a52-425e-86ec-b2f75aef1dd9"
      },
      "execution_count": null,
      "outputs": [
        {
          "output_type": "stream",
          "name": "stdout",
          "text": [
            "0\n",
            "1\n",
            "2\n",
            "3\n",
            "4\n",
            "5\n",
            "6\n",
            "7\n",
            "8\n",
            "9\n"
          ]
        }
      ]
    },
    {
      "cell_type": "code",
      "source": [
        "# A função range poderá ter até 3 argumentos (valores)\n",
        "# for i in range (inicio_do_contador, condição_de_parada, incremento ou decremento)\n",
        "# Range em ingles significa faixa\n",
        "\n",
        "# 1° Forma\n",
        "# utilizando o range com apenas um argumento - condição de parada com incremento 1 por padrão (default)\n",
        "for i in range(10):\n",
        "    print(i)"
      ],
      "metadata": {
        "colab": {
          "base_uri": "https://localhost:8080/"
        },
        "id": "8xo3NcvcTOAE",
        "outputId": "b5dcc8f5-59b0-41eb-d2a1-dec62ac10afd"
      },
      "execution_count": null,
      "outputs": [
        {
          "output_type": "stream",
          "name": "stdout",
          "text": [
            "0\n",
            "1\n",
            "2\n",
            "3\n",
            "4\n",
            "5\n",
            "6\n",
            "7\n",
            "8\n",
            "9\n"
          ]
        }
      ]
    },
    {
      "cell_type": "code",
      "source": [
        "# 2° Forma - utilizando o range com apenas 2 argumentos - inicio da contagem e a condição de parada\n",
        "for i in range(1, 11):\n",
        "  print(i)"
      ],
      "metadata": {
        "colab": {
          "base_uri": "https://localhost:8080/"
        },
        "id": "ovkGZcitU2JM",
        "outputId": "021c5b20-ba4a-4181-e2f2-d498b79a0cfc"
      },
      "execution_count": null,
      "outputs": [
        {
          "output_type": "stream",
          "name": "stdout",
          "text": [
            "1\n",
            "2\n",
            "3\n",
            "4\n",
            "5\n",
            "6\n",
            "7\n",
            "8\n",
            "9\n",
            "10\n"
          ]
        }
      ]
    },
    {
      "cell_type": "code",
      "source": [
        "# 3° Forma\n",
        "# utilizando o range com apenas 3 argumentos\n",
        "# inicio da contagem, condição de parada e incremento\n",
        "\n",
        "for i in range(0, 10, 1):\n",
        "  print(i)"
      ],
      "metadata": {
        "id": "QUr5HYdkZvQG",
        "outputId": "83471454-d0e4-4044-e750-aebf102db0bc",
        "colab": {
          "base_uri": "https://localhost:8080/"
        }
      },
      "execution_count": null,
      "outputs": [
        {
          "output_type": "stream",
          "name": "stdout",
          "text": [
            "0\n",
            "1\n",
            "2\n",
            "3\n",
            "4\n",
            "5\n",
            "6\n",
            "7\n",
            "8\n",
            "9\n"
          ]
        }
      ]
    },
    {
      "cell_type": "code",
      "source": [
        "# 4° forma: exemplo de iteração de string\n",
        "\n",
        "palavra = 'Python'\n",
        "for i in palavra:\n",
        "    print(i)"
      ],
      "metadata": {
        "id": "aK7Kv_B-ZxXl",
        "outputId": "eb478217-ee02-4d17-859e-d63247ecee05",
        "colab": {
          "base_uri": "https://localhost:8080/"
        }
      },
      "execution_count": null,
      "outputs": [
        {
          "output_type": "stream",
          "name": "stdout",
          "text": [
            "P\n",
            "y\n",
            "t\n",
            "h\n",
            "o\n",
            "n\n"
          ]
        }
      ]
    },
    {
      "cell_type": "code",
      "source": [
        "# 5° forma: exemplo de iteração de tupla\n",
        "tupla = (10, 20, 30, 40, 50)\n",
        "for i in tupla:\n",
        "    print(i)"
      ],
      "metadata": {
        "colab": {
          "base_uri": "https://localhost:8080/"
        },
        "id": "O6MceFiTacFF",
        "outputId": "a6cd5235-fb6e-4031-866e-ceb14224fc9b"
      },
      "execution_count": null,
      "outputs": [
        {
          "output_type": "stream",
          "name": "stdout",
          "text": [
            "10\n",
            "20\n",
            "30\n",
            "40\n",
            "50\n"
          ]
        }
      ]
    },
    {
      "cell_type": "code",
      "source": [
        "# 6° forma: exemplo de iteração com listas\n",
        "alunos = ['Erika', 'Lidiane', 'Rosangela', 'Victor Gabriel']\n",
        "for i in alunos:\n",
        "    print(i)"
      ],
      "metadata": {
        "colab": {
          "base_uri": "https://localhost:8080/"
        },
        "id": "dwJYBtHda1E1",
        "outputId": "d7f475dc-c141-48b7-81d0-9db42bb2c41f"
      },
      "execution_count": null,
      "outputs": [
        {
          "output_type": "stream",
          "name": "stdout",
          "text": [
            "Erika\n",
            "Lidiane\n",
            "Rosangela\n",
            "Victor Gabriel\n"
          ]
        }
      ]
    },
    {
      "cell_type": "code",
      "source": [
        "# 7° forma: exemplo de iteração com dicionários\n",
        "\n",
        "frutas = {'maça': 3,\n",
        "          'banana': 5,\n",
        "          'laranja': 10,\n",
        "          'pêra': 2\n",
        "         }\n",
        "\n",
        "for chave, valor in frutas.items():\n",
        "    print(f'{chave}:{valor}')"
      ],
      "metadata": {
        "colab": {
          "base_uri": "https://localhost:8080/"
        },
        "id": "KsJR3Pmmbp19",
        "outputId": "b41a0637-e0d6-459a-bcf3-892ed15693b3"
      },
      "execution_count": null,
      "outputs": [
        {
          "output_type": "stream",
          "name": "stdout",
          "text": [
            "maça:3\n",
            "banana:5\n",
            "laranja:10\n",
            "pêra:2\n"
          ]
        }
      ]
    },
    {
      "cell_type": "code",
      "source": [
        "# 8º forma: Calculando a soma dos numeros de 1 a 10:\n",
        "soma = 0\n",
        "for i in range(1, 11):\n",
        "    soma += i\n",
        "print(\"A soma dos números de 1 a 10 é:\", soma)"
      ],
      "metadata": {
        "colab": {
          "base_uri": "https://localhost:8080/"
        },
        "id": "nqqh8z6hgedV",
        "outputId": "dc7143b5-4090-4e77-d363-f487ddf7362a"
      },
      "execution_count": null,
      "outputs": [
        {
          "output_type": "stream",
          "name": "stdout",
          "text": [
            "A soma dos números de 1 a 10 é: 55\n"
          ]
        }
      ]
    },
    {
      "cell_type": "markdown",
      "source": [
        "## **Recapitulando**"
      ],
      "metadata": {
        "id": "sI8QvKt1kWr1"
      }
    },
    {
      "cell_type": "code",
      "source": [
        "'''\n",
        "Crie um programa que receba do usuário cinco valores de notas (0 - 10)\n",
        "calcule a média,\n",
        "informe o usuário a média aritmética dos valores informados.\n",
        "Método de resolução sem estruturas\n",
        "'''\n",
        "n1 = float(input('Informe a 1ª nota de 0 a 10: '))\n",
        "n2 = float(input('Informe a 2ª nota de 0 a 10: '))\n",
        "n3 = float(input('Informe a 3ª nota de 0 a 10: '))\n",
        "n4 = float(input('Informe a 4ª nota de 0 a 10: '))\n",
        "n5 = float(input('Informe a 5ª nota de 0 a 10: '))\n",
        "\n",
        "media = (n1+n2+n3+n4+n5)/5\n",
        "\n",
        "print(f'A média aritmética dos valores informados é {media:.2f}')"
      ],
      "metadata": {
        "colab": {
          "base_uri": "https://localhost:8080/"
        },
        "id": "ijHB8c60kTh9",
        "outputId": "4215fcbc-e1e6-416c-ed5a-33a575efcbbb"
      },
      "execution_count": null,
      "outputs": [
        {
          "output_type": "stream",
          "name": "stdout",
          "text": [
            "Informe a 1ª nota de 0 a 10: 10\n",
            "Informe a 2ª nota de 0 a 10: 5\n",
            "Informe a 3ª nota de 0 a 10: 6\n",
            "Informe a 4ª nota de 0 a 10: 2\n",
            "Informe a 5ª nota de 0 a 10: 5\n",
            "A média aritmética dos valores informados é 5.60\n"
          ]
        }
      ]
    }
  ]
}