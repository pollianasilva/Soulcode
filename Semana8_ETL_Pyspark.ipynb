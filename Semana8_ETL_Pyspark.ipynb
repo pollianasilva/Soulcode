{
  "nbformat": 4,
  "nbformat_minor": 0,
  "metadata": {
    "colab": {
      "provenance": [],
      "authorship_tag": "ABX9TyNtIWJaPRmt+qJai0MnkR90",
      "include_colab_link": true
    },
    "kernelspec": {
      "name": "python3",
      "display_name": "Python 3"
    },
    "language_info": {
      "name": "python"
    }
  },
  "cells": [
    {
      "cell_type": "markdown",
      "metadata": {
        "id": "view-in-github",
        "colab_type": "text"
      },
      "source": [
        "<a href=\"https://colab.research.google.com/github/pollianasilva/Soulcode/blob/main/Semana8_ETL_Pyspark.ipynb\" target=\"_parent\"><img src=\"https://colab.research.google.com/assets/colab-badge.svg\" alt=\"Open In Colab\"/></a>"
      ]
    },
    {
      "cell_type": "markdown",
      "source": [
        "# **ETL com PySpark**\n",
        "\n",
        "Escola: SoulCode Academy\n",
        "\n",
        "Curso: Analista de Dados e Dashboard\n",
        "\n",
        "Assunto: ETL\n",
        "\n",
        "Professora: Franciane Rodrigues\n",
        "\n",
        "Aluno (a): Polliana Silva"
      ],
      "metadata": {
        "id": "CzFPRbcnzmQt"
      }
    },
    {
      "cell_type": "markdown",
      "source": [
        "## **Solicitação**\n",
        "\n",
        "Faça uma ETL no conjunto de dados usando PySpark"
      ],
      "metadata": {
        "id": "I5MWyX7_zvrf"
      }
    },
    {
      "cell_type": "markdown",
      "source": [
        "Dicionário de Dados\n",
        "\n",
        "*  RowNumber: Número da linha no conjunto de dados.\n",
        "*  CustomerId: Identificação única do cliente.\n",
        "*  Surname: Sobrenome do cliente.\n",
        "*  CreditScore: Pontuação de crédito do cliente, uma medida de sua credibilidade financeira.\n",
        "*  Geography: Localização geográfica do cliente (por exemplo, país ou região).\n",
        "*  Gender: Gênero do cliente.\n",
        "*  Age: Idade do cliente.\n",
        "*  Tenure: Tempo que o cliente permaneceu como cliente (em anos).\n",
        "*  Balance: Saldo na conta do cliente.\n",
        "*  NumOfProducts: Número de produtos financeiros que o cliente possui.\n",
        "*  HasCrCard: Indicação se o cliente possui um cartão de crédito (1 para \"sim\", 0 para \"não\").\n",
        "*  IsActiveMember: Indicação se o cliente é um membro ativo (1 para \"sim\", 0 para \"não\").\n",
        "*  EstimatedSalary: Salário estimado do cliente.\n",
        "*  Exited: Indicação se o cliente encerrou sua conta ou não (1 para \"sim\", 0 para \"não\").\n",
        "\n",
        "Fonte: https://www.kaggle.com/datasets/mervetorkan/churndataset"
      ],
      "metadata": {
        "id": "0QE3r744zy_F"
      }
    },
    {
      "cell_type": "markdown",
      "source": [
        "## **Infraestrutura**"
      ],
      "metadata": {
        "id": "tuQCO6M8_YEv"
      }
    },
    {
      "cell_type": "code",
      "execution_count": null,
      "metadata": {
        "colab": {
          "base_uri": "https://localhost:8080/"
        },
        "id": "LwamFFS9ziLl",
        "outputId": "c5413ab3-3faf-4791-aecb-b2e9fbe9a482"
      },
      "outputs": [
        {
          "output_type": "stream",
          "name": "stdout",
          "text": [
            "Drive already mounted at /content/drive; to attempt to forcibly remount, call drive.mount(\"/content/drive\", force_remount=True).\n"
          ]
        }
      ],
      "source": [
        "# Abertura Google Drive\n",
        "from google.colab import drive\n",
        "drive.mount('/content/drive')"
      ]
    },
    {
      "cell_type": "code",
      "source": [
        "# Instalação da biblioteca\n",
        "!pip install pyspark"
      ],
      "metadata": {
        "colab": {
          "base_uri": "https://localhost:8080/"
        },
        "id": "ATwM1L4V0W9v",
        "outputId": "345bb2bf-df2c-4976-aa90-80234f967958"
      },
      "execution_count": null,
      "outputs": [
        {
          "output_type": "stream",
          "name": "stdout",
          "text": [
            "Requirement already satisfied: pyspark in /usr/local/lib/python3.10/dist-packages (3.5.1)\n",
            "Requirement already satisfied: py4j==0.10.9.7 in /usr/local/lib/python3.10/dist-packages (from pyspark) (0.10.9.7)\n"
          ]
        }
      ]
    },
    {
      "cell_type": "code",
      "source": [
        "# Abertura de biblioteca\n",
        "from pyspark.sql import SparkSession    # utilizado para criação da sessão pyspark no colab\n",
        "from pyspark.sql.functions import col, when"
      ],
      "metadata": {
        "id": "BpAwQFxQ1C_-"
      },
      "execution_count": null,
      "outputs": []
    },
    {
      "cell_type": "code",
      "source": [
        "# Configurando ambiente\n",
        "spark = (SparkSession.builder.master('local')                 # máquina local do colab\n",
        "                             .appName('comandos_basicos')     # Nome da aplicação\n",
        "                             .config('spark.ui.port', '4050') # Porta padrão do colab;\n",
        "                             .getOrCreate())"
      ],
      "metadata": {
        "id": "KHKyiLkF1YYN"
      },
      "execution_count": null,
      "outputs": []
    },
    {
      "cell_type": "code",
      "source": [
        "# Checando o ambiente criado\n",
        "spark"
      ],
      "metadata": {
        "colab": {
          "base_uri": "https://localhost:8080/",
          "height": 222
        },
        "id": "8ocFZvUd1gPW",
        "outputId": "11e9e21d-9c03-45f1-9788-13a0916fe9fb"
      },
      "execution_count": null,
      "outputs": [
        {
          "output_type": "execute_result",
          "data": {
            "text/plain": [
              "<pyspark.sql.session.SparkSession at 0x7c35cc006bc0>"
            ],
            "text/html": [
              "\n",
              "            <div>\n",
              "                <p><b>SparkSession - in-memory</b></p>\n",
              "                \n",
              "        <div>\n",
              "            <p><b>SparkContext</b></p>\n",
              "\n",
              "            <p><a href=\"http://ef708ecbb4e1:4050\">Spark UI</a></p>\n",
              "\n",
              "            <dl>\n",
              "              <dt>Version</dt>\n",
              "                <dd><code>v3.5.1</code></dd>\n",
              "              <dt>Master</dt>\n",
              "                <dd><code>local</code></dd>\n",
              "              <dt>AppName</dt>\n",
              "                <dd><code>comandos_basicos</code></dd>\n",
              "            </dl>\n",
              "        </div>\n",
              "        \n",
              "            </div>\n",
              "        "
            ]
          },
          "metadata": {},
          "execution_count": 5
        }
      ]
    },
    {
      "cell_type": "markdown",
      "source": [
        "## **Extração**"
      ],
      "metadata": {
        "id": "UzbEik9m2To1"
      }
    },
    {
      "cell_type": "code",
      "source": [
        "# Extração\n",
        "df = (spark.read.format('csv')\n",
        "                .option('delimiter', ',')\n",
        "                .option('header', 'true')\n",
        "                .option('inferschema', 'true')\n",
        "                .load('/content/drive/MyDrive/churn/churn.csv'))"
      ],
      "metadata": {
        "id": "DGqkzOd32a9t"
      },
      "execution_count": null,
      "outputs": []
    },
    {
      "cell_type": "code",
      "source": [
        "# Visualizando a conjunto de dados\n",
        "df.show()"
      ],
      "metadata": {
        "colab": {
          "base_uri": "https://localhost:8080/"
        },
        "id": "2v7SU4tz3got",
        "outputId": "a1e681e8-b517-496d-f848-083bd9667947"
      },
      "execution_count": null,
      "outputs": [
        {
          "output_type": "stream",
          "name": "stdout",
          "text": [
            "+---------+----------+---------+-----------+---------+------+---+------+---------+-------------+---------+--------------+---------------+------+\n",
            "|RowNumber|CustomerId|  Surname|CreditScore|Geography|Gender|Age|Tenure|  Balance|NumOfProducts|HasCrCard|IsActiveMember|EstimatedSalary|Exited|\n",
            "+---------+----------+---------+-----------+---------+------+---+------+---------+-------------+---------+--------------+---------------+------+\n",
            "|        1|  15634602| Hargrave|        619|   France|Female| 42|     2|      0.0|            1|        1|             1|      101348.88|     1|\n",
            "|        2|  15647311|     Hill|        608|    Spain|Female| 41|     1| 83807.86|            1|        0|             1|      112542.58|     0|\n",
            "|        3|  15619304|     Onio|        502|   France|Female| 42|     8| 159660.8|            3|        1|             0|      113931.57|     1|\n",
            "|        4|  15701354|     Boni|        699|   France|Female| 39|     1|      0.0|            2|        0|             0|       93826.63|     0|\n",
            "|        5|  15737888| Mitchell|        850|    Spain|Female| 43|     2|125510.82|            1|        1|             1|        79084.1|     0|\n",
            "|        6|  15574012|      Chu|        645|    Spain|  Male| 44|     8|113755.78|            2|        1|             0|      149756.71|     1|\n",
            "|        7|  15592531| Bartlett|        822|   France|  Male| 50|     7|      0.0|            2|        1|             1|        10062.8|     0|\n",
            "|        8|  15656148|   Obinna|        376|  Germany|Female| 29|     4|115046.74|            4|        1|             0|      119346.88|     1|\n",
            "|        9|  15792365|       He|        501|   France|  Male| 44|     4|142051.07|            2|        0|             1|        74940.5|     0|\n",
            "|       10|  15592389|       H?|        684|   France|  Male| 27|     2|134603.88|            1|        1|             1|       71725.73|     0|\n",
            "|       11|  15767821|   Bearce|        528|   France|  Male| 31|     6|102016.72|            2|        0|             0|       80181.12|     0|\n",
            "|       12|  15737173|  Andrews|        497|    Spain|  Male| 24|     3|      0.0|            2|        1|             0|       76390.01|     0|\n",
            "|       13|  15632264|      Kay|        476|   France|Female| 34|    10|      0.0|            2|        1|             0|       26260.98|     0|\n",
            "|       14|  15691483|     Chin|        549|   France|Female| 25|     5|      0.0|            2|        0|             0|      190857.79|     0|\n",
            "|       15|  15600882|    Scott|        635|    Spain|Female| 35|     7|      0.0|            2|        1|             1|       65951.65|     0|\n",
            "|       16|  15643966|  Goforth|        616|  Germany|  Male| 45|     3|143129.41|            2|        0|             1|       64327.26|     0|\n",
            "|       17|  15737452|    Romeo|        653|  Germany|  Male| 58|     1|132602.88|            1|        1|             0|        5097.67|     1|\n",
            "|       18|  15788218|Henderson|        549|    Spain|Female| 24|     9|      0.0|            2|        1|             1|       14406.41|     0|\n",
            "|       19|  15661507|  Muldrow|        587|    Spain|  Male| 45|     6|      0.0|            1|        0|             0|      158684.81|     0|\n",
            "|       20|  15568982|      Hao|        726|   France|Female| 24|     6|      0.0|            2|        1|             1|       54724.03|     0|\n",
            "+---------+----------+---------+-----------+---------+------+---+------+---------+-------------+---------+--------------+---------------+------+\n",
            "only showing top 20 rows\n",
            "\n"
          ]
        }
      ]
    },
    {
      "cell_type": "markdown",
      "source": [
        "## **Pré-Análise**"
      ],
      "metadata": {
        "id": "4lJ9g4qp_kjG"
      }
    },
    {
      "cell_type": "code",
      "source": [
        "# Visualização do conjunto de dados\n",
        "df.show()"
      ],
      "metadata": {
        "colab": {
          "base_uri": "https://localhost:8080/"
        },
        "id": "NufDBYB1_oyW",
        "outputId": "ce031101-da12-4a9d-9fe1-1c1610e06234"
      },
      "execution_count": null,
      "outputs": [
        {
          "output_type": "stream",
          "name": "stdout",
          "text": [
            "+---------+----------+---------+-----------+---------+------+---+------+---------+-------------+---------+--------------+---------------+------+\n",
            "|RowNumber|CustomerId|  Surname|CreditScore|Geography|Gender|Age|Tenure|  Balance|NumOfProducts|HasCrCard|IsActiveMember|EstimatedSalary|Exited|\n",
            "+---------+----------+---------+-----------+---------+------+---+------+---------+-------------+---------+--------------+---------------+------+\n",
            "|        1|  15634602| Hargrave|        619|   France|Female| 42|     2|      0.0|            1|        1|             1|      101348.88|     1|\n",
            "|        2|  15647311|     Hill|        608|    Spain|Female| 41|     1| 83807.86|            1|        0|             1|      112542.58|     0|\n",
            "|        3|  15619304|     Onio|        502|   France|Female| 42|     8| 159660.8|            3|        1|             0|      113931.57|     1|\n",
            "|        4|  15701354|     Boni|        699|   France|Female| 39|     1|      0.0|            2|        0|             0|       93826.63|     0|\n",
            "|        5|  15737888| Mitchell|        850|    Spain|Female| 43|     2|125510.82|            1|        1|             1|        79084.1|     0|\n",
            "|        6|  15574012|      Chu|        645|    Spain|  Male| 44|     8|113755.78|            2|        1|             0|      149756.71|     1|\n",
            "|        7|  15592531| Bartlett|        822|   France|  Male| 50|     7|      0.0|            2|        1|             1|        10062.8|     0|\n",
            "|        8|  15656148|   Obinna|        376|  Germany|Female| 29|     4|115046.74|            4|        1|             0|      119346.88|     1|\n",
            "|        9|  15792365|       He|        501|   France|  Male| 44|     4|142051.07|            2|        0|             1|        74940.5|     0|\n",
            "|       10|  15592389|       H?|        684|   France|  Male| 27|     2|134603.88|            1|        1|             1|       71725.73|     0|\n",
            "|       11|  15767821|   Bearce|        528|   France|  Male| 31|     6|102016.72|            2|        0|             0|       80181.12|     0|\n",
            "|       12|  15737173|  Andrews|        497|    Spain|  Male| 24|     3|      0.0|            2|        1|             0|       76390.01|     0|\n",
            "|       13|  15632264|      Kay|        476|   France|Female| 34|    10|      0.0|            2|        1|             0|       26260.98|     0|\n",
            "|       14|  15691483|     Chin|        549|   France|Female| 25|     5|      0.0|            2|        0|             0|      190857.79|     0|\n",
            "|       15|  15600882|    Scott|        635|    Spain|Female| 35|     7|      0.0|            2|        1|             1|       65951.65|     0|\n",
            "|       16|  15643966|  Goforth|        616|  Germany|  Male| 45|     3|143129.41|            2|        0|             1|       64327.26|     0|\n",
            "|       17|  15737452|    Romeo|        653|  Germany|  Male| 58|     1|132602.88|            1|        1|             0|        5097.67|     1|\n",
            "|       18|  15788218|Henderson|        549|    Spain|Female| 24|     9|      0.0|            2|        1|             1|       14406.41|     0|\n",
            "|       19|  15661507|  Muldrow|        587|    Spain|  Male| 45|     6|      0.0|            1|        0|             0|      158684.81|     0|\n",
            "|       20|  15568982|      Hao|        726|   France|Female| 24|     6|      0.0|            2|        1|             1|       54724.03|     0|\n",
            "+---------+----------+---------+-----------+---------+------+---+------+---------+-------------+---------+--------------+---------------+------+\n",
            "only showing top 20 rows\n",
            "\n"
          ]
        }
      ]
    },
    {
      "cell_type": "code",
      "source": [
        "# Visualização do cabeçalho\n",
        "df.head()"
      ],
      "metadata": {
        "colab": {
          "base_uri": "https://localhost:8080/"
        },
        "id": "V9EDgmeJ5fBW",
        "outputId": "f4b75b09-262f-41c3-8504-45a0f8dad73b"
      },
      "execution_count": null,
      "outputs": [
        {
          "output_type": "execute_result",
          "data": {
            "text/plain": [
              "Row(RowNumber=1, CustomerId=15634602, Surname='Hargrave', CreditScore=619, Geography='France', Gender='Female', Age=42, Tenure=2, Balance=0.0, NumOfProducts=1, HasCrCard=1, IsActiveMember=1, EstimatedSalary=101348.88, Exited=1)"
            ]
          },
          "metadata": {},
          "execution_count": 9
        }
      ]
    },
    {
      "cell_type": "code",
      "source": [
        "# Visualizando as últimas posições do DataFrame\n",
        "# Não há um método tail() direto em PySpark, você pode usar count()\n",
        "# para determinar o número total de linhas e então mostrar as últimas linhas\n",
        "total_rows = df.count()\n",
        "df.limit(5).show(total_rows - 5) # Utilize + se quiser aparecer as primeiras posições"
      ],
      "metadata": {
        "colab": {
          "base_uri": "https://localhost:8080/"
        },
        "id": "y8cNAdyj59wd",
        "outputId": "654bf664-97ed-432f-b469-980212630e4d"
      },
      "execution_count": null,
      "outputs": [
        {
          "output_type": "stream",
          "name": "stdout",
          "text": [
            "+---------+----------+--------+-----------+---------+------+---+------+---------+-------------+---------+--------------+---------------+------+\n",
            "|RowNumber|CustomerId| Surname|CreditScore|Geography|Gender|Age|Tenure|  Balance|NumOfProducts|HasCrCard|IsActiveMember|EstimatedSalary|Exited|\n",
            "+---------+----------+--------+-----------+---------+------+---+------+---------+-------------+---------+--------------+---------------+------+\n",
            "|        1|  15634602|Hargrave|        619|   France|Female| 42|     2|      0.0|            1|        1|             1|      101348.88|     1|\n",
            "|        2|  15647311|    Hill|        608|    Spain|Female| 41|     1| 83807.86|            1|        0|             1|      112542.58|     0|\n",
            "|        3|  15619304|    Onio|        502|   France|Female| 42|     8| 159660.8|            3|        1|             0|      113931.57|     1|\n",
            "|        4|  15701354|    Boni|        699|   France|Female| 39|     1|      0.0|            2|        0|             0|       93826.63|     0|\n",
            "|        5|  15737888|Mitchell|        850|    Spain|Female| 43|     2|125510.82|            1|        1|             1|        79084.1|     0|\n",
            "+---------+----------+--------+-----------+---------+------+---+------+---------+-------------+---------+--------------+---------------+------+\n",
            "\n"
          ]
        }
      ]
    },
    {
      "cell_type": "code",
      "source": [
        "# Últimas posições\n",
        "df.tail(5)"
      ],
      "metadata": {
        "colab": {
          "base_uri": "https://localhost:8080/"
        },
        "id": "8Ov8nzMt_vOd",
        "outputId": "b5c821a1-45e0-4b2b-f9a0-07eb8895073d"
      },
      "execution_count": null,
      "outputs": [
        {
          "output_type": "execute_result",
          "data": {
            "text/plain": [
              "[Row(RowNumber=9996, CustomerId=15606229, Surname='Obijiaku', CreditScore=771, Geography='France', Gender='Male', Age=39, Tenure=5, Balance=0.0, NumOfProducts=2, HasCrCard=1, IsActiveMember=0, EstimatedSalary=96270.64, Exited=0),\n",
              " Row(RowNumber=9997, CustomerId=15569892, Surname='Johnstone', CreditScore=516, Geography='France', Gender='Male', Age=35, Tenure=10, Balance=57369.61, NumOfProducts=1, HasCrCard=1, IsActiveMember=1, EstimatedSalary=101699.77, Exited=0),\n",
              " Row(RowNumber=9998, CustomerId=15584532, Surname='Liu', CreditScore=709, Geography='France', Gender='Female', Age=36, Tenure=7, Balance=0.0, NumOfProducts=1, HasCrCard=0, IsActiveMember=1, EstimatedSalary=42085.58, Exited=1),\n",
              " Row(RowNumber=9999, CustomerId=15682355, Surname='Sabbatini', CreditScore=772, Geography='Germany', Gender='Male', Age=42, Tenure=3, Balance=75075.31, NumOfProducts=2, HasCrCard=1, IsActiveMember=0, EstimatedSalary=92888.52, Exited=1),\n",
              " Row(RowNumber=10000, CustomerId=15628319, Surname='Walker', CreditScore=792, Geography='France', Gender='Female', Age=28, Tenure=4, Balance=130142.79, NumOfProducts=1, HasCrCard=1, IsActiveMember=0, EstimatedSalary=38190.78, Exited=0)]"
            ]
          },
          "metadata": {},
          "execution_count": 11
        }
      ]
    },
    {
      "cell_type": "code",
      "source": [
        "# Visualização do DataFrame de forma aleatória\n",
        "df.sample(False, 0.2).show(6)  # 0.2 indica a fração das linhas a serem amostradas"
      ],
      "metadata": {
        "colab": {
          "base_uri": "https://localhost:8080/"
        },
        "id": "Zsr6rD166BMu",
        "outputId": "be2dd22f-b939-4475-874f-e799736ce1a5"
      },
      "execution_count": null,
      "outputs": [
        {
          "output_type": "stream",
          "name": "stdout",
          "text": [
            "+---------+----------+---------+-----------+---------+------+---+------+---------+-------------+---------+--------------+---------------+------+\n",
            "|RowNumber|CustomerId|  Surname|CreditScore|Geography|Gender|Age|Tenure|  Balance|NumOfProducts|HasCrCard|IsActiveMember|EstimatedSalary|Exited|\n",
            "+---------+----------+---------+-----------+---------+------+---+------+---------+-------------+---------+--------------+---------------+------+\n",
            "|        3|  15619304|     Onio|        502|   France|Female| 42|     8| 159660.8|            3|        1|             0|      113931.57|     1|\n",
            "|       15|  15600882|    Scott|        635|    Spain|Female| 35|     7|      0.0|            2|        1|             1|       65951.65|     0|\n",
            "|       17|  15737452|    Romeo|        653|  Germany|  Male| 58|     1|132602.88|            1|        1|             0|        5097.67|     1|\n",
            "|       18|  15788218|Henderson|        549|    Spain|Female| 24|     9|      0.0|            2|        1|             1|       14406.41|     0|\n",
            "|       38|  15729599|  Lorenzo|        804|    Spain|  Male| 33|     7|  76548.6|            1|        0|             1|       98453.45|     0|\n",
            "|       39|  15717426|Armstrong|        850|   France|  Male| 36|     7|      0.0|            1|        1|             1|        40812.9|     0|\n",
            "+---------+----------+---------+-----------+---------+------+---+------+---------+-------------+---------+--------------+---------------+------+\n",
            "only showing top 6 rows\n",
            "\n"
          ]
        }
      ]
    },
    {
      "cell_type": "code",
      "source": [
        "# Verificando o tamanho do DataFrame (linhas, colunas)\n",
        "print((df.count(), len(df.columns)))"
      ],
      "metadata": {
        "colab": {
          "base_uri": "https://localhost:8080/"
        },
        "id": "f9jbqMFO6ZG1",
        "outputId": "5005ef91-f2d0-45a9-fe1c-5378f1459090"
      },
      "execution_count": null,
      "outputs": [
        {
          "output_type": "stream",
          "name": "stdout",
          "text": [
            "(10000, 14)\n"
          ]
        }
      ]
    },
    {
      "cell_type": "code",
      "source": [
        "# Verificando o tipo de dados de cada coluna\n",
        "df.dtypes"
      ],
      "metadata": {
        "colab": {
          "base_uri": "https://localhost:8080/"
        },
        "id": "-thbWXNg6Y61",
        "outputId": "a822564a-ce4d-4758-f8b9-fc6cb7322dd3"
      },
      "execution_count": null,
      "outputs": [
        {
          "output_type": "execute_result",
          "data": {
            "text/plain": [
              "[('RowNumber', 'int'),\n",
              " ('CustomerId', 'int'),\n",
              " ('Surname', 'string'),\n",
              " ('CreditScore', 'int'),\n",
              " ('Geography', 'string'),\n",
              " ('Gender', 'string'),\n",
              " ('Age', 'int'),\n",
              " ('Tenure', 'int'),\n",
              " ('Balance', 'double'),\n",
              " ('NumOfProducts', 'int'),\n",
              " ('HasCrCard', 'int'),\n",
              " ('IsActiveMember', 'int'),\n",
              " ('EstimatedSalary', 'double'),\n",
              " ('Exited', 'int')]"
            ]
          },
          "metadata": {},
          "execution_count": 14
        }
      ]
    },
    {
      "cell_type": "code",
      "source": [
        "# Contar as observações em cada coluna\n",
        "column_counts = [(col, df.select(col).count()) for col in df.columns]\n",
        "\n",
        "# Exibir os resultados\n",
        "for col, count in column_counts:\n",
        "    print(f\"{col}: {count}\")"
      ],
      "metadata": {
        "colab": {
          "base_uri": "https://localhost:8080/"
        },
        "id": "ZoY_2Og86Yv2",
        "outputId": "01accf47-302d-4fd3-aeb3-9b8a8e016792"
      },
      "execution_count": null,
      "outputs": [
        {
          "output_type": "stream",
          "name": "stdout",
          "text": [
            "RowNumber: 10000\n",
            "CustomerId: 10000\n",
            "Surname: 10000\n",
            "CreditScore: 10000\n",
            "Geography: 10000\n",
            "Gender: 10000\n",
            "Age: 10000\n",
            "Tenure: 10000\n",
            "Balance: 10000\n",
            "NumOfProducts: 10000\n",
            "HasCrCard: 10000\n",
            "IsActiveMember: 10000\n",
            "EstimatedSalary: 10000\n",
            "Exited: 10000\n"
          ]
        }
      ]
    },
    {
      "cell_type": "code",
      "source": [
        "# Informações detalhadas do conjunto de dados\n",
        "df.printSchema()"
      ],
      "metadata": {
        "colab": {
          "base_uri": "https://localhost:8080/"
        },
        "id": "1ie08BEv6YkF",
        "outputId": "b8f6b1de-db14-458b-92cb-92a51ed0406f"
      },
      "execution_count": null,
      "outputs": [
        {
          "output_type": "stream",
          "name": "stdout",
          "text": [
            "root\n",
            " |-- RowNumber: integer (nullable = true)\n",
            " |-- CustomerId: integer (nullable = true)\n",
            " |-- Surname: string (nullable = true)\n",
            " |-- CreditScore: integer (nullable = true)\n",
            " |-- Geography: string (nullable = true)\n",
            " |-- Gender: string (nullable = true)\n",
            " |-- Age: integer (nullable = true)\n",
            " |-- Tenure: integer (nullable = true)\n",
            " |-- Balance: double (nullable = true)\n",
            " |-- NumOfProducts: integer (nullable = true)\n",
            " |-- HasCrCard: integer (nullable = true)\n",
            " |-- IsActiveMember: integer (nullable = true)\n",
            " |-- EstimatedSalary: double (nullable = true)\n",
            " |-- Exited: integer (nullable = true)\n",
            "\n"
          ]
        }
      ]
    },
    {
      "cell_type": "markdown",
      "source": [
        "## **Transformação**"
      ],
      "metadata": {
        "id": "VhhMErUREJEW"
      }
    },
    {
      "cell_type": "code",
      "source": [
        "# Visualização do conjunto de dados\n",
        "df.show()"
      ],
      "metadata": {
        "colab": {
          "base_uri": "https://localhost:8080/"
        },
        "id": "3Hj_Ijvm6YUP",
        "outputId": "34076b31-a3a1-4739-e714-72de4ba755b5"
      },
      "execution_count": null,
      "outputs": [
        {
          "output_type": "stream",
          "name": "stdout",
          "text": [
            "+---------+----------+---------+-----------+---------+------+---+------+---------+-------------+---------+--------------+---------------+------+\n",
            "|RowNumber|CustomerId|  Surname|CreditScore|Geography|Gender|Age|Tenure|  Balance|NumOfProducts|HasCrCard|IsActiveMember|EstimatedSalary|Exited|\n",
            "+---------+----------+---------+-----------+---------+------+---+------+---------+-------------+---------+--------------+---------------+------+\n",
            "|        1|  15634602| Hargrave|        619|   France|Female| 42|     2|      0.0|            1|        1|             1|      101348.88|     1|\n",
            "|        2|  15647311|     Hill|        608|    Spain|Female| 41|     1| 83807.86|            1|        0|             1|      112542.58|     0|\n",
            "|        3|  15619304|     Onio|        502|   France|Female| 42|     8| 159660.8|            3|        1|             0|      113931.57|     1|\n",
            "|        4|  15701354|     Boni|        699|   France|Female| 39|     1|      0.0|            2|        0|             0|       93826.63|     0|\n",
            "|        5|  15737888| Mitchell|        850|    Spain|Female| 43|     2|125510.82|            1|        1|             1|        79084.1|     0|\n",
            "|        6|  15574012|      Chu|        645|    Spain|  Male| 44|     8|113755.78|            2|        1|             0|      149756.71|     1|\n",
            "|        7|  15592531| Bartlett|        822|   France|  Male| 50|     7|      0.0|            2|        1|             1|        10062.8|     0|\n",
            "|        8|  15656148|   Obinna|        376|  Germany|Female| 29|     4|115046.74|            4|        1|             0|      119346.88|     1|\n",
            "|        9|  15792365|       He|        501|   France|  Male| 44|     4|142051.07|            2|        0|             1|        74940.5|     0|\n",
            "|       10|  15592389|       H?|        684|   France|  Male| 27|     2|134603.88|            1|        1|             1|       71725.73|     0|\n",
            "|       11|  15767821|   Bearce|        528|   France|  Male| 31|     6|102016.72|            2|        0|             0|       80181.12|     0|\n",
            "|       12|  15737173|  Andrews|        497|    Spain|  Male| 24|     3|      0.0|            2|        1|             0|       76390.01|     0|\n",
            "|       13|  15632264|      Kay|        476|   France|Female| 34|    10|      0.0|            2|        1|             0|       26260.98|     0|\n",
            "|       14|  15691483|     Chin|        549|   France|Female| 25|     5|      0.0|            2|        0|             0|      190857.79|     0|\n",
            "|       15|  15600882|    Scott|        635|    Spain|Female| 35|     7|      0.0|            2|        1|             1|       65951.65|     0|\n",
            "|       16|  15643966|  Goforth|        616|  Germany|  Male| 45|     3|143129.41|            2|        0|             1|       64327.26|     0|\n",
            "|       17|  15737452|    Romeo|        653|  Germany|  Male| 58|     1|132602.88|            1|        1|             0|        5097.67|     1|\n",
            "|       18|  15788218|Henderson|        549|    Spain|Female| 24|     9|      0.0|            2|        1|             1|       14406.41|     0|\n",
            "|       19|  15661507|  Muldrow|        587|    Spain|  Male| 45|     6|      0.0|            1|        0|             0|      158684.81|     0|\n",
            "|       20|  15568982|      Hao|        726|   France|Female| 24|     6|      0.0|            2|        1|             1|       54724.03|     0|\n",
            "+---------+----------+---------+-----------+---------+------+---+------+---------+-------------+---------+--------------+---------------+------+\n",
            "only showing top 20 rows\n",
            "\n"
          ]
        }
      ]
    },
    {
      "cell_type": "markdown",
      "source": [
        "### **Renomeando colunas**"
      ],
      "metadata": {
        "id": "BMQrl_W3EPpF"
      }
    },
    {
      "cell_type": "code",
      "source": [
        "# Renomear as colunas\n",
        "df = df \\\n",
        "    .withColumnRenamed(\"RowNumber\", \"numero_linha\") \\\n",
        "    .withColumnRenamed(\"CustomerId\", \"id\") \\\n",
        "    .withColumnRenamed(\"Surname\", \"sobrenome\") \\\n",
        "    .withColumnRenamed(\"CreditScore\", \"pontuacao_credito\") \\\n",
        "    .withColumnRenamed(\"Geography\", \"localizacao\") \\\n",
        "    .withColumnRenamed(\"Gender\", \"genero\") \\\n",
        "    .withColumnRenamed(\"Age\", \"idade\") \\\n",
        "    .withColumnRenamed(\"Tenure\", \"tempo_permanencia\") \\\n",
        "    .withColumnRenamed(\"Balance\", \"saldo\") \\\n",
        "    .withColumnRenamed(\"NumOfProducts\", \"num_produtos\") \\\n",
        "    .withColumnRenamed(\"HasCrCard\", \"tem_cartao_credito\") \\\n",
        "    .withColumnRenamed(\"IsActiveMember\", \"membro_ativo\") \\\n",
        "    .withColumnRenamed(\"EstimatedSalary\", \"salario_estimado\") \\\n",
        "    .withColumnRenamed(\"Exited\", \"encerrou_conta\")"
      ],
      "metadata": {
        "id": "sdrCbPpy6XxN"
      },
      "execution_count": null,
      "outputs": []
    },
    {
      "cell_type": "code",
      "source": [
        "# Visualização do conjunto de dados\n",
        "df.show()"
      ],
      "metadata": {
        "colab": {
          "base_uri": "https://localhost:8080/"
        },
        "id": "lmYynPKLET59",
        "outputId": "15e54572-e143-49db-9f39-8673ff702244"
      },
      "execution_count": null,
      "outputs": [
        {
          "output_type": "stream",
          "name": "stdout",
          "text": [
            "+------------+--------+---------+-----------------+-----------+------+-----+-----------------+---------+------------+------------------+------------+----------------+--------------+\n",
            "|numero_linha|      id|sobrenome|pontuacao_credito|localizacao|genero|idade|tempo_permanencia|    saldo|num_produtos|tem_cartao_credito|membro_ativo|salario_estimado|encerrou_conta|\n",
            "+------------+--------+---------+-----------------+-----------+------+-----+-----------------+---------+------------+------------------+------------+----------------+--------------+\n",
            "|           1|15634602| Hargrave|              619|     France|Female|   42|                2|      0.0|           1|                 1|           1|       101348.88|             1|\n",
            "|           2|15647311|     Hill|              608|      Spain|Female|   41|                1| 83807.86|           1|                 0|           1|       112542.58|             0|\n",
            "|           3|15619304|     Onio|              502|     France|Female|   42|                8| 159660.8|           3|                 1|           0|       113931.57|             1|\n",
            "|           4|15701354|     Boni|              699|     France|Female|   39|                1|      0.0|           2|                 0|           0|        93826.63|             0|\n",
            "|           5|15737888| Mitchell|              850|      Spain|Female|   43|                2|125510.82|           1|                 1|           1|         79084.1|             0|\n",
            "|           6|15574012|      Chu|              645|      Spain|  Male|   44|                8|113755.78|           2|                 1|           0|       149756.71|             1|\n",
            "|           7|15592531| Bartlett|              822|     France|  Male|   50|                7|      0.0|           2|                 1|           1|         10062.8|             0|\n",
            "|           8|15656148|   Obinna|              376|    Germany|Female|   29|                4|115046.74|           4|                 1|           0|       119346.88|             1|\n",
            "|           9|15792365|       He|              501|     France|  Male|   44|                4|142051.07|           2|                 0|           1|         74940.5|             0|\n",
            "|          10|15592389|       H?|              684|     France|  Male|   27|                2|134603.88|           1|                 1|           1|        71725.73|             0|\n",
            "|          11|15767821|   Bearce|              528|     France|  Male|   31|                6|102016.72|           2|                 0|           0|        80181.12|             0|\n",
            "|          12|15737173|  Andrews|              497|      Spain|  Male|   24|                3|      0.0|           2|                 1|           0|        76390.01|             0|\n",
            "|          13|15632264|      Kay|              476|     France|Female|   34|               10|      0.0|           2|                 1|           0|        26260.98|             0|\n",
            "|          14|15691483|     Chin|              549|     France|Female|   25|                5|      0.0|           2|                 0|           0|       190857.79|             0|\n",
            "|          15|15600882|    Scott|              635|      Spain|Female|   35|                7|      0.0|           2|                 1|           1|        65951.65|             0|\n",
            "|          16|15643966|  Goforth|              616|    Germany|  Male|   45|                3|143129.41|           2|                 0|           1|        64327.26|             0|\n",
            "|          17|15737452|    Romeo|              653|    Germany|  Male|   58|                1|132602.88|           1|                 1|           0|         5097.67|             1|\n",
            "|          18|15788218|Henderson|              549|      Spain|Female|   24|                9|      0.0|           2|                 1|           1|        14406.41|             0|\n",
            "|          19|15661507|  Muldrow|              587|      Spain|  Male|   45|                6|      0.0|           1|                 0|           0|       158684.81|             0|\n",
            "|          20|15568982|      Hao|              726|     France|Female|   24|                6|      0.0|           2|                 1|           1|        54724.03|             0|\n",
            "+------------+--------+---------+-----------------+-----------+------+-----+-----------------+---------+------------+------------------+------------+----------------+--------------+\n",
            "only showing top 20 rows\n",
            "\n"
          ]
        }
      ]
    },
    {
      "cell_type": "markdown",
      "source": [
        "### **Valores nulos**"
      ],
      "metadata": {
        "id": "vpIQZ3PqEYHo"
      }
    },
    {
      "cell_type": "code",
      "source": [
        "# Verificar valores nulos em cada coluna\n",
        "for column in df.columns:\n",
        "    null_count = df.filter(df[column].isNull()).count()\n",
        "    print(f\"{column}: {null_count} nulos\")"
      ],
      "metadata": {
        "colab": {
          "base_uri": "https://localhost:8080/"
        },
        "id": "ecs92Ne3ETwt",
        "outputId": "68de3c7d-9c0d-49b5-b42e-d9824918e770"
      },
      "execution_count": null,
      "outputs": [
        {
          "output_type": "stream",
          "name": "stdout",
          "text": [
            "numero_linha: 0 nulos\n",
            "id: 0 nulos\n",
            "sobrenome: 0 nulos\n",
            "pontuacao_credito: 0 nulos\n",
            "localizacao: 0 nulos\n",
            "genero: 0 nulos\n",
            "idade: 0 nulos\n",
            "tempo_permanencia: 0 nulos\n",
            "saldo: 0 nulos\n",
            "num_produtos: 0 nulos\n",
            "tem_cartao_credito: 0 nulos\n",
            "membro_ativo: 0 nulos\n",
            "salario_estimado: 0 nulos\n",
            "encerrou_conta: 0 nulos\n"
          ]
        }
      ]
    },
    {
      "cell_type": "code",
      "source": [
        "# Antes de eliminar de vez, por favor filtre os dados\n",
        "# Eliminação de dados nulos - como não tem deixei comentado\n",
        "#df.dropna()"
      ],
      "metadata": {
        "id": "lwwj-amgETk1"
      },
      "execution_count": null,
      "outputs": []
    },
    {
      "cell_type": "markdown",
      "source": [
        "### **Valores únicos e Duplicados**"
      ],
      "metadata": {
        "id": "fWyvCffGEhjl"
      }
    },
    {
      "cell_type": "code",
      "source": [
        "# Verificando se os dados são únicos na coluna 'id'\n",
        "# Pelo fato de ter aparecido 'false', significa que temos dados duplicados\n",
        "print(\"A coluna id possui valores únicos? Resposta:\", df.select(\"id\").distinct().count() == df.count())"
      ],
      "metadata": {
        "colab": {
          "base_uri": "https://localhost:8080/"
        },
        "id": "8rDEizPIEhMF",
        "outputId": "a60f7390-9b17-484a-c78c-8177d8a6a279"
      },
      "execution_count": null,
      "outputs": [
        {
          "output_type": "stream",
          "name": "stdout",
          "text": [
            "A coluna id possui valores únicos? Resposta: True\n"
          ]
        }
      ]
    },
    {
      "cell_type": "code",
      "source": [
        "# Verificando se os dados são únicos na coluna 'sobrenome'\n",
        "# Pelo fato de ter aparecido 'false', significa que temos dados duplicados\n",
        "print(\"A coluna sobrenome possui valores únicos? Resposta:\", df.select(\"sobrenome\").distinct().count() == df.count())"
      ],
      "metadata": {
        "colab": {
          "base_uri": "https://localhost:8080/"
        },
        "id": "th8Ue5CgEoZO",
        "outputId": "5fd993b0-803e-48d6-da1f-4ce1192de306"
      },
      "execution_count": null,
      "outputs": [
        {
          "output_type": "stream",
          "name": "stdout",
          "text": [
            "A coluna sobrenome possui valores únicos? Resposta: False\n"
          ]
        }
      ]
    },
    {
      "cell_type": "code",
      "source": [
        "# Visualizando dados duplicados no conjunto de dados\n",
        "df.orderBy(\"sobrenome\").show()"
      ],
      "metadata": {
        "colab": {
          "base_uri": "https://localhost:8080/"
        },
        "id": "nquz88IKJOn1",
        "outputId": "27965d17-7c5b-429b-d53a-4260fd7eaa01"
      },
      "execution_count": null,
      "outputs": [
        {
          "output_type": "stream",
          "name": "stdout",
          "text": [
            "+------------+--------+----------+-----------------+-----------+------+-----+-----------------+---------+------------+------------------+------------+----------------+--------------+\n",
            "|numero_linha|      id| sobrenome|pontuacao_credito|localizacao|genero|idade|tempo_permanencia|    saldo|num_produtos|tem_cartao_credito|membro_ativo|salario_estimado|encerrou_conta|\n",
            "+------------+--------+----------+-----------------+-----------+------+-----+-----------------+---------+------------+------------------+------------+----------------+--------------+\n",
            "|        3272|15708791|     Abazu|              584|      Spain|  Male|   32|                9| 85534.83|           1|                 0|           0|       169137.24|             0|\n",
            "|        5110|15576156|     Abazu|              710|      Spain|Female|   28|                6|      0.0|           1|                 1|           0|        48426.98|             0|\n",
            "|         842|15737792|     Abbie|              818|     France|Female|   31|                1|186796.37|           1|                 0|           0|       178252.63|             0|\n",
            "|        2538|15723706|    Abbott|              573|     France|Female|   33|                0| 90124.64|           1|                 1|           0|       137476.71|             0|\n",
            "|        2989|15684801|    Abbott|              689|     France|  Male|   47|                1| 93871.95|           3|                 1|           0|       156878.42|             1|\n",
            "|        4574|15693906|    Abbott|              645|     France|Female|   24|                3| 34547.82|           1|                 1|           1|        11638.17|             0|\n",
            "|        6839|15680804|    Abbott|              850|     France|  Male|   29|                6|      0.0|           2|                 1|           1|        10672.54|             0|\n",
            "|        8485|15601012|  Abdullah|              802|     France|Female|   60|                3| 92887.06|           1|                 1|           0|        39473.63|             1|\n",
            "|        6085|15619494|   Abdulov|              562|    Germany|Female|   31|                9| 117153.0|           1|                 1|           1|       108675.01|             0|\n",
            "|        6328|15793856|   Abdulov|              667|      Spain|Female|   36|                3|121542.57|           2|                 1|           1|       186841.71|             0|\n",
            "|        4457|15724428|      Abel|              544|     France|  Male|   40|                8|      0.0|           2|                 1|           0|         61581.2|             0|\n",
            "|        9374|15807457| Abernathy|              641|      Spain|Female|   36|                1|      0.0|           2|                 1|           0|       102021.39|             0|\n",
            "|        8396|15586069| Abernathy|              560|     France|Female|   30|                0|108883.29|           1|                 1|           0|        27914.95|             0|\n",
            "|        1162|15781802|   Abramov|              755|     France|  Male|   41|                6|104817.41|           1|                 1|           0|       126013.58|             1|\n",
            "|        5461|15668894|  Abramova|              661|    Germany|  Male|   41|                5|122552.48|           2|                 0|           1|        120646.4|             0|\n",
            "|        7659|15666297|  Abramova|              706|      Spain|Female|   53|                3|      0.0|           3|                 0|           0|        88479.02|             1|\n",
            "|        5665|15661723|Abramovich|              667|      Spain|  Male|   71|                4|137260.78|           1|                 0|           1|        94433.08|             1|\n",
            "|        3381|15601184|Abramovich|              604|      Spain|Female|   26|                3|      0.0|           2|                 1|           0|       155248.62|             0|\n",
            "|        3825|15728167|Abramovich|              667|     France|  Male|   44|                2|122806.95|           1|                 0|           0|        15120.86|             0|\n",
            "|        1043|15593969|Abramovich|              630|      Spain|Female|   39|                7|135483.17|           1|                 1|           0|        140881.2|             1|\n",
            "+------------+--------+----------+-----------------+-----------+------+-----+-----------------+---------+------------+------------------+------------+----------------+--------------+\n",
            "only showing top 20 rows\n",
            "\n"
          ]
        }
      ]
    },
    {
      "cell_type": "code",
      "source": [
        "# Verificando a quantidade de sobrenomes repetidos na base de dados em ordem decrescente\n",
        "df.groupBy(\"sobrenome\").count().orderBy(\"count\", ascending=False).show()"
      ],
      "metadata": {
        "colab": {
          "base_uri": "https://localhost:8080/"
        },
        "id": "K_I7MaYEJQrd",
        "outputId": "ad5abfa0-996e-44c5-8be0-34e63c44b402"
      },
      "execution_count": null,
      "outputs": [
        {
          "output_type": "stream",
          "name": "stdout",
          "text": [
            "+---------+-----+\n",
            "|sobrenome|count|\n",
            "+---------+-----+\n",
            "|    Smith|   32|\n",
            "|    Scott|   29|\n",
            "|   Martin|   29|\n",
            "|   Walker|   28|\n",
            "|    Brown|   26|\n",
            "| Genovese|   25|\n",
            "|      Yeh|   25|\n",
            "|     Shih|   25|\n",
            "|   Wright|   24|\n",
            "|  Maclean|   24|\n",
            "|       Ma|   23|\n",
            "|  Fanucci|   23|\n",
            "|   Wilson|   23|\n",
            "|    White|   23|\n",
            "|       Lu|   22|\n",
            "|      Chu|   22|\n",
            "|     Wang|   22|\n",
            "|    Moore|   22|\n",
            "|  Johnson|   22|\n",
            "|      Sun|   21|\n",
            "+---------+-----+\n",
            "only showing top 20 rows\n",
            "\n"
          ]
        }
      ]
    },
    {
      "cell_type": "code",
      "source": [
        "# Verificando a quantidade de sobrenomes repetidos na base de dados\n",
        "df.groupBy(\"sobrenome\").count().show()"
      ],
      "metadata": {
        "colab": {
          "base_uri": "https://localhost:8080/"
        },
        "id": "SHyL211qJVE-",
        "outputId": "53f94f93-0080-4d09-e6a8-f85584172bc7"
      },
      "execution_count": null,
      "outputs": [
        {
          "output_type": "stream",
          "name": "stdout",
          "text": [
            "+------------+-----+\n",
            "|   sobrenome|count|\n",
            "+------------+-----+\n",
            "|       Tyler|    4|\n",
            "|     Palermo|   12|\n",
            "|      Piccio|   13|\n",
            "|    Lazareva|    3|\n",
            "|  Kambinachi|    5|\n",
            "|       Virgo|    2|\n",
            "| Baryshnikov|    2|\n",
            "|     Wofford|    1|\n",
            "|      Lavrov|    2|\n",
            "|   Bezrukova|    2|\n",
            "|      Avdeev|    1|\n",
            "|      Clunie|    1|\n",
            "|      Duigan|    2|\n",
            "|    Sokolova|    2|\n",
            "|      Azarov|    1|\n",
            "|    Rawlings|    1|\n",
            "|         Zox|    1|\n",
            "|       Rubeo|    1|\n",
            "|      Arbour|    1|\n",
            "|Rapuluchukwu|    1|\n",
            "+------------+-----+\n",
            "only showing top 20 rows\n",
            "\n"
          ]
        }
      ]
    },
    {
      "cell_type": "code",
      "source": [
        "# Filtrando pelo nome\n",
        "df.filter(df[\"sobrenome\"] == \"Piccio\").show()"
      ],
      "metadata": {
        "colab": {
          "base_uri": "https://localhost:8080/"
        },
        "id": "z1zs9eCuJYUX",
        "outputId": "a3b25b62-c01a-4194-fa1e-dbf7e6107545"
      },
      "execution_count": null,
      "outputs": [
        {
          "output_type": "stream",
          "name": "stdout",
          "text": [
            "+------------+--------+---------+-----------------+-----------+------+-----+-----------------+---------+------------+------------------+------------+----------------+--------------+\n",
            "|numero_linha|      id|sobrenome|pontuacao_credito|localizacao|genero|idade|tempo_permanencia|    saldo|num_produtos|tem_cartao_credito|membro_ativo|salario_estimado|encerrou_conta|\n",
            "+------------+--------+---------+-----------------+-----------+------+-----+-----------------+---------+------------+------------------+------------+----------------+--------------+\n",
            "|         128|15782688|   Piccio|              625|    Germany|  Male|   56|                0|148507.24|           1|                 1|           0|        46824.08|             1|\n",
            "|        1146|15601688|   Piccio|              546|     France|  Male|   28|                8|      0.0|           1|                 1|           0|       159254.29|             0|\n",
            "|        3815|15642093|   Piccio|              646|     France|  Male|   30|                7|      0.0|           2|                 1|           0|       153566.97|             0|\n",
            "|        4470|15692443|   Piccio|              612|      Spain|  Male|   33|                5| 69478.57|           1|                 1|           0|         8973.67|             1|\n",
            "|        4569|15672875|   Piccio|              584|    Germany|  Male|   32|                8| 40172.91|           1|                 1|           1|       137439.34|             0|\n",
            "|        5305|15671345|   Piccio|              531|      Spain|Female|   42|                6| 75302.85|           2|                 0|           0|        57034.35|             0|\n",
            "|        5364|15663410|   Piccio|              771|      Spain|  Male|   51|                5|135506.58|           3|                 1|           1|       152479.64|             1|\n",
            "|        6768|15654964|   Piccio|              608|      Spain|  Male|   48|                7| 75801.74|           1|                 1|           0|       125762.95|             0|\n",
            "|        6863|15736287|   Piccio|              586|     France|  Male|   33|                9|      0.0|           1|                 1|           0|         6975.02|             0|\n",
            "|        8216|15743236|   Piccio|              687|     France|Female|   61|                7| 80538.56|           1|                 1|           0|       131305.37|             1|\n",
            "|        8340|15658100|   Piccio|              695|     France|Female|   42|                0|      0.0|           2|                 0|           1|       140724.64|             0|\n",
            "|        8547|15686957|   Piccio|              553|    Germany|  Male|   35|                2|158584.28|           2|                 1|           0|        43640.16|             0|\n",
            "|        9313|15658946|   Piccio|              579|    Germany|  Male|   40|               10| 45408.85|           2|                 1|           0|        18732.91|             0|\n",
            "+------------+--------+---------+-----------------+-----------+------+-----+-----------------+---------+------------+------------------+------------+----------------+--------------+\n",
            "\n"
          ]
        }
      ]
    },
    {
      "cell_type": "code",
      "source": [
        "# Salvando o filtro da familia Piccio\n",
        "df_filtro1 = df.filter(df[\"sobrenome\"] == \"Piccio\")"
      ],
      "metadata": {
        "id": "PaPKj3mwJa2p"
      },
      "execution_count": null,
      "outputs": []
    },
    {
      "cell_type": "code",
      "source": [
        "# Mostrando resultado do filtro\n",
        "df_filtro1.show()"
      ],
      "metadata": {
        "colab": {
          "base_uri": "https://localhost:8080/"
        },
        "id": "YllWNknxJc2v",
        "outputId": "58160c03-e442-4c67-8898-65cafecaeb50"
      },
      "execution_count": null,
      "outputs": [
        {
          "output_type": "stream",
          "name": "stdout",
          "text": [
            "+------------+--------+---------+-----------------+-----------+------+-----+-----------------+---------+------------+------------------+------------+----------------+--------------+\n",
            "|numero_linha|      id|sobrenome|pontuacao_credito|localizacao|genero|idade|tempo_permanencia|    saldo|num_produtos|tem_cartao_credito|membro_ativo|salario_estimado|encerrou_conta|\n",
            "+------------+--------+---------+-----------------+-----------+------+-----+-----------------+---------+------------+------------------+------------+----------------+--------------+\n",
            "|         128|15782688|   Piccio|              625|    Germany|  Male|   56|                0|148507.24|           1|                 1|           0|        46824.08|             1|\n",
            "|        1146|15601688|   Piccio|              546|     France|  Male|   28|                8|      0.0|           1|                 1|           0|       159254.29|             0|\n",
            "|        3815|15642093|   Piccio|              646|     France|  Male|   30|                7|      0.0|           2|                 1|           0|       153566.97|             0|\n",
            "|        4470|15692443|   Piccio|              612|      Spain|  Male|   33|                5| 69478.57|           1|                 1|           0|         8973.67|             1|\n",
            "|        4569|15672875|   Piccio|              584|    Germany|  Male|   32|                8| 40172.91|           1|                 1|           1|       137439.34|             0|\n",
            "|        5305|15671345|   Piccio|              531|      Spain|Female|   42|                6| 75302.85|           2|                 0|           0|        57034.35|             0|\n",
            "|        5364|15663410|   Piccio|              771|      Spain|  Male|   51|                5|135506.58|           3|                 1|           1|       152479.64|             1|\n",
            "|        6768|15654964|   Piccio|              608|      Spain|  Male|   48|                7| 75801.74|           1|                 1|           0|       125762.95|             0|\n",
            "|        6863|15736287|   Piccio|              586|     France|  Male|   33|                9|      0.0|           1|                 1|           0|         6975.02|             0|\n",
            "|        8216|15743236|   Piccio|              687|     France|Female|   61|                7| 80538.56|           1|                 1|           0|       131305.37|             1|\n",
            "|        8340|15658100|   Piccio|              695|     France|Female|   42|                0|      0.0|           2|                 0|           1|       140724.64|             0|\n",
            "|        8547|15686957|   Piccio|              553|    Germany|  Male|   35|                2|158584.28|           2|                 1|           0|        43640.16|             0|\n",
            "|        9313|15658946|   Piccio|              579|    Germany|  Male|   40|               10| 45408.85|           2|                 1|           0|        18732.91|             0|\n",
            "+------------+--------+---------+-----------------+-----------+------+-----+-----------------+---------+------------+------------------+------------+----------------+--------------+\n",
            "\n"
          ]
        }
      ]
    },
    {
      "cell_type": "code",
      "source": [
        "#Filtrar as linhas onde encerrou_conta é igual a 0\n",
        "encerrou_conta_0 = df.filter(df.encerrou_conta == 0)"
      ],
      "metadata": {
        "id": "ErBKCcKpjs39"
      },
      "execution_count": null,
      "outputs": []
    },
    {
      "cell_type": "code",
      "source": [
        "# Filtrar as linhas onde encerrou_conta é igual a 1\n",
        "encerrou_conta_1 = df.filter(df.encerrou_conta == 1)"
      ],
      "metadata": {
        "id": "LNQ8tgYijst9"
      },
      "execution_count": null,
      "outputs": []
    },
    {
      "cell_type": "code",
      "source": [
        "# Verificando o tamanho do DataFrame (linhas, colunas)\n",
        "print((df.count(), len(df.columns)))"
      ],
      "metadata": {
        "colab": {
          "base_uri": "https://localhost:8080/"
        },
        "id": "sIQMV6qeJewO",
        "outputId": "1f847144-3884-4375-efaf-eac222c11027"
      },
      "execution_count": null,
      "outputs": [
        {
          "output_type": "stream",
          "name": "stdout",
          "text": [
            "(10000, 14)\n"
          ]
        }
      ]
    },
    {
      "cell_type": "code",
      "source": [
        "# Sugestão do Davi\n",
        "# Converter o DataFrame do PySpark para um DataFrame do pandas\n",
        "df_pandas = df.toPandas()\n",
        "\n",
        "# Fazer a cópia\n",
        "dfback_pandas = df_pandas.copy()\n",
        "\n",
        "# Converter de volta para o PySpark, se necessário\n",
        "from pyspark.sql import SparkSession\n",
        "spark = SparkSession.builder.getOrCreate()\n",
        "dfback = spark.createDataFrame(dfback_pandas)\n",
        "\n",
        "# backup\n",
        "dfback = df.cache()\n",
        "# verificando o tipo\n",
        "print(type(dfback))\n",
        "\n",
        "# arquivo atual\n",
        "print(type(df))"
      ],
      "metadata": {
        "colab": {
          "base_uri": "https://localhost:8080/"
        },
        "id": "PkSoYaaEVpof",
        "outputId": "aca2bb87-87f9-42e5-f303-ffbcd4ea19e3"
      },
      "execution_count": null,
      "outputs": [
        {
          "output_type": "stream",
          "name": "stdout",
          "text": [
            "<class 'pyspark.sql.dataframe.DataFrame'>\n",
            "<class 'pyspark.sql.dataframe.DataFrame'>\n"
          ]
        }
      ]
    },
    {
      "cell_type": "code",
      "source": [
        "# mostrando o conjunto\n",
        "dfback.show()"
      ],
      "metadata": {
        "colab": {
          "base_uri": "https://localhost:8080/"
        },
        "id": "v6j-Nf-gVurh",
        "outputId": "b4f937e8-e3e8-4648-a41e-5d8123ee542d"
      },
      "execution_count": null,
      "outputs": [
        {
          "output_type": "stream",
          "name": "stdout",
          "text": [
            "+------------+--------+---------+-----------------+-----------+------+-----+-----------------+---------+------------+------------------+------------+----------------+--------------+\n",
            "|numero_linha|      id|sobrenome|pontuacao_credito|localizacao|genero|idade|tempo_permanencia|    saldo|num_produtos|tem_cartao_credito|membro_ativo|salario_estimado|encerrou_conta|\n",
            "+------------+--------+---------+-----------------+-----------+------+-----+-----------------+---------+------------+------------------+------------+----------------+--------------+\n",
            "|           1|15634602| Hargrave|              619|     France|Female|   42|                2|      0.0|           1|                 1|           1|       101348.88|             1|\n",
            "|           2|15647311|     Hill|              608|      Spain|Female|   41|                1| 83807.86|           1|                 0|           1|       112542.58|             0|\n",
            "|           3|15619304|     Onio|              502|     France|Female|   42|                8| 159660.8|           3|                 1|           0|       113931.57|             1|\n",
            "|           4|15701354|     Boni|              699|     France|Female|   39|                1|      0.0|           2|                 0|           0|        93826.63|             0|\n",
            "|           5|15737888| Mitchell|              850|      Spain|Female|   43|                2|125510.82|           1|                 1|           1|         79084.1|             0|\n",
            "|           6|15574012|      Chu|              645|      Spain|  Male|   44|                8|113755.78|           2|                 1|           0|       149756.71|             1|\n",
            "|           7|15592531| Bartlett|              822|     France|  Male|   50|                7|      0.0|           2|                 1|           1|         10062.8|             0|\n",
            "|           8|15656148|   Obinna|              376|    Germany|Female|   29|                4|115046.74|           4|                 1|           0|       119346.88|             1|\n",
            "|           9|15792365|       He|              501|     France|  Male|   44|                4|142051.07|           2|                 0|           1|         74940.5|             0|\n",
            "|          10|15592389|       H?|              684|     France|  Male|   27|                2|134603.88|           1|                 1|           1|        71725.73|             0|\n",
            "|          11|15767821|   Bearce|              528|     France|  Male|   31|                6|102016.72|           2|                 0|           0|        80181.12|             0|\n",
            "|          12|15737173|  Andrews|              497|      Spain|  Male|   24|                3|      0.0|           2|                 1|           0|        76390.01|             0|\n",
            "|          13|15632264|      Kay|              476|     France|Female|   34|               10|      0.0|           2|                 1|           0|        26260.98|             0|\n",
            "|          14|15691483|     Chin|              549|     France|Female|   25|                5|      0.0|           2|                 0|           0|       190857.79|             0|\n",
            "|          15|15600882|    Scott|              635|      Spain|Female|   35|                7|      0.0|           2|                 1|           1|        65951.65|             0|\n",
            "|          16|15643966|  Goforth|              616|    Germany|  Male|   45|                3|143129.41|           2|                 0|           1|        64327.26|             0|\n",
            "|          17|15737452|    Romeo|              653|    Germany|  Male|   58|                1|132602.88|           1|                 1|           0|         5097.67|             1|\n",
            "|          18|15788218|Henderson|              549|      Spain|Female|   24|                9|      0.0|           2|                 1|           1|        14406.41|             0|\n",
            "|          19|15661507|  Muldrow|              587|      Spain|  Male|   45|                6|      0.0|           1|                 0|           0|       158684.81|             0|\n",
            "|          20|15568982|      Hao|              726|     France|Female|   24|                6|      0.0|           2|                 1|           1|        54724.03|             0|\n",
            "+------------+--------+---------+-----------------+-----------+------+-----+-----------------+---------+------------+------------------+------------+----------------+--------------+\n",
            "only showing top 20 rows\n",
            "\n"
          ]
        }
      ]
    },
    {
      "cell_type": "code",
      "source": [
        "# Eliminando valores duplicados na coluna sobrenome\n",
        "df = df.dropDuplicates(['sobrenome'])"
      ],
      "metadata": {
        "id": "tdM-UppTJgk9"
      },
      "execution_count": null,
      "outputs": []
    },
    {
      "cell_type": "code",
      "source": [
        "# Checando o tamanho do DataFrame (linhas, colunas)\n",
        "print((df.count(), len(df.columns)))"
      ],
      "metadata": {
        "id": "SQwaZV9CJjA-",
        "outputId": "ea3e0777-7b1f-4c67-bb9a-c463aa838448",
        "colab": {
          "base_uri": "https://localhost:8080/"
        }
      },
      "execution_count": null,
      "outputs": [
        {
          "output_type": "stream",
          "name": "stdout",
          "text": [
            "(2932, 14)\n"
          ]
        }
      ]
    },
    {
      "cell_type": "markdown",
      "source": [
        "### **Seleção de Colunas Importantes**"
      ],
      "metadata": {
        "id": "_g7wsoS3V4lA"
      }
    },
    {
      "cell_type": "code",
      "source": [
        "df.show()"
      ],
      "metadata": {
        "colab": {
          "base_uri": "https://localhost:8080/"
        },
        "id": "5w3DTBJ1V8T9",
        "outputId": "f58ce0c3-95cf-4936-a782-c88648f558c3"
      },
      "execution_count": null,
      "outputs": [
        {
          "output_type": "stream",
          "name": "stdout",
          "text": [
            "+------------+--------+----------+-----------------+-----------+------+-----+-----------------+---------+------------+------------------+------------+----------------+--------------+\n",
            "|numero_linha|      id| sobrenome|pontuacao_credito|localizacao|genero|idade|tempo_permanencia|    saldo|num_produtos|tem_cartao_credito|membro_ativo|salario_estimado|encerrou_conta|\n",
            "+------------+--------+----------+-----------------+-----------+------+-----+-----------------+---------+------------+------------------+------------+----------------+--------------+\n",
            "|        3272|15708791|     Abazu|              584|      Spain|  Male|   32|                9| 85534.83|           1|                 0|           0|       169137.24|             0|\n",
            "|         842|15737792|     Abbie|              818|     France|Female|   31|                1|186796.37|           1|                 0|           0|       178252.63|             0|\n",
            "|        2538|15723706|    Abbott|              573|     France|Female|   33|                0| 90124.64|           1|                 1|           0|       137476.71|             0|\n",
            "|        8485|15601012|  Abdullah|              802|     France|Female|   60|                3| 92887.06|           1|                 1|           0|        39473.63|             1|\n",
            "|        6085|15619494|   Abdulov|              562|    Germany|Female|   31|                9| 117153.0|           1|                 1|           1|       108675.01|             0|\n",
            "|        4457|15724428|      Abel|              544|     France|  Male|   40|                8|      0.0|           2|                 1|           0|         61581.2|             0|\n",
            "|        8396|15586069| Abernathy|              560|     France|Female|   30|                0|108883.29|           1|                 1|           0|        27914.95|             0|\n",
            "|        1162|15781802|   Abramov|              755|     France|  Male|   41|                6|104817.41|           1|                 1|           0|       126013.58|             1|\n",
            "|        5461|15668894|  Abramova|              661|    Germany|  Male|   41|                5|122552.48|           2|                 0|           1|        120646.4|             0|\n",
            "|        1043|15593969|Abramovich|              630|      Spain|Female|   39|                7|135483.17|           1|                 1|           0|        140881.2|             1|\n",
            "|        3269|15611430|Abramowitz|              690|     France|  Male|   54|                5|      0.0|           1|                 1|           0|        12847.61|             1|\n",
            "|        8952|15636388|    Abrego|              702|    Germany|Female|   23|                7| 98775.23|           1|                 1|           0|       114603.96|             0|\n",
            "|        8387|15641110|     Abron|              708|     France|  Male|   41|                0|      0.0|           1|                 1|           0|       128400.62|             0|\n",
            "|         683|15775238|    Achebe|              651|    Germany|Female|   41|                4|133432.59|           1|                 0|           1|       151303.48|             0|\n",
            "|        3467|15631339|     Adams|              791|     France|  Male|   28|                4|      0.0|           1|                 1|           0|       174435.48|             0|\n",
            "|        3601|15573599|   Adamson|              506|     France|Female|   57|                6|      0.0|           2|                 0|           1|       194421.12|             1|\n",
            "|        7743|15571940| Afamefula|              579|      Spain|  Male|   22|                3|118680.57|           1|                 1|           1|         49829.8|             0|\n",
            "|        1794|15777922| Afamefuna|              629|      Spain|  Male|   36|                1|161757.87|           2|                 1|           1|       146371.72|             0|\n",
            "|        7471|15602456| Afanasyev|              850|    Germany|Female|   47|                4| 99219.47|           2|                 1|           1|       122141.13|             0|\n",
            "|        5765|15791851|Afanasyeva|              726|     France|Female|   34|                0|185734.75|           1|                 1|           1|       102036.82|             0|\n",
            "+------------+--------+----------+-----------------+-----------+------+-----+-----------------+---------+------------+------------------+------------+----------------+--------------+\n",
            "only showing top 20 rows\n",
            "\n"
          ]
        }
      ]
    },
    {
      "cell_type": "code",
      "source": [
        "# Simulação\n",
        "df.drop(\"numero_linha\", \"id\").show()"
      ],
      "metadata": {
        "colab": {
          "base_uri": "https://localhost:8080/"
        },
        "id": "PaGzyeEMV8RG",
        "outputId": "11aae8d0-587b-406f-ac44-06afb0a7e173"
      },
      "execution_count": null,
      "outputs": [
        {
          "output_type": "stream",
          "name": "stdout",
          "text": [
            "+----------+-----------------+-----------+------+-----+-----------------+---------+------------+------------------+------------+----------------+--------------+\n",
            "| sobrenome|pontuacao_credito|localizacao|genero|idade|tempo_permanencia|    saldo|num_produtos|tem_cartao_credito|membro_ativo|salario_estimado|encerrou_conta|\n",
            "+----------+-----------------+-----------+------+-----+-----------------+---------+------------+------------------+------------+----------------+--------------+\n",
            "|     Abazu|              584|      Spain|  Male|   32|                9| 85534.83|           1|                 0|           0|       169137.24|             0|\n",
            "|     Abbie|              818|     France|Female|   31|                1|186796.37|           1|                 0|           0|       178252.63|             0|\n",
            "|    Abbott|              573|     France|Female|   33|                0| 90124.64|           1|                 1|           0|       137476.71|             0|\n",
            "|  Abdullah|              802|     France|Female|   60|                3| 92887.06|           1|                 1|           0|        39473.63|             1|\n",
            "|   Abdulov|              562|    Germany|Female|   31|                9| 117153.0|           1|                 1|           1|       108675.01|             0|\n",
            "|      Abel|              544|     France|  Male|   40|                8|      0.0|           2|                 1|           0|         61581.2|             0|\n",
            "| Abernathy|              560|     France|Female|   30|                0|108883.29|           1|                 1|           0|        27914.95|             0|\n",
            "|   Abramov|              755|     France|  Male|   41|                6|104817.41|           1|                 1|           0|       126013.58|             1|\n",
            "|  Abramova|              661|    Germany|  Male|   41|                5|122552.48|           2|                 0|           1|        120646.4|             0|\n",
            "|Abramovich|              630|      Spain|Female|   39|                7|135483.17|           1|                 1|           0|        140881.2|             1|\n",
            "|Abramowitz|              690|     France|  Male|   54|                5|      0.0|           1|                 1|           0|        12847.61|             1|\n",
            "|    Abrego|              702|    Germany|Female|   23|                7| 98775.23|           1|                 1|           0|       114603.96|             0|\n",
            "|     Abron|              708|     France|  Male|   41|                0|      0.0|           1|                 1|           0|       128400.62|             0|\n",
            "|    Achebe|              651|    Germany|Female|   41|                4|133432.59|           1|                 0|           1|       151303.48|             0|\n",
            "|     Adams|              791|     France|  Male|   28|                4|      0.0|           1|                 1|           0|       174435.48|             0|\n",
            "|   Adamson|              506|     France|Female|   57|                6|      0.0|           2|                 0|           1|       194421.12|             1|\n",
            "| Afamefula|              579|      Spain|  Male|   22|                3|118680.57|           1|                 1|           1|         49829.8|             0|\n",
            "| Afamefuna|              629|      Spain|  Male|   36|                1|161757.87|           2|                 1|           1|       146371.72|             0|\n",
            "| Afanasyev|              850|    Germany|Female|   47|                4| 99219.47|           2|                 1|           1|       122141.13|             0|\n",
            "|Afanasyeva|              726|     France|Female|   34|                0|185734.75|           1|                 1|           1|       102036.82|             0|\n",
            "+----------+-----------------+-----------+------+-----+-----------------+---------+------------+------------------+------------+----------------+--------------+\n",
            "only showing top 20 rows\n",
            "\n"
          ]
        }
      ]
    },
    {
      "cell_type": "code",
      "source": [
        "# Aplicação\n",
        "df = df.drop(\"numero_linha\", \"id\")"
      ],
      "metadata": {
        "id": "jDdiAivjV8OO"
      },
      "execution_count": null,
      "outputs": []
    },
    {
      "cell_type": "code",
      "source": [
        "# Verificação\n",
        "df.show()"
      ],
      "metadata": {
        "colab": {
          "base_uri": "https://localhost:8080/"
        },
        "id": "oYjczGz3V8LU",
        "outputId": "40b401f8-c994-40c2-8e1d-af3099610919"
      },
      "execution_count": null,
      "outputs": [
        {
          "output_type": "stream",
          "name": "stdout",
          "text": [
            "+----------+-----------------+-----------+------+-----+-----------------+---------+------------+------------------+------------+----------------+--------------+\n",
            "| sobrenome|pontuacao_credito|localizacao|genero|idade|tempo_permanencia|    saldo|num_produtos|tem_cartao_credito|membro_ativo|salario_estimado|encerrou_conta|\n",
            "+----------+-----------------+-----------+------+-----+-----------------+---------+------------+------------------+------------+----------------+--------------+\n",
            "|     Abazu|              584|      Spain|  Male|   32|                9| 85534.83|           1|                 0|           0|       169137.24|             0|\n",
            "|     Abbie|              818|     France|Female|   31|                1|186796.37|           1|                 0|           0|       178252.63|             0|\n",
            "|    Abbott|              573|     France|Female|   33|                0| 90124.64|           1|                 1|           0|       137476.71|             0|\n",
            "|  Abdullah|              802|     France|Female|   60|                3| 92887.06|           1|                 1|           0|        39473.63|             1|\n",
            "|   Abdulov|              562|    Germany|Female|   31|                9| 117153.0|           1|                 1|           1|       108675.01|             0|\n",
            "|      Abel|              544|     France|  Male|   40|                8|      0.0|           2|                 1|           0|         61581.2|             0|\n",
            "| Abernathy|              560|     France|Female|   30|                0|108883.29|           1|                 1|           0|        27914.95|             0|\n",
            "|   Abramov|              755|     France|  Male|   41|                6|104817.41|           1|                 1|           0|       126013.58|             1|\n",
            "|  Abramova|              661|    Germany|  Male|   41|                5|122552.48|           2|                 0|           1|        120646.4|             0|\n",
            "|Abramovich|              630|      Spain|Female|   39|                7|135483.17|           1|                 1|           0|        140881.2|             1|\n",
            "|Abramowitz|              690|     France|  Male|   54|                5|      0.0|           1|                 1|           0|        12847.61|             1|\n",
            "|    Abrego|              702|    Germany|Female|   23|                7| 98775.23|           1|                 1|           0|       114603.96|             0|\n",
            "|     Abron|              708|     France|  Male|   41|                0|      0.0|           1|                 1|           0|       128400.62|             0|\n",
            "|    Achebe|              651|    Germany|Female|   41|                4|133432.59|           1|                 0|           1|       151303.48|             0|\n",
            "|     Adams|              791|     France|  Male|   28|                4|      0.0|           1|                 1|           0|       174435.48|             0|\n",
            "|   Adamson|              506|     France|Female|   57|                6|      0.0|           2|                 0|           1|       194421.12|             1|\n",
            "| Afamefula|              579|      Spain|  Male|   22|                3|118680.57|           1|                 1|           1|         49829.8|             0|\n",
            "| Afamefuna|              629|      Spain|  Male|   36|                1|161757.87|           2|                 1|           1|       146371.72|             0|\n",
            "| Afanasyev|              850|    Germany|Female|   47|                4| 99219.47|           2|                 1|           1|       122141.13|             0|\n",
            "|Afanasyeva|              726|     France|Female|   34|                0|185734.75|           1|                 1|           1|       102036.82|             0|\n",
            "+----------+-----------------+-----------+------+-----+-----------------+---------+------------+------------------+------------+----------------+--------------+\n",
            "only showing top 20 rows\n",
            "\n"
          ]
        }
      ]
    },
    {
      "cell_type": "code",
      "source": [
        "# Selecionando colunas\n",
        "df.select(\"genero\",\"pontuacao_credito\", \"localizacao\", \"saldo\").show()"
      ],
      "metadata": {
        "colab": {
          "base_uri": "https://localhost:8080/"
        },
        "id": "VNvdWMJqV8IS",
        "outputId": "9ac0b82f-bccc-4a90-e3f2-4270771af569"
      },
      "execution_count": null,
      "outputs": [
        {
          "output_type": "stream",
          "name": "stdout",
          "text": [
            "+------+-----------------+-----------+---------+\n",
            "|genero|pontuacao_credito|localizacao|    saldo|\n",
            "+------+-----------------+-----------+---------+\n",
            "|  Male|              584|      Spain| 85534.83|\n",
            "|Female|              818|     France|186796.37|\n",
            "|Female|              573|     France| 90124.64|\n",
            "|Female|              802|     France| 92887.06|\n",
            "|Female|              562|    Germany| 117153.0|\n",
            "|  Male|              544|     France|      0.0|\n",
            "|Female|              560|     France|108883.29|\n",
            "|  Male|              755|     France|104817.41|\n",
            "|  Male|              661|    Germany|122552.48|\n",
            "|Female|              630|      Spain|135483.17|\n",
            "|  Male|              690|     France|      0.0|\n",
            "|Female|              702|    Germany| 98775.23|\n",
            "|  Male|              708|     France|      0.0|\n",
            "|Female|              651|    Germany|133432.59|\n",
            "|  Male|              791|     France|      0.0|\n",
            "|Female|              506|     France|      0.0|\n",
            "|  Male|              579|      Spain|118680.57|\n",
            "|  Male|              629|      Spain|161757.87|\n",
            "|Female|              850|    Germany| 99219.47|\n",
            "|Female|              726|     France|185734.75|\n",
            "+------+-----------------+-----------+---------+\n",
            "only showing top 20 rows\n",
            "\n"
          ]
        }
      ]
    },
    {
      "cell_type": "code",
      "source": [
        "# Caso queira usar: Selecionando colunas\n",
        "df_selec = df.select(\"genero\",\"pontuacao_credito\", \"localizacao\", \"saldo\")"
      ],
      "metadata": {
        "id": "4Q-IjhmsV8Fi"
      },
      "execution_count": null,
      "outputs": []
    },
    {
      "cell_type": "code",
      "source": [
        "# Verificando\n",
        "df_selec.show()"
      ],
      "metadata": {
        "colab": {
          "base_uri": "https://localhost:8080/"
        },
        "id": "t5OHqq9RV8CM",
        "outputId": "3ad647e5-0ce7-415d-ce9e-e4136c781e73"
      },
      "execution_count": null,
      "outputs": [
        {
          "output_type": "stream",
          "name": "stdout",
          "text": [
            "+------+-----------------+-----------+---------+\n",
            "|genero|pontuacao_credito|localizacao|    saldo|\n",
            "+------+-----------------+-----------+---------+\n",
            "|  Male|              584|      Spain| 85534.83|\n",
            "|Female|              818|     France|186796.37|\n",
            "|Female|              573|     France| 90124.64|\n",
            "|Female|              802|     France| 92887.06|\n",
            "|Female|              562|    Germany| 117153.0|\n",
            "|  Male|              544|     France|      0.0|\n",
            "|Female|              560|     France|108883.29|\n",
            "|  Male|              755|     France|104817.41|\n",
            "|  Male|              661|    Germany|122552.48|\n",
            "|Female|              630|      Spain|135483.17|\n",
            "|  Male|              690|     France|      0.0|\n",
            "|Female|              702|    Germany| 98775.23|\n",
            "|  Male|              708|     France|      0.0|\n",
            "|Female|              651|    Germany|133432.59|\n",
            "|  Male|              791|     France|      0.0|\n",
            "|Female|              506|     France|      0.0|\n",
            "|  Male|              579|      Spain|118680.57|\n",
            "|  Male|              629|      Spain|161757.87|\n",
            "|Female|              850|    Germany| 99219.47|\n",
            "|Female|              726|     France|185734.75|\n",
            "+------+-----------------+-----------+---------+\n",
            "only showing top 20 rows\n",
            "\n"
          ]
        }
      ]
    },
    {
      "cell_type": "markdown",
      "source": [
        "### **Tradução de Categorias**"
      ],
      "metadata": {
        "id": "vJiOcRd3WQ2E"
      }
    },
    {
      "cell_type": "code",
      "source": [
        "df.show()"
      ],
      "metadata": {
        "colab": {
          "base_uri": "https://localhost:8080/"
        },
        "id": "jYidKjYtV7_K",
        "outputId": "c149aec4-9cb6-4f9d-86c5-21019aef28ba"
      },
      "execution_count": null,
      "outputs": [
        {
          "output_type": "stream",
          "name": "stdout",
          "text": [
            "+----------+-----------------+-----------+------+-----+-----------------+---------+------------+------------------+------------+----------------+--------------+\n",
            "| sobrenome|pontuacao_credito|localizacao|genero|idade|tempo_permanencia|    saldo|num_produtos|tem_cartao_credito|membro_ativo|salario_estimado|encerrou_conta|\n",
            "+----------+-----------------+-----------+------+-----+-----------------+---------+------------+------------------+------------+----------------+--------------+\n",
            "|     Abazu|              584|      Spain|  Male|   32|                9| 85534.83|           1|                 0|           0|       169137.24|             0|\n",
            "|     Abbie|              818|     France|Female|   31|                1|186796.37|           1|                 0|           0|       178252.63|             0|\n",
            "|    Abbott|              573|     France|Female|   33|                0| 90124.64|           1|                 1|           0|       137476.71|             0|\n",
            "|  Abdullah|              802|     France|Female|   60|                3| 92887.06|           1|                 1|           0|        39473.63|             1|\n",
            "|   Abdulov|              562|    Germany|Female|   31|                9| 117153.0|           1|                 1|           1|       108675.01|             0|\n",
            "|      Abel|              544|     France|  Male|   40|                8|      0.0|           2|                 1|           0|         61581.2|             0|\n",
            "| Abernathy|              560|     France|Female|   30|                0|108883.29|           1|                 1|           0|        27914.95|             0|\n",
            "|   Abramov|              755|     France|  Male|   41|                6|104817.41|           1|                 1|           0|       126013.58|             1|\n",
            "|  Abramova|              661|    Germany|  Male|   41|                5|122552.48|           2|                 0|           1|        120646.4|             0|\n",
            "|Abramovich|              630|      Spain|Female|   39|                7|135483.17|           1|                 1|           0|        140881.2|             1|\n",
            "|Abramowitz|              690|     France|  Male|   54|                5|      0.0|           1|                 1|           0|        12847.61|             1|\n",
            "|    Abrego|              702|    Germany|Female|   23|                7| 98775.23|           1|                 1|           0|       114603.96|             0|\n",
            "|     Abron|              708|     France|  Male|   41|                0|      0.0|           1|                 1|           0|       128400.62|             0|\n",
            "|    Achebe|              651|    Germany|Female|   41|                4|133432.59|           1|                 0|           1|       151303.48|             0|\n",
            "|     Adams|              791|     France|  Male|   28|                4|      0.0|           1|                 1|           0|       174435.48|             0|\n",
            "|   Adamson|              506|     France|Female|   57|                6|      0.0|           2|                 0|           1|       194421.12|             1|\n",
            "| Afamefula|              579|      Spain|  Male|   22|                3|118680.57|           1|                 1|           1|         49829.8|             0|\n",
            "| Afamefuna|              629|      Spain|  Male|   36|                1|161757.87|           2|                 1|           1|       146371.72|             0|\n",
            "| Afanasyev|              850|    Germany|Female|   47|                4| 99219.47|           2|                 1|           1|       122141.13|             0|\n",
            "|Afanasyeva|              726|     France|Female|   34|                0|185734.75|           1|                 1|           1|       102036.82|             0|\n",
            "+----------+-----------------+-----------+------+-----+-----------------+---------+------------+------------------+------------+----------------+--------------+\n",
            "only showing top 20 rows\n",
            "\n"
          ]
        }
      ]
    },
    {
      "cell_type": "markdown",
      "source": [
        "A expressão rdd.map(lambda x: x[0]).collect() em PySpark faz o seguinte:\n",
        "\n",
        "*  RDD (rdd): Representa um Resilient Distributed Dataset, uma estrutura de dados fundamental em PySpark, que permite operações distribuídas.\n",
        "\n",
        "*  map(lambda x: x[0]): Aplica uma função lambda a cada elemento do RDD, onde lambda x: x[0] extrai o primeiro elemento de cada tupla ou lista x.\n",
        "\n",
        "*  collect(): Coleta todos os elementos do RDD de volta para o driver (o ambiente principal onde o código é executado), retornando uma lista de Python contendo todos os elementos processados pelo map.\n",
        "\n",
        "Portanto, rdd.map(lambda x: x[0]).collect() retorna uma lista com o primeiro elemento de cada elemento do RDD rdd"
      ],
      "metadata": {
        "id": "IoHN2NfHWXpd"
      }
    },
    {
      "cell_type": "code",
      "source": [
        "# Verificação de valores unicos\n",
        "sorted(df.select(\"localizacao\").distinct().rdd.map(lambda x: x[0]).collect())"
      ],
      "metadata": {
        "colab": {
          "base_uri": "https://localhost:8080/"
        },
        "id": "UfuQbmq7V78S",
        "outputId": "fecc89a1-cd85-4acf-f5cb-6edbca631b3c"
      },
      "execution_count": null,
      "outputs": [
        {
          "output_type": "execute_result",
          "data": {
            "text/plain": [
              "['France', 'Germany', 'Spain']"
            ]
          },
          "metadata": {},
          "execution_count": 45
        }
      ]
    },
    {
      "cell_type": "code",
      "source": [
        "# Verificação de valores unicos\n",
        "sorted(df.select(\"genero\").distinct().rdd.map(lambda x: x[0]).collect())"
      ],
      "metadata": {
        "colab": {
          "base_uri": "https://localhost:8080/"
        },
        "id": "G4yctuMKV75i",
        "outputId": "e1874e1e-f8ea-4ca8-8f2e-a2c9c6349cca"
      },
      "execution_count": null,
      "outputs": [
        {
          "output_type": "execute_result",
          "data": {
            "text/plain": [
              "['Female', 'Male']"
            ]
          },
          "metadata": {},
          "execution_count": 46
        }
      ]
    },
    {
      "cell_type": "code",
      "source": [
        "# Simulação\n",
        "df.withColumn(\"localizacao\", when(df[\"localizacao\"] == \"France\", \"França\") \\\n",
        "                            .when(df[\"localizacao\"] == \"Germany\", \"Alemanha\")\\\n",
        "                            .when(df[\"localizacao\"] == \"Spain\", \"Espanha\")\\\n",
        "                            .otherwise(df[\"localizacao\"])).show()"
      ],
      "metadata": {
        "colab": {
          "base_uri": "https://localhost:8080/"
        },
        "id": "3eDjRV38V72T",
        "outputId": "39677e10-c612-4915-f7f5-a602fca1b27a"
      },
      "execution_count": null,
      "outputs": [
        {
          "output_type": "stream",
          "name": "stdout",
          "text": [
            "+----------+-----------------+-----------+------+-----+-----------------+---------+------------+------------------+------------+----------------+--------------+\n",
            "| sobrenome|pontuacao_credito|localizacao|genero|idade|tempo_permanencia|    saldo|num_produtos|tem_cartao_credito|membro_ativo|salario_estimado|encerrou_conta|\n",
            "+----------+-----------------+-----------+------+-----+-----------------+---------+------------+------------------+------------+----------------+--------------+\n",
            "|     Abazu|              584|    Espanha|  Male|   32|                9| 85534.83|           1|                 0|           0|       169137.24|             0|\n",
            "|     Abbie|              818|     França|Female|   31|                1|186796.37|           1|                 0|           0|       178252.63|             0|\n",
            "|    Abbott|              573|     França|Female|   33|                0| 90124.64|           1|                 1|           0|       137476.71|             0|\n",
            "|  Abdullah|              802|     França|Female|   60|                3| 92887.06|           1|                 1|           0|        39473.63|             1|\n",
            "|   Abdulov|              562|   Alemanha|Female|   31|                9| 117153.0|           1|                 1|           1|       108675.01|             0|\n",
            "|      Abel|              544|     França|  Male|   40|                8|      0.0|           2|                 1|           0|         61581.2|             0|\n",
            "| Abernathy|              560|     França|Female|   30|                0|108883.29|           1|                 1|           0|        27914.95|             0|\n",
            "|   Abramov|              755|     França|  Male|   41|                6|104817.41|           1|                 1|           0|       126013.58|             1|\n",
            "|  Abramova|              661|   Alemanha|  Male|   41|                5|122552.48|           2|                 0|           1|        120646.4|             0|\n",
            "|Abramovich|              630|    Espanha|Female|   39|                7|135483.17|           1|                 1|           0|        140881.2|             1|\n",
            "|Abramowitz|              690|     França|  Male|   54|                5|      0.0|           1|                 1|           0|        12847.61|             1|\n",
            "|    Abrego|              702|   Alemanha|Female|   23|                7| 98775.23|           1|                 1|           0|       114603.96|             0|\n",
            "|     Abron|              708|     França|  Male|   41|                0|      0.0|           1|                 1|           0|       128400.62|             0|\n",
            "|    Achebe|              651|   Alemanha|Female|   41|                4|133432.59|           1|                 0|           1|       151303.48|             0|\n",
            "|     Adams|              791|     França|  Male|   28|                4|      0.0|           1|                 1|           0|       174435.48|             0|\n",
            "|   Adamson|              506|     França|Female|   57|                6|      0.0|           2|                 0|           1|       194421.12|             1|\n",
            "| Afamefula|              579|    Espanha|  Male|   22|                3|118680.57|           1|                 1|           1|         49829.8|             0|\n",
            "| Afamefuna|              629|    Espanha|  Male|   36|                1|161757.87|           2|                 1|           1|       146371.72|             0|\n",
            "| Afanasyev|              850|   Alemanha|Female|   47|                4| 99219.47|           2|                 1|           1|       122141.13|             0|\n",
            "|Afanasyeva|              726|     França|Female|   34|                0|185734.75|           1|                 1|           1|       102036.82|             0|\n",
            "+----------+-----------------+-----------+------+-----+-----------------+---------+------------+------------------+------------+----------------+--------------+\n",
            "only showing top 20 rows\n",
            "\n"
          ]
        }
      ]
    },
    {
      "cell_type": "code",
      "source": [
        "# Aplicação\n",
        "df = df.withColumn(\"localizacao\", when(df[\"localizacao\"] == \"France\", \"França\") \\\n",
        "                            .when(df[\"localizacao\"] == \"Germany\", \"Alemanha\")\\\n",
        "                            .when(df[\"localizacao\"] == \"Spain\", \"Espanha\")\\\n",
        "                            .otherwise(df[\"localizacao\"]))"
      ],
      "metadata": {
        "id": "AX7FaylOV7zT"
      },
      "execution_count": null,
      "outputs": []
    },
    {
      "cell_type": "code",
      "source": [
        "# Simulação\n",
        "df.withColumn(\"genero\", when(df[\"genero\"] == \"Female\", \"Feminino\") \\\n",
        "                         .when(df[\"genero\"] == \"Male\", \"Masculino\") \\\n",
        "                         .otherwise(df[\"genero\"])).show()"
      ],
      "metadata": {
        "colab": {
          "base_uri": "https://localhost:8080/"
        },
        "id": "pVVxXsuTV7wK",
        "outputId": "0fce943a-8d0a-4495-99a0-e5ca4142df5c"
      },
      "execution_count": null,
      "outputs": [
        {
          "output_type": "stream",
          "name": "stdout",
          "text": [
            "+----------+-----------------+-----------+---------+-----+-----------------+---------+------------+------------------+------------+----------------+--------------+\n",
            "| sobrenome|pontuacao_credito|localizacao|   genero|idade|tempo_permanencia|    saldo|num_produtos|tem_cartao_credito|membro_ativo|salario_estimado|encerrou_conta|\n",
            "+----------+-----------------+-----------+---------+-----+-----------------+---------+------------+------------------+------------+----------------+--------------+\n",
            "|     Abazu|              584|    Espanha|Masculino|   32|                9| 85534.83|           1|                 0|           0|       169137.24|             0|\n",
            "|     Abbie|              818|     França| Feminino|   31|                1|186796.37|           1|                 0|           0|       178252.63|             0|\n",
            "|    Abbott|              573|     França| Feminino|   33|                0| 90124.64|           1|                 1|           0|       137476.71|             0|\n",
            "|  Abdullah|              802|     França| Feminino|   60|                3| 92887.06|           1|                 1|           0|        39473.63|             1|\n",
            "|   Abdulov|              562|   Alemanha| Feminino|   31|                9| 117153.0|           1|                 1|           1|       108675.01|             0|\n",
            "|      Abel|              544|     França|Masculino|   40|                8|      0.0|           2|                 1|           0|         61581.2|             0|\n",
            "| Abernathy|              560|     França| Feminino|   30|                0|108883.29|           1|                 1|           0|        27914.95|             0|\n",
            "|   Abramov|              755|     França|Masculino|   41|                6|104817.41|           1|                 1|           0|       126013.58|             1|\n",
            "|  Abramova|              661|   Alemanha|Masculino|   41|                5|122552.48|           2|                 0|           1|        120646.4|             0|\n",
            "|Abramovich|              630|    Espanha| Feminino|   39|                7|135483.17|           1|                 1|           0|        140881.2|             1|\n",
            "|Abramowitz|              690|     França|Masculino|   54|                5|      0.0|           1|                 1|           0|        12847.61|             1|\n",
            "|    Abrego|              702|   Alemanha| Feminino|   23|                7| 98775.23|           1|                 1|           0|       114603.96|             0|\n",
            "|     Abron|              708|     França|Masculino|   41|                0|      0.0|           1|                 1|           0|       128400.62|             0|\n",
            "|    Achebe|              651|   Alemanha| Feminino|   41|                4|133432.59|           1|                 0|           1|       151303.48|             0|\n",
            "|     Adams|              791|     França|Masculino|   28|                4|      0.0|           1|                 1|           0|       174435.48|             0|\n",
            "|   Adamson|              506|     França| Feminino|   57|                6|      0.0|           2|                 0|           1|       194421.12|             1|\n",
            "| Afamefula|              579|    Espanha|Masculino|   22|                3|118680.57|           1|                 1|           1|         49829.8|             0|\n",
            "| Afamefuna|              629|    Espanha|Masculino|   36|                1|161757.87|           2|                 1|           1|       146371.72|             0|\n",
            "| Afanasyev|              850|   Alemanha| Feminino|   47|                4| 99219.47|           2|                 1|           1|       122141.13|             0|\n",
            "|Afanasyeva|              726|     França| Feminino|   34|                0|185734.75|           1|                 1|           1|       102036.82|             0|\n",
            "+----------+-----------------+-----------+---------+-----+-----------------+---------+------------+------------------+------------+----------------+--------------+\n",
            "only showing top 20 rows\n",
            "\n"
          ]
        }
      ]
    },
    {
      "cell_type": "code",
      "source": [
        "# Aplicação\n",
        "df = df.withColumn(\"genero\", when(df[\"genero\"] == \"Female\", \"Feminino\") \\\n",
        "                         .when(df[\"genero\"] == \"Male\", \"Masculino\") \\\n",
        "                         .otherwise(df[\"genero\"]))"
      ],
      "metadata": {
        "id": "fLhv6n1dV7tS"
      },
      "execution_count": null,
      "outputs": []
    },
    {
      "cell_type": "code",
      "source": [
        "# Verificação geral\n",
        "df.show()"
      ],
      "metadata": {
        "colab": {
          "base_uri": "https://localhost:8080/"
        },
        "id": "d2PWsCFzV7T6",
        "outputId": "bdb6ef54-b209-4285-fcf7-225556c25796"
      },
      "execution_count": null,
      "outputs": [
        {
          "output_type": "stream",
          "name": "stdout",
          "text": [
            "+----------+-----------------+-----------+---------+-----+-----------------+---------+------------+------------------+------------+----------------+--------------+\n",
            "| sobrenome|pontuacao_credito|localizacao|   genero|idade|tempo_permanencia|    saldo|num_produtos|tem_cartao_credito|membro_ativo|salario_estimado|encerrou_conta|\n",
            "+----------+-----------------+-----------+---------+-----+-----------------+---------+------------+------------------+------------+----------------+--------------+\n",
            "|     Abazu|              584|    Espanha|Masculino|   32|                9| 85534.83|           1|                 0|           0|       169137.24|             0|\n",
            "|     Abbie|              818|     França| Feminino|   31|                1|186796.37|           1|                 0|           0|       178252.63|             0|\n",
            "|    Abbott|              573|     França| Feminino|   33|                0| 90124.64|           1|                 1|           0|       137476.71|             0|\n",
            "|  Abdullah|              802|     França| Feminino|   60|                3| 92887.06|           1|                 1|           0|        39473.63|             1|\n",
            "|   Abdulov|              562|   Alemanha| Feminino|   31|                9| 117153.0|           1|                 1|           1|       108675.01|             0|\n",
            "|      Abel|              544|     França|Masculino|   40|                8|      0.0|           2|                 1|           0|         61581.2|             0|\n",
            "| Abernathy|              560|     França| Feminino|   30|                0|108883.29|           1|                 1|           0|        27914.95|             0|\n",
            "|   Abramov|              755|     França|Masculino|   41|                6|104817.41|           1|                 1|           0|       126013.58|             1|\n",
            "|  Abramova|              661|   Alemanha|Masculino|   41|                5|122552.48|           2|                 0|           1|        120646.4|             0|\n",
            "|Abramovich|              630|    Espanha| Feminino|   39|                7|135483.17|           1|                 1|           0|        140881.2|             1|\n",
            "|Abramowitz|              690|     França|Masculino|   54|                5|      0.0|           1|                 1|           0|        12847.61|             1|\n",
            "|    Abrego|              702|   Alemanha| Feminino|   23|                7| 98775.23|           1|                 1|           0|       114603.96|             0|\n",
            "|     Abron|              708|     França|Masculino|   41|                0|      0.0|           1|                 1|           0|       128400.62|             0|\n",
            "|    Achebe|              651|   Alemanha| Feminino|   41|                4|133432.59|           1|                 0|           1|       151303.48|             0|\n",
            "|     Adams|              791|     França|Masculino|   28|                4|      0.0|           1|                 1|           0|       174435.48|             0|\n",
            "|   Adamson|              506|     França| Feminino|   57|                6|      0.0|           2|                 0|           1|       194421.12|             1|\n",
            "| Afamefula|              579|    Espanha|Masculino|   22|                3|118680.57|           1|                 1|           1|         49829.8|             0|\n",
            "| Afamefuna|              629|    Espanha|Masculino|   36|                1|161757.87|           2|                 1|           1|       146371.72|             0|\n",
            "| Afanasyev|              850|   Alemanha| Feminino|   47|                4| 99219.47|           2|                 1|           1|       122141.13|             0|\n",
            "|Afanasyeva|              726|     França| Feminino|   34|                0|185734.75|           1|                 1|           1|       102036.82|             0|\n",
            "+----------+-----------------+-----------+---------+-----+-----------------+---------+------------+------------------+------------+----------------+--------------+\n",
            "only showing top 20 rows\n",
            "\n"
          ]
        }
      ]
    },
    {
      "cell_type": "markdown",
      "source": [
        "### **Verificação de inconsistências**"
      ],
      "metadata": {
        "id": "HXuDhDzEWt4I"
      }
    },
    {
      "cell_type": "code",
      "source": [
        "# Iterando sobre as colunas do DataFrame\n",
        "for column, dtype in df.dtypes:\n",
        "    print(f\"Valores únicos na coluna '{column}':\")\n",
        "\n",
        "    # Verificando se a coluna contém valores inteiros\n",
        "    if dtype == 'int':\n",
        "        valores_unicos = sorted(df.select(column).distinct().rdd.map(lambda x: x[0]).collect())\n",
        "        print(valores_unicos)\n",
        "\n",
        "    # Verificando se a coluna contém valores de ponto flutuante\n",
        "    elif dtype == 'double':\n",
        "        valores_unicos = sorted(df.select(column).distinct().rdd.map(lambda x: x[0]).collect())\n",
        "        print(valores_unicos)\n",
        "\n",
        "    # Verificando se a coluna contém valores de texto (string)\n",
        "    elif dtype == 'string':\n",
        "        valores_unicos = sorted(df.select(column).distinct().rdd.map(lambda x: x[0]).collect())\n",
        "        print(valores_unicos)\n",
        "\n",
        "    print(\"-\" * 50)  # Linha de separação"
      ],
      "metadata": {
        "colab": {
          "base_uri": "https://localhost:8080/"
        },
        "id": "ZDWrOLKaWu3Z",
        "outputId": "ccfd9935-617c-422b-e7ec-7a32e2cb4381"
      },
      "execution_count": null,
      "outputs": [
        {
          "output_type": "stream",
          "name": "stdout",
          "text": [
            "Valores únicos na coluna 'sobrenome':\n",
            "['Abazu', 'Abbie', 'Abbott', 'Abdullah', 'Abdulov', 'Abel', 'Abernathy', 'Abramov', 'Abramova', 'Abramovich', 'Abramowitz', 'Abrego', 'Abron', 'Achebe', 'Adams', 'Adamson', 'Afamefula', 'Afamefuna', 'Afanasyev', 'Afanasyeva', 'Agafonova', 'Aguirre', 'Ah Mouy', 'Ahern', 'Ahmed', 'Aiken', 'Aikenhead', 'Ainsworth', 'Aitken', 'Ajuluchukwu', 'Akabueze', 'Akeroyd', 'Akhtar', 'Akobundu', 'Aksakova', 'Aksenov', 'Aksenova', 'Aksyonov', 'Aksyonova', 'Akubundu', 'Akudinobi', 'Alaniz', 'Alderete', 'Aldrich', 'Aldridge', 'Aleksandrova', 'Alekseeva', 'Alekseyeva', 'Aleshire', 'Alexander', 'Alexandrov', 'Alexandrova', 'Alexeeva', 'Alexeieva', 'Alexeyeva', 'Algarin', 'Algeranoff', 'Ali', 'Aliyev', 'Aliyeva', 'Allan', 'Allard', 'Allardyce', 'Allen', 'Alley', 'Alleyne', 'Allingham', 'Allnutt', 'Allsop', 'Alvares', 'Alvarez', 'Amadi', 'Amaechi', 'Amechi', 'Amies', 'Amos', 'Ampt', 'Anayochukwu', 'Anayolisa', 'Andersen', 'Anderson', 'Andreev', 'Andrejew', 'Andrews', 'Andreyev', 'Andreyeva', 'Anenechi', 'Anenechukwu', 'Angel', 'Angelo', 'Ankudinov', 'Ankudinova', 'Ann', 'Ansell', 'Anthony', 'Aparicio', 'Arbour', 'Archambault', 'Archer', 'Arcuri', 'Ardis', 'Argyle', 'Arkwookerum', 'Armfield', 'Armit', 'Armstrong', 'Arnold', 'Arnott', 'Arrington', 'Artamonova', 'Artemiev', 'Artemieva', 'Artemova', 'Artemyeva', 'Arthur', 'Artyomova', 'Ash', 'Ashbolt', 'Asher', 'Ashley', 'Ashton', 'Astorga', 'Atherton', 'Atkins', 'Atkinson', 'Austin', 'Avdeev', 'Avdeeva', 'Avdeyeva', 'Avent', 'Averyanov', 'Ayers', 'Azarov', 'Azikiwe', 'Azubuike', 'Azuka', 'Babbage', 'Baddeley', 'Badgery', 'Bage', 'Bagley', 'Bailey', 'Bair', 'Baird', 'Baker', 'Balashov', 'Balashova', 'Baldwin', 'Bales', 'Ball', 'Ballard', 'Balmain', 'Balsillie', 'Bancks', 'Bancroft', 'Band', 'Banks', 'Baranov', 'Baranova', 'Barber', 'Barbour', 'Barclay', 'Barclay-Harvey', 'Bardin', 'Barese', 'Baresi', 'Barker', 'Barling', 'Barlow', 'Barnard', 'Barnes', 'Barnet', 'Barnett', 'Barnhill', 'Barrera', 'Barrett', 'Barry', 'Bartlett', 'Barton', 'Barwell', 'Baryshnikov', 'Basedow', 'Bateman', 'Bates', 'Bateson', 'Batt', 'Batty', 'Baxter', 'Bayley', 'Bazarova', 'Bazhenov', 'Bazile', 'Beach', 'Beale', 'Beam', 'Bearce', 'Beatham', 'Beavers', 'Becher', 'Beck', 'Becker', 'Bednall', 'Beede', 'Beers', 'Begg', 'Beggs', 'Begley', 'Begum', 'Beit', 'Belbin', 'Belcher', 'Belisario', 'Bell', 'Bellasis', 'Bellew', 'Bellucci', 'Belonwu', 'Belousov', 'Belov', 'Belstead', 'Beluchi', 'Beneventi', 'Benford', 'Benjamin', 'Bennelong', 'Bennet', 'Bennett', 'Bennetts', 'Benson', 'Bentley', 'Bergamaschi', 'Bergman', 'Berkeley', 'Bermudez', 'Berry', 'Bess', 'Bevan', 'Bevington', 'Beyer', 'Bezrukov', 'Bezrukova', 'Bianchi', 'Bibb', 'Bibi', 'Bidencope', 'Bidwill', 'Billson', 'Binder', 'Birch', 'Bird', 'Birdsall', 'Birdseye', 'Birk', 'Birnie', 'Biryukov', 'Biryukova', 'Bischof', 'Bishop', 'Bitter', 'Black', 'Blackall', 'Blackburn', 'Blacklock', 'Blackwood', 'Blair', 'Blake', 'Blakey', 'Bledsoe', 'Blesing', 'Bligh', 'Blinova', 'Blue', 'Bluett', 'Boag', 'Boan', 'Board', 'Bobrov', 'Bocharova', 'Bochsa', 'Bock', 'Bogdanov', 'Bogdanova', 'Bogle', 'Bogolyubov', 'Bogolyubova', 'Bold', 'Bolton', 'Bond', 'Bonham', 'Boni', 'Boniwell', 'Bonwick', 'Boone', 'Booth', 'Boothby', 'Borchgrevink', 'Bottrill', 'Botts', 'Boucaut', 'Boulger', 'Bovee', 'Bowen', 'Bowhay', 'Bowman', 'Boyd', 'Boylan', 'Boyle', 'Bozeman', 'Brabyn', 'Bracewell', 'Bradbury', 'Bradley', 'Bradshaw', 'Brady', 'Bray', 'Brazenor', 'Bremer', 'Brenan', 'Brennan', 'Brewer', 'Brient', 'Brierly', 'Briggs', 'Brigstocke', 'Brim', 'Brizendine', 'Broadhurst', 'Brock', 'Brodney', 'Bromby', 'Bromley', 'Bronner', 'Brookes', 'Brookman', 'Brooks', 'Brothers', 'Brown', 'Browne', 'Brownless', 'Brownlow', 'Bruce', 'Bruche', 'Bruner', 'Bruno', 'Bruny', 'Bryan', 'Bryant', 'Buccho', 'Buchanan', 'Buchi', 'Buckland', 'Buckley', 'Buckner', 'Buda', 'Buddicom', 'Bufkin', 'Builder', 'Bukowski', 'Buley', 'Bulgakov', 'Bull', 'Bullen', 'Bunton', 'Burbidge', 'Burdekin', 'Burfitt', 'Burgess', 'Burgin', 'Burgmann', 'Burgos', 'Burgoyne', 'Burke', 'Burlingame', 'Burn', 'Burns', 'Burrows', 'Burson', 'Burt', 'Burtch', 'Burton', 'Bushell', 'Bustard', 'Butcher', 'Butler', 'Buttenshaw', 'Butters', 'Butusov', 'Bykov', 'Byrne', 'Caffyn', 'Cairns', 'Calabrese', 'Calabresi', 'Caldwell', 'Calzada', 'Cambage', 'Cameron', 'Campa', 'Campbell', 'Campos', 'Candler', 'Cantamessa', 'Cantrell', 'Capon', 'Carandini', 'Caraway', 'Cardell', 'Cardus', 'Carey', 'Carlson', 'Carpenter', 'Carr', 'Carroll', 'Carruthers', 'Carslaw', 'Cartagena', 'Carter', 'Cartwright', 'Carvosso', 'Cary', 'Cashin', 'Castella', 'Castiglione', 'Castillo', 'Castles', 'Castro', 'Catchpole', 'Cattaneo', 'Cavenagh', 'Cavill', 'Cawker', 'Cawood', 'Cawthorne', 'Cayley', 'Cecil', 'Celis', \"Ch'ang\", \"Ch'en\", \"Ch'eng\", \"Ch'ien\", \"Ch'in\", \"Ch'iu\", 'Chadwick', 'Challis', 'Chalmers', 'Chamberlain', 'Chamberlin', 'Chambers', 'Champion', 'Chan', 'Chandler', 'Chang', 'Chao', 'Chapman', 'Charlton', 'Charteris', 'Chase', 'Chatfield', 'Cheatham', 'Chen', 'Cheng', 'Cherkasova', 'Chesnokova', 'Chester', 'Chia', 'Chiabuotu', 'Chiagoziem', 'Chialuka', 'Chiang', 'Chiawuotu', 'Chiazagomekpele', 'Chiazagomekpere', 'Chibueze', 'Chibugo', 'Chibuzo', 'Chidalu', 'Chidi', 'Chidiebele', 'Chidiebere', 'Chidiegwu', 'Chidimma', 'Chidozie', 'Chidubem', 'Chidumaga', 'Chiebuka', 'Chiedozie', 'Chiefo', 'Chiekwugo', 'Chieloka', 'Chiemeka', 'Chiemela', 'Chiemenam', 'Chiemezie', 'Chien', 'Chienezie', 'Chifley', 'Chifo', 'Chiganu', 'Chigbogu', 'Chigolum', 'Chigozie', 'Chijindum', 'Chijioke', 'Chikelu', 'Chikere', 'Chikezie', 'Chikwado', 'Chikwendu', 'Childs', 'Chill', 'Chimaijem', 'Chimaobim', 'Chimaoke', 'Chimaraoke', 'Chimezie', 'Chin', 'Chinagorom', 'Chinedum', 'Chineze', 'Chinomso', 'Chinonyelum', 'Chinweike', 'Chinwemma', 'Chinwendu', 'Chinwenma', 'Chinweuba', 'Chioke', 'Chiu', 'Chiwetelu', 'Chizoba', 'Chizuoke', 'Chong', 'Chou', 'Christian', 'Christie', 'Christmas', 'Christopher', 'Chu', 'Chuang', 'Chubb', 'Chukwualuka', 'Chukwubuikem', 'Chukwudi', 'Chukwuebuka', 'Chukwueloka', 'Chukwuemeka', 'Chukwufumnanya', 'Chukwuhaenye', 'Chukwujamuike', 'Chukwujekwu', 'Chukwukadibia', 'Chukwukere', 'Chukwuma', 'Chukwumaobim', 'Chukwunonso', 'Chukwuraenye', 'Chung', 'Chuter', 'Cisneros', 'Claiborne', 'Clamp', 'Clancy', 'Clapp', 'Clark', 'Clarke', 'Claypool', 'Clayton', 'Clements', 'Clendinnen', 'Cleveland', 'Clifton', 'Clogstoun', 'Clunie', 'Coates', 'Cobb', 'Coburn', 'Cocci', 'Cochran', 'Cockett', 'Cockrum', 'Cody', 'Coffee', 'Coffey', 'Coffman', 'Cohn', 'Colbert', 'Cole', 'Colebatch', 'Coleman', 'Coles', 'Collee', 'Collier', 'Collingridge de Tourcey', 'Collins', 'Colman', 'Colombo', 'Colon', 'Combes', 'Combs', 'Compton', 'Cone', 'Congreve', 'Connely', 'Connolly', 'Connor', 'Conti', 'Converse', 'Conway', 'Cook', 'Cooke', 'Cookson', 'Coombes', 'Cooper', 'Copeland', 'Coppin', 'Corbett', 'Corby', 'Corones', 'Corran', 'Corrie', 'Corser', 'Corson', 'Costa', 'Coupp', 'Cousens', 'Cover', 'Cowen', 'Cowger', 'Cox', 'Crace', 'Craig', 'Craigie', 'Cran', 'Crawford', 'Creel', 'Cremin', 'Cremonesi', 'Creswell', 'Cribb', 'Crist', 'Crocker', 'Cross', 'Crotty', 'Crowther', 'Crumbley', 'Crump', 'Cruz', 'Culbreth', 'Cullen', 'Cumbrae-Stewart', 'Cummins', 'Cunningham', 'Curnow', 'Currey', 'Curtis', 'Custance', 'Cyril', 'Czajkowski', \"D'Albertis\", 'Dahlenburg', 'Daigle', 'Dale', 'Dalrymple', 'Dalton', 'Daluchi', 'Daly', 'Dancy', 'Daniels', 'Dann', 'Darling', 'Darwin', 'Davey', 'David', 'Davide', 'Davidson', 'Davies', 'Davila', 'Davis', 'Davison', 'Davy', 'Davydova', 'Dawkins', 'Dawson', 'Day', 'De Bernales', 'De Garis', 'De Luca', 'De Mestre', 'De Neeve', 'De Salis', 'DeRose', 'Dean', 'Debellis', 'Defalco', 'Degtyarev', 'Degtyaryov', 'Deleon', 'Dellucci', 'Demaine', 'Demidov', 'Demuth', 'Denisov', 'Denisova', 'Denman', 'Dennis', 'Dennys', 'Descoteaux', 'Despeissis', 'Dettmann', 'Diaz', 'Dickinson', 'Dickson', 'Diehl', 'Dietz', 'Diggs', 'Dike', 'Dilibe', 'Dilke', 'Dillon', 'Dimauro', 'Dipietro', 'Diribe', 'Disher', 'Distefano', 'Dixon', 'Dobbs', 'Dobie', 'Dobson', 'Docherty', 'Dodd', 'Dodds', 'Dodgshun', 'Doherty', 'Dolgorukova', 'Dominguez', 'Donaghy', 'Donahue', 'Donaldson', 'Donnelly', 'Donoghue', 'Dore', 'Douglas', 'Downer', 'Downie', 'Dowse', 'Doyle', 'Doyne', 'Drake', 'Drake-Brockman', 'Drakeford', 'Dreyer', 'Drury', 'Du Cane', 'Dubinina', 'Duffy', 'Dufresne', 'Duggan', 'Duigan', 'Duke', 'Dulhunty', 'Dumetochukwu', 'Dumetolisa', 'Dumolo', 'Dunbabin', 'Duncan', 'Dunn', 'Durant', 'Dwyer', 'Dyer', 'Dynon', 'Dyson', 'Eames', 'Earl', 'Earle', 'Ebelechukwu', 'Ebelegbulam', 'Eberechukwu', 'Eberegbulam', 'Echezonachukwu', 'Ecuyer', 'Eddy', 'Edgar', 'Edith', 'Edman', 'Edments', 'Edmondson', 'Edmondstone', 'Edmund la Touche', 'Edwards', 'Efimov', 'Efremov', 'Efremova', 'Egobudike', 'Eidson', 'Eiland', 'Eipper', 'Ejikemeifeuwa', 'Ejimofor', 'Ekechukwu', 'Ekwueme', 'Elder', 'Elewechi', 'Elizabeth', 'Elkins', 'Elliot', 'Elliott', 'Ellis', 'Elmore', 'Eluemuno', 'Emenike', 'Emery', 'Enderby', 'Endrizzi', 'Enemuo', 'Enriquez', 'Enticknap', 'Enyinnaya', 'Eremenko', 'Ermakov', 'Ermakova', 'Ershova', 'Erskine', 'Ervin', 'Eskridge', 'Esomchi', 'Espinosa', 'Esposito', 'Esquivel', 'Estep', 'Estes', 'Estrada', 'Etheridge', 'Eva', 'Evans', 'Evdokimov', 'Eve', 'Everett', 'Everingham', 'Evseev', 'Evseyev', 'Ewen', 'Ewers', 'Ewing', 'Fabro', 'Fadden', 'Fairley', 'Fallaci', 'Fan', 'Fancher', 'Fane', 'Fang', 'Fantin', 'Fanucci', 'Farber', 'Faria', 'Farmer', 'Farnsworth', 'Farrar', 'Farrell', 'Faulk', 'Faulkner', 'Favors', 'Fedorov', 'Fedorova', 'Feetham', 'Felix', 'Feng', 'Fennell', 'Fennescey', 'Fenton', 'Ferdinand', 'Ferguson', 'Fermin', 'Fernandez', 'Fernando', 'Fernie', 'Ferrari', 'Ferreira', 'Ferri', 'Fetherstonhaugh', 'Field', 'Fielding', 'Fields', 'Finch', 'Findlay', 'Fink', 'Fiore', 'Fiorentini', 'Fiorentino', 'Fischer', 'Fishbourne', 'Fisher', 'Fisk', 'Fitch', 'Fitts', 'Fitzgerald', 'Fitzpatrick', 'Flannagan', 'Flannery', 'Fleetwood-Smith', 'Fleming', 'Flemming', 'Fletcher', 'Flores', 'Floyd', 'Flynn', 'Fokina', 'Fokine', 'Foley', 'Folliero', 'Fomin', 'Fomina', 'Fontaine', 'Fontenot', 'Foran', 'Forbes', 'Ford', 'Forlonge', 'Forster', 'Forwood', 'Foster', 'Foveaux', 'Fowler', 'Fox', 'Foxall', 'Francis', 'Frankland', 'Franklin', 'Franz', 'Fraser', 'Frater', 'Frederick', 'Frederickson', 'Freeman', 'French', 'Frewin', 'Fries', 'Froggatt', 'Frolov', 'Frolova', 'Frost', 'Frye', 'Fu', 'Fulks', 'Fuller', 'Fullwood', 'Fulton', 'Furneaux', 'Fyans', 'Fyodorov', 'Fyodorova', 'Gadsden', 'Gadsdon', 'Gaffney', 'Galgano', 'Galkin', 'Galkina', 'Gallagher', 'Gallo', 'Gallop', 'Galloway', 'Gamble', 'Gambrell', 'Game', 'Gannon', 'Gant', 'Garcia', 'Gardener', 'Gardiner', 'Gardner', 'Garland', 'Garmon', 'Garner', 'Garnsey', 'Garran', 'Garrett', 'Gartrell', 'Gay', 'Gboliwe', 'Geach', 'Gearhart', 'Gearheart', 'Gebhart', 'Gell', 'Genovese', 'Genovesi', 'Gentry', 'Geoghegan', 'Georg', 'George', 'Gerald', 'Gerasimov', 'Gerasimova', 'Gether', 'Gibbons', 'Gibbs', 'Gibney', 'Gibson', 'Gidney', 'Gilbert', 'Gilchrist', 'Giles', 'Gill', 'Gilleland', 'Gilroy', 'Ginikanwa', 'Ginn', 'Giordano', 'Glasgow', 'Glassman', 'Glauert', 'Glazkov', 'Gleeson', 'Glennon', 'Glenny', 'Glossop', 'Glover', 'Goddard', 'Godfrey', 'Godson', 'Goering', 'Goforth', 'Golibe', 'Goliwe', 'Goloubev', 'Golovanov', 'Golubev', 'Golubeva', 'Golubov', 'Golubova', 'Gomes', 'Gonzalez', 'Goodman', 'Goodwin', 'Goold', 'Gorbunov', 'Gorbunova', 'Gordon', 'Gorman', 'Gorshkov', 'Gosnell', 'Gotch', 'Gouger', 'Gough', 'Gould', 'Gow', 'Graham', 'Grant', 'Gratton', 'Gratwick', 'Grave', 'Gray', 'Greathouse', 'Greaves', 'Greco', 'Greece', 'Green', 'Greene', 'Greenhalgh', 'Greenwalt', 'Greenwood', 'Greeves', 'Gregory', 'Gregson', 'Gresswell', 'Grieve', 'Griffen', 'Griffin', 'Griffiths', 'Grigoryeva', 'Grimmett', 'Groom', 'Grosse', 'Grover', 'Groves', 'Grubb', 'Guerin', 'Guerra', 'Guidry', 'Gunson', 'Gunter', 'H?', 'Hackett', 'Haddon', 'Hagins', 'Hairston', 'Hajek', 'Hale', 'Hales', 'Hall', 'Hallahan', 'Halpern', 'Ham', 'Hamilton', 'Hammer', 'Hammond', 'Hammonds', 'Hampton', 'Han', 'Hancock', 'Hand', 'Hankinson', 'Hanna', 'Hannaford', 'Hannah', 'Hannam', 'Hansen', 'Hanson', 'Hao', 'Hardacre', 'Hardiman', 'Harding', 'Hardy', 'Hare', 'Harewood', 'Hargrave', 'Hargraves', 'Hargreaves', 'Harker', 'Harper', 'Harrell', 'Harriman', 'Harrington', 'Harris', 'Harrison', 'Hart', 'Hartley', 'Hartung', 'Hartzler', 'Harvey', 'Hassall', 'Haugh', 'Hawdon', 'Hawes', 'Hawkins', 'Hawks', 'Haworth', 'Hawthorn', 'Hay', 'Hayden', 'Hayes', 'Hayes-Williams', 'Haynes', 'Hayslett', 'Hayward', 'Hazon', 'He', 'Heap', 'Heard', 'Hearn', 'Heath', 'Hebert', 'Helena', 'Heller', 'Henderson', 'Hendley', 'Hendrick', 'Henning', 'Henry', 'Henty', 'Herbert', 'Hernandez', 'Herrera', 'Herrin', 'Herring', 'Herz', 'Hess', 'Hewitt', 'Heydon', 'Hibbins', 'Hickey', 'Hicks', 'Higgins', 'Highett', 'Highland', 'Hightower', 'Higinbotham', 'Hill', 'Hilton', 'Hingston', 'Hinton', 'Hirst', 'Hixson', 'Ho', 'Hobbs', 'Hobler', 'Hobson', 'Hodge', 'Hodgson', 'Hoelscher', 'Holbrook', 'Holden', 'Holder', 'Holland', 'Hollis', 'Holloway', 'Holman', 'Holmes', 'Holmwood', 'Holt', 'Honore', 'Hooker', 'Hoolan', 'Hooper', 'Hope', 'Hopetoun', 'Hopkins', 'Hopman', 'Hopwood', 'Horan', 'Hornung', 'Horrocks', 'Horsfall', 'Horsley', 'Hort', 'Horton', 'Hotchin', 'Hou', 'Houghton', 'Hovell', 'Howard', 'Howarde', 'Howarth', 'Howe', 'Howell', 'Howell-Price', 'Howells', 'Howey', 'Hs?', 'Hs?eh', 'Hsia', 'Hsiao', 'Hsieh', 'Hsing', 'Hsiung', 'Hsu', 'Hsueh', 'Hu', 'Huang', 'Huddart', 'Hudson', 'Huggins', 'Hughes', 'Hughes-Jones', 'Huguley', 'Huie', 'Hull', 'Humffray', 'Humphreys', 'Humphries', 'Hung', 'Hunt', 'Hunter', 'Hurst', 'Hussain', 'Hussey', 'Hutcheon', 'Hutchinson', 'Hyde', 'Hysell', 'Iadanza', 'Ibbott', 'Ibeabuchi', 'Ibeamaka', 'Ibekwe', 'Ibezimako', 'Ibragimova', 'Ibrahimov', 'Ibrahimova', 'Ifeajuna', 'Ifeanacho', 'Ifeanyichukwu', 'Ifeatu', 'Ifesinachi', 'Ignatieff', 'Ignatiev', 'Ignatyev', 'Ignatyeva', 'Igwebuike', 'Iheanacho', 'Iheatu', 'Ijendu', 'Ikechukwu', 'Ikedinachukwu', 'Ikemefuna', 'Ikenna', 'Illingworth', 'Iloabuchi', 'Iloerika', 'Ilyina', 'Ingamells', 'Ingle', 'Ingram', 'Ingrassia', 'Inman', 'Innes', 'Iqbal', 'Iredale', 'Ireland', 'Iroawuchi', 'Isaacs', 'Isayev', 'Isayeva', 'Istomin', 'Ives', 'Iweobiegbulam', 'Iweobiegbunam', 'Izmailov', 'Izmailova', 'Izuchukwu', 'Jack', 'Jacka', 'Jackson', 'James', 'Jamieson', 'Jamison', 'Jara', 'Jarvis', 'Jefferies', 'Jefferson', 'Jeffrey', 'Jen', 'Jenkins', 'Jenks', 'Jennings', 'Jensen', 'Jerger', 'Jess', 'Jessop', 'Jibunoh', 'Jideofor', 'Jimenez', 'Jobson', 'John', 'Johnson', 'Johnston', 'Johnstone', 'Jolly', 'Jonathan', 'Jones', 'Jordan', 'Jose', 'Joseph', 'Joshua', 'Joslin', 'Jowers', 'Jowett', 'Judd', 'Jude', 'Justice', \"K'ung\", 'K?', 'Kable', 'Kaeppel', 'Kaleski', 'Kalinin', 'Kalinina', 'Kambinachi', 'Kamdibe', 'Kanayochukwu', 'Kane', 'Kang', 'Kao', 'Kaodilinakachukwu', 'Kapustin', 'Kapustina', 'Kashiwagi', 'Kauffmann', 'Kaur', 'Kay', 'Kazakova', 'Kazantsev', 'Kazantseva', 'Keane', 'Keating', 'Keeley', 'Keen', 'Kegley', 'Keldie', 'Kelechi', 'Kelley', 'Kellway', 'Kelly', 'Kemp', 'Kendall', 'Kenechi', 'Kenechukwu', 'Kenenna', 'Kennedy', 'Kenniff', 'Kent', 'Kentish', 'Kenyon', 'Kepley', 'Kerr', 'Kershaw', 'Kesteven', 'Khan', 'Kharitonova', 'Kharlamov', 'Kharlamova', 'Kibble', 'Kibby', 'Kiernan', 'Kilgour', 'Kincaid', 'Kinder', 'King', 'Kingsley', 'Kinlaw', 'Kinney', 'Kirby', 'Kirillov', 'Kirillova', 'Kirk', 'Kirkland', 'Kirsova', 'Kirwan', 'Kisch', 'Kistler', 'Klein', 'Kline', 'Knepper', 'Knight', 'Knipe', 'Knorr', 'Knowles', 'Knox', 'Knupp', 'Ko', 'Koch', 'Kodilinyechukwu', 'Koehler', 'Koger', 'Kolesnikov', 'Kolesnikova', 'Komar', 'Komarova', 'Konovalova', 'Koo', 'Korff', 'Kornilova', 'Korovin', 'Korovina', 'Kosisochukwu', 'Kosovich', 'Kovalev', 'Kovaleva', 'Kovalyov', 'Kovalyova', 'Kozlova', 'Kramer', 'Krawczyk', 'Krichauff', 'Krischock', 'Kruglov', 'Kruglova', 'Krylov', 'Kryukov', 'Kryukova', 'Ku', 'Kudryashova', 'Kulikova', 'Kumm', 'Kung', 'Kuo', 'Kuykendall', 'Kuznetsova', 'Kwemto', 'Kwemtochukwu', 'L?', 'Lablanc', 'Labrador', 'Lacross', 'Lafleur', 'Lahti', 'Lai', 'Laidley', 'Lajoie', 'Lamb', 'Lambert', 'Lambie', 'Lamble', 'Lampungmeiua', 'Landman', 'Landor', 'Landry', 'Landseer', 'Lane', 'Laney', 'Lanford', 'Lang', 'Langdon', 'Lange', 'Langlands', 'Langler', 'Lappin', 'Larionova', 'Larkin', 'Larsen', 'Larson', 'Lascelles', 'Lassetter', 'Lattimore', 'Laura', 'Laurens', 'Laurie', 'Lavarack', 'Lavine', 'Lavrentiev', 'Lavrentyev', 'Lavrov', 'Law', 'Lawless', 'Lawley', 'Lawrence', 'Lawson', 'Lay', 'Layh', 'Lazar', 'Lazarev', 'Lazareva', 'Le Gallienne', 'Le Grand', 'Le Hunte', 'Lea', 'Leach', 'Leak', 'Lear', 'Learmonth', 'Leason', 'Leckie', 'Lederer', 'Ledford', 'Lee', 'Lees', 'Lehr', 'Lei', 'Leibius', 'Lenhardt', 'Lennox', 'Leonard', 'Lettiere', 'Levan', 'Levi', 'Levien', 'Levy', 'Lewis', 'Leworthy', 'Li', 'Li Fonti', 'Liang', 'Liao', 'Liardet', 'Liebe', 'Light', 'Lilly', 'Lim', 'Lin', 'Lindell', 'Lindeman', 'Lindon', 'Lindsay', 'Linger', 'Linton', 'Lionel', 'Lipton', 'Lira', 'Liston', 'Little', 'Liu', 'Lloyd', 'Lo', 'Lo Duca', 'Loane', 'Lock', 'Locke', 'Lockett', 'Lockington', 'Lockyer', 'Loewenthal', 'Loftus', 'Logan', 'Loggia', 'Loginov', 'Logue', 'Lombardi', 'Lombardo', 'Long', 'Longo', 'Longstaff', 'Lopez', 'Lord', 'Lorenzen', 'Lorenzo', 'Lori', 'Lorimer', 'Loton', 'Louis', 'Lovely', 'Loving', 'Lowe', 'Lowell', 'Lowrie', 'Loyau', 'Lu', 'Lucas', 'Lucchese', 'Lucchesi', 'Lucciano', 'Ludowici', 'Lueck', 'Luffman', 'Lujan', 'Lumholtz', 'Lung', 'Lupton', 'Lynch', 'Lynton', 'Lyons', 'Lysaght', 'Ma', 'MacDevitt', 'MacDonald', 'MacDonnell', 'MacPherson', 'Macadam', 'Macarthur', 'Macartney', 'Maccallum', 'Macdonald', 'Macfarlan', 'Macgroarty', 'Mach', 'Macintyre', 'Mack', 'Mackay', 'Mackenzie', 'Mackey', 'Mackie', 'Mackinlay', 'Macknight', 'Maclean', 'Macleod', 'Macnamara', 'Maconochie', 'Macrossan', 'Mactier', 'Macvitie', 'Madison', 'Maduabuchim', 'Madueke', 'Madukaego', 'Madukaife', 'Madukwe', 'Maggard', 'Maher', 'Mahmood', 'Mahomed', 'Mahon', 'Mai', 'Mairinger', 'Maitland', 'Major', 'Malloy', 'Mamelu', 'Mancini', 'Manfrin', 'Mann', 'Manna', 'Manners', 'Manning', 'Mansom', 'Mao', 'Marcelo', 'Marchesi', 'Marcum', 'Marcus', 'Marian', 'Marino', 'Mario', 'Marks', 'Marquez', 'Marrero', 'Marsden', 'Marsh', 'Marshall', 'Marshall-Hall', 'Martel', 'Martin', 'Martinez', 'Maruff', 'Mashman', 'Maslov', 'Maslova', 'Maslow', 'Mason', 'Massie', 'Mathews', 'Matlock', 'Matthews', 'Matthias', 'Matveyev', 'Matveyeva', 'Maughan', 'Mauldon', 'Mault', 'Maurer', 'Maxwell', 'May', 'Maynard', 'Mayne', 'Mayrhofer', 'Mays', 'Mazure', 'Mazzanti', 'Mazzi', 'Mbadiwe', 'Mbanefo', 'McBurney', 'McCaffrey', 'McCall', 'McCane', 'McCardle', 'McCarthy', 'McCartney', 'McCawley', 'McChesney', 'McClaran', 'McClemans', 'McClinton', 'McCollum', 'McConnell', 'McCulloch', 'McDaniels', 'McDavid', 'McDonald', 'McDowell', 'McElhone', 'McElroy', 'McElyea', 'McEncroe', 'McEwan', 'McFarland', 'McGarry', 'McGill', 'McGregor', 'McGuffog', 'McGuigan', 'McGuirk', 'McIntosh', 'McIntyre', 'McIver', 'McKay', 'McKee', 'McKelvey', 'McKenzie', 'McKinley', 'McKinnon', 'McKissick', 'McLachlan', 'McLean', 'McMasters', 'McMillan', 'McMinn', 'McMorran', 'McNaughtan', 'McNeil', 'McNeill', 'McNess', 'McVey', 'McWilliam', 'McWilliams', 'Mead', 'Meagher', 'Meany', 'Medland', 'Medvedev', 'Medvedeva', 'Meldrum', 'Melendez', 'Mello', 'Mellor', 'Melton', 'Melvin', 'Mendes', 'Meng', 'Menhennitt', 'Menkens', 'Meredith', 'Merrett', 'Messersmith', 'Metcalf', 'Metcalfe', 'Miah', 'Micco', 'Michael', 'Michel', 'Michelides', 'Mickey', 'Micklem', 'Middleton', 'Mikkelsen', 'Milanesi', 'Milani', 'Milano', 'Miles', 'Millar', 'Miller', 'Milligan', 'Milliner', 'Mills', 'Milne', 'Miracle', 'Mirams', 'Miranda', 'Mironov', 'Mironova', 'Mishin', 'Mishina', 'Mistry', 'Mitchel', 'Mitchell', 'Moen', 'Moffitt', 'Mofflin', 'Molineux', 'Molle', 'Mollison', 'Monaldo', 'Monds', 'Monnier', 'Montague', 'Montalvo', 'Montemayor', 'Montes', 'Montgomery', 'Moody', 'Moon', 'Moore', 'Morales', 'Moran', 'Morant', 'Mordvinova', 'More', 'Morehead', 'Moreno', 'Moretti', 'Morey', 'Morgan', 'Morin', 'Morley', 'Moroney', 'Morphett', 'Morres', 'Morrice', 'Morris', 'Morrison', 'Mort', 'Morton', 'Moseley', 'Mosley', 'Mosman', 'Moss', 'Mott', 'Mountgarrett', 'Mouzon', 'Moyes', 'Moysey', 'Muecke', 'Mueller', 'Muir', 'Muldrow', 'Mullah', 'Mullan', 'Mullawirraburka', 'Mullen', 'Mundy', 'Munro', 'Munroe', 'Munson', 'Munz', 'Muomelu', 'Muramats', 'Muravyov', 'Muravyova', 'Muriel', 'Murphy', 'Murray', 'Muse', 'Musgrove', 'Myers', 'Nagy', 'Nakayama', 'Namatjira', 'Napolitani', 'Napolitano', 'Naquin', 'Narelle', 'Nash', 'Navarrete', 'Naylor', 'Nazarova', 'Ndubuagha', 'Ndubueze', 'Ndubuisi', 'Ndukaku', 'Neal', 'Nebechi', 'Nebechukwu', 'Nebeolisa', 'Nebeuwa', 'Neitenstein', 'Nekrasov', 'Nekrasova', 'Nelson', 'Nepean', 'Nero', 'Neumann', 'Neumayer', 'Nevels', 'Nevzorova', 'Newbery', 'Newbold', 'Newland', 'Newman', 'Newsom', 'Newton', 'Ngozichukwuka', 'Ni', 'Nicholas', 'Nicholls', 'Nicholson', 'Nickson', 'Nicolay', 'Nicoll', 'Niehaus', 'Nielson', 'Nieves', 'Nikitina', 'Nina', 'Niu', 'Nixon', 'Nkemakolam', 'Nkemakonam', 'Nkemdilim', 'Nkemdirim', 'Nkemjika', 'Nnabuife', 'Nnachetam', 'Nnaemeka', 'Nnaife', 'Nnamdi', 'Nnamutaezinwa', 'Nnanna', 'Nnonso', 'Noble', 'Nock', 'Nolan', 'Norman', 'Norris', 'Norriss', 'North', 'Northern', 'Northey', 'Norton', 'Nott', 'Nucci', 'Nuttall', 'Nwabugwu', 'Nwachinemelu', 'Nwachukwu', 'Nwagugheuzo', 'Nwankwo', 'Nwebube', 'Nweke', 'Nwokeocha', 'Nwokezuike', 'Nwokike', 'Nwora', 'Nworie', 'Nwoye', 'Nyhan', \"O'Brien\", \"O'Callaghan\", \"O'Connor\", \"O'Donnell\", \"O'Kane\", \"O'Loghlen\", \"O'Loghlin\", \"O'Loughlin\", \"O'Meara\", \"O'Neill\", \"O'Sullivan\", \"O'Toole\", 'Obiajulu', 'Obialo', 'Obidimkpa', 'Obielumani', 'Obijiaku', 'Obinna', 'Obioma', 'Obiora', 'Obiuto', 'Ochoa', 'Odell', 'Odili', 'Odinakachukwu', 'Ofodile', 'Ogbonnaya', 'Ogg', 'Ogle', 'Ogochukwu', 'Oguejiofor', 'Ohearn', 'Ojiofor', 'Okagbue', 'Okechukwu', 'Okeke', 'Okoli', 'Okonkwo', 'Okorie', 'Okwuadigbo', 'Okwudilichukwu', 'Okwudiliolisa', 'Okwukwe', 'Okwuoma', 'Olague', 'Oldham', 'Oleary', 'Olejuru', 'Olisaemeka', 'Olisanugo', 'Oliver', 'Olsen', 'Olson', 'Olszewski', 'Oluchi', 'Oluchukwu', 'Omeokachie', 'Onio', 'Onochie', 'Onodugoadiegbemma', 'Onuchukwu', 'Onuoha', 'Onuora', 'Onwuamaegbu', 'Onwuamaeze', 'Onwuatuegwu', 'Onwubiko', 'Onwudiwe', 'Onwuemelie', 'Onwughara', 'Onwuka', 'Onwumelu', 'Onyekachi', 'Onyekachukwu', 'Onyekaozulu', 'Onyemachukwu', 'Onyemaechi', 'Onyemauchechi', 'Onyemauchechukwu', 'Onyemere', 'Onyenachiya', 'Onyeorulu', 'Onyeoruru', 'Onyinyechukwuka', 'Osborne', 'Osinachi', 'Ositadimma', 'Osonduagwuike', 'Osorio', 'Oster', 'Otitodilichukwu', 'Otitodilinna', 'Otoole', 'Otutodilichukwu', 'Otutodilinna', 'Outhwaite', 'Outlaw', 'Outtrim', 'Overby', 'Owen', 'Owens', 'Ozerova', 'Ozioma', 'Ozoemena', 'Ozuluonye', \"P'an\", \"P'eng\", 'Pacheco', 'Packham', 'Padilla', 'Padovano', 'Padovesi', 'Pagan', 'Page', 'Pagnotto', 'Pai', 'Palazzi', 'Palerma', 'Palermo', 'Palfreyman', 'Paling', 'Palmer', 'Palmerston', 'Pan', 'Panicucci', 'Panina', 'Pankhurst', 'Pape', 'Paramor', 'Pardey', 'Parker', 'Parkes', 'Parkhill', 'Parkin', 'Parkinson', 'Parks', 'Parrott', 'Parry', 'Parry-Okeden', 'Parsons', 'Patel', 'Paten', 'Paterson', 'Patrick', 'Patterson', 'Pauley', 'Pavlova', 'Payne', 'Payton', 'Peacock', 'Pearce', 'Pearson', 'Pease', 'Peavy', 'Peck', 'Pedder', 'Peel', 'Pendergrass', 'Pendred', 'Peng', 'Pennington', 'Pepper', 'Peppin', 'Percy', 'Perez', 'Perkin', 'Perkins', 'Perreault', 'Perrodin', 'Perry', 'Persse', 'Pethard', 'Pettit', 'Pettry', 'Peyser', 'Pham', 'Pharr', 'Phelan', 'Phelps', 'Philip', 'Philipp', 'Phillipps', 'Phillips', 'Piazza', 'Piccio', 'Pickering', 'Pickworth', 'Picot', 'Pike', 'Pino', 'Pinto', 'Pipes', 'Pirogov', 'Pirogova', 'Pirozzi', 'Pisani', 'Pisano', 'Pitcher', 'Pitts', 'Plant', 'Plascencia', 'Plumb', 'Plummer', 'Pokrovskaya', 'Pokrovskii', 'Pokrovsky', 'Pollard', 'Polyakov', 'Polyakova', 'Pomeroy', 'Ponce', 'Poninski', 'Ponomarev', 'Ponomaryov', 'Ponomaryova', 'Poole', 'Pope', 'Porter', 'Postle', 'Potter', 'Pottinger', 'Potts', 'Powell', 'Power', 'Praed', 'Pratt', 'Preston', 'Price', 'Priestley', 'Pritchard', 'Prokhorova', 'Pruneda', 'Pugh', 'Pugliesi', 'Purdy', 'Pye', 'Quaife', 'Quesada', 'Quezada', 'Quinn', 'Quinones', 'Radcliffe-Brown', 'Raff', 'Rahman', 'Ramirez', 'Ramos', 'Ramsbotham', 'Ramsden', 'Ramsey', 'Randall', 'Randell', 'Randolph', 'Rapuluchukwu', 'Rapuluolisa', 'Rapuokwu', 'Ratten', 'Rawling', 'Rawlings', 'Raymond', 'Raynor', 'Read', 'Reagan', 'Real', 'Rearick', 'Rechner', 'Redding', 'Reed', 'Rees', 'Reeves', 'Reichard', 'Reid', 'Reilly', 'Remington', 'Rendall', 'Rene', 'Renwick', 'Repina', 'Reppert', 'Retana', 'Revell', 'Reye', 'Reyes', 'Reyna', 'Reynolds', 'Rhodes', 'Ricci', 'Rice', 'Richards', 'Richardson', 'Richmond', 'Rickard', 'Rickards', 'Riddle', 'Ridley', 'Rieke', 'Riggs', 'Riley', 'Ringrose', 'Rios', 'Rioux', 'Rippey', 'Rischbieth', 'Rishel', 'Rita', 'Ritchie', 'Rivas', 'Rivera', 'Rivero', 'Rivers', 'Rizzo', 'Robb', 'Robe', 'Roberts', 'Robertson', 'Robinson', 'Robson', 'Rocher', 'Rodriguez', 'Rogers', 'Rogova', 'Rohu', 'Rolon', 'Romani', 'Romano', 'Romeo', 'Romero', 'Romilly', 'Rooke', 'Root', 'Rosas', 'Rose', 'Ross', 'Ross-Watt', 'Rossi', 'Rounsevell', 'Rouse', 'Rowe', 'Rowland', 'Rowley', 'Rowntree', 'Royster', 'Royston', 'Rozhkova', 'Rozier', 'Rubensohn', 'Rubeo', 'Rubin', 'Rudd', 'Rudduck', 'Rueda', 'Ruggiero', 'Ruiz', 'Runyon', 'Ruse', 'Russell', 'Russo', 'Ruth', 'Rutherford', 'Rutledge', 'Ryan', 'Ryrie', 'Saad', 'Sabbatini', 'Sacco', 'Sadler', 'Sadlier', 'Sagese', 'Sal', 'Salas', 'Salier', 'Salinas', 'Salmond', 'Salter', 'Samaniego', 'Samoylova', 'Samson', 'Samsonova', 'Samuel', 'Sanchez', 'Sandefur', 'Sanders', 'Sanderson', 'Sandover', 'Sanford', 'Sani', 'Santana', 'Santiago', 'Sargent', 'Sargood', 'Sarratt', 'Saunders', 'Sauve', 'Savage', 'Sawtell', 'Sazonova', 'Scannell', 'Schaffer', 'Schatz', 'Schiavone', 'Schmidt', 'Schnaars', 'Schneider', 'Schoenheimer', 'Schofield', 'Schroeder', 'Schwartz', 'Scott', 'Seabrook', 'Seccombe', 'Secombe', 'See', 'Seleznev', 'Selezneva', 'Seleznyov', 'Seleznyova', 'Sells', 'Selwyn', 'Semmens', 'Senior', 'Seppelt', 'Septimus', 'Serena', 'Sergeyev', 'Sergeyeva', 'Serra', 'Serrano', 'Service', 'Severson', 'Shaffer', 'Shah', 'Shahan', 'Shand', 'Shao', 'Sharp', 'Sharpe', 'Sharwood', 'Shaver', 'Shaw', 'Shcherbakov', 'She', 'Shearston', 'Sheehan', 'Sheets', 'Sheffield', 'Shelby', 'Shelton', 'Shen', 'Shephard', 'Shepherd', 'Shepherdson', 'Sheppard', 'Sherman', 'Sherrod', 'Shih', 'Shillito', 'Shipp', 'Shipton', 'Shoebridge', 'Sholes', 'Shoobridge', 'Short', 'Shubin', 'Shubina', 'Siciliani', 'Siciliano', 'Siddons', 'Sidorov', 'Sidorova', 'Sievier', 'Silva', 'Simmons', 'Simon', 'Simpkinson', 'Simpson', 'Sims', 'Sinclair', 'Singh', 'Singleton', 'Sinnett', 'Skelton', 'Skinner', 'Slate', 'Slater', 'Slattery', 'Sleeman', 'Slone', 'Slye', 'Small', 'Smalley', 'Smeaton', 'Smith', 'Sneddon', 'Snider', 'Soares', 'Sochima', 'Sokolov', 'Sokolova', 'Solomina', 'Solomon', 'Somadina', 'Somayina', 'Somerville', 'Sopuluchi', 'Sopuluchukwu', 'Sorenson', 'Sorokina', 'Soto', 'Soubeiran', 'Sousa', 'Souter', 'Sozonov', 'Sparks', 'Spaull', 'Spears', 'Speight', 'Spence', 'Spencer', 'Speth', 'Spinelli', 'Spitzer', 'Spring', 'Spyer', 'St Clair', 'Standish', 'Stange', 'Stanley', 'Stanton', 'Steele', 'Steen', 'Steere', 'Stehle', 'Steigrad', 'Steiner', 'Steinhoff', 'Stelzer', 'Stephens', 'Stephenson', 'Sternberg', 'Stetson', 'Stevens', 'Stevenson', 'Stewart', 'Stiger', 'Stiles', 'Stirling', 'Stobie', 'Stokes', 'Stone', 'Stonebraker', 'Stoneman', 'Storey', 'Stout', 'Stradford', 'Streeten', 'Streeter', 'Streeton', 'Sturdee', 'Sturt', 'Su', 'Suffolk', 'Sugden', 'Sukhorukova', 'Sullivan', 'Summers', 'Summerville', 'Sumrall', 'Sun', 'Sunderland', 'Sung', 'Sutherland', 'Sutton', 'Suttor', 'Swadling', 'Swaim', 'Swain', 'Swanson', 'Swanton', 'Swayne', 'Swearingen', 'Swift', 'Swinton', 'Sykes', 'Synnot', 'Szabados', \"T'an\", \"T'ang\", \"T'ao\", \"T'ien\", 'Tai', 'Takasuka', 'Talbot', 'Tan', 'Tang', 'Tao', 'Taplin', 'Tardent', 'Tate', 'Taubman', 'Taverner', 'Taylor', 'Teague', 'Teakle', 'Temple', 'Templeman', 'Teng', 'Tennant', 'Terry', 'Thao', 'Theus', 'Thomas', 'Thompson', 'Thomsen', 'Thomson', 'Thornton', 'Thorpe', 'Threatt', 'Thurgood', 'Thynne', 'Tien', 'Tikhonov', 'Tilley', 'Tillman', 'Timms', 'Timperley', 'Ting', 'Tinline', 'Tipton', 'Tisdall', 'Titheradge', 'Titus', 'To Rot', 'Tobenna', 'Tobeolisa', 'Tochukwu', 'Todd', 'Tokareva', 'Tokaryev', 'Tomlinson', 'Toomey', 'Toosey', 'Topp', 'Torkelson', 'Torode', 'Torreggiani', 'Torres', 'Toscani', 'Toscano', 'Toth', 'Townsend', 'Townsley', 'Traeger', 'Tran', 'Travis', 'Treacy', 'Trejo', 'Trentini', 'Trentino', 'Tretiakov', 'Tretiakova', 'Tretyakova', 'Trevascus', 'Trevisan', 'Trevisani', 'Trevisano', 'Trouette', 'Troupe', 'Trout', 'Trujillo', 'Trumbull', 'Truscott', \"Ts'ai\", \"Ts'ao\", \"Ts'ui\", 'Tsai', 'Tsao', 'Tseng', 'Tsou', 'Tsui', 'Tu', 'Tuan', 'Tucker', 'Tudawali', 'Tung', 'Turnbull', 'Tychonoff', 'Tyler', 'Tyndall', 'Ubanwa', 'Uchechukwu', 'Uchenna', 'Udegbulam', 'Udegbunam', 'Udinese', 'Udinesi', 'Udobata', 'Udokamma', 'Ugochukwu', 'Ugochukwutubelum', 'Ugoji', 'Ugonna', 'Ugonnatubelum', 'Ugorji', 'Ukaegbulam', 'Ukaegbunam', 'Ulyanov', 'Ulyanova', 'Unaipon', 'Unwin', 'Upchurch', 'Upjohn', 'Urban', 'Uren', 'Uspenskaya', 'Uspensky', 'Utz', 'Uvarov', 'Uvarova', 'Uwaezuoke', 'Uwakwe', 'Vachon', 'Vagin', 'Vaguine', 'Valdez', 'Vale', 'Valentin', 'Valenzuela', 'Vance', 'Vanmeter', 'Vanzetti', 'Vasiliev', 'Vasilieva', 'Vasilyev', 'Vasilyeva', 'Vasin', 'Vassiliev', 'Vavilov', 'Veale', 'Velazquez', 'Veltri', 'Venables', 'Verco', 'Verjus', 'Vessels', 'Vial', 'Vicars', 'Victor', 'Vida', 'Vidal', 'Vidler', 'Vigano', 'Vincent', 'Vinogradoff', 'Vinogradov', 'Vinogradova', 'Virgo', 'Vogel', 'Volkov', 'Volkova', 'Von Doussa', 'Vorobyova', 'Voronina', 'Voronkov', 'Voronoff', 'Voronova', 'Voss', 'Wade', 'Wagner', 'Wakelin', 'Walker', 'Walkom', 'Wall', 'Wallace', 'Wallis', 'Wallwork', 'Walpole', 'Walsh', 'Walters', 'Walton', 'Wan', 'Wang', 'Wanliss', 'Ward', 'Wardell', 'Wardle', 'Waring', 'Wark', 'Warlow-Davies', 'Warner', 'Warren', 'Waterhouse', 'Waters', 'Watkins', 'Watson', 'Watt', 'Watterston', 'Watts', 'Wayn', 'Wearing', 'Weatherford', 'Weaver', 'Webb', 'Weber', 'Webster', 'Wei', 'Weigel', 'Welch', 'Weller', 'Wells', 'Welsh', 'Wentcher', 'Wentworth-Shields', 'Wenz', 'Wertheim', 'West', 'Westerberg', 'Weston', 'Wetherspoon', 'Wheare', 'Wheeler', 'Whiddon', 'White', 'Whitehead', 'Whitehouse', 'Whitelegge', 'Whitfield', 'Whitson', 'Whittaker', 'Whitworth', 'Wickens', 'Wickham', 'Wieck', 'Wilder', 'Wilding', 'Wildman', 'Wiley', 'Wilhelm', 'Wilkes', 'Wilkie', 'Wilkins', 'Wilkinson', 'William', 'Williams', 'Williamson', 'Williford', 'Willis', 'Willmore', 'Willoughby', 'Wilsmore', 'Wilson', 'Wimble', 'Windradyne', 'Windsor', 'Winifred', 'Winn', 'Winter', 'Winter-Irving', 'Winters', 'Wisdom', 'Witt', 'Wofford', 'Wolfe', 'Wollstonecraft', 'Wong', 'Wood', 'Woodard', 'Woodhouse', 'Woods', 'Woodward', 'Woolacott', 'Woolnough', 'Woronoff', 'Worsnop', 'Wreford', 'Wright', 'Wu', 'Wunder', 'Wyatt', 'Wyckoff', 'Wynn', 'Wynne', 'Y?', 'Y?an', 'Yamamoto', 'Yancy', 'Yang', 'Yao', 'Yashina', 'Yates', 'Yeates', 'Yefimov', 'Yefimova', 'Yefremov', 'Yefremova', 'Yegorov', 'Yegorova', 'Yeh', 'Yelverton', 'Yen', 'Yermakov', 'Yermakova', 'Yermolayev', 'Yermolayeva', 'Yevdokimova', 'Yevseyev', 'Yewen', 'Yin', 'Yip', 'Yirawala', 'Yobachi', 'Yobachukwu', 'Yobanna', 'Yocum', 'Yoo', 'Yost', 'Young', 'Younger', 'Yu', 'Yuan', 'Yudin', 'Yudina', 'Yuille', 'Yuriev', 'Yuryeva', 'Yusupov', 'Yusupova', 'Zack', 'Zaitsev', 'Zakharov', 'Zarate', 'Zaytseva', 'Zetticci', 'Zhdanov', 'Zhdanova', 'Zhirov', 'Zhou', 'Zikoranachidimma', 'Zikoranachukwudimma', 'Zikoranaudodimma', 'Zimmer', 'Zinachukwudi', 'Zito', 'Zotov', 'Zotova', 'Zox', 'Zubarev', 'Zubareva', 'Zuev', 'Zuyev', 'Zuyeva']\n",
            "--------------------------------------------------\n",
            "Valores únicos na coluna 'pontuacao_credito':\n",
            "[358, 359, 363, 365, 376, 386, 399, 401, 408, 411, 413, 414, 416, 417, 418, 420, 421, 422, 427, 428, 429, 430, 431, 432, 434, 435, 436, 438, 439, 443, 444, 445, 446, 447, 449, 450, 451, 452, 453, 455, 456, 457, 458, 459, 460, 461, 464, 465, 466, 468, 470, 472, 473, 474, 475, 476, 477, 478, 479, 480, 481, 482, 483, 484, 485, 487, 488, 489, 490, 492, 493, 494, 495, 496, 497, 498, 499, 500, 501, 502, 503, 504, 505, 506, 507, 508, 509, 510, 511, 512, 513, 514, 515, 516, 517, 518, 519, 520, 521, 522, 523, 524, 525, 526, 527, 528, 529, 530, 531, 532, 533, 534, 535, 536, 537, 538, 539, 540, 541, 542, 543, 544, 545, 546, 547, 548, 549, 550, 551, 552, 553, 554, 555, 556, 557, 558, 559, 560, 561, 562, 563, 564, 565, 566, 567, 568, 569, 570, 571, 572, 573, 574, 575, 576, 577, 578, 579, 580, 581, 582, 583, 584, 585, 586, 587, 588, 589, 590, 591, 592, 593, 594, 595, 596, 597, 598, 599, 600, 601, 602, 603, 604, 605, 606, 607, 608, 609, 610, 611, 612, 613, 614, 615, 616, 617, 618, 619, 620, 621, 622, 623, 624, 625, 626, 627, 628, 629, 630, 631, 632, 633, 634, 635, 636, 637, 638, 639, 640, 641, 642, 643, 644, 645, 646, 647, 648, 649, 650, 651, 652, 653, 654, 655, 656, 657, 658, 659, 660, 661, 662, 663, 664, 665, 666, 667, 668, 669, 670, 671, 672, 673, 674, 675, 676, 677, 678, 679, 680, 681, 682, 683, 684, 685, 686, 687, 688, 689, 690, 691, 692, 693, 694, 695, 696, 697, 698, 699, 700, 701, 702, 703, 704, 705, 706, 707, 708, 709, 710, 711, 712, 713, 714, 715, 716, 717, 718, 719, 720, 721, 722, 723, 724, 725, 726, 727, 728, 729, 730, 731, 732, 733, 734, 735, 736, 737, 738, 739, 740, 741, 742, 743, 744, 745, 746, 747, 748, 749, 750, 751, 752, 753, 754, 755, 756, 757, 758, 759, 760, 761, 762, 763, 764, 765, 766, 767, 768, 769, 770, 771, 772, 773, 774, 775, 776, 777, 778, 779, 780, 781, 782, 783, 784, 785, 786, 787, 788, 789, 790, 791, 792, 793, 794, 795, 796, 797, 798, 799, 800, 801, 802, 803, 804, 805, 806, 807, 808, 809, 811, 812, 813, 814, 815, 816, 817, 818, 819, 820, 821, 822, 823, 824, 826, 827, 828, 829, 831, 832, 833, 834, 835, 836, 837, 838, 839, 840, 841, 842, 844, 845, 846, 847, 849, 850]\n",
            "--------------------------------------------------\n",
            "Valores únicos na coluna 'localizacao':\n",
            "['Alemanha', 'Espanha', 'França']\n",
            "--------------------------------------------------\n",
            "Valores únicos na coluna 'genero':\n",
            "['Feminino', 'Masculino']\n",
            "--------------------------------------------------\n",
            "Valores únicos na coluna 'idade':\n",
            "[18, 19, 20, 21, 22, 23, 24, 25, 26, 27, 28, 29, 30, 31, 32, 33, 34, 35, 36, 37, 38, 39, 40, 41, 42, 43, 44, 45, 46, 47, 48, 49, 50, 51, 52, 53, 54, 55, 56, 57, 58, 59, 60, 61, 62, 63, 64, 65, 66, 67, 68, 69, 70, 71, 72, 73, 74, 75, 76, 77, 78, 79, 80, 82, 84, 88]\n",
            "--------------------------------------------------\n",
            "Valores únicos na coluna 'tempo_permanencia':\n",
            "[0, 1, 2, 3, 4, 5, 6, 7, 8, 9, 10]\n",
            "--------------------------------------------------\n",
            "Valores únicos na coluna 'saldo':\n",
            "[0.0, 16893.59, 33563.95, 36566.96, 37266.67, 40105.51, 40224.7, 40685.92, 40915.55, 42157.08, 43134.65, 44020.89, 44582.07, 45144.43, 45472.28, 46057.96, 46520.69, 46870.43, 47134.75, 47364.45, 48023.83, 49157.09, 49508.79, 49512.55, 50880.98, 52192.08, 53053.76, 53291.86, 53772.73, 54098.18, 54503.55, 54817.55, 55853.33, 56084.69, 56214.85, 56580.95, 56726.83, 57098.96, 57568.94, 57929.81, 58036.33, 58629.97, 58781.76, 59271.82, 59385.98, 59408.63, 59697.17, 60280.62, 60603.4, 61196.54, 61592.14, 61688.61, 61710.44, 61825.5, 62391.22, 62482.95, 62717.84, 62732.65, 63095.01, 63127.41, 63176.44, 63349.75, 63609.92, 63663.93, 63763.49, 63832.43, 64097.75, 64119.38, 64345.21, 64404.26, 64740.12, 64897.75, 64900.32, 65095.41, 65253.07, 65269.23, 65643.3, 65763.57, 65812.35, 65848.36, 65942.26, 65971.61, 66079.45, 66201.96, 66338.68, 66392.64, 66573.17, 66948.67, 67111.65, 67238.98, 67495.04, 67563.31, 67639.56, 67816.72, 67996.23, 68065.8, 68138.37, 68423.89, 68432.45, 68598.56, 69129.59, 69385.17, 69434.4, 69609.85, 70105.87, 70263.83, 70349.48, 70416.75, 70438.01, 71026.77, 71264.02, 71269.89, 71379.53, 71460.67, 71843.15, 71996.09, 72079.71, 72286.84, 72309.3, 72373.62, 72392.41, 72541.48, 72549.0, 72647.64, 72664.0, 72835.56, 73054.37, 73088.06, 73309.38, 73348.56, 73481.05, 73493.17, 73700.12, 74197.38, 74260.03, 74274.87, 74298.43, 74306.19, 74596.15, 74812.84, 74989.58, 75051.49, 75075.14, 75150.34, 75212.28, 75263.16, 75381.15, 75592.43, 75888.2, 75893.11, 75990.97, 76001.57, 76165.65, 76190.48, 76322.69, 76408.85, 76467.16, 76495.04, 76548.6, 76554.06, 76597.79, 76665.71, 76968.12, 77253.22, 77354.37, 77373.87, 77556.79, 77637.35, 77776.39, 77780.29, 77846.9, 77886.53, 78136.36, 78247.31, 78381.13, 78398.69, 78653.05, 78707.16, 78829.53, 78833.15, 78992.75, 79019.8, 79263.9, 79385.21, 79460.98, 79543.59, 79589.43, 79656.81, 79871.02, 79932.41, 79962.92, 79974.55, 80107.83, 80293.81, 80293.98, 80613.93, 80780.16, 80793.58, 80844.69, 80958.36, 80964.57, 81025.6, 81173.83, 81210.72, 81290.02, 81370.07, 81589.04, 81877.38, 82034.0, 82182.1, 82228.67, 82255.51, 82259.29, 82275.35, 82293.82, 82531.11, 82596.8, 82696.09, 82767.42, 82787.93, 82909.14, 82916.48, 82931.85, 83015.71, 83116.68, 83132.09, 83325.77, 83543.37, 83555.58, 83693.34, 83739.32, 83765.35, 83807.86, 83889.03, 84026.86, 84102.11, 84113.41, 84284.48, 84309.57, 84386.57, 84438.57, 84445.68, 84468.67, 84474.62, 84496.71, 84745.03, 84944.58, 85089.3, 85162.26, 85227.84, 85311.7, 85534.83, 85755.86, 85757.93, 85839.62, 85891.55, 85957.88, 85982.07, 86270.93, 86350.87, 86402.52, 86459.8, 86569.76, 86837.95, 86891.84, 87070.23, 87098.91, 87099.85, 87202.38, 87271.41, 87361.02, 87505.47, 87542.89, 87609.68, 87873.39, 87926.24, 88109.81, 88293.13, 88308.87, 88382.01, 88594.93, 88736.44, 88820.29, 88827.53, 88915.37, 88938.62, 89039.9, 89685.92, 89696.84, 89772.3, 89928.99, 89968.69, 90124.64, 90307.62, 90350.77, 90355.12, 90425.15, 90432.92, 90450.0, 90536.81, 90547.48, 90560.3, 90757.64, 90826.27, 90971.85, 91187.9, 91292.7, 91621.69, 91622.42, 91711.59, 91718.8, 91857.66, 91893.32, 92053.44, 92072.68, 92113.61, 92171.35, 92219.21, 92310.54, 92340.69, 92366.72, 92578.14, 92599.55, 92616.64, 92833.89, 92855.02, 92887.06, 92889.91, 93012.89, 93301.97, 93320.8, 93522.2, 93577.3, 93590.47, 93680.43, 93694.42, 93716.72, 93722.73, 93791.38, 93844.69, 93955.83, 94001.61, 94078.97, 94216.05, 94416.78, 94443.77, 94456.0, 94521.17, 94607.08, 94667.29, 94684.27, 94722.88, 94752.49, 94762.16, 94867.18, 94901.09, 94920.71, 95001.33, 95010.92, 95039.73, 95052.29, 95059.02, 95128.86, 95140.44, 95231.91, 95293.86, 95357.49, 95368.14, 95448.32, 95488.82, 95507.12, 95523.16, 95671.75, 95675.62, 95679.29, 95741.75, 95813.76, 95826.49, 95845.6, 95858.37, 96020.86, 96106.83, 96127.27, 96134.11, 96173.17, 96408.98, 96423.84, 96462.25, 96542.16, 96553.52, 96645.54, 96652.86, 96674.55, 96693.66, 96748.89, 96763.89, 96888.39, 96891.46, 96926.12, 96951.21, 96974.97, 97001.36, 97086.4, 97133.92, 97318.25, 97361.66, 97378.54, 97392.18, 97403.18, 97445.49, 97460.1, 97514.07, 97541.24, 97544.29, 97612.12, 97700.02, 97792.21, 97840.72, 97893.2, 97956.5, 98009.13, 98014.74, 98052.66, 98064.97, 98088.09, 98108.79, 98186.7, 98218.04, 98241.04, 98263.46, 98268.84, 98270.34, 98373.26, 98438.23, 98444.19, 98488.08, 98495.72, 98548.62, 98556.89, 98627.13, 98775.23, 98792.4, 98848.19, 98899.76, 98903.06, 98993.02, 99010.67, 99027.61, 99046.31, 99167.54, 99183.9, 99219.47, 99240.51, 99529.7, 99546.25, 99564.22, 99610.92, 99713.87, 99773.85, 99786.2, 99806.85, 99812.88, 99842.5, 99844.68, 99906.19, 99945.93, 99948.45, 100054.77, 100160.75, 100194.44, 100212.13, 100238.35, 100260.88, 100337.96, 100374.58, 100431.84, 100446.57, 100486.18, 100520.92, 100606.02, 100628.0, 100683.54, 100717.85, 100727.5, 100812.33, 100895.54, 100912.19, 100946.71, 101060.25, 101084.36, 101140.76, 101160.99, 101191.83, 101195.23, 101207.75, 101286.11, 101455.7, 101528.61, 101543.51, 101583.11, 101633.04, 101641.14, 101713.84, 101744.84, 101827.07, 101868.51, 101985.81, 101993.12, 102016.72, 102088.68, 102128.27, 102141.9, 102143.93, 102289.85, 102290.56, 102365.49, 102453.26, 102482.76, 102486.21, 102630.13, 102703.62, 102785.16, 102800.72, 102827.44, 102833.46, 102882.4, 102962.62, 102980.44, 102983.91, 102989.83, 103000.94, 103033.83, 103097.85, 103163.35, 103324.78, 103391.38, 103421.32, 103769.22, 103846.65, 103909.86, 103914.17, 104077.19, 104088.59, 104091.29, 104158.84, 104254.27, 104258.8, 104336.43, 104356.94, 104450.86, 104744.89, 104817.41, 104930.38, 104947.72, 104982.57, 105057.33, 105061.74, 105099.45, 105102.5, 105204.01, 105229.53, 105245.21, 105249.76, 105264.88, 105303.73, 105355.81, 105405.97, 105420.18, 105443.68, 105514.69, 105522.06, 105525.65, 105599.67, 105609.17, 105663.56, 105722.69, 105770.14, 105795.9, 105799.32, 105843.26, 105858.71, 105918.1, 105934.96, 105961.68, 106000.12, 106012.2, 106070.29, 106070.89, 106116.56, 106138.33, 106190.55, 106192.1, 106230.92, 106234.02, 106266.8, 106290.64, 106301.85, 106376.85, 106453.53, 106458.31, 106511.85, 106518.52, 106520.73, 106545.53, 106648.98, 106770.82, 106938.11, 106942.08, 106967.18, 106968.96, 107023.03, 107042.74, 107073.27, 107135.04, 107136.6, 107174.58, 107192.38, 107199.75, 107247.69, 107316.09, 107363.29, 107467.56, 107508.93, 107511.52, 107548.94, 107592.89, 107594.11, 107720.64, 107726.93, 107747.57, 107764.75, 107805.67, 107818.63, 107884.81, 107926.02, 107944.33, 108007.36, 108055.1, 108076.33, 108122.39, 108128.52, 108155.49, 108185.81, 108197.11, 108231.37, 108239.11, 108262.87, 108269.37, 108286.5, 108308.0, 108348.66, 108407.34, 108431.87, 108528.07, 108632.48, 108664.85, 108691.95, 108711.57, 108716.59, 108724.98, 108748.08, 108755.0, 108797.63, 108825.34, 108867.0, 108883.29, 108895.93, 109013.23, 109019.65, 109026.8, 109093.41, 109137.12, 109162.82, 109166.37, 109219.83, 109308.79, 109342.82, 109387.33, 109421.13, 109471.79, 109528.16, 109528.28, 109558.36, 109570.21, 109628.44, 109663.47, 109681.61, 109698.41, 109705.52, 109724.38, 109730.22, 109783.69, 109799.55, 109848.6, 109949.05, 110029.77, 110053.62, 110071.1, 110086.69, 110112.54, 110150.43, 110245.13, 110314.21, 110340.68, 110349.82, 110356.42, 110357.0, 110368.03, 110463.25, 110483.86, 110555.37, 110570.78, 110641.18, 110654.02, 110717.38, 110752.15, 110783.28, 110791.97, 110802.03, 110829.52, 110941.93, 110942.9, 111061.01, 111071.36, 111087.5, 111128.04, 111168.97, 111201.41, 111233.09, 111359.55, 111375.32, 111388.18, 111432.77, 111501.66, 111574.41, 111681.98, 111723.08, 111743.43, 111756.5, 111769.14, 111852.84, 111855.04, 111900.14, 112013.81, 112045.67, 112070.86, 112079.58, 112146.12, 112212.14, 112330.83, 112392.45, 112499.42, 112510.89, 112544.45, 112564.62, 112610.77, 112746.54, 112755.34, 112773.73, 112803.92, 112822.26, 112833.35, 112930.28, 113000.92, 113034.22, 113113.12, 113146.98, 113157.22, 113174.21, 113193.51, 113226.47, 113228.38, 113257.2, 113292.17, 113308.84, 113328.93, 113348.14, 113386.36, 113452.66, 113488.68, 113599.74, 113641.49, 113657.41, 113715.36, 113755.78, 113811.85, 113829.45, 113836.27, 113899.92, 113978.97, 113980.21, 114193.24, 114206.84, 114212.6, 114453.58, 114493.68, 114510.85, 114722.05, 114739.92, 114754.08, 114931.35, 115007.08, 115046.74, 115076.06, 115101.5, 115130.34, 115141.18, 115171.71, 115282.3, 115309.75, 115350.63, 115414.19, 115462.02, 115465.28, 115518.07, 115557.0, 115563.71, 115654.47, 115702.67, 115713.84, 115725.24, 115743.6, 115764.32, 115777.23, 115888.04, 115897.12, 115920.62, 115930.87, 115988.86, 116085.06, 116114.93, 116121.67, 116220.5, 116229.85, 116244.14, 116248.88, 116251.24, 116269.01, 116270.72, 116313.57, 116320.68, 116322.27, 116326.07, 116358.0, 116363.37, 116377.48, 116393.59, 116465.53, 116471.43, 116497.31, 116520.28, 116528.15, 116537.6, 116644.29, 116662.96, 116755.5, 116805.82, 116822.7, 116854.71, 116880.53, 116891.72, 116917.07, 116922.25, 116967.68, 116968.91, 116993.43, 117028.6, 117035.89, 117094.02, 117153.0, 117154.9, 117221.15, 117231.63, 117271.8, 117280.23, 117289.92, 117306.69, 117356.19, 117411.6, 117412.19, 117419.35, 117458.51, 117469.91, 117559.05, 117685.31, 117833.3, 117864.85, 118028.35, 118079.47, 118082.89, 118129.87, 118158.74, 118287.01, 118448.15, 118449.21, 118537.47, 118560.0, 118613.34, 118626.55, 118627.16, 118628.8, 118680.57, 118723.11, 118756.62, 118772.71, 118803.35, 118829.03, 118838.75, 118866.36, 118879.35, 118889.66, 118894.22, 118899.45, 118945.09, 119013.86, 119023.28, 119035.35, 119266.69, 119380.37, 119413.62, 119452.03, 119496.87, 119501.88, 119530.52, 119545.48, 119565.92, 119618.42, 119624.54, 119624.6, 119638.21, 119654.44, 119684.88, 119714.25, 119741.77, 119769.77, 119787.76, 119852.01, 120092.52, 120094.93, 120100.41, 120193.42, 120392.99, 120509.81, 120599.21, 120599.38, 120623.21, 120681.63, 120718.28, 120727.97, 120764.08, 120777.88, 120905.03, 120962.13, 121016.23, 121093.29, 121132.26, 121151.05, 121159.65, 121172.97, 121192.22, 121197.64, 121231.39, 121235.05, 121250.04, 121276.32, 121286.27, 121326.42, 121376.15, 121411.9, 121453.63, 121508.28, 121551.58, 121558.46, 121581.56, 121681.82, 121704.32, 121730.49, 121858.98, 121898.58, 121973.28, 122021.92, 122189.66, 122198.21, 122220.19, 122265.24, 122304.65, 122311.21, 122314.39, 122334.26, 122384.22, 122388.38, 122447.76, 122486.11, 122486.47, 122522.32, 122528.18, 122549.64, 122552.34, 122552.48, 122570.87, 122641.56, 122661.39, 122717.53, 122793.96, 122831.58, 122874.74, 122889.88, 122964.88, 123040.38, 123105.88, 123180.01, 123217.66, 123229.46, 123246.7, 123331.36, 123372.3, 123378.2, 123403.85, 123407.69, 123475.04, 123497.58, 123571.77, 123642.36, 123757.52, 123764.95, 123770.46, 123802.98, 123863.64, 123894.43, 123906.22, 123943.18, 123948.85, 123959.97, 123971.51, 123974.96, 124043.8, 124119.54, 124227.14, 124233.24, 124281.84, 124328.84, 124379.14, 124401.6, 124439.49, 124483.53, 124525.52, 124532.78, 124548.99, 124576.65, 124586.93, 124601.58, 124616.23, 124619.33, 124626.07, 124662.54, 124695.72, 124730.26, 124828.46, 124832.51, 124857.69, 124923.35, 124969.13, 125013.72, 125095.94, 125130.28, 125167.02, 125175.58, 125189.75, 125190.86, 125211.92, 125212.65, 125227.82, 125241.17, 125341.69, 125397.21, 125406.58, 125437.14, 125445.04, 125470.81, 125489.4, 125510.82, 125537.38, 125552.96, 125561.97, 125712.2, 125724.95, 125734.2, 125827.43, 125832.2, 125837.86, 125851.93, 125879.29, 125884.95, 125919.35, 126066.26, 126113.28, 126212.64, 126224.87, 126285.73, 126345.55, 126384.42, 126418.14, 126436.29, 126444.08, 126495.57, 126558.92, 126588.81, 126589.12, 126597.89, 126606.63, 126608.37, 126615.94, 126674.81, 126732.85, 126773.43, 126776.3, 126935.98, 127009.83, 127120.07, 127122.79, 127209.0, 127216.31, 127253.98, 127258.79, 127278.31, 127283.78, 127299.34, 127357.76, 127471.56, 127480.58, 127504.57, 127523.75, 127559.97, 127609.59, 127642.44, 127655.22, 127660.46, 127678.8, 127738.75, 127760.07, 127806.91, 127837.54, 127864.4, 127892.57, 127992.25, 127997.83, 128137.42, 128140.17, 128206.79, 128218.47, 128345.69, 128366.44, 128389.12, 128389.63, 128398.38, 128468.69, 128509.63, 128605.32, 128653.59, 128736.39, 128743.8, 128747.69, 128760.32, 128966.13, 128981.07, 129022.06, 129101.3, 129142.54, 129164.88, 129248.11, 129250.0, 129255.2, 129370.91, 129387.94, 129401.87, 129431.36, 129433.34, 129490.36, 129499.42, 129502.49, 129514.99, 129553.76, 129605.99, 129608.57, 129709.62, 129722.57, 129728.6, 129748.54, 129753.69, 129755.99, 129810.6, 129829.59, 129834.67, 129837.72, 129845.26, 129855.72, 129901.21, 129938.07, 129944.39, 130056.23, 130110.45, 130114.39, 130240.33, 130306.49, 130368.31, 130463.55, 130538.77, 130557.24, 130627.66, 130661.96, 130666.2, 130747.1, 130796.33, 130830.22, 130854.59, 130862.43, 130878.75, 130929.02, 130931.83, 130933.74, 131039.97, 131081.66, 131082.17, 131101.04, 131244.65, 131287.36, 131326.47, 131344.52, 131354.25, 131394.56, 131406.56, 131411.24, 131563.88, 131569.63, 131694.97, 131736.88, 131762.94, 131765.72, 131778.66, 131955.07, 132122.42, 132150.26, 132174.41, 132217.45, 132311.71, 132351.29, 132387.91, 132512.26, 132558.26, 132602.88, 132603.36, 132623.6, 132623.76, 132628.98, 132730.17, 132759.8, 132865.56, 132876.23, 132906.88, 133003.03, 133102.92, 133189.4, 133214.13, 133379.41, 133384.66, 133432.59, 133463.1, 133598.4, 133634.02, 133636.16, 133676.65, 133681.78, 133686.52, 133702.89, 133707.09, 133745.44, 133793.89, 133806.54, 133844.22, 133871.05, 133889.35, 133950.37, 134006.39, 134006.77, 134007.9, 134066.1, 134177.06, 134208.22, 134249.7, 134264.04, 134318.21, 134464.58, 134467.26, 134504.78, 134542.73, 134590.21, 134603.88, 134714.7, 134752.08, 134837.58, 134874.4, 134896.03, 134944.0, 134954.53, 134956.02, 134997.49, 135067.52, 135096.77, 135120.56, 135120.72, 135133.39, 135134.99, 135161.67, 135203.81, 135213.71, 135277.96, 135289.33, 135296.33, 135370.12, 135438.4, 135483.17, 135549.9, 135555.66, 135643.0, 135650.88, 135658.73, 135842.41, 135870.01, 135936.1, 136000.45, 136067.82, 136202.78, 136294.97, 136354.16, 136364.46, 136425.18, 136556.44, 136815.64, 136857.0, 136911.07, 136925.09, 136953.47, 137060.88, 137104.47, 137115.16, 137204.77, 137222.77, 137285.26, 137318.42, 137326.65, 137388.01, 137389.77, 137411.29, 137430.82, 137452.09, 137453.43, 137455.99, 137492.35, 137494.28, 137523.02, 137555.44, 137560.38, 137649.47, 137712.01, 137715.66, 137742.9, 137781.65, 137824.03, 137841.53, 137843.8, 137847.41, 137910.45, 137946.39, 137998.2, 138131.34, 138162.81, 138171.1, 138190.13, 138214.5, 138241.9, 138296.94, 138311.76, 138341.51, 138476.41, 138489.66, 138515.02, 138547.97, 138718.92, 138778.15, 138782.76, 138878.81, 138881.04, 138901.61, 138912.17, 139064.06, 139070.51, 139129.44, 139153.68, 139180.2, 139196.0, 139224.92, 139290.41, 139393.19, 139395.08, 139422.37, 139451.67, 139496.35, 139529.93, 139541.58, 139542.82, 139561.46, 139625.34, 139626.01, 139676.95, 139706.31, 139810.34, 139822.11, 139840.36, 139859.23, 139887.01, 139914.6, 139959.55, 139972.18, 140080.32, 140278.99, 140348.56, 140363.95, 140406.68, 140549.4, 140596.95, 140694.78, 140745.33, 140916.81, 140931.82, 140956.99, 141040.01, 141099.43, 141204.65, 141349.43, 141441.75, 141525.55, 141541.25, 141546.35, 141581.08, 141581.71, 141616.55, 141642.92, 141749.68, 141784.02, 141787.31, 141918.09, 141947.67, 142051.07, 142084.04, 142120.91, 142151.75, 142253.65, 142263.45, 142289.28, 142316.14, 142400.77, 142406.43, 142537.18, 142645.43, 142669.93, 142688.57, 142711.81, 142767.39, 142802.02, 142989.69, 143001.5, 143124.63, 143129.41, 143258.85, 143321.97, 143330.56, 143340.44, 143426.34, 143542.36, 143734.01, 143773.07, 143903.11, 143923.96, 143964.36, 143988.0, 144162.3, 144164.29, 144235.73, 144260.5, 144428.87, 144450.58, 144606.22, 144677.19, 144696.75, 144757.02, 144801.97, 144848.74, 144895.05, 145018.64, 145071.24, 145219.3, 145222.99, 145260.23, 145338.76, 145396.49, 145580.61, 145605.44, 145610.07, 145618.37, 145731.83, 145747.67, 145843.82, 145965.33, 145974.79, 145980.23, 145981.87, 145984.92, 146050.97, 146098.43, 146126.75, 146329.57, 146502.07, 146580.69, 146605.27, 146679.77, 146720.98, 146748.07, 146756.68, 146781.24, 146943.38, 147037.32, 147092.65, 147107.91, 147167.25, 147249.29, 147360.0, 147493.7, 147510.34, 147972.19, 148021.12, 148045.45, 148045.68, 148061.89, 148116.48, 148214.36, 148249.54, 148283.94, 148298.59, 148375.19, 148481.09, 148507.24, 148571.07, 148595.55, 148636.21, 148654.84, 148795.17, 148843.56, 148962.76, 149049.92, 149083.7, 149085.9, 149105.08, 149117.31, 149136.31, 149218.39, 149238.97, 149297.19, 149318.55, 149332.48, 149436.73, 149620.88, 149762.08, 149961.99, 150092.8, 150186.22, 150315.92, 150329.15, 150461.07, 150463.11, 150500.64, 150525.8, 150578.0, 150635.3, 150679.71, 150725.53, 150844.94, 150900.29, 150905.03, 151027.56, 151226.18, 151233.62, 151421.44, 151457.88, 151675.65, 151772.63, 151839.26, 151844.64, 151855.33, 151858.98, 152039.7, 152092.44, 152169.12, 152182.83, 152264.81, 152265.43, 152310.55, 152324.66, 152328.88, 152400.51, 152509.25, 152522.47, 152582.2, 152603.45, 152759.0, 152797.9, 152805.05, 152827.99, 152885.77, 152926.6, 152992.91, 153040.03, 153137.74, 153238.88, 153325.1, 153344.72, 153366.13, 153548.12, 153572.31, 153656.85, 153697.53, 153804.44, 154121.32, 154485.74, 154495.79, 154669.77, 154737.88, 154776.42, 154902.66, 155303.71, 155447.65, 155470.55, 155519.59, 155621.08, 155663.31, 155726.85, 155931.11, 155973.13, 155978.17, 156091.97, 156123.73, 156267.59, 156297.58, 156367.6, 156371.61, 156478.62, 156555.54, 156660.72, 156674.2, 156771.68, 156773.78, 157120.86, 157138.99, 157274.36, 157320.51, 157332.26, 157559.59, 157622.58, 157624.84, 157780.84, 157791.07, 157929.45, 157993.15, 158411.95, 158621.04, 158633.61, 158719.57, 158741.43, 159441.27, 159453.64, 159660.8, 159732.02, 160132.75, 160358.68, 160376.61, 160485.16, 160541.36, 160625.17, 160652.45, 160979.68, 161209.66, 161256.53, 161274.05, 161525.96, 161546.68, 161572.24, 161608.81, 161637.75, 161651.37, 161757.87, 161807.18, 161814.64, 161889.79, 161993.89, 162082.31, 162150.42, 162278.32, 162448.69, 162532.14, 162923.85, 163569.61, 163607.18, 163789.49, 164003.05, 164011.48, 164284.72, 164649.52, 164672.66, 164701.68, 164858.18, 164978.01, 165149.13, 165260.98, 165272.13, 165312.27, 165350.61, 165363.31, 165445.04, 165536.28, 165679.92, 165686.11, 165798.1, 165878.76, 166115.42, 166118.45, 166133.28, 166287.85, 166297.89, 166733.92, 166833.86, 167455.66, 167545.32, 167738.82, 167864.4, 167924.95, 167962.7, 168069.73, 168190.33, 168197.66, 168522.37, 168560.46, 168735.74, 168920.75, 169089.38, 169312.13, 169399.6, 169462.09, 169742.64, 169824.46, 169831.46, 169832.57, 170057.62, 170061.92, 170214.23, 170295.04, 170331.37, 170491.84, 170557.91, 170661.47, 170833.46, 170935.94, 171137.62, 171236.3, 171787.84, 171922.72, 171937.27, 172170.36, 172196.23, 172478.15, 172646.82, 173962.32, 174185.98, 174330.35, 174356.13, 174400.36, 174571.36, 174588.8, 174790.15, 174851.9, 174852.89, 174853.46, 174912.72, 174937.64, 175159.9, 175214.71, 175307.32, 175443.75, 176024.05, 176099.13, 176273.95, 176666.62, 176845.41, 176958.46, 177640.09, 177729.13, 178095.55, 178111.82, 178171.04, 178718.19, 178820.91, 179886.41, 180075.22, 180226.24, 180303.24, 180530.51, 181461.48, 181627.14, 181656.51, 181671.16, 182065.85, 182123.79, 182275.23, 182491.57, 182781.74, 182888.08, 183102.29, 183135.39, 183555.24, 184244.86, 184686.41, 185063.7, 185173.81, 185709.28, 185734.75, 185891.54, 185932.18, 186788.96, 186796.37, 187841.99, 187997.15, 188455.19, 189443.72, 190227.46, 190479.48, 190569.23, 190678.02, 191402.82, 191523.09, 192390.52, 193354.86, 195238.29, 200322.45, 201009.64, 202904.64, 203715.15, 211774.31, 213146.2, 214346.96, 222267.63, 238387.56]\n",
            "--------------------------------------------------\n",
            "Valores únicos na coluna 'num_produtos':\n",
            "[1, 2, 3, 4]\n",
            "--------------------------------------------------\n",
            "Valores únicos na coluna 'tem_cartao_credito':\n",
            "[0, 1]\n",
            "--------------------------------------------------\n",
            "Valores únicos na coluna 'membro_ativo':\n",
            "[0, 1]\n",
            "--------------------------------------------------\n",
            "Valores únicos na coluna 'salario_estimado':\n",
            "[123.07, 142.81, 371.05, 417.41, 428.23, 555.28, 582.53, 582.59, 598.8, 600.36, 645.61, 820.46, 823.36, 823.96, 878.87, 933.38, 944.41, 1002.39, 1140.02, 1285.81, 1643.11, 1775.52, 1787.85, 1790.48, 1843.24, 1871.25, 1907.66, 2019.78, 2035.94, 2048.55, 2053.42, 2401.26, 2465.8, 2560.11, 2704.09, 2704.98, 2739.71, 2743.69, 2923.61, 3061.0, 3148.2, 3234.8, 3408.7, 3430.38, 3440.47, 3472.63, 3510.18, 3529.72, 3554.63, 3710.34, 3749.0, 3894.34, 3896.08, 3939.87, 3946.29, 4033.39, 4050.57, 4070.28, 4082.52, 4092.75, 4195.84, 4292.72, 4395.45, 4423.63, 4460.2, 4470.52, 4493.12, 4654.28, 4660.91, 4791.8, 4861.72, 4888.91, 4969.13, 4989.33, 5075.17, 5097.67, 5104.08, 5459.07, 5472.7, 5597.94, 5831.0, 5862.53, 5967.09, 5978.2, 6057.81, 6075.36, 6076.62, 6078.46, 6120.84, 6209.51, 6251.3, 6342.84, 6416.92, 6534.18, 6589.16, 6656.64, 6776.92, 6935.31, 7063.6, 7278.57, 7330.59, 7455.2, 7631.27, 7666.73, 7797.01, 7819.76, 7919.08, 8018.49, 8065.0, 8080.85, 8128.32, 8207.36, 8214.41, 8404.73, 8487.75, 8567.18, 8590.83, 8636.05, 8651.92, 8742.91, 8755.69, 8757.39, 8763.87, 8996.97, 9181.66, 9201.53, 9217.92, 9221.78, 9238.35, 9249.36, 9262.77, 9398.45, 9443.15, 9468.64, 9633.01, 9684.52, 9704.66, 9903.42, 9972.64, 10034.77, 10054.53, 10062.8, 10070.4, 10074.05, 10334.05, 10350.74, 10357.03, 10472.31, 10488.44, 10511.13, 10598.29, 10625.91, 10662.58, 10666.05, 10842.46, 10928.3, 10940.4, 10956.82, 11199.04, 11384.45, 11407.58, 11525.72, 11597.69, 11663.09, 11723.57, 12106.82, 12148.2, 12368.11, 12409.01, 12457.76, 12483.39, 12757.14, 12796.43, 12847.61, 13007.89, 13054.25, 13107.24, 13133.88, 13182.43, 13288.46, 13404.4, 13464.64, 13614.01, 13813.24, 13848.58, 13858.95, 13921.82, 13935.32, 13935.53, 14109.85, 14121.61, 14279.44, 14353.43, 14374.86, 14406.41, 14466.08, 14479.29, 14490.79, 14608.0, 14633.35, 14679.81, 14725.36, 14781.12, 14828.54, 14928.8, 14956.44, 15304.08, 15360.91, 15404.64, 15462.84, 15467.98, 15607.27, 15650.73, 15669.17, 15766.1, 15795.88, 15928.49, 16025.17, 16064.25, 16119.96, 16146.0, 16150.34, 16246.59, 16259.64, 16278.97, 16319.56, 16402.11, 16436.56, 16459.37, 16500.66, 16607.15, 16870.2, 16874.92, 16989.77, 16998.72, 17034.37, 17040.82, 17095.49, 17104.0, 17257.72, 17268.02, 17298.72, 17323.0, 17375.27, 17550.49, 17603.81, 17682.02, 17913.25, 17941.16, 18066.69, 18082.06, 18203.0, 18255.51, 18260.98, 18424.24, 18461.9, 18606.23, 18633.4, 18708.76, 18772.5, 18800.13, 19047.23, 19131.71, 19162.89, 19225.85, 19376.56, 19412.8, 19482.5, 19525.65, 19653.08, 19799.26, 19834.32, 19842.22, 19862.78, 20008.46, 20066.38, 20276.87, 20339.79, 20346.69, 20367.68, 20388.77, 20460.2, 20510.79, 20560.69, 20598.59, 20603.32, 20629.4, 20670.1, 20769.88, 20955.03, 21006.1, 21016.0, 21177.1, 21215.67, 21228.34, 21228.71, 21343.74, 21360.88, 21439.49, 21521.38, 21645.06, 21646.2, 21760.96, 21834.4, 21858.28, 21862.19, 22074.48, 22095.73, 22388.0, 22404.64, 22447.85, 22512.44, 22735.45, 22878.16, 22994.32, 23067.97, 23305.01, 23305.85, 23344.94, 23425.78, 23491.09, 23631.55, 23766.4, 23864.21, 23971.33, 24093.4, 24255.21, 24302.95, 24435.77, 24472.23, 24489.44, 24495.03, 24533.89, 24564.7, 24577.34, 24761.36, 24857.25, 24865.54, 24924.92, 24938.84, 24998.75, 25059.05, 25095.03, 25101.17, 25136.95, 25310.82, 25399.7, 25514.77, 25744.13, 25803.59, 25858.68, 25867.67, 25904.12, 26019.59, 26022.37, 26025.6, 26057.08, 26080.54, 26136.89, 26260.98, 26476.18, 26542.17, 26606.28, 26687.22, 26772.04, 26912.34, 26912.72, 26960.31, 27012.0, 27046.46, 27145.73, 27231.26, 27239.28, 27330.59, 27341.63, 27359.19, 27448.33, 27474.81, 27597.59, 27597.76, 27619.06, 27758.36, 27822.99, 27914.95, 28038.28, 28092.77, 28149.06, 28238.25, 28257.63, 28276.83, 28373.86, 28411.23, 28415.36, 28531.81, 28667.56, 28707.69, 28726.07, 28737.78, 28760.99, 28805.09, 28865.59, 28922.25, 29023.03, 29176.04, 29358.57, 29641.58, 29737.14, 29818.2, 29861.13, 29871.79, 30020.09, 30114.32, 30117.44, 30149.21, 30375.18, 30583.95, 30709.03, 30722.52, 30730.95, 30838.51, 30972.06, 30984.59, 30990.16, 31106.67, 31272.14, 31299.71, 31302.35, 31384.86, 31406.93, 31422.69, 31445.03, 31474.27, 31517.16, 31669.18, 31708.53, 31726.76, 31730.32, 31766.3, 31892.82, 31904.31, 31928.5, 32171.79, 32454.26, 32635.54, 32824.15, 32825.5, 32903.93, 32916.29, 33082.81, 33159.37, 33266.29, 33277.31, 33330.89, 33350.26, 33462.94, 33642.21, 33680.56, 33730.43, 33738.27, 33741.84, 33747.03, 33828.64, 33949.67, 33950.08, 33953.87, 33998.7, 34004.44, 34180.33, 34265.08, 34283.23, 34335.55, 34410.55, 34453.17, 34542.41, 34551.35, 34607.14, 34670.62, 34673.98, 34765.33, 34888.04, 34941.23, 34948.77, 34967.75, 35046.97, 35140.49, 35156.54, 35177.31, 35300.08, 35588.07, 35593.18, 35608.88, 35625.41, 35633.15, 35640.12, 35644.79, 35687.43, 36051.46, 36099.7, 36202.74, 36278.89, 36292.94, 36342.79, 36483.52, 36690.49, 36692.17, 36895.99, 36976.52, 36980.54, 37092.43, 37147.61, 37160.28, 37171.46, 37196.15, 37341.17, 37464.0, 37605.9, 37674.47, 37836.64, 37938.74, 38131.77, 38152.01, 38252.25, 38276.84, 38410.74, 38411.79, 38433.35, 38587.7, 38596.34, 38629.3, 38652.96, 38772.82, 38784.42, 38798.79, 38812.67, 38829.11, 38867.46, 38913.68, 38928.48, 38970.14, 39473.63, 39608.58, 39755.0, 39806.75, 40014.76, 40062.99, 40066.95, 40084.32, 40257.79, 40299.23, 40320.3, 40321.87, 40339.9, 40645.81, 40652.33, 40721.24, 40807.26, 40812.9, 40893.61, 40914.32, 41055.71, 41139.05, 41176.6, 41219.09, 41371.68, 41399.33, 41409.36, 41610.62, 41626.78, 41730.37, 41777.9, 41872.17, 41879.99, 41921.06, 41967.03, 42012.55, 42039.67, 42135.28, 42171.13, 42240.54, 42241.54, 42334.38, 42429.88, 42495.81, 42576.86, 42581.04, 42589.33, 42607.69, 42669.37, 42730.12, 42749.85, 42763.12, 42790.29, 43001.46, 43024.64, 43093.67, 43106.17, 43117.1, 43134.58, 43169.15, 43250.3, 43435.43, 43486.73, 43801.27, 43821.56, 43852.05, 43921.36, 43932.54, 43943.09, 43956.83, 44001.11, 44099.75, 44203.55, 44255.65, 44377.65, 44420.18, 44506.09, 44653.5, 44688.08, 44692.63, 44937.01, 44965.54, 45038.29, 45042.56, 45071.09, 45325.26, 45422.89, 45424.13, 45563.94, 45570.84, 45613.75, 45742.42, 45886.33, 45909.87, 46019.43, 46127.7, 46156.87, 46163.44, 46170.75, 46172.47, 46203.31, 46253.65, 46266.63, 46369.57, 46374.64, 46415.09, 46522.68, 46735.19, 46774.94, 46775.28, 46824.08, 46998.13, 47019.66, 47031.4, 47093.11, 47125.11, 47161.25, 47166.55, 47247.56, 47251.79, 47271.61, 47307.9, 47318.75, 47414.15, 47472.68, 47536.46, 47578.45, 47675.29, 47722.79, 47775.34, 47847.19, 47880.71, 47911.03, 47921.22, 47952.45, 48071.61, 48108.72, 48161.18, 48233.75, 48478.47, 48553.77, 48559.19, 48571.14, 48606.71, 48644.94, 48673.18, 48725.68, 48869.67, 48963.59, 48986.18, 49025.79, 49054.1, 49108.23, 49185.57, 49284.0, 49361.84, 49463.44, 49492.15, 49503.5, 49553.38, 49594.02, 49599.27, 49667.28, 49707.85, 49722.34, 49725.16, 49829.8, 49833.5, 49872.33, 49915.52, 49978.67, 50046.25, 50070.59, 50072.94, 50129.87, 50230.31, 50299.14, 50404.72, 50422.36, 50457.2, 50485.7, 50488.91, 50568.02, 50899.91, 50906.65, 51112.8, 51226.32, 51285.49, 51553.43, 51637.67, 51670.82, 51871.95, 51999.5, 52110.45, 52166.25, 52332.85, 52367.29, 52411.99, 52526.65, 52581.96, 52615.62, 52795.15, 52820.13, 52827.51, 52885.23, 52909.87, 52952.24, 53134.3, 53172.02, 53294.17, 53445.17, 53483.21, 53512.16, 53520.03, 53534.8, 53710.23, 53718.28, 53793.1, 53843.71, 53949.98, 53994.64, 54038.62, 54141.5, 54184.06, 54272.12, 54342.83, 54359.02, 54398.56, 54405.79, 54453.72, 54473.6, 54478.52, 54560.79, 54724.03, 54776.64, 54865.92, 54871.02, 54926.51, 54954.51, 55003.79, 55022.43, 55034.02, 55072.32, 55100.09, 55324.49, 55362.45, 55473.15, 55551.26, 55556.3, 55558.51, 55582.54, 55672.09, 55725.04, 55775.72, 55775.84, 55803.96, 55816.2, 55859.27, 56053.06, 56118.81, 56176.31, 56214.09, 56246.69, 56268.98, 56297.85, 56577.0, 56594.36, 56636.28, 56770.76, 56784.11, 56937.43, 56999.9, 57014.17, 57088.97, 57164.19, 57175.32, 57236.44, 57531.14, 57553.02, 57553.98, 57572.38, 57643.55, 57764.65, 57841.89, 57962.41, 57992.49, 57995.74, 58137.42, 58170.24, 58203.67, 58214.79, 58309.54, 58332.91, 58426.81, 58458.26, 58601.61, 58652.23, 58685.59, 58719.63, 58803.28, 58814.41, 58961.49, 58965.04, 58974.0, 59061.25, 59103.13, 59259.44, 59351.68, 59457.0, 59475.35, 59559.81, 59636.43, 59748.19, 59887.15, 60013.17, 60021.34, 60083.11, 60116.57, 60176.1, 60194.05, 60231.74, 60270.87, 60427.3, 60429.43, 60536.56, 60590.72, 60615.83, 60708.72, 60810.64, 60894.26, 60901.72, 60906.12, 60907.49, 60917.24, 60941.27, 60972.84, 60993.23, 61048.53, 61108.56, 61128.29, 61312.15, 61450.96, 61581.2, 61602.42, 61759.33, 61796.64, 61829.89, 61931.21, 61936.1, 61936.22, 61995.57, 62002.04, 62030.06, 62112.7, 62163.53, 62193.92, 62232.6, 62256.87, 62347.71, 62514.65, 62674.42, 62678.53, 62762.12, 62768.8, 62825.03, 62851.6, 63023.02, 63030.97, 63051.32, 63082.88, 63142.12, 63213.31, 63218.85, 63236.97, 63239.65, 63297.7, 63337.19, 63495.86, 63705.9, 63732.9, 63736.36, 63981.37, 64242.31, 64299.82, 64323.24, 64327.26, 64345.61, 64350.8, 64420.5, 64448.36, 64595.25, 64833.28, 64839.23, 64872.55, 64907.48, 65035.02, 65057.71, 65121.63, 65170.66, 65257.57, 65323.11, 65390.46, 65413.41, 65482.94, 65567.91, 65611.01, 65618.01, 65636.92, 65657.29, 65720.92, 65731.53, 65864.4, 65906.07, 65951.65, 65996.9, 66013.27, 66032.65, 66190.21, 66256.27, 66331.01, 66408.01, 66462.79, 66561.6, 66580.13, 66799.28, 67020.03, 67046.83, 67124.48, 67208.3, 67339.34, 67539.85, 67611.36, 67622.34, 67788.49, 67789.99, 67944.09, 67949.32, 67997.13, 68052.08, 68064.83, 68075.14, 68087.15, 68093.23, 68143.93, 68255.88, 68400.14, 68487.51, 68594.0, 68759.57, 68777.26, 68794.15, 68831.72, 68987.55, 69101.23, 69113.14, 69132.66, 69228.2, 69320.97, 69361.95, 69414.13, 69428.79, 69608.48, 69676.55, 69759.91, 69767.14, 69829.4, 69865.49, 69903.93, 70140.8, 70154.22, 70179.0, 70196.23, 70196.57, 70224.34, 70323.68, 70370.24, 70399.71, 70529.0, 70550.0, 70607.1, 70618.0, 70778.63, 70810.6, 71095.41, 71139.31, 71154.1, 71175.94, 71179.31, 71244.59, 71359.78, 71405.17, 71420.16, 71557.12, 71638.0, 71682.54, 71725.73, 71776.76, 71811.9, 71862.79, 71905.77, 72008.61, 72051.44, 72085.1, 72127.83, 72143.44, 72196.57, 72274.84, 72330.46, 72467.99, 72500.68, 72577.33, 72757.33, 72814.31, 72873.33, 72876.43, 72924.56, 72969.9, 72970.93, 72990.62, 73069.59, 73127.61, 73131.73, 73151.25, 73275.96, 73286.8, 73294.48, 73334.43, 73371.65, 73406.04, 73418.29, 73470.98, 73489.15, 73564.44, 73853.94, 73881.68, 74028.36, 74077.91, 74135.48, 74158.8, 74169.13, 74241.09, 74267.35, 74322.85, 74346.11, 74532.02, 74580.8, 74593.84, 74641.9, 74836.34, 74838.64, 74870.99, 74878.22, 74890.58, 74900.9, 74940.5, 74945.11, 74965.61, 75035.48, 75161.25, 75279.39, 75465.41, 75562.47, 75685.97, 75786.55, 75832.53, 75884.65, 75888.65, 75927.35, 75937.47, 76053.07, 76197.05, 76254.83, 76257.46, 76264.27, 76304.73, 76326.67, 76357.43, 76390.01, 76456.17, 76503.06, 76544.9, 76569.64, 76679.6, 76703.1, 76773.53, 76821.24, 76844.23, 76946.6, 77063.63, 77077.14, 77108.66, 77119.45, 77128.23, 77142.42, 77206.25, 77242.19, 77326.78, 77330.35, 77370.37, 77405.95, 77469.38, 77502.56, 77519.62, 77677.14, 77705.75, 77783.35, 77837.63, 77866.91, 77977.69, 78004.5, 78133.48, 78268.61, 78310.82, 78358.94, 78416.14, 78560.64, 78563.66, 78566.64, 78695.68, 78700.03, 78744.39, 78899.22, 79071.89, 79078.91, 79084.1, 79178.31, 79259.77, 79323.61, 79366.98, 79377.45, 79408.17, 79414.0, 79458.12, 79547.39, 79577.38, 79616.37, 79633.38, 79691.4, 79704.12, 79812.77, 79881.39, 79888.78, 79915.28, 79919.13, 79972.09, 80006.65, 80120.19, 80181.12, 80190.36, 80215.2, 80393.27, 80496.71, 80552.11, 80607.33, 80618.47, 80828.78, 80963.92, 81102.81, 81140.09, 81251.24, 81259.25, 81409.0, 81425.61, 81431.99, 81452.29, 81483.64, 81491.7, 81508.1, 81514.06, 81537.85, 81548.38, 81634.45, 81723.8, 81753.92, 81853.98, 81898.81, 81901.6, 81908.09, 82152.83, 82245.67, 82393.08, 82463.69, 82522.61, 82526.92, 82634.41, 82662.73, 83008.49, 83056.22, 83058.14, 83210.84, 83238.4, 83335.78, 83419.15, 83473.82, 83478.12, 83508.93, 83679.46, 83681.2, 83983.39, 84008.66, 84126.75, 84133.48, 84238.63, 84383.22, 84509.57, 84569.13, 84584.69, 84699.56, 84803.76, 84872.66, 84908.2, 84927.42, 84972.9, 85153.0, 85167.88, 85185.44, 85231.88, 85250.77, 85411.01, 85412.54, 85424.34, 85426.28, 85455.62, 85523.24, 85644.06, 85646.41, 85687.09, 85746.52, 85787.31, 85890.16, 85891.02, 86043.27, 86099.23, 86173.92, 86190.34, 86413.11, 86424.57, 86460.28, 86657.48, 86699.98, 86797.41, 86927.53, 86945.0, 86957.42, 86981.45, 86994.54, 87000.39, 87067.73, 87107.57, 87168.46, 87213.33, 87352.43, 87412.74, 87422.15, 87684.93, 87803.32, 87822.14, 87834.24, 87959.83, 88211.12, 88225.02, 88391.29, 88659.07, 88721.84, 88724.49, 88751.45, 88791.83, 88852.47, 88866.92, 88878.15, 88958.49, 88992.05, 89013.67, 89017.38, 89048.46, 89081.41, 89087.4, 89289.54, 89368.59, 89520.75, 89566.64, 89566.74, 89578.32, 89891.4, 90055.08, 90177.3, 90212.38, 90256.06, 90270.16, 90437.87, 90558.24, 90876.95, 90877.76, 90878.13, 90908.95, 90928.02, 90977.48, 91001.02, 91044.47, 91423.69, 91510.71, 91556.57, 91561.91, 91565.25, 91573.19, 91633.53, 91652.43, 91763.67, 91817.38, 91829.17, 91936.1, 91957.39, 91973.63, 92027.69, 92053.75, 92067.35, 92144.09, 92220.12, 92536.0, 92612.88, 92621.9, 92811.2, 92816.86, 92840.67, 92873.5, 92887.06, 92914.67, 92915.84, 92982.61, 93003.21, 93132.61, 93146.11, 93148.93, 93165.34, 93180.09, 93203.43, 93208.22, 93228.86, 93249.26, 93251.42, 93360.35, 93524.22, 93541.14, 93702.96, 93707.8, 93736.69, 93767.03, 93769.89, 93820.49, 93826.63, 93844.82, 93883.53, 93953.84, 94047.75, 94153.83, 94248.16, 94440.45, 94670.77, 94711.43, 94728.49, 94739.2, 94774.12, 94780.9, 94811.85, 94815.04, 94820.85, 94862.93, 94949.84, 94977.3, 94978.1, 94993.04, 95009.6, 95025.27, 95145.14, 95153.24, 95393.43, 95403.41, 95463.29, 95481.0, 95611.74, 95686.42, 95719.73, 95794.98, 95857.18, 95957.09, 96097.65, 96398.51, 96404.38, 96429.29, 96444.88, 96498.14, 96546.55, 96670.2, 96687.25, 96758.58, 96792.15, 96875.52, 96985.58, 97192.76, 97338.62, 97416.34, 97508.04, 97577.17, 97614.87, 97658.66, 97767.63, 97825.23, 97847.05, 97932.68, 98090.91, 98178.57, 98301.61, 98309.27, 98320.27, 98349.13, 98368.24, 98453.45, 98463.99, 98646.22, 98686.4, 98820.39, 98894.64, 98897.32, 99106.97, 99128.13, 99294.22, 99398.36, 99444.02, 99449.86, 99503.19, 99645.04, 99654.13, 99800.87, 99805.99, 99828.45, 99922.08, 100060.54, 100127.71, 100130.95, 100187.43, 100240.2, 100324.01, 100433.83, 100447.53, 100615.14, 100686.11, 100722.72, 100816.29, 100834.22, 101057.95, 101089.76, 101108.85, 101192.08, 101348.88, 101617.43, 101663.47, 101728.46, 101918.96, 101954.78, 102036.82, 102153.75, 102179.86, 102280.29, 102284.2, 102297.15, 102299.81, 102397.22, 102416.84, 102426.12, 102628.98, 102750.7, 102758.43, 102925.76, 102930.46, 102950.79, 102999.33, 103099.22, 103108.33, 103174.5, 103182.46, 103315.74, 103379.31, 103402.88, 103421.91, 103516.08, 103644.98, 103712.05, 103737.82, 103799.77, 103832.58, 103901.35, 103914.4, 103970.58, 104217.96, 104353.26, 104435.94, 104533.51, 104610.86, 104648.58, 104730.52, 104769.96, 104786.59, 104889.3, 104930.46, 104991.28, 105080.53, 105140.92, 105159.89, 105227.86, 105280.55, 105291.26, 105305.72, 105407.79, 105425.18, 105533.96, 105642.43, 105715.01, 105818.51, 105969.05, 105986.01, 105997.25, 106095.82, 106282.74, 106457.11, 106564.88, 106648.58, 106826.92, 106841.12, 106851.7, 106892.91, 107013.59, 107124.17, 107125.79, 107137.3, 107292.91, 107415.02, 107563.16, 107640.25, 107665.68, 107667.91, 107811.28, 107815.31, 107874.39, 107994.99, 108003.38, 108008.05, 108098.28, 108139.23, 108152.75, 108348.94, 108377.82, 108402.54, 108469.2, 108488.33, 108543.21, 108577.97, 108675.01, 108732.96, 108787.0, 108798.36, 108872.45, 108887.44, 108977.5, 109041.53, 109078.35, 109179.89, 109219.43, 109291.39, 109355.73, 109496.45, 109496.69, 109545.56, 109563.28, 109614.57, 109626.13, 109681.29, 109685.61, 109895.16, 110035.88, 110265.24, 110431.51, 110472.12, 110510.28, 110525.6, 110527.71, 110560.14, 110783.28, 110784.42, 110887.14, 110899.3, 110900.43, 110916.15, 110932.24, 110953.33, 111020.24, 111184.67, 111307.98, 111324.41, 111346.22, 111402.97, 111421.77, 111442.71, 111558.7, 111573.3, 111590.35, 111676.63, 111879.21, 111893.09, 111981.19, 112187.11, 112239.03, 112269.67, 112289.06, 112311.15, 112317.89, 112331.19, 112491.96, 112503.24, 112542.58, 112687.57, 112777.38, 113089.43, 113163.17, 113167.17, 113171.61, 113244.73, 113266.09, 113316.77, 113410.49, 113469.65, 113483.96, 113505.93, 113557.7, 113597.64, 113656.85, 113931.57, 114006.35, 114066.77, 114092.52, 114093.73, 114153.44, 114190.3, 114469.55, 114522.68, 114603.96, 114675.75, 114722.42, 114899.13, 114935.21, 114951.42, 114996.33, 114996.43, 115068.99, 115116.35, 115227.02, 115333.43, 115429.32, 115441.66, 115452.51, 115462.27, 115509.59, 115638.29, 115676.38, 115767.93, 115789.25, 115818.51, 115916.55, 115927.85, 115994.52, 116081.93, 116111.51, 116179.92, 116249.72, 116253.1, 116343.09, 116378.31, 116385.24, 116466.19, 116467.35, 116471.43, 116503.92, 116581.1, 116704.25, 116706.0, 116747.62, 116828.51, 116912.45, 116973.48, 116978.19, 117023.08, 117036.38, 117323.31, 117349.19, 117356.14, 117374.22, 117431.1, 117616.29, 117622.8, 117644.36, 117690.58, 117704.65, 117834.91, 117977.45, 118024.1, 118188.15, 118235.52, 118272.07, 118358.54, 118490.8, 118502.34, 118522.73, 118570.53, 118607.4, 118711.75, 118716.63, 118782.06, 118825.56, 118855.26, 118863.38, 118913.53, 118983.18, 119056.68, 119087.25, 119232.33, 119333.38, 119346.88, 119357.93, 119638.85, 119666.0, 119708.21, 119759.24, 119899.52, 119927.81, 119969.99, 119996.95, 120158.72, 120225.62, 120376.87, 120380.12, 120415.61, 120454.2, 120646.4, 120657.32, 120661.71, 120736.04, 120801.65, 120830.73, 120834.48, 120852.85, 120892.96, 120906.83, 121124.53, 121175.86, 121277.78, 121365.45, 121409.06, 121451.21, 121457.88, 121505.61, 121542.29, 121562.33, 121751.04, 121763.68, 121846.81, 121894.31, 121945.42, 121964.46, 121967.88, 121982.73, 122141.13, 122218.23, 122305.91, 122381.02, 122398.84, 122449.18, 122639.73, 122782.5, 122823.34, 122964.18, 122998.26, 123137.01, 123181.44, 123202.99, 123214.74, 123242.11, 123318.37, 123437.05, 123454.62, 123475.88, 123499.27, 123583.85, 123622.0, 123723.83, 123775.15, 123880.19, 123882.73, 123956.83, 123995.15, 124118.71, 124170.9, 124218.27, 124341.49, 124411.08, 124489.88, 124508.29, 124607.7, 124694.99, 124749.08, 124830.11, 124954.56, 124964.82, 125010.24, 125062.02, 125256.53, 125305.34, 125424.42, 125451.01, 125557.95, 125692.07, 125696.26, 125698.97, 125777.28, 125806.3, 125848.88, 125912.77, 125953.83, 125961.48, 125979.36, 126013.58, 126143.23, 126144.96, 126145.08, 126192.54, 126213.84, 126233.18, 126253.31, 126263.97, 126355.8, 126369.55, 126396.01, 126471.13, 126494.82, 126517.46, 126554.96, 126555.74, 126561.07, 126726.33, 126952.5, 126962.41, 127059.04, 127154.8, 127166.49, 127187.04, 127388.06, 127394.67, 127413.0, 127433.47, 127443.82, 127506.76, 127558.26, 127587.22, 127623.36, 127744.02, 127827.18, 127951.81, 128077.8, 128124.7, 128136.29, 128246.81, 128247.03, 128373.88, 128378.04, 128400.62, 128590.73, 128643.35, 128815.33, 128875.86, 128881.87, 129031.19, 129130.09, 129149.06, 129181.27, 129188.18, 129525.5, 129563.86, 129590.18, 129697.99, 129803.08, 129826.89, 129892.93, 129936.53, 129964.56, 129964.94, 130041.45, 130260.11, 130446.65, 130461.09, 130486.57, 130514.78, 130529.13, 130553.47, 130567.02, 130610.78, 130686.59, 130755.34, 130827.88, 130853.03, 131043.2, 131083.56, 131093.99, 131211.86, 131300.68, 131363.57, 131372.38, 131501.72, 131521.72, 131553.82, 131660.31, 131662.47, 131729.52, 131753.97, 131766.67, 131804.86, 131953.23, 131970.86, 132002.83, 132029.95, 132295.95, 132298.49, 132436.71, 132547.02, 132562.23, 132649.85, 132730.07, 132734.87, 132809.18, 132975.39, 133007.34, 133091.32, 133146.03, 133167.11, 133292.94, 133447.49, 133457.52, 133486.36, 133535.99, 133537.53, 133573.29, 133617.43, 133653.38, 133897.32, 133991.11, 133992.36, 134034.32, 134132.65, 134169.85, 134260.34, 134417.31, 134420.75, 134509.47, 134526.87, 134589.58, 134594.99, 134625.09, 134691.2, 134901.34, 135171.6, 135382.23, 135388.89, 135459.02, 135502.77, 135853.62, 135925.72, 136028.97, 136050.44, 136071.05, 136129.49, 136197.65, 136259.65, 136349.55, 136458.19, 136507.69, 136521.82, 136603.42, 136610.02, 136620.64, 136737.13, 136910.18, 136915.15, 137254.55, 137276.83, 137476.71, 137508.31, 137537.22, 137674.55, 137694.23, 137739.45, 138191.81, 138192.98, 138231.7, 138328.24, 138394.37, 138396.32, 138490.03, 138504.28, 138510.01, 138552.74, 138555.46, 138613.21, 138777.0, 138880.24, 138889.15, 139065.94, 139093.73, 139161.64, 139366.58, 139494.75, 139874.43, 139889.15, 139946.68, 139953.94, 139994.68, 140071.57, 140134.43, 140173.17, 140197.42, 140201.21, 140451.52, 140469.38, 140497.67, 140586.08, 140709.25, 140723.05, 140746.13, 140758.07, 140759.03, 140763.18, 140765.57, 140780.8, 140800.66, 140857.76, 140881.2, 140889.32, 140929.98, 140991.23, 141075.51, 141148.21, 141180.66, 141230.07, 141300.53, 141404.07, 141449.86, 141476.56, 141501.45, 141679.73, 141763.26, 141822.8, 141841.31, 141959.11, 141977.54, 141998.89, 142029.17, 142033.07, 142170.44, 142200.15, 142287.65, 142367.72, 142400.27, 142492.04, 142513.5, 142548.33, 142587.32, 142754.71, 142838.64, 142911.99, 142963.29, 143007.49, 143086.09, 143104.3, 143133.18, 143265.65, 143301.49, 143619.52, 143635.36, 143668.58, 143681.83, 143739.29, 143829.54, 143882.25, 143938.27, 143952.24, 143954.99, 144113.42, 144183.1, 144251.38, 144375.0, 144385.54, 144423.17, 144494.94, 144680.18, 144808.37, 144870.28, 145115.95, 145134.49, 145160.96, 145222.93, 145251.35, 145299.5, 145558.42, 145562.4, 145601.8, 145679.6, 145698.73, 145700.22, 145704.19, 145764.4, 145765.83, 145792.01, 145796.49, 145937.99, 146041.45, 146156.98, 146219.9, 146230.63, 146257.77, 146326.45, 146339.27, 146366.08, 146371.72, 146379.3, 146388.85, 146398.51, 146457.83, 146511.2, 146516.86, 146637.45, 146680.25, 146738.83, 146785.44, 146955.71, 146992.24, 147012.22, 147055.87, 147059.16, 147090.9, 147132.46, 147224.27, 147261.58, 147358.27, 147554.26, 147606.71, 147635.33, 147662.33, 147715.83, 147720.27, 147794.63, 147802.94, 147955.91, 147963.07, 147964.99, 148210.64, 148412.24, 148487.9, 148516.79, 148528.24, 148564.76, 148579.43, 148584.61, 148704.77, 148798.45, 148804.36, 149066.14, 149073.88, 149188.41, 149384.43, 149418.41, 149471.13, 149550.95, 149558.83, 149575.59, 149648.45, 149653.81, 149697.78, 149756.71, 149807.01, 149853.89, 149892.79, 149922.38, 149970.59, 150135.38, 150156.82, 150227.85, 150242.44, 150319.49, 150401.53, 150580.88, 151169.83, 151256.22, 151303.48, 151310.16, 151645.96, 151815.76, 151843.54, 151869.35, 151954.39, 152012.36, 152153.74, 152167.79, 152298.28, 152417.79, 152417.97, 152541.89, 152577.62, 152872.39, 152880.07, 152916.05, 152956.33, 152979.14, 152992.04, 153059.62, 153064.87, 153122.58, 153122.73, 153129.22, 153265.31, 153356.8, 153400.24, 153537.55, 153604.44, 153747.73, 153810.41, 153831.6, 153895.46, 154000.99, 154071.27, 154271.41, 154364.66, 154389.18, 154395.56, 154460.68, 154486.01, 154559.28, 154598.56, 154957.66, 154971.63, 155165.61, 155227.0, 155495.63, 155786.39, 155846.69, 155879.57, 155921.81, 155996.96, 156105.03, 156124.93, 156249.06, 156260.08, 156439.56, 156495.39, 156593.09, 156603.7, 156731.91, 156774.75, 156774.94, 156917.12, 157003.99, 157097.09, 157166.79, 157230.06, 157378.5, 157527.6, 157549.6, 157552.08, 157577.29, 157711.18, 157862.82, 157878.67, 157884.83, 157886.6, 157888.5, 157891.86, 157908.19, 157937.35, 158027.57, 158032.5, 158171.36, 158264.62, 158302.59, 158313.87, 158323.81, 158338.39, 158357.97, 158379.25, 158420.14, 158527.45, 158553.1, 158585.17, 158591.12, 158646.46, 158668.87, 158684.81, 158736.07, 158742.81, 158887.09, 158937.55, 159123.82, 159132.83, 159235.29, 159418.1, 159456.87, 159508.52, 159553.27, 159557.28, 159676.55, 159773.14, 159777.37, 159813.18, 159835.78, 159840.51, 160131.58, 160249.1, 160277.65, 160346.3, 160348.31, 160383.47, 160546.58, 160607.06, 160835.3, 160968.44, 160976.85, 160979.66, 160990.27, 161083.53, 161125.67, 161203.6, 161242.99, 161326.73, 161388.22, 161435.02, 161465.31, 161642.08, 161653.5, 161668.15, 161767.38, 161811.23, 161848.03, 161854.98, 161909.95, 162022.47, 162053.92, 162149.07, 162198.32, 162428.05, 162503.48, 162511.55, 162599.51, 162683.06, 162697.93, 162699.7, 162760.96, 162809.2, 162812.16, 162922.65, 163113.41, 163254.39, 163295.87, 163317.5, 163365.85, 163484.8, 163524.7, 163587.9, 163667.56, 163736.09, 163757.29, 163809.08, 164017.89, 164038.07, 164040.94, 164061.6, 164074.89, 164128.41, 164128.58, 164162.44, 164241.67, 164248.33, 164253.35, 164255.69, 164394.65, 164482.92, 164537.17, 164717.95, 164741.5, 164741.81, 164825.04, 164966.27, 165000.68, 165227.23, 165303.79, 165378.66, 165385.55, 165614.4, 165693.06, 166031.08, 166102.61, 166144.98, 166310.82, 166513.49, 166526.26, 166698.18, 166720.28, 166957.82, 166984.44, 167023.95, 167032.49, 167058.75, 167155.36, 167162.43, 167181.77, 167256.35, 167336.78, 167621.18, 167636.15, 167682.57, 167756.45, 167778.62, 167784.28, 167848.02, 167916.35, 167973.63, 167984.61, 168035.62, 168184.62, 168280.95, 168294.27, 168469.65, 168486.02, 168605.96, 168658.3, 168753.34, 168779.47, 168816.22, 168840.23, 168989.77, 169137.24, 169156.64, 169161.46, 169183.66, 169291.7, 169381.9, 169425.3, 169802.73, 169915.02, 169952.82, 170034.95, 170041.95, 170072.9, 170122.22, 170142.09, 170214.82, 170262.97, 170309.19, 170320.58, 170333.38, 170360.11, 170487.4, 170638.98, 170661.02, 170705.53, 170886.17, 170968.99, 171014.69, 171096.2, 171099.22, 171189.83, 171413.66, 171457.06, 171463.83, 171575.54, 171716.81, 171733.22, 171768.76, 171770.58, 172049.84, 172097.95, 172114.67, 172149.76, 172175.9, 172290.61, 172363.52, 172557.77, 172572.64, 172576.56, 172618.52, 172638.13, 172665.21, 172668.39, 172718.35, 172749.65, 172967.87, 173179.79, 173197.12, 173386.95, 173464.43, 173511.72, 173516.71, 173568.3, 173683.0, 173878.87, 173912.29, 173948.4, 173952.5, 174205.22, 174248.52, 174435.48, 174478.54, 174531.27, 174536.17, 174667.58, 174738.2, 174815.54, 174873.09, 175025.27, 175072.47, 175094.62, 175161.05, 175178.56, 175224.12, 175324.74, 175380.77, 175479.92, 175480.93, 175544.02, 175674.01, 175696.16, 175709.4, 175753.55, 175756.36, 175820.91, 175843.68, 175910.95, 176091.31, 176163.74, 176244.87, 176276.1, 176403.33, 176576.62, 176614.86, 176692.65, 176713.47, 176743.51, 176768.59, 176858.5, 176883.42, 176924.21, 177092.16, 177235.23, 177378.66, 177383.68, 177423.02, 177480.45, 177506.66, 177614.17, 177624.01, 177655.68, 177670.57, 177719.88, 177737.07, 177747.03, 177772.03, 177783.04, 177896.92, 177994.81, 178028.96, 178045.97, 178074.04, 178106.34, 178187.28, 178222.77, 178252.63, 178291.09, 178341.33, 178361.04, 178361.48, 178642.73, 178798.13, 178833.34, 178994.13, 178997.89, 179012.3, 179032.68, 179128.69, 179144.54, 179227.52, 179291.85, 179351.89, 179453.66, 179473.26, 179485.96, 179488.41, 179521.24, 179614.8, 179631.85, 179634.69, 179670.31, 179689.05, 179780.74, 179843.33, 179978.68, 180022.39, 180066.59, 180150.49, 180249.94, 180318.6, 180363.56, 180426.2, 180427.24, 180551.76, 180553.48, 180622.02, 180698.32, 180800.42, 180969.55, 181196.76, 181208.47, 181221.09, 181297.65, 181300.32, 181429.87, 181449.51, 181507.44, 181534.04, 181543.67, 181600.72, 181647.13, 181694.44, 181945.52, 181964.6, 182038.6, 182055.36, 182076.97, 182081.45, 182184.09, 182224.14, 182337.98, 182354.46, 182505.68, 182691.31, 182728.8, 182822.5, 182855.42, 182867.84, 182913.95, 183042.2, 183049.41, 183229.02, 183318.79, 183487.98, 183515.13, 183569.25, 183584.14, 183646.41, 183717.94, 183840.51, 183872.88, 183893.31, 184006.36, 184023.54, 184036.47, 184056.45, 184107.26, 184118.73, 184178.29, 184230.23, 184243.25, 184474.72, 184520.0, 184581.68, 184800.27, 184839.7, 184842.21, 185210.63, 185211.28, 185466.85, 185543.35, 185667.72, 185750.02, 185821.41, 185830.72, 186062.36, 186118.93, 186300.59, 186339.74, 186489.95, 186612.47, 186648.19, 186826.22, 186884.04, 186976.6, 187008.45, 187048.72, 187051.23, 187172.54, 187192.23, 187247.56, 187296.78, 187599.8, 187616.16, 187638.34, 187658.09, 187800.63, 187866.21, 187915.7, 187925.75, 187929.43, 187980.21, 188150.6, 188193.25, 188203.58, 188227.8, 188305.85, 188366.04, 188484.52, 188492.82, 188574.08, 188574.12, 188603.07, 188670.9, 189016.14, 189016.24, 189085.07, 189122.89, 189307.7, 189366.03, 189392.66, 189543.9, 189613.12, 189641.11, 189678.7, 189777.66, 189826.96, 189875.83, 189969.91, 189988.65, 189992.97, 190011.85, 190040.29, 190146.83, 190200.53, 190263.78, 190296.76, 190419.81, 190611.92, 190627.01, 190631.23, 190686.16, 190696.35, 190857.79, 190911.02, 190937.09, 190958.48, 190994.48, 191074.11, 191076.22, 191084.4, 191313.7, 191395.88, 191415.94, 191417.42, 191420.71, 191448.96, 191520.5, 191599.67, 191734.67, 191757.65, 191763.07, 191870.28, 192029.19, 192072.1, 192120.66, 192247.35, 192381.21, 192434.11, 192449.02, 192633.85, 192721.98, 192744.23, 192852.67, 193093.77, 193131.42, 193179.88, 193209.11, 193266.72, 193318.33, 193321.3, 193437.89, 193438.69, 193597.94, 193785.87, 193793.78, 193903.06, 194099.12, 194238.92, 194239.63, 194245.29, 194313.93, 194365.76, 194421.12, 194617.98, 194656.11, 194660.78, 194690.77, 194700.81, 194867.27, 194926.86, 194930.3, 194945.8, 195204.99, 195635.3, 195668.0, 195681.43, 195711.16, 195877.06, 195906.59, 195940.96, 195978.86, 196108.51, 196142.26, 196226.38, 196257.68, 196260.3, 196335.48, 196356.17, 196466.83, 196499.96, 196574.48, 196582.28, 196673.28, 196789.9, 196853.11, 196875.87, 196990.79, 197001.15, 197015.2, 197077.36, 197276.13, 197283.2, 197322.13, 197490.39, 197548.63, 197572.41, 197602.29, 197643.24, 197688.5, 197885.72, 197916.43, 197961.93, 197996.65, 198059.16, 198064.52, 198091.81, 198129.36, 198134.9, 198182.73, 198252.88, 198341.15, 198402.37, 198490.33, 198637.34, 198714.29, 198715.27, 198766.61, 198814.24, 198914.8, 198926.36, 199138.84, 199242.65, 199249.29, 199290.68, 199293.01, 199316.19, 199336.63, 199420.41, 199428.19, 199493.38, 199505.53, 199635.93, 199638.56, 199645.45, 199657.46, 199661.5, 199725.39, 199727.72, 199953.33]\n",
            "--------------------------------------------------\n",
            "Valores únicos na coluna 'encerrou_conta':\n",
            "[0, 1]\n",
            "--------------------------------------------------\n"
          ]
        }
      ]
    },
    {
      "cell_type": "markdown",
      "source": [
        "### **Alteração de Categoria**"
      ],
      "metadata": {
        "id": "LSeZTn-5W3lQ"
      }
    },
    {
      "cell_type": "code",
      "source": [
        "df.show()"
      ],
      "metadata": {
        "colab": {
          "base_uri": "https://localhost:8080/"
        },
        "id": "OZ8fh68FWvmH",
        "outputId": "4786f1ee-2f90-4cc2-bff6-316ff8295382"
      },
      "execution_count": null,
      "outputs": [
        {
          "output_type": "stream",
          "name": "stdout",
          "text": [
            "+----------+-----------------+-----------+---------+-----+-----------------+---------+------------+------------------+------------+----------------+--------------+\n",
            "| sobrenome|pontuacao_credito|localizacao|   genero|idade|tempo_permanencia|    saldo|num_produtos|tem_cartao_credito|membro_ativo|salario_estimado|encerrou_conta|\n",
            "+----------+-----------------+-----------+---------+-----+-----------------+---------+------------+------------------+------------+----------------+--------------+\n",
            "|     Abazu|              584|    Espanha|Masculino|   32|                9| 85534.83|           1|                 0|           0|       169137.24|             0|\n",
            "|     Abbie|              818|     França| Feminino|   31|                1|186796.37|           1|                 0|           0|       178252.63|             0|\n",
            "|    Abbott|              573|     França| Feminino|   33|                0| 90124.64|           1|                 1|           0|       137476.71|             0|\n",
            "|  Abdullah|              802|     França| Feminino|   60|                3| 92887.06|           1|                 1|           0|        39473.63|             1|\n",
            "|   Abdulov|              562|   Alemanha| Feminino|   31|                9| 117153.0|           1|                 1|           1|       108675.01|             0|\n",
            "|      Abel|              544|     França|Masculino|   40|                8|      0.0|           2|                 1|           0|         61581.2|             0|\n",
            "| Abernathy|              560|     França| Feminino|   30|                0|108883.29|           1|                 1|           0|        27914.95|             0|\n",
            "|   Abramov|              755|     França|Masculino|   41|                6|104817.41|           1|                 1|           0|       126013.58|             1|\n",
            "|  Abramova|              661|   Alemanha|Masculino|   41|                5|122552.48|           2|                 0|           1|        120646.4|             0|\n",
            "|Abramovich|              630|    Espanha| Feminino|   39|                7|135483.17|           1|                 1|           0|        140881.2|             1|\n",
            "|Abramowitz|              690|     França|Masculino|   54|                5|      0.0|           1|                 1|           0|        12847.61|             1|\n",
            "|    Abrego|              702|   Alemanha| Feminino|   23|                7| 98775.23|           1|                 1|           0|       114603.96|             0|\n",
            "|     Abron|              708|     França|Masculino|   41|                0|      0.0|           1|                 1|           0|       128400.62|             0|\n",
            "|    Achebe|              651|   Alemanha| Feminino|   41|                4|133432.59|           1|                 0|           1|       151303.48|             0|\n",
            "|     Adams|              791|     França|Masculino|   28|                4|      0.0|           1|                 1|           0|       174435.48|             0|\n",
            "|   Adamson|              506|     França| Feminino|   57|                6|      0.0|           2|                 0|           1|       194421.12|             1|\n",
            "| Afamefula|              579|    Espanha|Masculino|   22|                3|118680.57|           1|                 1|           1|         49829.8|             0|\n",
            "| Afamefuna|              629|    Espanha|Masculino|   36|                1|161757.87|           2|                 1|           1|       146371.72|             0|\n",
            "| Afanasyev|              850|   Alemanha| Feminino|   47|                4| 99219.47|           2|                 1|           1|       122141.13|             0|\n",
            "|Afanasyeva|              726|     França| Feminino|   34|                0|185734.75|           1|                 1|           1|       102036.82|             0|\n",
            "+----------+-----------------+-----------+---------+-----+-----------------+---------+------------+------------------+------------+----------------+--------------+\n",
            "only showing top 20 rows\n",
            "\n"
          ]
        }
      ]
    },
    {
      "cell_type": "code",
      "source": [
        "# Verificação\n",
        "df.withColumn(\"tem_cartao_credito\", when(df[\"tem_cartao_credito\"] == 0, \"Não\")\n",
        "                                   .when(df[\"tem_cartao_credito\"] == 1, \"Sim\")\n",
        "                                   .otherwise(df[\"tem_cartao_credito\"])).show()"
      ],
      "metadata": {
        "colab": {
          "base_uri": "https://localhost:8080/"
        },
        "id": "TwqZG4tnWvjH",
        "outputId": "0c7e5210-3785-445e-f7ad-b48f2e17ec62"
      },
      "execution_count": null,
      "outputs": [
        {
          "output_type": "stream",
          "name": "stdout",
          "text": [
            "+----------+-----------------+-----------+---------+-----+-----------------+---------+------------+------------------+------------+----------------+--------------+\n",
            "| sobrenome|pontuacao_credito|localizacao|   genero|idade|tempo_permanencia|    saldo|num_produtos|tem_cartao_credito|membro_ativo|salario_estimado|encerrou_conta|\n",
            "+----------+-----------------+-----------+---------+-----+-----------------+---------+------------+------------------+------------+----------------+--------------+\n",
            "|     Abazu|              584|    Espanha|Masculino|   32|                9| 85534.83|           1|               Não|           0|       169137.24|             0|\n",
            "|     Abbie|              818|     França| Feminino|   31|                1|186796.37|           1|               Não|           0|       178252.63|             0|\n",
            "|    Abbott|              573|     França| Feminino|   33|                0| 90124.64|           1|               Sim|           0|       137476.71|             0|\n",
            "|  Abdullah|              802|     França| Feminino|   60|                3| 92887.06|           1|               Sim|           0|        39473.63|             1|\n",
            "|   Abdulov|              562|   Alemanha| Feminino|   31|                9| 117153.0|           1|               Sim|           1|       108675.01|             0|\n",
            "|      Abel|              544|     França|Masculino|   40|                8|      0.0|           2|               Sim|           0|         61581.2|             0|\n",
            "| Abernathy|              560|     França| Feminino|   30|                0|108883.29|           1|               Sim|           0|        27914.95|             0|\n",
            "|   Abramov|              755|     França|Masculino|   41|                6|104817.41|           1|               Sim|           0|       126013.58|             1|\n",
            "|  Abramova|              661|   Alemanha|Masculino|   41|                5|122552.48|           2|               Não|           1|        120646.4|             0|\n",
            "|Abramovich|              630|    Espanha| Feminino|   39|                7|135483.17|           1|               Sim|           0|        140881.2|             1|\n",
            "|Abramowitz|              690|     França|Masculino|   54|                5|      0.0|           1|               Sim|           0|        12847.61|             1|\n",
            "|    Abrego|              702|   Alemanha| Feminino|   23|                7| 98775.23|           1|               Sim|           0|       114603.96|             0|\n",
            "|     Abron|              708|     França|Masculino|   41|                0|      0.0|           1|               Sim|           0|       128400.62|             0|\n",
            "|    Achebe|              651|   Alemanha| Feminino|   41|                4|133432.59|           1|               Não|           1|       151303.48|             0|\n",
            "|     Adams|              791|     França|Masculino|   28|                4|      0.0|           1|               Sim|           0|       174435.48|             0|\n",
            "|   Adamson|              506|     França| Feminino|   57|                6|      0.0|           2|               Não|           1|       194421.12|             1|\n",
            "| Afamefula|              579|    Espanha|Masculino|   22|                3|118680.57|           1|               Sim|           1|         49829.8|             0|\n",
            "| Afamefuna|              629|    Espanha|Masculino|   36|                1|161757.87|           2|               Sim|           1|       146371.72|             0|\n",
            "| Afanasyev|              850|   Alemanha| Feminino|   47|                4| 99219.47|           2|               Sim|           1|       122141.13|             0|\n",
            "|Afanasyeva|              726|     França| Feminino|   34|                0|185734.75|           1|               Sim|           1|       102036.82|             0|\n",
            "+----------+-----------------+-----------+---------+-----+-----------------+---------+------------+------------------+------------+----------------+--------------+\n",
            "only showing top 20 rows\n",
            "\n"
          ]
        }
      ]
    },
    {
      "cell_type": "code",
      "source": [
        "# Com função\n",
        "def substituir_valores(df, coluna):\n",
        "    return df.withColumn(coluna, when(df[coluna] == 0, \"Não\")\n",
        "                                .when(df[coluna] == 1, \"Sim\")\n",
        "                                .otherwise(df[coluna]))\n",
        "\n",
        "# Aplicação\n",
        "df = substituir_valores(df, \"tem_cartao_credito\")\n",
        "df = substituir_valores(df, \"membro_ativo\")\n",
        "df = substituir_valores(df, \"encerrou_conta\")"
      ],
      "metadata": {
        "id": "K1rv85pJWvf3"
      },
      "execution_count": null,
      "outputs": []
    },
    {
      "cell_type": "code",
      "source": [
        "df.show()"
      ],
      "metadata": {
        "colab": {
          "base_uri": "https://localhost:8080/"
        },
        "id": "EYHOnGLYWvdH",
        "outputId": "5882ab3e-051b-4d75-9c57-95361f29832d"
      },
      "execution_count": null,
      "outputs": [
        {
          "output_type": "stream",
          "name": "stdout",
          "text": [
            "+----------+-----------------+-----------+---------+-----+-----------------+---------+------------+------------------+------------+----------------+--------------+\n",
            "| sobrenome|pontuacao_credito|localizacao|   genero|idade|tempo_permanencia|    saldo|num_produtos|tem_cartao_credito|membro_ativo|salario_estimado|encerrou_conta|\n",
            "+----------+-----------------+-----------+---------+-----+-----------------+---------+------------+------------------+------------+----------------+--------------+\n",
            "|     Abazu|              584|    Espanha|Masculino|   32|                9| 85534.83|           1|               Não|         Não|       169137.24|           Não|\n",
            "|     Abbie|              818|     França| Feminino|   31|                1|186796.37|           1|               Não|         Não|       178252.63|           Não|\n",
            "|    Abbott|              573|     França| Feminino|   33|                0| 90124.64|           1|               Sim|         Não|       137476.71|           Não|\n",
            "|  Abdullah|              802|     França| Feminino|   60|                3| 92887.06|           1|               Sim|         Não|        39473.63|           Sim|\n",
            "|   Abdulov|              562|   Alemanha| Feminino|   31|                9| 117153.0|           1|               Sim|         Sim|       108675.01|           Não|\n",
            "|      Abel|              544|     França|Masculino|   40|                8|      0.0|           2|               Sim|         Não|         61581.2|           Não|\n",
            "| Abernathy|              560|     França| Feminino|   30|                0|108883.29|           1|               Sim|         Não|        27914.95|           Não|\n",
            "|   Abramov|              755|     França|Masculino|   41|                6|104817.41|           1|               Sim|         Não|       126013.58|           Sim|\n",
            "|  Abramova|              661|   Alemanha|Masculino|   41|                5|122552.48|           2|               Não|         Sim|        120646.4|           Não|\n",
            "|Abramovich|              630|    Espanha| Feminino|   39|                7|135483.17|           1|               Sim|         Não|        140881.2|           Sim|\n",
            "|Abramowitz|              690|     França|Masculino|   54|                5|      0.0|           1|               Sim|         Não|        12847.61|           Sim|\n",
            "|    Abrego|              702|   Alemanha| Feminino|   23|                7| 98775.23|           1|               Sim|         Não|       114603.96|           Não|\n",
            "|     Abron|              708|     França|Masculino|   41|                0|      0.0|           1|               Sim|         Não|       128400.62|           Não|\n",
            "|    Achebe|              651|   Alemanha| Feminino|   41|                4|133432.59|           1|               Não|         Sim|       151303.48|           Não|\n",
            "|     Adams|              791|     França|Masculino|   28|                4|      0.0|           1|               Sim|         Não|       174435.48|           Não|\n",
            "|   Adamson|              506|     França| Feminino|   57|                6|      0.0|           2|               Não|         Sim|       194421.12|           Sim|\n",
            "| Afamefula|              579|    Espanha|Masculino|   22|                3|118680.57|           1|               Sim|         Sim|         49829.8|           Não|\n",
            "| Afamefuna|              629|    Espanha|Masculino|   36|                1|161757.87|           2|               Sim|         Sim|       146371.72|           Não|\n",
            "| Afanasyev|              850|   Alemanha| Feminino|   47|                4| 99219.47|           2|               Sim|         Sim|       122141.13|           Não|\n",
            "|Afanasyeva|              726|     França| Feminino|   34|                0|185734.75|           1|               Sim|         Sim|       102036.82|           Não|\n",
            "+----------+-----------------+-----------+---------+-----+-----------------+---------+------------+------------------+------------+----------------+--------------+\n",
            "only showing top 20 rows\n",
            "\n"
          ]
        }
      ]
    },
    {
      "cell_type": "markdown",
      "source": [
        "### **Tipos de Dados**"
      ],
      "metadata": {
        "id": "uMtdxT4vXE_S"
      }
    },
    {
      "cell_type": "code",
      "source": [
        "# Verificando o tipo de dados de cada coluna\n",
        "df.dtypes"
      ],
      "metadata": {
        "colab": {
          "base_uri": "https://localhost:8080/"
        },
        "id": "nEjDUQS_WvaH",
        "outputId": "f73d671e-143b-4969-e290-74ab58832260"
      },
      "execution_count": null,
      "outputs": [
        {
          "output_type": "execute_result",
          "data": {
            "text/plain": [
              "[('sobrenome', 'string'),\n",
              " ('pontuacao_credito', 'int'),\n",
              " ('localizacao', 'string'),\n",
              " ('genero', 'string'),\n",
              " ('idade', 'int'),\n",
              " ('tempo_permanencia', 'int'),\n",
              " ('saldo', 'double'),\n",
              " ('num_produtos', 'int'),\n",
              " ('tem_cartao_credito', 'string'),\n",
              " ('membro_ativo', 'string'),\n",
              " ('salario_estimado', 'double'),\n",
              " ('encerrou_conta', 'string')]"
            ]
          },
          "metadata": {},
          "execution_count": 57
        }
      ]
    },
    {
      "cell_type": "code",
      "source": [
        "# Informações detalhadas do conjunto de dados\n",
        "df.printSchema()"
      ],
      "metadata": {
        "colab": {
          "base_uri": "https://localhost:8080/"
        },
        "id": "tomGDII6WvXH",
        "outputId": "a6360a6f-1367-4df0-e1d7-811cdeff3e70"
      },
      "execution_count": null,
      "outputs": [
        {
          "output_type": "stream",
          "name": "stdout",
          "text": [
            "root\n",
            " |-- sobrenome: string (nullable = true)\n",
            " |-- pontuacao_credito: integer (nullable = true)\n",
            " |-- localizacao: string (nullable = true)\n",
            " |-- genero: string (nullable = true)\n",
            " |-- idade: integer (nullable = true)\n",
            " |-- tempo_permanencia: integer (nullable = true)\n",
            " |-- saldo: double (nullable = true)\n",
            " |-- num_produtos: integer (nullable = true)\n",
            " |-- tem_cartao_credito: string (nullable = true)\n",
            " |-- membro_ativo: string (nullable = true)\n",
            " |-- salario_estimado: double (nullable = true)\n",
            " |-- encerrou_conta: string (nullable = true)\n",
            "\n"
          ]
        }
      ]
    },
    {
      "cell_type": "markdown",
      "source": [
        "No PySpark, você pode trabalhar com vários tipos de dados para representar diferentes tipos de informações. Alguns dos tipos de dados comuns disponíveis no PySpark incluem:\n",
        "\n",
        "*  String: Para armazenar dados de texto.\n",
        "*  Integer: Para armazenar números inteiros.\n",
        "*  Double: Para armazenar números decimais de precisão dupla (64 bits).\n",
        "*  Float: Para armazenar números decimais de precisão simples (32 bits).\n",
        "*  Boolean: Para armazenar valores booleanos (True ou False).\n",
        "*  DateType: Para armazenar datas."
      ],
      "metadata": {
        "id": "P5htKh1FXMWD"
      }
    },
    {
      "cell_type": "code",
      "source": [
        "df.show()"
      ],
      "metadata": {
        "colab": {
          "base_uri": "https://localhost:8080/"
        },
        "id": "hO80nXXXWvUf",
        "outputId": "615f8cbd-0323-4d05-aee6-0f5c313a2952"
      },
      "execution_count": null,
      "outputs": [
        {
          "output_type": "stream",
          "name": "stdout",
          "text": [
            "+----------+-----------------+-----------+---------+-----+-----------------+---------+------------+------------------+------------+----------------+--------------+\n",
            "| sobrenome|pontuacao_credito|localizacao|   genero|idade|tempo_permanencia|    saldo|num_produtos|tem_cartao_credito|membro_ativo|salario_estimado|encerrou_conta|\n",
            "+----------+-----------------+-----------+---------+-----+-----------------+---------+------------+------------------+------------+----------------+--------------+\n",
            "|     Abazu|              584|    Espanha|Masculino|   32|                9| 85534.83|           1|               Não|         Não|       169137.24|           Não|\n",
            "|     Abbie|              818|     França| Feminino|   31|                1|186796.37|           1|               Não|         Não|       178252.63|           Não|\n",
            "|    Abbott|              573|     França| Feminino|   33|                0| 90124.64|           1|               Sim|         Não|       137476.71|           Não|\n",
            "|  Abdullah|              802|     França| Feminino|   60|                3| 92887.06|           1|               Sim|         Não|        39473.63|           Sim|\n",
            "|   Abdulov|              562|   Alemanha| Feminino|   31|                9| 117153.0|           1|               Sim|         Sim|       108675.01|           Não|\n",
            "|      Abel|              544|     França|Masculino|   40|                8|      0.0|           2|               Sim|         Não|         61581.2|           Não|\n",
            "| Abernathy|              560|     França| Feminino|   30|                0|108883.29|           1|               Sim|         Não|        27914.95|           Não|\n",
            "|   Abramov|              755|     França|Masculino|   41|                6|104817.41|           1|               Sim|         Não|       126013.58|           Sim|\n",
            "|  Abramova|              661|   Alemanha|Masculino|   41|                5|122552.48|           2|               Não|         Sim|        120646.4|           Não|\n",
            "|Abramovich|              630|    Espanha| Feminino|   39|                7|135483.17|           1|               Sim|         Não|        140881.2|           Sim|\n",
            "|Abramowitz|              690|     França|Masculino|   54|                5|      0.0|           1|               Sim|         Não|        12847.61|           Sim|\n",
            "|    Abrego|              702|   Alemanha| Feminino|   23|                7| 98775.23|           1|               Sim|         Não|       114603.96|           Não|\n",
            "|     Abron|              708|     França|Masculino|   41|                0|      0.0|           1|               Sim|         Não|       128400.62|           Não|\n",
            "|    Achebe|              651|   Alemanha| Feminino|   41|                4|133432.59|           1|               Não|         Sim|       151303.48|           Não|\n",
            "|     Adams|              791|     França|Masculino|   28|                4|      0.0|           1|               Sim|         Não|       174435.48|           Não|\n",
            "|   Adamson|              506|     França| Feminino|   57|                6|      0.0|           2|               Não|         Sim|       194421.12|           Sim|\n",
            "| Afamefula|              579|    Espanha|Masculino|   22|                3|118680.57|           1|               Sim|         Sim|         49829.8|           Não|\n",
            "| Afamefuna|              629|    Espanha|Masculino|   36|                1|161757.87|           2|               Sim|         Sim|       146371.72|           Não|\n",
            "| Afanasyev|              850|   Alemanha| Feminino|   47|                4| 99219.47|           2|               Sim|         Sim|       122141.13|           Não|\n",
            "|Afanasyeva|              726|     França| Feminino|   34|                0|185734.75|           1|               Sim|         Sim|       102036.82|           Não|\n",
            "+----------+-----------------+-----------+---------+-----+-----------------+---------+------------+------------------+------------+----------------+--------------+\n",
            "only showing top 20 rows\n",
            "\n"
          ]
        }
      ]
    },
    {
      "cell_type": "code",
      "source": [
        "# Convertendo tipos de dados necessários\n",
        "df = df.withColumn(\"saldo\", df[\"saldo\"].cast(\"float\"))\n",
        "df = df.withColumn(\"salario_estimado\", df[\"salario_estimado\"].cast(\"float\"))"
      ],
      "metadata": {
        "id": "d3dgEH2YWvRX"
      },
      "execution_count": null,
      "outputs": []
    },
    {
      "cell_type": "code",
      "source": [
        "# verificação\n",
        "df.dtypes"
      ],
      "metadata": {
        "colab": {
          "base_uri": "https://localhost:8080/"
        },
        "id": "TMZigngVWvOP",
        "outputId": "ef1a6e08-83e2-49dd-dd84-c04995632a71"
      },
      "execution_count": null,
      "outputs": [
        {
          "output_type": "execute_result",
          "data": {
            "text/plain": [
              "[('sobrenome', 'string'),\n",
              " ('pontuacao_credito', 'int'),\n",
              " ('localizacao', 'string'),\n",
              " ('genero', 'string'),\n",
              " ('idade', 'int'),\n",
              " ('tempo_permanencia', 'int'),\n",
              " ('saldo', 'float'),\n",
              " ('num_produtos', 'int'),\n",
              " ('tem_cartao_credito', 'string'),\n",
              " ('membro_ativo', 'string'),\n",
              " ('salario_estimado', 'float'),\n",
              " ('encerrou_conta', 'string')]"
            ]
          },
          "metadata": {},
          "execution_count": 61
        }
      ]
    },
    {
      "cell_type": "code",
      "source": [
        "df.printSchema()"
      ],
      "metadata": {
        "colab": {
          "base_uri": "https://localhost:8080/"
        },
        "id": "Yw7S616KWvLX",
        "outputId": "9512a66b-abe5-40b2-d759-e4de7739b2d1"
      },
      "execution_count": null,
      "outputs": [
        {
          "output_type": "stream",
          "name": "stdout",
          "text": [
            "root\n",
            " |-- sobrenome: string (nullable = true)\n",
            " |-- pontuacao_credito: integer (nullable = true)\n",
            " |-- localizacao: string (nullable = true)\n",
            " |-- genero: string (nullable = true)\n",
            " |-- idade: integer (nullable = true)\n",
            " |-- tempo_permanencia: integer (nullable = true)\n",
            " |-- saldo: float (nullable = true)\n",
            " |-- num_produtos: integer (nullable = true)\n",
            " |-- tem_cartao_credito: string (nullable = true)\n",
            " |-- membro_ativo: string (nullable = true)\n",
            " |-- salario_estimado: float (nullable = true)\n",
            " |-- encerrou_conta: string (nullable = true)\n",
            "\n"
          ]
        }
      ]
    },
    {
      "cell_type": "markdown",
      "source": [
        "### **Integridade dos dados**"
      ],
      "metadata": {
        "id": "MGBoj7hLXdOE"
      }
    },
    {
      "cell_type": "code",
      "source": [
        "# Instalação do pacote pandera\n",
        "!pip install pandera"
      ],
      "metadata": {
        "colab": {
          "base_uri": "https://localhost:8080/"
        },
        "id": "e7Ii3xScWvIf",
        "outputId": "a536d441-34b0-4261-a166-a8c3ed4364e6"
      },
      "execution_count": null,
      "outputs": [
        {
          "output_type": "stream",
          "name": "stdout",
          "text": [
            "Requirement already satisfied: pandera in /usr/local/lib/python3.10/dist-packages (0.19.3)\n",
            "Requirement already satisfied: multimethod<=1.10.0 in /usr/local/lib/python3.10/dist-packages (from pandera) (1.10)\n",
            "Requirement already satisfied: numpy>=1.19.0 in /usr/local/lib/python3.10/dist-packages (from pandera) (1.25.2)\n",
            "Requirement already satisfied: packaging>=20.0 in /usr/local/lib/python3.10/dist-packages (from pandera) (24.0)\n",
            "Requirement already satisfied: pandas>=1.2.0 in /usr/local/lib/python3.10/dist-packages (from pandera) (2.0.3)\n",
            "Requirement already satisfied: pydantic in /usr/local/lib/python3.10/dist-packages (from pandera) (2.7.1)\n",
            "Requirement already satisfied: typeguard in /usr/local/lib/python3.10/dist-packages (from pandera) (4.2.1)\n",
            "Requirement already satisfied: typing-inspect>=0.6.0 in /usr/local/lib/python3.10/dist-packages (from pandera) (0.9.0)\n",
            "Requirement already satisfied: wrapt in /usr/local/lib/python3.10/dist-packages (from pandera) (1.14.1)\n",
            "Requirement already satisfied: python-dateutil>=2.8.2 in /usr/local/lib/python3.10/dist-packages (from pandas>=1.2.0->pandera) (2.8.2)\n",
            "Requirement already satisfied: pytz>=2020.1 in /usr/local/lib/python3.10/dist-packages (from pandas>=1.2.0->pandera) (2023.4)\n",
            "Requirement already satisfied: tzdata>=2022.1 in /usr/local/lib/python3.10/dist-packages (from pandas>=1.2.0->pandera) (2024.1)\n",
            "Requirement already satisfied: mypy-extensions>=0.3.0 in /usr/local/lib/python3.10/dist-packages (from typing-inspect>=0.6.0->pandera) (1.0.0)\n",
            "Requirement already satisfied: typing-extensions>=3.7.4 in /usr/local/lib/python3.10/dist-packages (from typing-inspect>=0.6.0->pandera) (4.11.0)\n",
            "Requirement already satisfied: annotated-types>=0.4.0 in /usr/local/lib/python3.10/dist-packages (from pydantic->pandera) (0.6.0)\n",
            "Requirement already satisfied: pydantic-core==2.18.2 in /usr/local/lib/python3.10/dist-packages (from pydantic->pandera) (2.18.2)\n",
            "Requirement already satisfied: six>=1.5 in /usr/local/lib/python3.10/dist-packages (from python-dateutil>=2.8.2->pandas>=1.2.0->pandera) (1.16.0)\n"
          ]
        }
      ]
    },
    {
      "cell_type": "code",
      "source": [
        "# Importando Biblioteca\n",
        "import pandas as pd\n",
        "import pandera as pa"
      ],
      "metadata": {
        "id": "UaNBkntkXile"
      },
      "execution_count": null,
      "outputs": []
    },
    {
      "cell_type": "code",
      "source": [
        "# Coletando os dados do PySpark DataFrame para Pandas\n",
        "df_pandas = df.toPandas()"
      ],
      "metadata": {
        "id": "xxQ-BPcmXiLv"
      },
      "execution_count": null,
      "outputs": []
    },
    {
      "cell_type": "code",
      "source": [
        "# Vendo o nosso conjunto de dados\n",
        "df_pandas.info()"
      ],
      "metadata": {
        "colab": {
          "base_uri": "https://localhost:8080/"
        },
        "id": "_YqxEPMwXiIu",
        "outputId": "18d47053-649c-4bee-c31a-02e266a3a4bc"
      },
      "execution_count": null,
      "outputs": [
        {
          "output_type": "stream",
          "name": "stdout",
          "text": [
            "<class 'pandas.core.frame.DataFrame'>\n",
            "RangeIndex: 2932 entries, 0 to 2931\n",
            "Data columns (total 12 columns):\n",
            " #   Column              Non-Null Count  Dtype  \n",
            "---  ------              --------------  -----  \n",
            " 0   sobrenome           2932 non-null   object \n",
            " 1   pontuacao_credito   2932 non-null   int32  \n",
            " 2   localizacao         2932 non-null   object \n",
            " 3   genero              2932 non-null   object \n",
            " 4   idade               2932 non-null   int32  \n",
            " 5   tempo_permanencia   2932 non-null   int32  \n",
            " 6   saldo               2932 non-null   float32\n",
            " 7   num_produtos        2932 non-null   int32  \n",
            " 8   tem_cartao_credito  2932 non-null   object \n",
            " 9   membro_ativo        2932 non-null   object \n",
            " 10  salario_estimado    2932 non-null   float32\n",
            " 11  encerrou_conta      2932 non-null   object \n",
            "dtypes: float32(2), int32(4), object(6)\n",
            "memory usage: 206.3+ KB\n"
          ]
        }
      ]
    },
    {
      "cell_type": "code",
      "source": [
        "# Definindo o esquema de validação com Pandera\n",
        "schema = pa.DataFrameSchema({\n",
        "    'sobrenome': pa.Column(pa.String),\n",
        "    'pontuacao_credito': pa.Column(pa.Int32),\n",
        "    'localizacao': pa.Column(pa.String),\n",
        "    'genero': pa.Column(pa.String),\n",
        "    'idade': pa.Column(pa.Int32),\n",
        "    'tempo_permanencia': pa.Column(pa.Int32),\n",
        "    'saldo': pa.Column(pa.Float32),\n",
        "    'num_produtos': pa.Column(pa.Int32),\n",
        "    'tem_cartao_credito': pa.Column(pa.String),\n",
        "    'membro_ativo': pa.Column(pa.String),\n",
        "    'salario_estimado': pa.Column(pa.Float32),\n",
        "    'encerrou_conta': pa.Column(pa.String)\n",
        "})"
      ],
      "metadata": {
        "id": "_xz7I-V1XiFm"
      },
      "execution_count": null,
      "outputs": []
    },
    {
      "cell_type": "code",
      "source": [
        "# Validar o DataFrame\n",
        "schema.validate(df_pandas)"
      ],
      "metadata": {
        "colab": {
          "base_uri": "https://localhost:8080/",
          "height": 443
        },
        "id": "uk0xCA5xXiCu",
        "outputId": "bbccb960-87ca-4669-b8b2-2ee41b1774bf"
      },
      "execution_count": null,
      "outputs": [
        {
          "output_type": "execute_result",
          "data": {
            "text/plain": [
              "     sobrenome  pontuacao_credito localizacao     genero  idade  \\\n",
              "0        Abazu                584     Espanha  Masculino     32   \n",
              "1        Abbie                818      França   Feminino     31   \n",
              "2       Abbott                573      França   Feminino     33   \n",
              "3     Abdullah                802      França   Feminino     60   \n",
              "4      Abdulov                562    Alemanha   Feminino     31   \n",
              "...        ...                ...         ...        ...    ...   \n",
              "2927   Zubarev                749      França   Feminino     26   \n",
              "2928  Zubareva                592      França  Masculino     42   \n",
              "2929      Zuev                730      França  Masculino     39   \n",
              "2930     Zuyev                621     Espanha  Masculino     53   \n",
              "2931    Zuyeva                606    Alemanha   Feminino     32   \n",
              "\n",
              "      tempo_permanencia          saldo  num_produtos tem_cartao_credito  \\\n",
              "0                     9   85534.828125             1                Não   \n",
              "1                     1  186796.375000             1                Não   \n",
              "2                     0   90124.640625             1                Sim   \n",
              "3                     3   92887.062500             1                Sim   \n",
              "4                     9  117153.000000             1                Sim   \n",
              "...                 ...            ...           ...                ...   \n",
              "2927                  6       0.000000             2                Não   \n",
              "2928                  1  147249.296875             2                Sim   \n",
              "2929                  1  116537.601562             1                Não   \n",
              "2930                  9  170491.843750             1                Sim   \n",
              "2931                  1  106301.851562             2                Não   \n",
              "\n",
              "     membro_ativo  salario_estimado encerrou_conta  \n",
              "0             Não     169137.234375            Não  \n",
              "1             Não     178252.625000            Não  \n",
              "2             Não     137476.703125            Não  \n",
              "3             Não      39473.628906            Sim  \n",
              "4             Sim     108675.007812            Não  \n",
              "...           ...               ...            ...  \n",
              "2927          Sim      34948.769531            Não  \n",
              "2928          Sim      63023.019531            Não  \n",
              "2929          Não     145679.593750            Não  \n",
              "2930          Não      35588.070312            Sim  \n",
              "2931          Sim      59061.250000            Não  \n",
              "\n",
              "[2932 rows x 12 columns]"
            ],
            "text/html": [
              "\n",
              "  <div id=\"df-0f43442a-6095-4c58-8a0d-79d138731ff1\" class=\"colab-df-container\">\n",
              "    <div>\n",
              "<style scoped>\n",
              "    .dataframe tbody tr th:only-of-type {\n",
              "        vertical-align: middle;\n",
              "    }\n",
              "\n",
              "    .dataframe tbody tr th {\n",
              "        vertical-align: top;\n",
              "    }\n",
              "\n",
              "    .dataframe thead th {\n",
              "        text-align: right;\n",
              "    }\n",
              "</style>\n",
              "<table border=\"1\" class=\"dataframe\">\n",
              "  <thead>\n",
              "    <tr style=\"text-align: right;\">\n",
              "      <th></th>\n",
              "      <th>sobrenome</th>\n",
              "      <th>pontuacao_credito</th>\n",
              "      <th>localizacao</th>\n",
              "      <th>genero</th>\n",
              "      <th>idade</th>\n",
              "      <th>tempo_permanencia</th>\n",
              "      <th>saldo</th>\n",
              "      <th>num_produtos</th>\n",
              "      <th>tem_cartao_credito</th>\n",
              "      <th>membro_ativo</th>\n",
              "      <th>salario_estimado</th>\n",
              "      <th>encerrou_conta</th>\n",
              "    </tr>\n",
              "  </thead>\n",
              "  <tbody>\n",
              "    <tr>\n",
              "      <th>0</th>\n",
              "      <td>Abazu</td>\n",
              "      <td>584</td>\n",
              "      <td>Espanha</td>\n",
              "      <td>Masculino</td>\n",
              "      <td>32</td>\n",
              "      <td>9</td>\n",
              "      <td>85534.828125</td>\n",
              "      <td>1</td>\n",
              "      <td>Não</td>\n",
              "      <td>Não</td>\n",
              "      <td>169137.234375</td>\n",
              "      <td>Não</td>\n",
              "    </tr>\n",
              "    <tr>\n",
              "      <th>1</th>\n",
              "      <td>Abbie</td>\n",
              "      <td>818</td>\n",
              "      <td>França</td>\n",
              "      <td>Feminino</td>\n",
              "      <td>31</td>\n",
              "      <td>1</td>\n",
              "      <td>186796.375000</td>\n",
              "      <td>1</td>\n",
              "      <td>Não</td>\n",
              "      <td>Não</td>\n",
              "      <td>178252.625000</td>\n",
              "      <td>Não</td>\n",
              "    </tr>\n",
              "    <tr>\n",
              "      <th>2</th>\n",
              "      <td>Abbott</td>\n",
              "      <td>573</td>\n",
              "      <td>França</td>\n",
              "      <td>Feminino</td>\n",
              "      <td>33</td>\n",
              "      <td>0</td>\n",
              "      <td>90124.640625</td>\n",
              "      <td>1</td>\n",
              "      <td>Sim</td>\n",
              "      <td>Não</td>\n",
              "      <td>137476.703125</td>\n",
              "      <td>Não</td>\n",
              "    </tr>\n",
              "    <tr>\n",
              "      <th>3</th>\n",
              "      <td>Abdullah</td>\n",
              "      <td>802</td>\n",
              "      <td>França</td>\n",
              "      <td>Feminino</td>\n",
              "      <td>60</td>\n",
              "      <td>3</td>\n",
              "      <td>92887.062500</td>\n",
              "      <td>1</td>\n",
              "      <td>Sim</td>\n",
              "      <td>Não</td>\n",
              "      <td>39473.628906</td>\n",
              "      <td>Sim</td>\n",
              "    </tr>\n",
              "    <tr>\n",
              "      <th>4</th>\n",
              "      <td>Abdulov</td>\n",
              "      <td>562</td>\n",
              "      <td>Alemanha</td>\n",
              "      <td>Feminino</td>\n",
              "      <td>31</td>\n",
              "      <td>9</td>\n",
              "      <td>117153.000000</td>\n",
              "      <td>1</td>\n",
              "      <td>Sim</td>\n",
              "      <td>Sim</td>\n",
              "      <td>108675.007812</td>\n",
              "      <td>Não</td>\n",
              "    </tr>\n",
              "    <tr>\n",
              "      <th>...</th>\n",
              "      <td>...</td>\n",
              "      <td>...</td>\n",
              "      <td>...</td>\n",
              "      <td>...</td>\n",
              "      <td>...</td>\n",
              "      <td>...</td>\n",
              "      <td>...</td>\n",
              "      <td>...</td>\n",
              "      <td>...</td>\n",
              "      <td>...</td>\n",
              "      <td>...</td>\n",
              "      <td>...</td>\n",
              "    </tr>\n",
              "    <tr>\n",
              "      <th>2927</th>\n",
              "      <td>Zubarev</td>\n",
              "      <td>749</td>\n",
              "      <td>França</td>\n",
              "      <td>Feminino</td>\n",
              "      <td>26</td>\n",
              "      <td>6</td>\n",
              "      <td>0.000000</td>\n",
              "      <td>2</td>\n",
              "      <td>Não</td>\n",
              "      <td>Sim</td>\n",
              "      <td>34948.769531</td>\n",
              "      <td>Não</td>\n",
              "    </tr>\n",
              "    <tr>\n",
              "      <th>2928</th>\n",
              "      <td>Zubareva</td>\n",
              "      <td>592</td>\n",
              "      <td>França</td>\n",
              "      <td>Masculino</td>\n",
              "      <td>42</td>\n",
              "      <td>1</td>\n",
              "      <td>147249.296875</td>\n",
              "      <td>2</td>\n",
              "      <td>Sim</td>\n",
              "      <td>Sim</td>\n",
              "      <td>63023.019531</td>\n",
              "      <td>Não</td>\n",
              "    </tr>\n",
              "    <tr>\n",
              "      <th>2929</th>\n",
              "      <td>Zuev</td>\n",
              "      <td>730</td>\n",
              "      <td>França</td>\n",
              "      <td>Masculino</td>\n",
              "      <td>39</td>\n",
              "      <td>1</td>\n",
              "      <td>116537.601562</td>\n",
              "      <td>1</td>\n",
              "      <td>Não</td>\n",
              "      <td>Não</td>\n",
              "      <td>145679.593750</td>\n",
              "      <td>Não</td>\n",
              "    </tr>\n",
              "    <tr>\n",
              "      <th>2930</th>\n",
              "      <td>Zuyev</td>\n",
              "      <td>621</td>\n",
              "      <td>Espanha</td>\n",
              "      <td>Masculino</td>\n",
              "      <td>53</td>\n",
              "      <td>9</td>\n",
              "      <td>170491.843750</td>\n",
              "      <td>1</td>\n",
              "      <td>Sim</td>\n",
              "      <td>Não</td>\n",
              "      <td>35588.070312</td>\n",
              "      <td>Sim</td>\n",
              "    </tr>\n",
              "    <tr>\n",
              "      <th>2931</th>\n",
              "      <td>Zuyeva</td>\n",
              "      <td>606</td>\n",
              "      <td>Alemanha</td>\n",
              "      <td>Feminino</td>\n",
              "      <td>32</td>\n",
              "      <td>1</td>\n",
              "      <td>106301.851562</td>\n",
              "      <td>2</td>\n",
              "      <td>Não</td>\n",
              "      <td>Sim</td>\n",
              "      <td>59061.250000</td>\n",
              "      <td>Não</td>\n",
              "    </tr>\n",
              "  </tbody>\n",
              "</table>\n",
              "<p>2932 rows × 12 columns</p>\n",
              "</div>\n",
              "    <div class=\"colab-df-buttons\">\n",
              "\n",
              "  <div class=\"colab-df-container\">\n",
              "    <button class=\"colab-df-convert\" onclick=\"convertToInteractive('df-0f43442a-6095-4c58-8a0d-79d138731ff1')\"\n",
              "            title=\"Convert this dataframe to an interactive table.\"\n",
              "            style=\"display:none;\">\n",
              "\n",
              "  <svg xmlns=\"http://www.w3.org/2000/svg\" height=\"24px\" viewBox=\"0 -960 960 960\">\n",
              "    <path d=\"M120-120v-720h720v720H120Zm60-500h600v-160H180v160Zm220 220h160v-160H400v160Zm0 220h160v-160H400v160ZM180-400h160v-160H180v160Zm440 0h160v-160H620v160ZM180-180h160v-160H180v160Zm440 0h160v-160H620v160Z\"/>\n",
              "  </svg>\n",
              "    </button>\n",
              "\n",
              "  <style>\n",
              "    .colab-df-container {\n",
              "      display:flex;\n",
              "      gap: 12px;\n",
              "    }\n",
              "\n",
              "    .colab-df-convert {\n",
              "      background-color: #E8F0FE;\n",
              "      border: none;\n",
              "      border-radius: 50%;\n",
              "      cursor: pointer;\n",
              "      display: none;\n",
              "      fill: #1967D2;\n",
              "      height: 32px;\n",
              "      padding: 0 0 0 0;\n",
              "      width: 32px;\n",
              "    }\n",
              "\n",
              "    .colab-df-convert:hover {\n",
              "      background-color: #E2EBFA;\n",
              "      box-shadow: 0px 1px 2px rgba(60, 64, 67, 0.3), 0px 1px 3px 1px rgba(60, 64, 67, 0.15);\n",
              "      fill: #174EA6;\n",
              "    }\n",
              "\n",
              "    .colab-df-buttons div {\n",
              "      margin-bottom: 4px;\n",
              "    }\n",
              "\n",
              "    [theme=dark] .colab-df-convert {\n",
              "      background-color: #3B4455;\n",
              "      fill: #D2E3FC;\n",
              "    }\n",
              "\n",
              "    [theme=dark] .colab-df-convert:hover {\n",
              "      background-color: #434B5C;\n",
              "      box-shadow: 0px 1px 3px 1px rgba(0, 0, 0, 0.15);\n",
              "      filter: drop-shadow(0px 1px 2px rgba(0, 0, 0, 0.3));\n",
              "      fill: #FFFFFF;\n",
              "    }\n",
              "  </style>\n",
              "\n",
              "    <script>\n",
              "      const buttonEl =\n",
              "        document.querySelector('#df-0f43442a-6095-4c58-8a0d-79d138731ff1 button.colab-df-convert');\n",
              "      buttonEl.style.display =\n",
              "        google.colab.kernel.accessAllowed ? 'block' : 'none';\n",
              "\n",
              "      async function convertToInteractive(key) {\n",
              "        const element = document.querySelector('#df-0f43442a-6095-4c58-8a0d-79d138731ff1');\n",
              "        const dataTable =\n",
              "          await google.colab.kernel.invokeFunction('convertToInteractive',\n",
              "                                                    [key], {});\n",
              "        if (!dataTable) return;\n",
              "\n",
              "        const docLinkHtml = 'Like what you see? Visit the ' +\n",
              "          '<a target=\"_blank\" href=https://colab.research.google.com/notebooks/data_table.ipynb>data table notebook</a>'\n",
              "          + ' to learn more about interactive tables.';\n",
              "        element.innerHTML = '';\n",
              "        dataTable['output_type'] = 'display_data';\n",
              "        await google.colab.output.renderOutput(dataTable, element);\n",
              "        const docLink = document.createElement('div');\n",
              "        docLink.innerHTML = docLinkHtml;\n",
              "        element.appendChild(docLink);\n",
              "      }\n",
              "    </script>\n",
              "  </div>\n",
              "\n",
              "\n",
              "<div id=\"df-4e7af88d-c268-4b0e-918b-49cf98f48f2a\">\n",
              "  <button class=\"colab-df-quickchart\" onclick=\"quickchart('df-4e7af88d-c268-4b0e-918b-49cf98f48f2a')\"\n",
              "            title=\"Suggest charts\"\n",
              "            style=\"display:none;\">\n",
              "\n",
              "<svg xmlns=\"http://www.w3.org/2000/svg\" height=\"24px\"viewBox=\"0 0 24 24\"\n",
              "     width=\"24px\">\n",
              "    <g>\n",
              "        <path d=\"M19 3H5c-1.1 0-2 .9-2 2v14c0 1.1.9 2 2 2h14c1.1 0 2-.9 2-2V5c0-1.1-.9-2-2-2zM9 17H7v-7h2v7zm4 0h-2V7h2v10zm4 0h-2v-4h2v4z\"/>\n",
              "    </g>\n",
              "</svg>\n",
              "  </button>\n",
              "\n",
              "<style>\n",
              "  .colab-df-quickchart {\n",
              "      --bg-color: #E8F0FE;\n",
              "      --fill-color: #1967D2;\n",
              "      --hover-bg-color: #E2EBFA;\n",
              "      --hover-fill-color: #174EA6;\n",
              "      --disabled-fill-color: #AAA;\n",
              "      --disabled-bg-color: #DDD;\n",
              "  }\n",
              "\n",
              "  [theme=dark] .colab-df-quickchart {\n",
              "      --bg-color: #3B4455;\n",
              "      --fill-color: #D2E3FC;\n",
              "      --hover-bg-color: #434B5C;\n",
              "      --hover-fill-color: #FFFFFF;\n",
              "      --disabled-bg-color: #3B4455;\n",
              "      --disabled-fill-color: #666;\n",
              "  }\n",
              "\n",
              "  .colab-df-quickchart {\n",
              "    background-color: var(--bg-color);\n",
              "    border: none;\n",
              "    border-radius: 50%;\n",
              "    cursor: pointer;\n",
              "    display: none;\n",
              "    fill: var(--fill-color);\n",
              "    height: 32px;\n",
              "    padding: 0;\n",
              "    width: 32px;\n",
              "  }\n",
              "\n",
              "  .colab-df-quickchart:hover {\n",
              "    background-color: var(--hover-bg-color);\n",
              "    box-shadow: 0 1px 2px rgba(60, 64, 67, 0.3), 0 1px 3px 1px rgba(60, 64, 67, 0.15);\n",
              "    fill: var(--button-hover-fill-color);\n",
              "  }\n",
              "\n",
              "  .colab-df-quickchart-complete:disabled,\n",
              "  .colab-df-quickchart-complete:disabled:hover {\n",
              "    background-color: var(--disabled-bg-color);\n",
              "    fill: var(--disabled-fill-color);\n",
              "    box-shadow: none;\n",
              "  }\n",
              "\n",
              "  .colab-df-spinner {\n",
              "    border: 2px solid var(--fill-color);\n",
              "    border-color: transparent;\n",
              "    border-bottom-color: var(--fill-color);\n",
              "    animation:\n",
              "      spin 1s steps(1) infinite;\n",
              "  }\n",
              "\n",
              "  @keyframes spin {\n",
              "    0% {\n",
              "      border-color: transparent;\n",
              "      border-bottom-color: var(--fill-color);\n",
              "      border-left-color: var(--fill-color);\n",
              "    }\n",
              "    20% {\n",
              "      border-color: transparent;\n",
              "      border-left-color: var(--fill-color);\n",
              "      border-top-color: var(--fill-color);\n",
              "    }\n",
              "    30% {\n",
              "      border-color: transparent;\n",
              "      border-left-color: var(--fill-color);\n",
              "      border-top-color: var(--fill-color);\n",
              "      border-right-color: var(--fill-color);\n",
              "    }\n",
              "    40% {\n",
              "      border-color: transparent;\n",
              "      border-right-color: var(--fill-color);\n",
              "      border-top-color: var(--fill-color);\n",
              "    }\n",
              "    60% {\n",
              "      border-color: transparent;\n",
              "      border-right-color: var(--fill-color);\n",
              "    }\n",
              "    80% {\n",
              "      border-color: transparent;\n",
              "      border-right-color: var(--fill-color);\n",
              "      border-bottom-color: var(--fill-color);\n",
              "    }\n",
              "    90% {\n",
              "      border-color: transparent;\n",
              "      border-bottom-color: var(--fill-color);\n",
              "    }\n",
              "  }\n",
              "</style>\n",
              "\n",
              "  <script>\n",
              "    async function quickchart(key) {\n",
              "      const quickchartButtonEl =\n",
              "        document.querySelector('#' + key + ' button');\n",
              "      quickchartButtonEl.disabled = true;  // To prevent multiple clicks.\n",
              "      quickchartButtonEl.classList.add('colab-df-spinner');\n",
              "      try {\n",
              "        const charts = await google.colab.kernel.invokeFunction(\n",
              "            'suggestCharts', [key], {});\n",
              "      } catch (error) {\n",
              "        console.error('Error during call to suggestCharts:', error);\n",
              "      }\n",
              "      quickchartButtonEl.classList.remove('colab-df-spinner');\n",
              "      quickchartButtonEl.classList.add('colab-df-quickchart-complete');\n",
              "    }\n",
              "    (() => {\n",
              "      let quickchartButtonEl =\n",
              "        document.querySelector('#df-4e7af88d-c268-4b0e-918b-49cf98f48f2a button');\n",
              "      quickchartButtonEl.style.display =\n",
              "        google.colab.kernel.accessAllowed ? 'block' : 'none';\n",
              "    })();\n",
              "  </script>\n",
              "</div>\n",
              "\n",
              "    </div>\n",
              "  </div>\n"
            ],
            "application/vnd.google.colaboratory.intrinsic+json": {
              "type": "dataframe",
              "summary": "{\n  \"name\": \"schema\",\n  \"rows\": 2932,\n  \"fields\": [\n    {\n      \"column\": \"sobrenome\",\n      \"properties\": {\n        \"dtype\": \"string\",\n        \"num_unique_values\": 2932,\n        \"samples\": [\n          \"Kambinachi\",\n          \"Sani\",\n          \"Wilkinson\"\n        ],\n        \"semantic_type\": \"\",\n        \"description\": \"\"\n      }\n    },\n    {\n      \"column\": \"pontuacao_credito\",\n      \"properties\": {\n        \"dtype\": \"int32\",\n        \"num_unique_values\": 423,\n        \"samples\": [\n          847,\n          724,\n          606\n        ],\n        \"semantic_type\": \"\",\n        \"description\": \"\"\n      }\n    },\n    {\n      \"column\": \"localizacao\",\n      \"properties\": {\n        \"dtype\": \"category\",\n        \"num_unique_values\": 3,\n        \"samples\": [\n          \"Espanha\",\n          \"Fran\\u00e7a\",\n          \"Alemanha\"\n        ],\n        \"semantic_type\": \"\",\n        \"description\": \"\"\n      }\n    },\n    {\n      \"column\": \"genero\",\n      \"properties\": {\n        \"dtype\": \"category\",\n        \"num_unique_values\": 2,\n        \"samples\": [\n          \"Feminino\",\n          \"Masculino\"\n        ],\n        \"semantic_type\": \"\",\n        \"description\": \"\"\n      }\n    },\n    {\n      \"column\": \"idade\",\n      \"properties\": {\n        \"dtype\": \"int32\",\n        \"num_unique_values\": 66,\n        \"samples\": [\n          75,\n          80\n        ],\n        \"semantic_type\": \"\",\n        \"description\": \"\"\n      }\n    },\n    {\n      \"column\": \"tempo_permanencia\",\n      \"properties\": {\n        \"dtype\": \"int32\",\n        \"num_unique_values\": 11,\n        \"samples\": [\n          6,\n          9\n        ],\n        \"semantic_type\": \"\",\n        \"description\": \"\"\n      }\n    },\n    {\n      \"column\": \"saldo\",\n      \"properties\": {\n        \"dtype\": \"float32\",\n        \"num_unique_values\": 1859,\n        \"samples\": [\n          124379.140625,\n          118129.8671875\n        ],\n        \"semantic_type\": \"\",\n        \"description\": \"\"\n      }\n    },\n    {\n      \"column\": \"num_produtos\",\n      \"properties\": {\n        \"dtype\": \"int32\",\n        \"num_unique_values\": 4,\n        \"samples\": [\n          2,\n          4\n        ],\n        \"semantic_type\": \"\",\n        \"description\": \"\"\n      }\n    },\n    {\n      \"column\": \"tem_cartao_credito\",\n      \"properties\": {\n        \"dtype\": \"category\",\n        \"num_unique_values\": 2,\n        \"samples\": [\n          \"Sim\",\n          \"N\\u00e3o\"\n        ],\n        \"semantic_type\": \"\",\n        \"description\": \"\"\n      }\n    },\n    {\n      \"column\": \"membro_ativo\",\n      \"properties\": {\n        \"dtype\": \"category\",\n        \"num_unique_values\": 2,\n        \"samples\": [\n          \"Sim\",\n          \"N\\u00e3o\"\n        ],\n        \"semantic_type\": \"\",\n        \"description\": \"\"\n      }\n    },\n    {\n      \"column\": \"salario_estimado\",\n      \"properties\": {\n        \"dtype\": \"float32\",\n        \"num_unique_values\": 2932,\n        \"samples\": [\n          47578.44921875,\n          163757.296875\n        ],\n        \"semantic_type\": \"\",\n        \"description\": \"\"\n      }\n    },\n    {\n      \"column\": \"encerrou_conta\",\n      \"properties\": {\n        \"dtype\": \"category\",\n        \"num_unique_values\": 2,\n        \"samples\": [\n          \"Sim\",\n          \"N\\u00e3o\"\n        ],\n        \"semantic_type\": \"\",\n        \"description\": \"\"\n      }\n    }\n  ]\n}"
            }
          },
          "metadata": {},
          "execution_count": 68
        }
      ]
    },
    {
      "cell_type": "code",
      "source": [
        "# Validar o DataFrame do Pandas\n",
        "validated_df = schema.validate(df_pandas)"
      ],
      "metadata": {
        "id": "W4VOkgNIXh_f"
      },
      "execution_count": null,
      "outputs": []
    },
    {
      "cell_type": "code",
      "source": [
        "# Criar DataFrame do Pandas validado como PySpark DataFrame\n",
        "spark_df = spark.createDataFrame(validated_df)"
      ],
      "metadata": {
        "id": "GWiqz5fsXh8g"
      },
      "execution_count": null,
      "outputs": []
    },
    {
      "cell_type": "code",
      "source": [
        "# Verificando a conversão\n",
        "spark_df.show()"
      ],
      "metadata": {
        "colab": {
          "base_uri": "https://localhost:8080/"
        },
        "id": "J-Vg5LBzXh5Q",
        "outputId": "58178c74-3f48-498c-a006-2b2664d0ec4a"
      },
      "execution_count": null,
      "outputs": [
        {
          "output_type": "stream",
          "name": "stdout",
          "text": [
            "+----------+-----------------+-----------+---------+-----+-----------------+--------------+------------+------------------+------------+----------------+--------------+\n",
            "| sobrenome|pontuacao_credito|localizacao|   genero|idade|tempo_permanencia|         saldo|num_produtos|tem_cartao_credito|membro_ativo|salario_estimado|encerrou_conta|\n",
            "+----------+-----------------+-----------+---------+-----+-----------------+--------------+------------+------------------+------------+----------------+--------------+\n",
            "|     Abazu|              584|    Espanha|Masculino|   32|                9|  85534.828125|           1|               Não|         Não|   169137.234375|           Não|\n",
            "|     Abbie|              818|     França| Feminino|   31|                1|    186796.375|           1|               Não|         Não|      178252.625|           Não|\n",
            "|    Abbott|              573|     França| Feminino|   33|                0|  90124.640625|           1|               Sim|         Não|   137476.703125|           Não|\n",
            "|  Abdullah|              802|     França| Feminino|   60|                3|    92887.0625|           1|               Sim|         Não|  39473.62890625|           Sim|\n",
            "|   Abdulov|              562|   Alemanha| Feminino|   31|                9|      117153.0|           1|               Sim|         Sim|  108675.0078125|           Não|\n",
            "|      Abel|              544|     França|Masculino|   40|                8|           0.0|           2|               Sim|         Não|  61581.19921875|           Não|\n",
            "| Abernathy|              560|     França| Feminino|   30|                0|108883.2890625|           1|               Sim|         Não|  27914.94921875|           Não|\n",
            "|   Abramov|              755|     França|Masculino|   41|                6|  104817.40625|           1|               Sim|         Não|   126013.578125|           Sim|\n",
            "|  Abramova|              661|   Alemanha|Masculino|   41|                5|122552.4765625|           2|               Não|         Sim|  120646.3984375|           Não|\n",
            "|Abramovich|              630|    Espanha| Feminino|   39|                7| 135483.171875|           1|               Sim|         Não|   140881.203125|           Sim|\n",
            "|Abramowitz|              690|     França|Masculino|   54|                5|           0.0|           1|               Sim|         Não|12847.6103515625|           Sim|\n",
            "|    Abrego|              702|   Alemanha| Feminino|   23|                7| 98775.2265625|           1|               Sim|         Não|  114603.9609375|           Não|\n",
            "|     Abron|              708|     França|Masculino|   41|                0|           0.0|           1|               Sim|         Não|  128400.6171875|           Não|\n",
            "|    Achebe|              651|   Alemanha| Feminino|   41|                4|  133432.59375|           1|               Não|         Sim|   151303.484375|           Não|\n",
            "|     Adams|              791|     França|Masculino|   28|                4|           0.0|           1|               Sim|         Não|   174435.484375|           Não|\n",
            "|   Adamson|              506|     França| Feminino|   57|                6|           0.0|           2|               Não|         Sim|      194421.125|           Sim|\n",
            "| Afamefula|              579|    Espanha|Masculino|   22|                3|118680.5703125|           1|               Sim|         Sim|  49829.80078125|           Não|\n",
            "| Afamefuna|              629|    Espanha|Masculino|   36|                1|    161757.875|           2|               Sim|         Sim|    146371.71875|           Não|\n",
            "| Afanasyev|              850|   Alemanha| Feminino|   47|                4|   99219.46875|           2|               Sim|         Sim|  122141.1328125|           Não|\n",
            "|Afanasyeva|              726|     França| Feminino|   34|                0|     185734.75|           1|               Sim|         Sim|  102036.8203125|           Não|\n",
            "+----------+-----------------+-----------+---------+-----+-----------------+--------------+------------+------------------+------------+----------------+--------------+\n",
            "only showing top 20 rows\n",
            "\n"
          ]
        }
      ]
    },
    {
      "cell_type": "markdown",
      "source": [
        "### **Carregamento**"
      ],
      "metadata": {
        "id": "lzjkdi5RYAwh"
      }
    },
    {
      "cell_type": "code",
      "source": [
        "spark_df.write.format('csv').save('/content/drive/MyDrive/churn/churn_tratado2')"
      ],
      "metadata": {
        "id": "qD1HLxMPXh2e"
      },
      "execution_count": null,
      "outputs": []
    },
    {
      "cell_type": "markdown",
      "source": [
        "### **Visualização de Dados**"
      ],
      "metadata": {
        "id": "6GtcHIoSZX_h"
      }
    },
    {
      "cell_type": "code",
      "source": [
        "# Visualizando estatisticas descritivas para dados numéricos\n",
        "spark_df.summary().show()"
      ],
      "metadata": {
        "colab": {
          "base_uri": "https://localhost:8080/"
        },
        "id": "HHM64ouEXhzi",
        "outputId": "f88d12a9-1c98-4fd1-a07f-a901b2530c2f"
      },
      "execution_count": null,
      "outputs": [
        {
          "output_type": "stream",
          "name": "stdout",
          "text": [
            "+-------+---------+-----------------+-----------+---------+------------------+------------------+-----------------+------------------+------------------+------------+------------------+--------------+\n",
            "|summary|sobrenome|pontuacao_credito|localizacao|   genero|             idade| tempo_permanencia|            saldo|      num_produtos|tem_cartao_credito|membro_ativo|  salario_estimado|encerrou_conta|\n",
            "+-------+---------+-----------------+-----------+---------+------------------+------------------+-----------------+------------------+------------------+------------+------------------+--------------+\n",
            "|  count|     2932|             2932|       2932|     2932|              2932|              2932|             2932|              2932|              2932|        2932|              2932|          2932|\n",
            "|   mean|     NULL|652.1289222373806|       NULL|     NULL| 38.98806275579809|4.9566848567530695|75829.90900249404|1.5368349249658937|              NULL|        NULL|100174.63712055524|          NULL|\n",
            "| stddev|     NULL| 96.1372151188427|       NULL|     NULL|10.608420308348057|2.8903242730792122|62511.42718476476|0.5896357867398544|              NULL|        NULL| 56983.74371319202|          NULL|\n",
            "|    min|    Abazu|              358|   Alemanha| Feminino|                18|                 0|              0.0|                 1|               Não|         Não|123.06999969482422|           Não|\n",
            "|    25%|     NULL|              585|       NULL|     NULL|                32|                 3|              0.0|                 1|              NULL|        NULL|    52110.44921875|          NULL|\n",
            "|    50%|     NULL|              655|       NULL|     NULL|                37|                 5|     96674.546875|                 1|              NULL|        NULL|      99398.359375|          NULL|\n",
            "|    75%|     NULL|              720|       NULL|     NULL|                44|                 7|     127283.78125|                 2|              NULL|        NULL|     147964.984375|          NULL|\n",
            "|    max|   Zuyeva|              850|     França|Masculino|                88|                10|      238387.5625|                 4|               Sim|         Sim|     199953.328125|           Sim|\n",
            "+-------+---------+-----------------+-----------+---------+------------------+------------------+-----------------+------------------+------------------+------------+------------------+--------------+\n",
            "\n"
          ]
        }
      ]
    },
    {
      "cell_type": "code",
      "source": [
        "# Instalando PlotLy\n",
        "!pip install plotly"
      ],
      "metadata": {
        "colab": {
          "base_uri": "https://localhost:8080/"
        },
        "id": "5l6eu5gZXhwe",
        "outputId": "60f84c27-856b-4a21-b910-6bcc384d0540"
      },
      "execution_count": null,
      "outputs": [
        {
          "output_type": "stream",
          "name": "stdout",
          "text": [
            "Requirement already satisfied: plotly in /usr/local/lib/python3.10/dist-packages (5.15.0)\n",
            "Requirement already satisfied: tenacity>=6.2.0 in /usr/local/lib/python3.10/dist-packages (from plotly) (8.3.0)\n",
            "Requirement already satisfied: packaging in /usr/local/lib/python3.10/dist-packages (from plotly) (24.0)\n"
          ]
        }
      ]
    },
    {
      "cell_type": "code",
      "source": [
        "# Abertura de pacotes\n",
        "import plotly.graph_objs as go\n",
        "import plotly.io as pio\n",
        "from plotly.subplots import make_subplots"
      ],
      "metadata": {
        "id": "djId4E3cXhty"
      },
      "execution_count": null,
      "outputs": []
    },
    {
      "cell_type": "code",
      "source": [
        "# Coletando os dados do PySpark DataFrame para Pandas DataFrame para Plotly\n",
        "df_pandas = spark_df.toPandas()"
      ],
      "metadata": {
        "id": "xOJkQ6IxXhqu"
      },
      "execution_count": null,
      "outputs": []
    },
    {
      "cell_type": "code",
      "source": [
        "# Criando o layout do dashboard com 4 gráficos\n",
        "fig = make_subplots(rows=2, cols=2, subplot_titles=(\"Distribuição de Idades\", \"Saldo Médio por Gênero\",\n",
        "                                                   \"Proporção de Clientes Ativos\", \"Distribuição de Pontuação de Crédito\"),\n",
        "                    specs=[[{}, {}], [{\"type\": \"pie\"}, {}]])\n",
        "\n",
        "# Gráfico 1: Distribuição de Idades\n",
        "fig.add_trace(\n",
        "    go.Histogram(x=df_pandas['idade'], name='Idade'),\n",
        "    row=1, col=1\n",
        ")\n",
        "\n",
        "# Gráfico 2: Saldo Médio por Gênero\n",
        "saldo_por_genero = df_pandas.groupby('genero')['saldo'].mean().reset_index()\n",
        "fig.add_trace(\n",
        "    go.Bar(x=saldo_por_genero['genero'], y=saldo_por_genero['saldo'], name='Saldo Médio'),\n",
        "    row=1, col=2\n",
        ")\n",
        "\n",
        "# Gráfico 3: Proporção de Clientes Ativos\n",
        "ativos_counts = df_pandas['membro_ativo'].value_counts()\n",
        "fig.add_trace(\n",
        "    go.Pie(labels=ativos_counts.index, values=ativos_counts.values, name='Clientes Ativos'),\n",
        "    row=2, col=1\n",
        ")\n",
        "\n",
        "# Gráfico 4: Distribuição de Pontuação de Crédito\n",
        "fig.add_trace(\n",
        "    go.Box(y=df_pandas['pontuacao_credito'], name='Pontuação de Crédito'),\n",
        "    row=2, col=2\n",
        ")\n",
        "\n",
        "# Atualizando layout e configurações\n",
        "fig.update_layout(\n",
        "    title='Dashboard Interativo com Plotly',\n",
        "    showlegend=True,\n",
        "    height=700,\n",
        "    width=1300,\n",
        ")\n",
        "\n",
        "# Exibindo o dashboard interativo\n",
        "pio.show(fig)"
      ],
      "metadata": {
        "colab": {
          "base_uri": "https://localhost:8080/",
          "height": 717
        },
        "id": "0DYjObRCXhoG",
        "outputId": "e9e95933-3932-433b-f644-28f1f7cdbc72"
      },
      "execution_count": null,
      "outputs": [
        {
          "output_type": "display_data",
          "data": {
            "text/html": [
              "<html>\n",
              "<head><meta charset=\"utf-8\" /></head>\n",
              "<body>\n",
              "    <div>            <script src=\"https://cdnjs.cloudflare.com/ajax/libs/mathjax/2.7.5/MathJax.js?config=TeX-AMS-MML_SVG\"></script><script type=\"text/javascript\">if (window.MathJax && window.MathJax.Hub && window.MathJax.Hub.Config) {window.MathJax.Hub.Config({SVG: {font: \"STIX-Web\"}});}</script>                <script type=\"text/javascript\">window.PlotlyConfig = {MathJaxConfig: 'local'};</script>\n",
              "        <script charset=\"utf-8\" src=\"https://cdn.plot.ly/plotly-2.24.1.min.js\"></script>                <div id=\"c2f0a5a3-8b10-4c4f-b52a-17471e3e814f\" class=\"plotly-graph-div\" style=\"height:700px; width:1300px;\"></div>            <script type=\"text/javascript\">                                    window.PLOTLYENV=window.PLOTLYENV || {};                                    if (document.getElementById(\"c2f0a5a3-8b10-4c4f-b52a-17471e3e814f\")) {                    Plotly.newPlot(                        \"c2f0a5a3-8b10-4c4f-b52a-17471e3e814f\",                        [{\"name\":\"Idade\",\"x\":[32,31,33,60,31,40,30,41,41,39,54,23,41,41,28,57,22,36,47,34,29,27,33,28,41,60,52,33,55,37,26,41,30,30,43,50,28,25,60,30,69,42,35,37,44,36,25,22,35,65,31,57,48,54,31,35,45,41,24,38,40,22,38,35,31,40,43,55,42,54,36,38,34,40,39,45,43,32,58,62,49,72,36,24,37,20,57,54,40,39,40,29,32,37,29,50,51,31,28,40,34,34,27,35,40,36,40,35,34,28,36,74,31,26,50,34,44,55,37,28,26,41,29,34,37,23,44,38,27,47,21,52,29,39,39,28,40,25,30,59,37,34,26,36,70,50,33,32,35,36,25,27,45,50,34,34,37,21,40,53,35,40,30,29,23,57,21,49,55,40,37,43,51,40,41,33,26,50,38,43,39,42,66,33,61,44,33,41,54,53,31,33,50,44,35,31,32,54,33,39,77,42,35,33,43,56,30,51,46,31,32,50,33,27,28,53,46,38,37,38,27,36,39,41,29,38,36,39,34,35,58,37,45,49,45,44,37,34,40,47,55,61,47,25,26,30,54,26,34,48,26,42,71,32,40,34,25,54,35,66,27,67,29,31,34,45,38,48,27,26,32,37,38,34,44,48,60,27,29,25,40,44,74,45,44,41,34,34,42,39,30,43,44,27,37,47,43,73,30,37,54,46,43,28,28,18,34,41,38,54,33,36,48,38,45,29,42,32,33,37,38,39,31,30,66,39,53,31,30,37,48,55,38,58,28,29,43,31,34,38,34,39,35,37,29,31,50,37,37,32,31,39,25,42,53,75,38,37,34,46,36,22,38,42,39,54,39,52,47,60,44,30,55,34,23,47,40,38,32,39,33,20,29,42,32,50,42,43,66,34,38,35,48,62,22,50,41,44,40,33,49,39,23,29,62,28,62,39,31,38,52,30,40,26,30,31,32,32,40,38,37,35,48,22,50,36,34,39,21,28,41,25,28,33,43,24,49,31,33,30,42,36,37,42,34,44,29,39,44,34,31,32,33,35,33,45,36,30,28,29,37,26,43,56,48,42,32,25,41,61,42,53,58,43,39,45,41,44,33,39,52,31,40,32,37,37,53,51,37,24,36,34,30,35,57,70,39,32,27,33,60,31,30,39,35,48,56,49,34,34,30,29,66,25,26,25,45,51,35,28,66,39,38,35,34,38,38,33,29,45,32,40,57,52,48,32,49,44,34,26,39,30,43,50,31,35,44,32,44,62,45,45,25,45,39,41,39,52,32,46,51,31,50,27,51,37,28,29,29,37,52,43,25,42,40,43,38,31,35,42,25,55,44,39,28,30,36,29,29,42,35,33,31,34,47,31,46,34,48,32,29,27,23,21,41,28,38,54,47,41,38,36,35,31,33,32,40,42,39,37,30,36,31,33,34,38,30,51,69,28,53,46,26,29,44,32,33,42,35,36,24,36,31,43,27,33,34,34,34,26,64,46,38,33,46,43,40,36,37,36,38,30,39,27,38,41,41,39,39,27,35,42,31,42,32,29,39,46,36,35,46,60,28,37,23,44,37,43,38,28,33,27,35,41,39,36,41,32,52,38,32,27,22,39,42,32,43,40,35,20,47,30,30,40,25,45,37,26,46,26,39,46,28,39,40,33,42,36,23,38,37,30,38,24,43,50,33,27,61,41,39,31,31,38,46,31,48,52,42,29,43,33,34,37,42,34,42,30,36,41,42,46,31,65,41,45,33,40,27,34,29,59,62,34,39,43,35,42,36,26,54,62,42,29,33,42,41,34,33,24,31,34,30,47,22,42,40,34,26,38,26,33,29,33,42,26,50,32,33,30,31,43,19,33,62,39,33,30,36,23,40,62,32,33,31,32,50,36,72,39,19,35,47,32,51,65,40,34,42,33,34,35,44,46,35,40,34,23,26,40,49,34,34,37,41,35,28,33,50,28,44,37,41,39,28,73,29,36,42,39,36,20,31,41,27,24,37,62,39,25,53,39,43,44,38,47,20,35,23,46,43,48,31,40,45,29,36,31,39,43,64,68,54,35,45,33,40,40,32,27,26,31,23,39,36,31,37,40,37,43,56,39,31,33,34,50,43,37,43,44,46,33,30,40,33,43,31,36,29,55,40,56,40,66,42,31,33,39,50,48,29,55,40,37,43,35,53,43,40,45,60,30,58,43,27,22,46,32,45,36,37,34,31,31,22,31,40,51,41,50,25,41,35,24,31,33,26,45,39,61,26,38,32,31,38,34,44,57,59,34,37,27,38,54,34,33,28,37,34,41,35,26,35,29,41,29,59,32,36,30,44,45,40,40,36,40,38,39,37,35,38,30,37,42,41,29,38,57,40,35,39,20,41,42,52,33,41,38,41,28,33,30,57,40,62,28,24,50,40,21,44,52,31,51,46,34,41,30,26,47,30,39,46,26,44,30,32,35,37,40,32,27,45,42,48,52,43,36,27,49,18,34,48,42,58,36,36,39,30,49,56,51,36,47,32,40,38,24,24,31,30,34,43,37,55,42,21,29,25,28,46,59,36,32,47,51,36,32,38,70,31,40,60,49,29,33,32,50,31,46,34,39,31,35,38,41,44,44,28,33,61,47,25,31,24,37,24,38,36,40,66,29,65,29,43,35,28,43,47,32,84,44,29,26,67,38,58,41,39,27,49,42,38,30,63,40,52,48,38,23,32,29,30,29,48,38,33,31,47,38,39,37,35,46,67,36,39,28,33,49,39,49,31,29,47,21,63,42,29,37,38,48,55,28,53,27,46,27,35,48,65,40,40,49,26,44,29,55,35,38,43,39,36,41,20,38,49,33,32,37,44,34,35,32,25,52,30,48,29,30,40,38,44,36,41,55,30,38,33,42,37,27,37,40,23,60,63,35,36,49,45,24,42,32,21,37,27,33,44,30,33,53,52,46,35,31,38,68,33,25,54,34,67,34,76,41,30,26,47,24,39,46,26,39,31,43,38,39,43,33,33,40,57,44,57,39,41,30,44,43,51,38,46,38,58,46,36,42,43,31,31,47,45,43,36,47,56,32,42,36,46,44,45,29,31,30,23,43,37,29,46,31,42,33,37,70,29,59,31,34,39,38,29,38,38,48,27,32,48,37,34,29,53,22,47,38,24,43,39,31,35,47,41,52,40,47,31,36,41,18,43,69,45,22,66,25,41,37,28,31,36,55,50,49,31,34,28,42,36,24,53,38,34,33,58,48,30,27,24,30,29,51,37,41,34,34,29,55,58,27,36,26,36,32,35,37,36,27,62,38,39,39,49,34,34,26,61,29,37,32,37,28,59,24,26,27,64,41,38,25,26,41,32,37,36,33,42,60,57,45,51,38,32,74,44,49,64,41,43,40,49,40,27,25,40,36,70,62,30,43,39,25,26,26,43,29,24,36,49,49,42,76,37,49,42,29,47,42,31,24,40,36,39,37,36,41,41,42,31,42,19,41,48,48,35,34,39,61,67,44,58,32,37,37,35,43,51,35,26,34,43,38,54,44,41,32,36,25,41,43,39,25,29,33,53,44,55,43,39,49,20,69,40,45,29,48,31,28,41,39,52,48,56,42,28,40,41,45,30,24,30,45,34,44,33,38,30,37,32,20,28,37,36,36,46,48,29,40,66,29,42,54,39,24,48,40,34,41,38,31,35,40,29,52,40,44,35,64,35,31,28,48,26,45,27,32,34,29,33,63,41,44,25,38,57,58,38,55,32,34,27,45,68,34,21,42,31,56,60,41,35,48,24,42,45,43,43,62,43,37,41,42,30,42,39,46,37,37,57,23,59,40,37,47,37,34,30,37,30,27,33,37,42,34,39,52,67,37,32,56,36,45,39,79,63,46,31,33,36,36,32,46,71,33,49,35,34,33,34,43,34,44,31,41,36,55,36,55,71,60,34,52,63,35,47,36,41,41,52,33,30,22,37,56,35,45,43,56,38,39,67,42,36,33,29,40,23,60,31,33,53,26,46,61,46,72,47,26,32,43,48,33,43,41,35,29,44,29,31,29,30,32,27,63,41,32,61,44,30,42,38,25,28,42,25,46,45,33,38,69,32,41,44,33,60,36,43,33,34,42,47,36,43,24,33,21,36,46,47,45,35,51,43,30,49,27,25,30,41,29,37,76,39,32,35,41,38,29,26,42,40,32,33,36,42,38,40,31,43,32,32,38,43,35,31,22,45,34,39,48,35,39,46,30,71,46,35,55,37,47,66,26,45,37,52,24,33,47,34,45,24,60,29,37,31,23,29,42,40,52,55,48,39,38,35,41,57,34,40,36,62,25,51,28,38,25,75,32,44,56,32,31,34,30,40,34,63,41,38,44,27,48,32,38,45,21,39,30,41,28,40,41,38,40,40,37,54,41,49,49,40,25,30,30,35,45,39,43,45,34,33,41,30,63,32,31,22,45,42,52,46,76,27,32,42,34,41,55,45,39,57,43,38,44,26,38,39,48,38,69,29,25,50,33,28,51,26,31,48,31,33,34,47,50,67,57,32,46,47,30,29,77,37,37,30,29,61,36,45,45,30,32,40,53,28,28,39,36,38,37,31,32,38,46,33,31,46,35,45,37,35,22,37,46,37,37,33,63,46,43,42,28,36,31,41,38,31,23,31,28,42,26,33,29,41,34,35,28,29,44,30,28,28,67,34,38,51,61,38,32,38,32,45,56,27,36,61,28,66,31,26,39,39,28,52,24,30,29,38,41,29,27,28,35,43,32,36,36,38,35,43,37,34,28,36,24,25,44,24,36,48,45,30,37,37,41,54,47,77,26,39,44,36,34,29,38,38,31,38,47,27,28,47,39,24,42,31,38,47,39,46,47,46,40,40,31,48,52,30,37,41,34,34,42,40,43,74,34,53,30,31,34,22,39,43,28,33,56,54,28,33,53,38,39,25,41,27,56,33,21,27,36,32,34,39,28,49,80,38,37,45,30,32,35,35,31,42,32,45,33,36,41,49,39,32,28,25,38,36,57,25,29,32,31,36,29,70,31,27,55,29,33,44,41,24,33,28,28,50,40,33,32,24,52,34,41,40,37,40,27,42,29,42,32,33,49,88,32,33,30,34,23,36,42,35,29,31,37,35,45,26,35,57,36,38,48,52,42,34,33,65,38,27,33,30,53,33,33,38,38,72,23,40,40,29,22,31,45,31,31,20,50,49,35,38,35,36,41,44,37,34,46,55,25,41,67,31,58,32,38,40,34,69,34,26,45,32,48,45,40,36,30,39,31,38,31,45,47,26,72,35,38,31,47,33,38,61,59,38,40,57,36,34,38,37,37,27,51,38,54,36,37,57,39,44,36,68,37,59,37,29,43,49,71,41,33,25,40,30,31,63,37,56,41,46,49,36,39,48,36,62,39,26,46,37,31,29,29,27,35,45,32,34,31,36,58,32,43,36,32,21,35,37,36,33,37,39,40,28,43,43,61,41,44,39,38,43,46,37,37,60,42,45,41,47,59,35,29,66,58,42,34,35,55,31,34,43,37,25,58,42,35,33,33,58,31,30,34,41,25,36,26,37,57,23,48,38,26,70,35,40,32,33,59,32,38,46,38,44,28,42,34,36,67,38,37,72,31,51,45,37,29,40,46,31,77,40,34,32,23,23,42,35,43,36,64,38,37,34,36,38,51,21,31,42,39,31,33,28,29,36,36,26,46,46,48,37,41,48,34,41,36,28,33,37,32,47,26,37,49,41,36,43,36,72,67,49,31,20,21,41,25,37,28,41,36,35,36,33,27,38,35,42,40,54,34,32,23,31,33,29,41,34,31,52,43,39,41,35,39,66,35,45,43,31,47,42,25,38,41,24,29,31,35,32,28,29,63,32,38,33,31,28,38,32,30,40,42,28,35,41,34,46,62,48,38,40,30,30,38,32,38,38,57,38,32,74,30,19,29,69,38,38,22,46,25,44,27,62,30,53,57,58,33,57,28,49,43,41,41,36,42,61,58,43,36,33,42,24,49,39,33,35,30,44,37,34,45,39,33,34,36,44,42,41,52,40,37,32,61,32,40,43,28,46,60,52,44,48,38,47,46,44,32,44,46,28,32,31,42,34,35,38,57,56,37,38,45,47,35,29,44,31,77,45,41,39,66,33,42,59,70,18,27,25,24,35,56,37,39,51,37,44,35,27,33,34,43,36,26,36,35,32,37,56,39,40,46,43,35,24,32,29,30,30,47,40,27,24,54,29,57,33,25,36,34,22,34,23,41,57,48,25,45,48,32,35,26,29,31,42,33,30,44,45,31,46,37,37,25,33,45,21,30,31,19,30,18,37,43,78,26,36,53,40,32,28,38,40,31,36,37,44,22,45,42,51,37,67,55,28,26,48,24,37,36,29,31,37,31,33,34,22,29,34,82,34,38,44,34,39,31,37,40,25,44,40,30,47,49,47,27,30,40,53,24,24,52,46,41,44,31,74,38,32,34,37,34,39,32,40,52,28,29,31,54,35,30,41,36,33,51,48,49,32,42,42,39,37,36,38,27,36,42,29,30,36,46,38,35,44,32,56,34,46,42,44,36,45,28,31,42,39,29,70,28,44,39,30,28,38,42,38,28,21,25,34,41,33,29,45,34,44,43,37,38,48,26,42,39,53,32],\"type\":\"histogram\",\"xaxis\":\"x\",\"yaxis\":\"y\"},{\"name\":\"Saldo M\\u00e9dio\",\"x\":[\"Feminino\",\"Masculino\"],\"y\":[75321.74740160754,76265.33816398829],\"type\":\"bar\",\"xaxis\":\"x2\",\"yaxis\":\"y2\"},{\"labels\":[\"Sim\",\"N\\u00e3o\"],\"name\":\"Clientes Ativos\",\"values\":[1525,1407],\"type\":\"pie\",\"domain\":{\"x\":[0.0,0.45],\"y\":[0.0,0.375]}},{\"name\":\"Pontua\\u00e7\\u00e3o de Cr\\u00e9dito\",\"y\":[584,818,573,802,562,544,560,755,661,630,690,702,708,651,791,506,579,629,850,726,483,627,585,745,747,739,358,511,627,651,726,661,682,682,637,758,714,527,827,608,728,617,850,727,573,552,686,529,807,681,608,683,535,584,670,705,732,749,684,698,585,710,591,646,614,620,670,530,559,721,610,489,464,672,640,613,743,509,625,559,629,677,688,497,663,649,694,618,578,769,611,570,675,578,605,699,577,712,692,614,655,604,712,727,755,850,609,523,778,811,507,733,632,630,589,529,614,754,639,736,689,773,833,788,474,528,733,619,650,680,714,521,516,591,838,586,790,525,731,584,670,684,738,587,620,614,692,729,641,761,604,607,692,669,623,728,667,645,630,850,624,428,599,548,771,675,627,683,721,693,703,643,745,714,686,430,757,822,665,542,661,513,675,784,747,742,548,846,793,712,707,686,656,458,847,528,711,710,562,699,767,652,418,755,672,762,520,647,493,620,739,630,660,749,727,699,603,705,653,793,710,745,675,850,635,800,604,733,563,745,747,556,513,675,445,648,791,733,712,767,850,660,546,815,612,576,438,766,638,635,684,703,823,715,667,823,627,670,767,560,698,659,628,604,636,606,684,624,695,611,741,590,766,634,700,567,720,607,776,610,632,577,666,704,696,465,850,617,688,699,591,602,687,583,455,669,734,683,570,654,542,649,593,712,709,806,811,667,844,662,502,528,719,632,549,562,579,663,553,658,589,595,611,604,532,694,595,564,700,537,492,545,816,615,622,742,840,744,581,534,417,704,743,776,615,540,635,776,577,630,661,615,723,679,531,511,589,700,665,459,677,521,587,498,554,850,702,716,712,659,497,566,625,631,525,790,511,800,555,669,757,706,756,504,648,671,695,620,725,769,597,687,684,729,710,702,582,632,597,850,632,527,767,769,538,592,710,657,558,657,751,627,646,661,692,489,548,589,688,545,718,799,556,749,526,702,591,547,735,749,841,645,468,663,734,594,648,592,464,694,665,531,702,591,598,532,658,660,680,666,678,514,748,461,776,603,585,521,696,443,645,714,701,844,584,580,510,787,693,609,630,777,546,735,539,444,612,698,820,667,660,524,592,793,490,652,536,769,750,588,675,681,850,579,685,737,731,743,555,631,762,573,618,759,629,550,651,774,450,790,551,640,554,697,573,549,796,714,631,585,615,789,776,569,671,665,753,712,635,695,555,719,706,720,724,760,697,645,750,607,558,678,727,600,560,626,735,621,729,727,672,714,446,686,773,657,492,619,446,498,611,529,589,687,465,677,586,722,662,724,708,850,485,453,606,569,687,529,793,623,769,653,625,646,702,617,524,577,620,663,629,683,658,618,731,696,573,689,717,541,530,494,755,745,631,689,682,639,778,614,691,549,580,564,631,727,607,512,772,540,554,791,492,662,681,784,646,765,628,711,535,728,582,580,704,632,572,618,705,649,465,584,699,709,605,731,644,828,477,679,508,648,801,622,611,683,800,820,654,678,763,752,542,596,489,771,649,579,675,656,835,768,659,597,475,769,607,725,512,686,584,592,850,626,782,778,833,702,666,605,626,691,715,808,850,527,588,636,791,556,747,639,533,601,660,605,597,705,679,650,751,614,603,567,620,671,679,650,749,545,709,555,607,687,721,582,661,701,706,453,538,691,655,815,703,637,643,583,850,457,699,850,628,660,682,438,605,655,733,534,732,586,724,706,537,631,667,573,588,650,763,628,610,670,506,665,434,687,621,561,728,565,547,543,544,737,719,781,698,699,617,445,700,513,705,633,696,798,612,736,694,653,582,723,850,850,630,673,601,747,583,571,521,742,670,690,850,756,733,734,733,633,725,596,627,470,608,685,850,678,722,697,452,758,553,806,732,636,529,596,754,598,516,662,641,566,678,445,603,525,643,815,658,663,443,611,484,594,574,769,735,709,413,634,642,562,724,591,483,527,663,537,794,545,756,707,706,443,749,458,641,613,661,513,678,770,618,564,698,525,553,549,591,745,800,635,767,515,715,634,436,540,745,535,755,691,584,675,796,803,544,723,590,782,610,683,708,651,659,682,730,755,685,673,638,524,525,754,815,682,634,520,511,665,501,792,560,611,787,671,537,652,572,610,627,612,625,626,626,850,559,815,665,584,432,727,628,574,617,769,589,497,775,808,665,562,564,720,658,710,655,685,477,700,608,750,581,676,745,693,663,565,633,683,678,740,654,562,530,599,713,684,750,618,790,715,466,537,750,615,608,510,531,727,614,735,657,594,579,637,474,656,775,443,522,512,661,592,675,620,661,772,564,707,660,755,833,576,675,632,644,616,700,566,526,479,679,625,554,622,697,543,613,683,778,613,489,525,672,712,740,535,803,680,723,596,773,662,673,536,633,755,548,698,730,489,559,691,709,715,585,793,802,643,586,651,592,641,634,544,726,572,811,727,756,751,790,593,505,606,718,684,643,749,632,526,579,765,635,757,646,606,551,807,691,751,743,590,479,552,604,665,620,666,683,649,759,667,726,847,680,676,765,703,682,619,519,775,745,584,578,728,795,416,525,850,616,850,705,731,680,796,515,788,484,507,612,547,726,606,488,809,699,497,781,793,501,647,677,670,487,686,515,658,549,747,742,713,737,698,716,741,515,755,623,629,835,731,621,647,408,544,694,633,559,785,591,608,758,781,768,538,664,510,660,628,597,664,669,667,667,593,831,528,679,682,571,757,537,521,850,807,738,790,670,733,701,844,782,820,602,675,592,509,572,672,608,714,591,517,558,479,576,575,609,817,695,564,516,638,510,472,667,722,626,850,485,664,479,641,601,798,771,496,640,690,680,587,696,539,623,745,742,628,768,712,568,564,702,676,844,823,701,701,548,637,705,721,628,732,837,600,524,635,705,756,793,548,775,567,500,749,791,568,544,657,639,637,547,683,701,609,731,588,699,509,716,557,457,538,714,734,732,850,590,574,709,790,708,809,606,593,603,475,535,504,684,563,686,657,555,673,501,691,788,585,701,693,607,807,696,594,787,550,511,668,767,660,685,666,761,573,835,640,663,655,608,578,759,548,714,598,597,850,644,723,567,621,648,590,557,738,667,795,635,531,714,537,582,476,683,802,647,687,529,644,849,627,671,617,625,739,672,730,839,499,477,710,674,551,626,649,850,582,642,567,731,439,562,570,740,494,702,669,775,521,584,599,678,689,649,714,672,611,653,727,678,601,709,603,602,850,591,557,707,627,584,624,764,628,584,721,634,558,697,574,581,648,738,523,813,572,686,744,653,641,683,789,534,689,523,754,812,700,639,577,758,776,645,622,550,564,622,677,610,497,662,724,542,658,664,614,668,681,496,731,638,414,693,646,839,553,661,545,573,588,598,579,478,807,850,656,730,465,640,717,799,612,588,788,591,581,714,648,681,517,646,782,834,738,736,717,555,712,667,601,652,628,616,649,587,678,484,850,589,615,622,632,678,675,741,638,850,605,630,569,532,628,540,632,558,777,637,823,762,684,555,730,678,461,647,652,739,617,779,657,567,705,593,640,679,630,752,584,516,619,509,639,600,504,703,732,684,720,657,596,850,794,704,539,799,401,573,546,850,716,611,475,650,651,824,743,655,576,804,594,690,602,648,658,850,679,792,676,695,572,594,521,771,411,726,692,662,764,722,749,609,466,667,658,623,637,662,549,719,682,758,544,850,715,579,618,594,492,653,550,813,584,520,576,563,719,577,632,740,527,735,619,648,523,568,567,640,632,485,520,451,561,694,849,543,682,691,850,652,767,673,587,600,545,643,663,653,668,819,695,684,779,721,545,682,637,543,545,694,832,616,705,660,829,604,731,571,592,756,730,796,629,774,677,850,850,540,681,456,622,640,515,590,565,712,603,434,647,627,671,686,712,672,521,828,627,714,743,782,788,625,665,720,775,590,741,637,634,808,614,732,484,845,648,554,628,625,500,430,624,667,651,592,666,659,567,746,607,813,564,709,678,814,670,611,790,399,589,660,513,771,756,748,683,781,534,574,422,567,706,850,507,733,665,758,728,485,850,601,781,498,637,731,692,688,542,492,716,697,706,668,588,617,675,447,756,584,579,545,690,674,730,676,551,774,543,614,663,839,727,744,514,750,803,718,625,850,646,520,761,735,636,687,593,521,774,481,626,777,730,687,790,622,577,601,616,633,659,602,503,670,737,439,754,547,686,735,593,850,597,531,587,499,726,795,627,669,495,632,762,738,565,711,758,639,774,587,850,713,778,685,587,743,610,563,452,659,620,575,706,746,646,701,750,653,634,679,580,607,632,664,674,739,632,638,718,587,850,678,609,652,850,571,697,699,503,546,642,758,655,529,434,565,667,699,671,523,494,550,747,519,707,684,421,556,501,567,632,623,790,732,630,719,636,623,806,613,673,718,817,540,686,616,588,621,595,642,520,674,803,694,703,540,625,570,719,635,678,690,702,581,482,637,805,619,520,535,725,630,752,728,553,569,673,647,638,623,788,559,734,744,705,636,694,656,640,699,751,620,657,439,700,686,706,376,775,548,798,556,842,676,533,725,778,757,629,652,717,724,639,637,606,583,694,538,595,713,460,679,628,629,584,474,722,784,734,650,611,580,644,770,640,516,611,502,589,673,572,649,711,630,530,667,757,468,609,797,635,715,673,668,639,850,705,581,692,715,763,506,752,760,556,659,673,837,822,636,618,716,773,785,754,616,584,688,693,725,774,691,591,365,627,593,517,712,775,719,536,635,713,435,785,593,710,586,657,630,655,600,497,773,359,794,665,607,748,734,798,661,655,745,553,609,568,616,664,785,777,720,587,445,547,656,719,747,624,601,656,429,613,560,579,807,744,509,757,624,633,707,715,477,605,661,584,447,589,539,739,717,653,653,720,707,470,664,594,850,513,619,667,516,625,583,651,691,386,850,667,732,725,739,684,548,675,680,742,765,629,713,632,718,652,578,633,520,656,588,603,679,657,530,813,671,805,741,416,594,648,601,608,670,693,718,499,685,570,709,751,649,793,788,531,573,770,670,502,603,696,615,464,799,717,630,583,650,742,680,758,730,847,577,749,802,583,807,645,732,678,734,710,513,590,787,539,708,590,721,670,686,836,529,616,413,739,682,452,586,556,709,809,550,790,522,793,580,586,516,778,547,695,698,717,613,539,673,631,511,603,797,561,667,808,641,685,589,657,535,732,754,567,744,615,814,590,638,582,645,678,569,816,636,653,587,686,594,603,476,671,748,595,557,732,628,512,732,729,538,635,702,581,850,744,652,814,749,659,508,767,507,730,563,643,642,564,610,596,659,703,681,476,766,671,850,601,506,790,720,625,623,682,770,515,655,721,826,668,430,650,553,571,480,679,737,710,799,610,558,595,587,594,655,597,764,636,562,769,678,770,779,618,675,541,655,635,643,753,760,778,653,570,654,648,668,684,691,612,614,579,780,512,637,850,706,635,755,732,577,700,519,681,789,646,836,635,650,674,518,497,827,701,601,777,850,622,708,592,687,420,660,675,807,718,705,611,591,787,538,473,622,507,485,684,573,693,713,638,761,850,671,701,775,803,649,516,705,571,538,806,850,850,721,739,678,665,640,470,752,585,678,719,635,531,707,743,627,778,567,850,759,641,806,624,850,536,627,697,669,838,710,586,629,708,675,566,819,590,685,767,803,477,717,707,561,689,746,683,676,653,664,806,673,610,535,420,802,752,703,850,756,582,656,581,662,747,739,438,789,658,687,494,850,746,670,637,662,812,431,559,748,628,634,558,574,628,619,728,801,644,751,628,520,623,578,726,613,744,534,792,679,539,554,756,479,730,511,716,558,496,603,497,601,790,493,645,704,683,691,675,656,701,468,687,527,696,511,850,363,432,545,595,641,562,506,738,701,663,528,640,515,670,609,578,543,533,512,535,711,583,529,547,617,662,614,735,849,845,532,662,595,739,566,714,756,669,544,760,633,759,641,524,800,693,708,645,559,645,594,600,516,585,689,683,575,626,748,644,745,680,601,633,687,656,815,474,520,576,768,526,521,605,501,596,776,705,719,850,685,724,842,774,773,638,623,594,773,745,693,658,595,586,745,786,568,468,665,597,678,698,794,634,675,702,633,614,503,744,850,521,670,601,615,692,427,610,783,627,716,748,614,660,579,468,545,552,614,655,548,571,666,565,722,850,666,651,660,623,558,575,608,725,476,702,598,521,625,528,757,712,571,747,582,588,746,554,692,543,605,697,519,498,799,657,573,684,519,667,747,815,626,715,690,613,616,513,773,790,637,748,769,490,507,763,527,717,708,754,555,701,692,605,684,509,668,705,659,732,736,741,624,640,706,673,516,680,717,803,716,543,709,641,669,821,542,650,718,642,684,634,629,648,690,579,544,791,663,621,717,616,726,700,588,677,706,724,782,634,751,528,850,627,714,736,584,659,687,592,643,645,648,668,682,449,705,677,766,616,662,745,788,588,788,699,429,468,642,532,766,654,696,738,577,514,766,651,696,555,768,615,719,774,707,764,724,766,846,623,678,663,711,683,633,559,550,502,767,584,648,648,640,601,480,756,625,548,763,717,642,814,775,696,706,582,772,695,539,534,624,625,632,607,642,595,685,547,850,779,603,611,655,676,778,749,592,730,621,606],\"type\":\"box\",\"xaxis\":\"x3\",\"yaxis\":\"y3\"}],                        {\"template\":{\"data\":{\"histogram2dcontour\":[{\"type\":\"histogram2dcontour\",\"colorbar\":{\"outlinewidth\":0,\"ticks\":\"\"},\"colorscale\":[[0.0,\"#0d0887\"],[0.1111111111111111,\"#46039f\"],[0.2222222222222222,\"#7201a8\"],[0.3333333333333333,\"#9c179e\"],[0.4444444444444444,\"#bd3786\"],[0.5555555555555556,\"#d8576b\"],[0.6666666666666666,\"#ed7953\"],[0.7777777777777778,\"#fb9f3a\"],[0.8888888888888888,\"#fdca26\"],[1.0,\"#f0f921\"]]}],\"choropleth\":[{\"type\":\"choropleth\",\"colorbar\":{\"outlinewidth\":0,\"ticks\":\"\"}}],\"histogram2d\":[{\"type\":\"histogram2d\",\"colorbar\":{\"outlinewidth\":0,\"ticks\":\"\"},\"colorscale\":[[0.0,\"#0d0887\"],[0.1111111111111111,\"#46039f\"],[0.2222222222222222,\"#7201a8\"],[0.3333333333333333,\"#9c179e\"],[0.4444444444444444,\"#bd3786\"],[0.5555555555555556,\"#d8576b\"],[0.6666666666666666,\"#ed7953\"],[0.7777777777777778,\"#fb9f3a\"],[0.8888888888888888,\"#fdca26\"],[1.0,\"#f0f921\"]]}],\"heatmap\":[{\"type\":\"heatmap\",\"colorbar\":{\"outlinewidth\":0,\"ticks\":\"\"},\"colorscale\":[[0.0,\"#0d0887\"],[0.1111111111111111,\"#46039f\"],[0.2222222222222222,\"#7201a8\"],[0.3333333333333333,\"#9c179e\"],[0.4444444444444444,\"#bd3786\"],[0.5555555555555556,\"#d8576b\"],[0.6666666666666666,\"#ed7953\"],[0.7777777777777778,\"#fb9f3a\"],[0.8888888888888888,\"#fdca26\"],[1.0,\"#f0f921\"]]}],\"heatmapgl\":[{\"type\":\"heatmapgl\",\"colorbar\":{\"outlinewidth\":0,\"ticks\":\"\"},\"colorscale\":[[0.0,\"#0d0887\"],[0.1111111111111111,\"#46039f\"],[0.2222222222222222,\"#7201a8\"],[0.3333333333333333,\"#9c179e\"],[0.4444444444444444,\"#bd3786\"],[0.5555555555555556,\"#d8576b\"],[0.6666666666666666,\"#ed7953\"],[0.7777777777777778,\"#fb9f3a\"],[0.8888888888888888,\"#fdca26\"],[1.0,\"#f0f921\"]]}],\"contourcarpet\":[{\"type\":\"contourcarpet\",\"colorbar\":{\"outlinewidth\":0,\"ticks\":\"\"}}],\"contour\":[{\"type\":\"contour\",\"colorbar\":{\"outlinewidth\":0,\"ticks\":\"\"},\"colorscale\":[[0.0,\"#0d0887\"],[0.1111111111111111,\"#46039f\"],[0.2222222222222222,\"#7201a8\"],[0.3333333333333333,\"#9c179e\"],[0.4444444444444444,\"#bd3786\"],[0.5555555555555556,\"#d8576b\"],[0.6666666666666666,\"#ed7953\"],[0.7777777777777778,\"#fb9f3a\"],[0.8888888888888888,\"#fdca26\"],[1.0,\"#f0f921\"]]}],\"surface\":[{\"type\":\"surface\",\"colorbar\":{\"outlinewidth\":0,\"ticks\":\"\"},\"colorscale\":[[0.0,\"#0d0887\"],[0.1111111111111111,\"#46039f\"],[0.2222222222222222,\"#7201a8\"],[0.3333333333333333,\"#9c179e\"],[0.4444444444444444,\"#bd3786\"],[0.5555555555555556,\"#d8576b\"],[0.6666666666666666,\"#ed7953\"],[0.7777777777777778,\"#fb9f3a\"],[0.8888888888888888,\"#fdca26\"],[1.0,\"#f0f921\"]]}],\"mesh3d\":[{\"type\":\"mesh3d\",\"colorbar\":{\"outlinewidth\":0,\"ticks\":\"\"}}],\"scatter\":[{\"fillpattern\":{\"fillmode\":\"overlay\",\"size\":10,\"solidity\":0.2},\"type\":\"scatter\"}],\"parcoords\":[{\"type\":\"parcoords\",\"line\":{\"colorbar\":{\"outlinewidth\":0,\"ticks\":\"\"}}}],\"scatterpolargl\":[{\"type\":\"scatterpolargl\",\"marker\":{\"colorbar\":{\"outlinewidth\":0,\"ticks\":\"\"}}}],\"bar\":[{\"error_x\":{\"color\":\"#2a3f5f\"},\"error_y\":{\"color\":\"#2a3f5f\"},\"marker\":{\"line\":{\"color\":\"#E5ECF6\",\"width\":0.5},\"pattern\":{\"fillmode\":\"overlay\",\"size\":10,\"solidity\":0.2}},\"type\":\"bar\"}],\"scattergeo\":[{\"type\":\"scattergeo\",\"marker\":{\"colorbar\":{\"outlinewidth\":0,\"ticks\":\"\"}}}],\"scatterpolar\":[{\"type\":\"scatterpolar\",\"marker\":{\"colorbar\":{\"outlinewidth\":0,\"ticks\":\"\"}}}],\"histogram\":[{\"marker\":{\"pattern\":{\"fillmode\":\"overlay\",\"size\":10,\"solidity\":0.2}},\"type\":\"histogram\"}],\"scattergl\":[{\"type\":\"scattergl\",\"marker\":{\"colorbar\":{\"outlinewidth\":0,\"ticks\":\"\"}}}],\"scatter3d\":[{\"type\":\"scatter3d\",\"line\":{\"colorbar\":{\"outlinewidth\":0,\"ticks\":\"\"}},\"marker\":{\"colorbar\":{\"outlinewidth\":0,\"ticks\":\"\"}}}],\"scattermapbox\":[{\"type\":\"scattermapbox\",\"marker\":{\"colorbar\":{\"outlinewidth\":0,\"ticks\":\"\"}}}],\"scatterternary\":[{\"type\":\"scatterternary\",\"marker\":{\"colorbar\":{\"outlinewidth\":0,\"ticks\":\"\"}}}],\"scattercarpet\":[{\"type\":\"scattercarpet\",\"marker\":{\"colorbar\":{\"outlinewidth\":0,\"ticks\":\"\"}}}],\"carpet\":[{\"aaxis\":{\"endlinecolor\":\"#2a3f5f\",\"gridcolor\":\"white\",\"linecolor\":\"white\",\"minorgridcolor\":\"white\",\"startlinecolor\":\"#2a3f5f\"},\"baxis\":{\"endlinecolor\":\"#2a3f5f\",\"gridcolor\":\"white\",\"linecolor\":\"white\",\"minorgridcolor\":\"white\",\"startlinecolor\":\"#2a3f5f\"},\"type\":\"carpet\"}],\"table\":[{\"cells\":{\"fill\":{\"color\":\"#EBF0F8\"},\"line\":{\"color\":\"white\"}},\"header\":{\"fill\":{\"color\":\"#C8D4E3\"},\"line\":{\"color\":\"white\"}},\"type\":\"table\"}],\"barpolar\":[{\"marker\":{\"line\":{\"color\":\"#E5ECF6\",\"width\":0.5},\"pattern\":{\"fillmode\":\"overlay\",\"size\":10,\"solidity\":0.2}},\"type\":\"barpolar\"}],\"pie\":[{\"automargin\":true,\"type\":\"pie\"}]},\"layout\":{\"autotypenumbers\":\"strict\",\"colorway\":[\"#636efa\",\"#EF553B\",\"#00cc96\",\"#ab63fa\",\"#FFA15A\",\"#19d3f3\",\"#FF6692\",\"#B6E880\",\"#FF97FF\",\"#FECB52\"],\"font\":{\"color\":\"#2a3f5f\"},\"hovermode\":\"closest\",\"hoverlabel\":{\"align\":\"left\"},\"paper_bgcolor\":\"white\",\"plot_bgcolor\":\"#E5ECF6\",\"polar\":{\"bgcolor\":\"#E5ECF6\",\"angularaxis\":{\"gridcolor\":\"white\",\"linecolor\":\"white\",\"ticks\":\"\"},\"radialaxis\":{\"gridcolor\":\"white\",\"linecolor\":\"white\",\"ticks\":\"\"}},\"ternary\":{\"bgcolor\":\"#E5ECF6\",\"aaxis\":{\"gridcolor\":\"white\",\"linecolor\":\"white\",\"ticks\":\"\"},\"baxis\":{\"gridcolor\":\"white\",\"linecolor\":\"white\",\"ticks\":\"\"},\"caxis\":{\"gridcolor\":\"white\",\"linecolor\":\"white\",\"ticks\":\"\"}},\"coloraxis\":{\"colorbar\":{\"outlinewidth\":0,\"ticks\":\"\"}},\"colorscale\":{\"sequential\":[[0.0,\"#0d0887\"],[0.1111111111111111,\"#46039f\"],[0.2222222222222222,\"#7201a8\"],[0.3333333333333333,\"#9c179e\"],[0.4444444444444444,\"#bd3786\"],[0.5555555555555556,\"#d8576b\"],[0.6666666666666666,\"#ed7953\"],[0.7777777777777778,\"#fb9f3a\"],[0.8888888888888888,\"#fdca26\"],[1.0,\"#f0f921\"]],\"sequentialminus\":[[0.0,\"#0d0887\"],[0.1111111111111111,\"#46039f\"],[0.2222222222222222,\"#7201a8\"],[0.3333333333333333,\"#9c179e\"],[0.4444444444444444,\"#bd3786\"],[0.5555555555555556,\"#d8576b\"],[0.6666666666666666,\"#ed7953\"],[0.7777777777777778,\"#fb9f3a\"],[0.8888888888888888,\"#fdca26\"],[1.0,\"#f0f921\"]],\"diverging\":[[0,\"#8e0152\"],[0.1,\"#c51b7d\"],[0.2,\"#de77ae\"],[0.3,\"#f1b6da\"],[0.4,\"#fde0ef\"],[0.5,\"#f7f7f7\"],[0.6,\"#e6f5d0\"],[0.7,\"#b8e186\"],[0.8,\"#7fbc41\"],[0.9,\"#4d9221\"],[1,\"#276419\"]]},\"xaxis\":{\"gridcolor\":\"white\",\"linecolor\":\"white\",\"ticks\":\"\",\"title\":{\"standoff\":15},\"zerolinecolor\":\"white\",\"automargin\":true,\"zerolinewidth\":2},\"yaxis\":{\"gridcolor\":\"white\",\"linecolor\":\"white\",\"ticks\":\"\",\"title\":{\"standoff\":15},\"zerolinecolor\":\"white\",\"automargin\":true,\"zerolinewidth\":2},\"scene\":{\"xaxis\":{\"backgroundcolor\":\"#E5ECF6\",\"gridcolor\":\"white\",\"linecolor\":\"white\",\"showbackground\":true,\"ticks\":\"\",\"zerolinecolor\":\"white\",\"gridwidth\":2},\"yaxis\":{\"backgroundcolor\":\"#E5ECF6\",\"gridcolor\":\"white\",\"linecolor\":\"white\",\"showbackground\":true,\"ticks\":\"\",\"zerolinecolor\":\"white\",\"gridwidth\":2},\"zaxis\":{\"backgroundcolor\":\"#E5ECF6\",\"gridcolor\":\"white\",\"linecolor\":\"white\",\"showbackground\":true,\"ticks\":\"\",\"zerolinecolor\":\"white\",\"gridwidth\":2}},\"shapedefaults\":{\"line\":{\"color\":\"#2a3f5f\"}},\"annotationdefaults\":{\"arrowcolor\":\"#2a3f5f\",\"arrowhead\":0,\"arrowwidth\":1},\"geo\":{\"bgcolor\":\"white\",\"landcolor\":\"#E5ECF6\",\"subunitcolor\":\"white\",\"showland\":true,\"showlakes\":true,\"lakecolor\":\"white\"},\"title\":{\"x\":0.05},\"mapbox\":{\"style\":\"light\"}}},\"xaxis\":{\"anchor\":\"y\",\"domain\":[0.0,0.45]},\"yaxis\":{\"anchor\":\"x\",\"domain\":[0.625,1.0]},\"xaxis2\":{\"anchor\":\"y2\",\"domain\":[0.55,1.0]},\"yaxis2\":{\"anchor\":\"x2\",\"domain\":[0.625,1.0]},\"xaxis3\":{\"anchor\":\"y3\",\"domain\":[0.55,1.0]},\"yaxis3\":{\"anchor\":\"x3\",\"domain\":[0.0,0.375]},\"annotations\":[{\"font\":{\"size\":16},\"showarrow\":false,\"text\":\"Distribui\\u00e7\\u00e3o de Idades\",\"x\":0.225,\"xanchor\":\"center\",\"xref\":\"paper\",\"y\":1.0,\"yanchor\":\"bottom\",\"yref\":\"paper\"},{\"font\":{\"size\":16},\"showarrow\":false,\"text\":\"Saldo M\\u00e9dio por G\\u00eanero\",\"x\":0.775,\"xanchor\":\"center\",\"xref\":\"paper\",\"y\":1.0,\"yanchor\":\"bottom\",\"yref\":\"paper\"},{\"font\":{\"size\":16},\"showarrow\":false,\"text\":\"Propor\\u00e7\\u00e3o de Clientes Ativos\",\"x\":0.225,\"xanchor\":\"center\",\"xref\":\"paper\",\"y\":0.375,\"yanchor\":\"bottom\",\"yref\":\"paper\"},{\"font\":{\"size\":16},\"showarrow\":false,\"text\":\"Distribui\\u00e7\\u00e3o de Pontua\\u00e7\\u00e3o de Cr\\u00e9dito\",\"x\":0.775,\"xanchor\":\"center\",\"xref\":\"paper\",\"y\":0.375,\"yanchor\":\"bottom\",\"yref\":\"paper\"}],\"title\":{\"text\":\"Dashboard Interativo com Plotly\"},\"showlegend\":true,\"height\":700,\"width\":1300},                        {\"responsive\": true}                    ).then(function(){\n",
              "                            \n",
              "var gd = document.getElementById('c2f0a5a3-8b10-4c4f-b52a-17471e3e814f');\n",
              "var x = new MutationObserver(function (mutations, observer) {{\n",
              "        var display = window.getComputedStyle(gd).display;\n",
              "        if (!display || display === 'none') {{\n",
              "            console.log([gd, 'removed!']);\n",
              "            Plotly.purge(gd);\n",
              "            observer.disconnect();\n",
              "        }}\n",
              "}});\n",
              "\n",
              "// Listen for the removal of the full notebook cells\n",
              "var notebookContainer = gd.closest('#notebook-container');\n",
              "if (notebookContainer) {{\n",
              "    x.observe(notebookContainer, {childList: true});\n",
              "}}\n",
              "\n",
              "// Listen for the clearing of the current output cell\n",
              "var outputEl = gd.closest('.output');\n",
              "if (outputEl) {{\n",
              "    x.observe(outputEl, {childList: true});\n",
              "}}\n",
              "\n",
              "                        })                };                            </script>        </div>\n",
              "</body>\n",
              "</html>"
            ]
          },
          "metadata": {}
        }
      ]
    },
    {
      "cell_type": "code",
      "source": [],
      "metadata": {
        "id": "SFb_X8uJXhk9"
      },
      "execution_count": null,
      "outputs": []
    },
    {
      "cell_type": "code",
      "source": [],
      "metadata": {
        "id": "T_SDpXVOXhiA"
      },
      "execution_count": null,
      "outputs": []
    },
    {
      "cell_type": "code",
      "source": [],
      "metadata": {
        "id": "clmtmIU_Xhe7"
      },
      "execution_count": null,
      "outputs": []
    },
    {
      "cell_type": "code",
      "source": [],
      "metadata": {
        "id": "PazaAOB0Xhb2"
      },
      "execution_count": null,
      "outputs": []
    },
    {
      "cell_type": "code",
      "source": [],
      "metadata": {
        "id": "NJ3MqyBXXhYe"
      },
      "execution_count": null,
      "outputs": []
    }
  ]
}