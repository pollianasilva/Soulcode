{
  "nbformat": 4,
  "nbformat_minor": 0,
  "metadata": {
    "colab": {
      "provenance": [],
      "authorship_tag": "ABX9TyNGrEshRmo4UVdddpqJeHU2",
      "include_colab_link": true
    },
    "kernelspec": {
      "name": "python3",
      "display_name": "Python 3"
    },
    "language_info": {
      "name": "python"
    }
  },
  "cells": [
    {
      "cell_type": "markdown",
      "metadata": {
        "id": "view-in-github",
        "colab_type": "text"
      },
      "source": [
        "<a href=\"https://colab.research.google.com/github/pollianasilva/Soulcode/blob/main/Atividade02_04.ipynb\" target=\"_parent\"><img src=\"https://colab.research.google.com/assets/colab-badge.svg\" alt=\"Open In Colab\"/></a>"
      ]
    },
    {
      "cell_type": "markdown",
      "source": [
        "# **MÓDULO 1: PYTHON PARA PROGRAMADORES**"
      ],
      "metadata": {
        "id": "jVqtPkP6nxe0"
      }
    },
    {
      "cell_type": "markdown",
      "source": [
        "# **1. Introdução ao Python**\n",
        "\n",
        "Escola: Soulcode Academy\n",
        "\n",
        "Curso: Analista de dados e Dashboards\n",
        "\n",
        "Período: Noturno\n",
        "\n",
        "Assunto: Python\n",
        "\n",
        "Aluna: Polliana Silva"
      ],
      "metadata": {
        "id": "O9thGHsoneUl"
      }
    },
    {
      "cell_type": "markdown",
      "source": [
        "#**Exercícios**#"
      ],
      "metadata": {
        "id": "xwcbhFA9nV-F"
      }
    },
    {
      "cell_type": "markdown",
      "source": [
        "1. Laboratório de Ciências\n",
        "\n",
        "Você trabalha em um laboratório químico e toda vez que você realiza um experimento as temperaturas estão em Fahrenheit ou Celsius. Crie um algoritmo que realize a conversão para Kelvin para facilitar a vida de quem lê os manuais.\n",
        "\n",
        "Dica: Utilize entrada de dados, faça cálculos se necessário, faça a decisão e imprima os resultados;\n",
        "Não pode ter: for, while, in, not in, range, listas, tuplas, dicionários;"
      ],
      "metadata": {
        "id": "xR5u-9tFn7ID"
      }
    },
    {
      "cell_type": "code",
      "execution_count": null,
      "metadata": {
        "colab": {
          "base_uri": "https://localhost:8080/"
        },
        "id": "iXcee0_hmzU7",
        "outputId": "672f4863-c04a-462b-b8e7-1738a00f3503"
      },
      "outputs": [
        {
          "output_type": "stream",
          "name": "stdout",
          "text": [
            "Digite a temperatura: 25\n",
            "Digite a escala da temperatura (Fahrenheit ou Celsius): Celsius\n",
            "A temperatura em Kelvin é: 298.15 K\n"
          ]
        }
      ],
      "source": [
        "# Solicitar a entrada do usuário\n",
        "temperatura = float(input(\"Digite a temperatura: \"))\n",
        "escala = input(\"Digite a escala da temperatura (Fahrenheit ou Celsius): \")\n",
        "\n",
        "# Converter para Kelvin\n",
        "if escala.lower() == \"fahrenheit\":\n",
        "    kelvin = (temperatura - 32) * 5/9 + 273.15\n",
        "    print(f\"A temperatura em Kelvin é: {kelvin:.2f} K\")\n",
        "elif escala.lower() == \"celsius\":\n",
        "    kelvin = temperatura + 273.15\n",
        "    print(f\"A temperatura em Kelvin é: {kelvin:.2f} K\")\n",
        "else:\n",
        "    print(\"Escala não reconhecida. Por favor, digite 'Fahrenheit' ou 'Celsius'.\")\n"
      ]
    },
    {
      "cell_type": "markdown",
      "source": [
        "2. Performance de Atendimento\n",
        "\n",
        "Um restaurante deseja avaliar a performance de seus garçons com base na gorjeta recebida em relação ao valor total das contas dos clientes. Para isso, o restaurante irá coletar informações sobre o valor total da compra de cada cliente e a gorjeta deixada para o garçom. Se a porcentagem média de gorjeta recebida por um garçom estiver acima de [valor a ser decidido pelo programador] do valor total da conta, ele será considerado como tendo uma boa performance. Caso contrário, será necessário realizar treinamentos ou ajustes na abordagem de atendimento do garçom. Essa avaliação de performance é importante para garantir um serviço de qualidade e garantir a satisfação dos clientes do restaurante.\n",
        "\n",
        "Dica: Utilize entrada de dados, faça cálculos se necessário, faça a decisão e imprima os resultados;\n",
        "Não pode ter: for, while, in, not in, range, listas, tuplas, dicionários;"
      ],
      "metadata": {
        "id": "1EA9hT1upri4"
      }
    },
    {
      "cell_type": "code",
      "source": [
        "valor_total = float(input('Informe valor total compra '))\n",
        "gorjeta = float(input('Informe valor da gorjeta '))\n",
        "\n",
        "porcentagem_gojeta = (gorjeta / valor_total) * 100\n",
        "#Terá boa performance se a gorjeta por 10%\n",
        "minimo_gorjeta = 10\n",
        "\n",
        "if porcentagem_gojeta >= minimo_gorjeta:\n",
        "  print('O garçom teve uma boa performance')\n",
        "else:\n",
        "  print('O garçom não teve boa perfomance')"
      ],
      "metadata": {
        "colab": {
          "base_uri": "https://localhost:8080/"
        },
        "id": "i3Qic0jbpwKJ",
        "outputId": "c0106b68-13c4-42ec-bdd0-58a174e5e3f6"
      },
      "execution_count": null,
      "outputs": [
        {
          "output_type": "stream",
          "name": "stdout",
          "text": [
            "Informe valor total compra 100.00\n",
            "Informe valor da gorjeta 10.00\n",
            "O garçom teve uma boa performance\n"
          ]
        }
      ]
    },
    {
      "cell_type": "markdown",
      "source": [
        "3. Experiência do Cliente\n",
        "\n",
        "Um aplicativo de compras online deseja implementar uma função de decisão de compra para seus usuários. Ao realizar uma compra, os usuários precisam saber se possuem saldo suficiente em sua conta bancária para comprar um determinado produto. Se o saldo disponível na conta bancária do usuário for maior ou igual ao preço do produto, ele poderá efetuar a compra. Caso contrário, o usuário receberá uma mensagem informando que não possui saldo suficiente para realizar a compra. O aplicativo precisa implementar essa funcionalidade para garantir uma experiência de compra tranquila e transparente para seus usuários.\n",
        "\n",
        "Dica: Utilize entrada de dados, faça cálculos se necessário, faça a decisão e imprima os resultados;\n",
        "Não pode ter: for, while, in, not in, range, listas, tuplas, dicionários;\n"
      ],
      "metadata": {
        "id": "WYUJlR7Gpwj4"
      }
    },
    {
      "cell_type": "code",
      "source": [
        "def verificar_saldo_e_comprar():\n",
        "    # Solicita o saldo da conta bancária do usuário\n",
        "    saldo = float(input(\"Por favor, insira o saldo disponível na sua conta bancária: \"))\n",
        "\n",
        "    # Solicita o preço do produto que o usuário deseja comprar\n",
        "    preco_produto = float(input(\"Por favor, insira o preço do produto: \"))\n",
        "\n",
        "    # Verifica se o saldo é suficiente para comprar o produto\n",
        "    if saldo >= preco_produto:\n",
        "        print(\"Compra realizada com sucesso!\")\n",
        "    else:\n",
        "        print(\"Saldo insuficiente para realizar a compra.\")\n",
        "\n",
        "# Chama a função para executar o processo\n",
        "verificar_saldo_e_comprar()\n"
      ],
      "metadata": {
        "id": "T_FSWpGlp7z7",
        "colab": {
          "base_uri": "https://localhost:8080/"
        },
        "outputId": "1e5aef42-e164-426b-d1f5-4293280673ad"
      },
      "execution_count": 1,
      "outputs": [
        {
          "output_type": "stream",
          "name": "stdout",
          "text": [
            "Por favor, insira o saldo disponível na sua conta bancária: 10.00\n",
            "Por favor, insira o preço do produto: 50.00\n",
            "Saldo insuficiente para realizar a compra.\n"
          ]
        }
      ]
    },
    {
      "cell_type": "markdown",
      "source": [
        "4. Crédito no banco:\n",
        "\n",
        "Uma assistente do banco precisa de um programa que verifica se um cliente é elegível para um empréstimo com base na sua idade (entre 18 e 65 anos), renda mensal mínima de R$ 1.500,00 e histórico de crédito sem registros de inadimplência nos últimos 12 meses. O programa irá coletar as informações do cliente e, caso ele atenda a todos os critérios, será considerado elegível para o empréstimo; caso contrário, será informado que o cliente não é elegível. Essa verificação é essencial para garantir que apenas clientes adequados sejam aprovados para empréstimos, minimizando riscos para o banco e para o cliente.\n",
        "\n",
        "Dica: Utilize entrada de dados, faça cálculos se necessário, faça a decisão e imprima os resultados;\n",
        "Não pode ter: for, while, in, not in, range, listas, tuplas, dicionários;"
      ],
      "metadata": {
        "id": "PZ-jTFVPp4bf"
      }
    },
    {
      "cell_type": "code",
      "source": [
        "# Entrada de dados\n",
        "idade = int(input('Informe a idade do cliente: '))\n",
        "# Verificar idade\n",
        "if 18 <= idade <= 65:\n",
        "    print('Idade ok')\n",
        "else:\n",
        "    print('Idade reprovada para empréstimo')\n",
        "\n",
        "renda = float(input('Informe a renda do cliente: '))\n",
        "# Verificar renda\n",
        "if renda >= 1500.00:\n",
        "    print('Renda ok')\n",
        "else:\n",
        "    print('Renda reprovada para empréstimo')\n",
        "\n",
        "historico_limpo = input('O histórico de  inadimplência nos últimos 12 meses do cliente está limpo? (S ou N): ')\n",
        "# Entender a resposta\n",
        "if historico_limpo.upper() == \"S\":\n",
        "    historico_limpo = True\n",
        "    print('Nome ok')\n",
        "else:\n",
        "    historico_limpo = False\n",
        "    print('Empréstimo negado por inadimplência')\n",
        "\n",
        "#Saber se emprestimo será dado ou não\n",
        "if 18 <= idade <= 65 and renda >= 1500.00 and historico_limpo:\n",
        "    print('Empréstimo concedido')\n",
        "else:\n",
        "    print('Empréstimo negado')"
      ],
      "metadata": {
        "colab": {
          "base_uri": "https://localhost:8080/"
        },
        "id": "W-hSE25LsyhO",
        "outputId": "d08ecf5f-cee1-45ec-90bf-118cd164ebab"
      },
      "execution_count": null,
      "outputs": [
        {
          "output_type": "stream",
          "name": "stdout",
          "text": [
            "Informe a idade do cliente: 14\n",
            "Idade reprovada para empréstimo\n",
            "Informe a renda do cliente: 1600.00\n",
            "Renda ok\n",
            "O histórico de  inadimplência nos últimos 12 meses do cliente está limpo? (S ou N): s\n",
            "Nome ok\n",
            "Empréstimo negado\n"
          ]
        }
      ]
    },
    {
      "cell_type": "code",
      "source": [
        "#Solução Luana com trava\n",
        "idade = int(input('Digite a idade do cliente: '))\n",
        "if idade >= 18 and idade <= 65:\n",
        "    renda = float(input('Digite a renda mensal do cliente: '))\n",
        "    historico = (input('O cliente possui débitos em aberto? Digite s ou n: '))\n",
        "    if renda < 1.500:\n",
        "      print('Empréstimo recusado. Motivo: Renda mensal insuficiente')\n",
        "    elif historico == 's':\n",
        "      print('Empréstimo recusado. Motivo: Inadimplência')\n",
        "    else:\n",
        "      print('Cliente elegível para empréstimo!')\n",
        "else:\n",
        "    print('Empréstimo recusado. Motivo: Idade incompatível')"
      ],
      "metadata": {
        "colab": {
          "base_uri": "https://localhost:8080/"
        },
        "id": "P7hQCwBzp4E5",
        "outputId": "005e4b92-1ca3-4080-9b7d-c00334ae29fc"
      },
      "execution_count": null,
      "outputs": [
        {
          "output_type": "stream",
          "name": "stdout",
          "text": [
            "Digite a idade do cliente: 14\n",
            "Empréstimo recusado. Motivo: Idade incompatível\n"
          ]
        }
      ]
    },
    {
      "cell_type": "markdown",
      "source": [
        "5. Simulação de Venda:\n",
        "\n",
        "(a) Crie um programa que simula a venda de um produto. O programa deve:\n",
        "* Coletar informações do usuário: nome do cliente, nome do produto,\n",
        "preço do produto e quantidade desejada.\n",
        "* Calcular o valor total da compra: multiplicar o preço do produto\n",
        "pela quantidade desejada.\n",
        "* Exibir o valor total da compra para o usuário.\n",
        "\n",
        "(b) Adicione um desconto de 10% para compras acima de R$ 100,00.\n",
        "\n",
        "(c) Implemente a opção de pagamento com cartão de crédito ou dinheiro.\n",
        "\n",
        "Dica: Utilize entrada de dados, faça cálculos se necessário, faça a decisão e imprima os resultados;\n",
        "Não pode ter: for, while, in, not in, range, listas, tuplas, dicionários;"
      ],
      "metadata": {
        "id": "0PSA9BGYp-rT"
      }
    },
    {
      "cell_type": "code",
      "source": [
        "def simular_venda():\n",
        "    # Coletar informações do usuário\n",
        "    nome_cliente = input(\"Por favor, insira o seu nome: \")\n",
        "    nome_produto = input(\"Por favor, insira o nome do produto: \")\n",
        "    preco_produto = float(input(\"Por favor, insira o preço do produto: \"))\n",
        "    quantidade_desejada = int(input(\"Por favor, insira a quantidade desejada: \"))\n",
        "\n",
        "    # Calcular o valor total da compra\n",
        "    valor_total = preco_produto * quantidade_desejada\n",
        "\n",
        "    # Aplicar desconto de 10% para compras acima de R$ 100,00\n",
        "    if valor_total > 100:\n",
        "        valor_total *= 0.90  # Aplica um desconto de 10%\n",
        "        desconto_aplicado = True\n",
        "    else:\n",
        "        desconto_aplicado = False\n",
        "\n",
        "    # Exibir o valor total da compra\n",
        "    print(f\"\\nNome do cliente: {nome_cliente}\")\n",
        "    print(f\"Nome do produto: {nome_produto}\")\n",
        "    print(f\"Quantidade desejada: {quantidade_desejada}\")\n",
        "    print(f\"Preço unitário do produto: R$ {preco_produto:.2f}\")\n",
        "\n",
        "    if desconto_aplicado:\n",
        "        print(\"Desconto de 10% aplicado.\")\n",
        "    print(f\"Valor total da compra: R$ {valor_total:.2f}\")\n",
        "\n",
        "    # Implementar a opção de pagamento\n",
        "    metodo_pagamento = input(\"\\nEscolha o método de pagamento (cartão de crédito/dinheiro): \").strip().lower()\n",
        "\n",
        "    if metodo_pagamento == \"cartão de crédito\":\n",
        "        print(\"Pagamento realizado com cartão de crédito.\")\n",
        "    elif metodo_pagamento == \"dinheiro\":\n",
        "        print(\"Pagamento realizado com dinheiro.\")\n",
        "    else:\n",
        "        print(\"Método de pagamento inválido.\")\n",
        "\n",
        "# Chama a função para executar o processo\n",
        "simular_venda()"
      ],
      "metadata": {
        "id": "gtR99OszqE2s",
        "colab": {
          "base_uri": "https://localhost:8080/"
        },
        "outputId": "ce521d64-5545-4a58-e38a-0d7980834e8b"
      },
      "execution_count": 2,
      "outputs": [
        {
          "output_type": "stream",
          "name": "stdout",
          "text": [
            "Por favor, insira o seu nome: Maria\n",
            "Por favor, insira o nome do produto: Leite\n",
            "Por favor, insira o preço do produto: 5.00\n",
            "Por favor, insira a quantidade desejada: 12\n",
            "\n",
            "Nome do cliente: Maria\n",
            "Nome do produto: Leite\n",
            "Quantidade desejada: 12\n",
            "Preço unitário do produto: R$ 5.00\n",
            "Valor total da compra: R$ 60.00\n",
            "\n",
            "Escolha o método de pagamento (cartão de crédito/dinheiro): cartão de crédito\n",
            "Pagamento realizado com cartão de crédito.\n"
          ]
        }
      ]
    }
  ]
}