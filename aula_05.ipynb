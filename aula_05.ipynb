{
  "nbformat": 4,
  "nbformat_minor": 0,
  "metadata": {
    "colab": {
      "provenance": [],
      "authorship_tag": "ABX9TyM2YZYgmyxXRqJWOubdZdj+",
      "include_colab_link": true
    },
    "kernelspec": {
      "name": "python3",
      "display_name": "Python 3"
    },
    "language_info": {
      "name": "python"
    }
  },
  "cells": [
    {
      "cell_type": "markdown",
      "metadata": {
        "id": "view-in-github",
        "colab_type": "text"
      },
      "source": [
        "<a href=\"https://colab.research.google.com/github/pollianasilva/Soulcode/blob/main/aula_05.ipynb\" target=\"_parent\"><img src=\"https://colab.research.google.com/assets/colab-badge.svg\" alt=\"Open In Colab\"/></a>"
      ]
    },
    {
      "cell_type": "markdown",
      "source": [
        "# **MÓDULO 1: PYTHON PARA PROGRAMADORES**"
      ],
      "metadata": {
        "id": "zT5a70ocnxbZ"
      }
    },
    {
      "cell_type": "markdown",
      "source": [
        "# **1. Introdução ao Python**\n",
        "\n",
        "Escola: Soulcode Academy\n",
        "\n",
        "Curso: Analista de dados e Dashboards\n",
        "\n",
        "Período: Noturno\n",
        "\n",
        "Assunto: Python\n",
        "\n",
        "Aluna: Polliana Silva"
      ],
      "metadata": {
        "id": "EW26qmFSqekg"
      }
    },
    {
      "cell_type": "markdown",
      "source": [
        "## **Estrutura de Condição: IF, ELSE, ELIF**"
      ],
      "metadata": {
        "id": "YJd5Ixv_qpVH"
      }
    },
    {
      "cell_type": "markdown",
      "source": [
        "* A instrução \"if\" é usada para executar um bloco de código se uma determiada condição for verdadeira. A seguinte sintaxe geral é a seguinte:"
      ],
      "metadata": {
        "id": "_Z_mXV-WqQE_"
      }
    },
    {
      "cell_type": "code",
      "execution_count": null,
      "metadata": {
        "colab": {
          "base_uri": "https://localhost:8080/",
          "height": 35
        },
        "id": "UxALjUr4ns3U",
        "outputId": "f1b2d820-383e-4a51-9d55-c379cd6c5510"
      },
      "outputs": [
        {
          "output_type": "execute_result",
          "data": {
            "text/plain": [
              "'\\nif condição:\\n    # bloco de código a ser executado\\n'"
            ],
            "application/vnd.google.colaboratory.intrinsic+json": {
              "type": "string"
            }
          },
          "metadata": {},
          "execution_count": 9
        }
      ],
      "source": [
        "'''\n",
        "if condição:\n",
        "    # bloco de código a ser executado\n",
        "'''"
      ]
    },
    {
      "cell_type": "code",
      "source": [
        "# Informar a variável\n",
        "idade = 19\n",
        "\n",
        "# Realizar a condição\n",
        "if idade >= 18:\n",
        "    print('Você é maior de idade')"
      ],
      "metadata": {
        "colab": {
          "base_uri": "https://localhost:8080/"
        },
        "id": "dDr3hvVnsdGw",
        "outputId": "e4a078d5-6a75-4a47-cb11-519300eef65a"
      },
      "execution_count": null,
      "outputs": [
        {
          "output_type": "stream",
          "name": "stdout",
          "text": [
            "Você é maior de idade\n"
          ]
        }
      ]
    },
    {
      "cell_type": "code",
      "source": [
        "# Informar a variável\n",
        "idade = 17\n",
        "\n",
        "# Realizar a condição\n",
        "if idade >= 18:\n",
        "    print('Você é maior de idade')\n",
        "else:\n",
        "    print('Você é menor de idade')"
      ],
      "metadata": {
        "colab": {
          "base_uri": "https://localhost:8080/"
        },
        "id": "V6tRaPL6s7DR",
        "outputId": "f4330cf6-0c93-414f-d035-5d4b8fefc8f2"
      },
      "execution_count": null,
      "outputs": [
        {
          "output_type": "stream",
          "name": "stdout",
          "text": [
            "Você é menor de idade\n"
          ]
        }
      ]
    },
    {
      "cell_type": "code",
      "source": [
        "# Informar a variável\n",
        "clima = 'ensolarado'\n",
        "\n",
        "# Vamos verificar se o clima é igual a ensolarado\n",
        "if clima == 'ensolarado': # para facilitar leia os dois pontos como \"então\".\n",
        "    print('É um bom dia para ir na pracinha')"
      ],
      "metadata": {
        "colab": {
          "base_uri": "https://localhost:8080/"
        },
        "id": "9mrOQPqXt_1f",
        "outputId": "5e09c450-e5f6-465e-85c1-80a9bb7aa10b"
      },
      "execution_count": null,
      "outputs": [
        {
          "output_type": "stream",
          "name": "stdout",
          "text": [
            "É um bom dia para ir na pracinha\n"
          ]
        }
      ]
    },
    {
      "cell_type": "code",
      "source": [
        "# Informar a variável\n",
        "clima = input('Digite o clima atual: ')\n",
        "\n",
        "# Vamos verificar se o clima é igual a ensolarado\n",
        "if clima.lower() == 'ensolarado': # para facilitar leia os dois pontos como \"então\".\n",
        "    print('É um bom dia para ir na pracinha')"
      ],
      "metadata": {
        "colab": {
          "base_uri": "https://localhost:8080/"
        },
        "id": "AmJxgTwtvonJ",
        "outputId": "a785aea6-7f23-401e-c218-169482cfc1c9"
      },
      "execution_count": null,
      "outputs": [
        {
          "output_type": "stream",
          "name": "stdout",
          "text": [
            "Digite o clima atual: Ensolarado\n",
            "É um bom dia para ir na pracinha\n"
          ]
        }
      ]
    },
    {
      "cell_type": "markdown",
      "source": [
        "Instrução \"else\"\n",
        "\n",
        "* A instrução \"else\" é usada em conjunto com a instrução \"if\"  e especifica um bloco de código a ser executado se a condição do \"if\" for falsa. A sintaxe geral é a seguinte:"
      ],
      "metadata": {
        "id": "XWjbaqu909Iw"
      }
    },
    {
      "cell_type": "code",
      "source": [
        "'''\n",
        "if condição:\n",
        "    # bloco de código a ser executado se a condição for verdadeira;\n",
        "else:\n",
        "    # bloco de código a ser executado se a condição for falsa;\n",
        "'''"
      ],
      "metadata": {
        "colab": {
          "base_uri": "https://localhost:8080/",
          "height": 35
        },
        "id": "QwsLV__91qxY",
        "outputId": "dd45f5cc-4184-4a6a-b065-2c899b22ad2b"
      },
      "execution_count": null,
      "outputs": [
        {
          "output_type": "execute_result",
          "data": {
            "text/plain": [
              "'\\nif condição:\\n    # bloco de código a ser executado se a condição for verdadeira;\\nelse:\\n    # bloco de código a ser executado se a condição for falsa;\\n'"
            ],
            "application/vnd.google.colaboratory.intrinsic+json": {
              "type": "string"
            }
          },
          "metadata": {},
          "execution_count": 8
        }
      ]
    },
    {
      "cell_type": "code",
      "source": [
        "# Entrada de dados\n",
        "idade = int(input('Digite sua idade: '))\n",
        "\n",
        "# Decisão\n",
        "if idade >= 18:\n",
        "    print('Você é maior de idade!')\n",
        "\n",
        "else: # leia \"else\" como \"se não\"\n",
        "    print('Você é menor de idade!')"
      ],
      "metadata": {
        "colab": {
          "base_uri": "https://localhost:8080/"
        },
        "id": "9aB9NPfC12dH",
        "outputId": "dc2ddfee-a6ed-466c-b6df-fea718624a73"
      },
      "execution_count": null,
      "outputs": [
        {
          "output_type": "stream",
          "name": "stdout",
          "text": [
            "Digite sua idade: 2\n",
            "Você é menor de idade!\n"
          ]
        }
      ]
    },
    {
      "cell_type": "code",
      "source": [
        "# Exemplo: Escreva um pequeno código que decida se um numero\n",
        "# é positivo ou negativo\n",
        "\n",
        "numero = float(input('Escreva um número: '))\n",
        "\n",
        "# Verificar se o numero informado é positivo ou negativo\n",
        "\n",
        "if numero > 0:\n",
        "    print('O número informado é positivo')\n",
        "else:\n",
        "    print('O número informado é negativo')"
      ],
      "metadata": {
        "colab": {
          "base_uri": "https://localhost:8080/"
        },
        "id": "hq11ZwYZ5sd4",
        "outputId": "1be91ba3-ea62-4b63-8f24-2e525b6bd857"
      },
      "execution_count": null,
      "outputs": [
        {
          "output_type": "stream",
          "name": "stdout",
          "text": [
            "Escreva um número: 5\n",
            "O número informado é positivo\n"
          ]
        }
      ]
    },
    {
      "cell_type": "markdown",
      "source": [
        "Instrução \"elif\" (meio termo)\n",
        "\n",
        "* A instrução \"elif\" é um abreviação de \"else if\" (senão se) e permite testar multiplas condições em sequencia. Ela é usada quando há mais de duas possibilidades a serem consideradas. A sintaxe geral é a seguinte:"
      ],
      "metadata": {
        "id": "9rPTt7zt8suH"
      }
    },
    {
      "cell_type": "code",
      "source": [
        "'''\n",
        "if condição1:\n",
        "    # bloco de código a ser executado se a condição1 for verdadeira\n",
        "elif condição2:\n",
        "    # bloco de código a ser executado se a condição2 for verdadeira\n",
        "else:\n",
        "    # bloco de código a ser executado se nenhuma das condições\n",
        "    # anteriores forem verdadeiras\n",
        "'''"
      ],
      "metadata": {
        "id": "Qhoq4MhK6C9R"
      },
      "execution_count": null,
      "outputs": []
    },
    {
      "cell_type": "markdown",
      "source": [
        "Exemplo: Faça um algoritmo que avalie a nota do aluno:\n",
        "\n",
        "se ele tirou igual ou acima de 90, seu conceito é A;\n",
        "se ele tirou igual ou acima de 80, seu conceito é B;\n",
        "se ele tirou igual ou acima de 70, seu conceito é C;\n",
        "se ele tirou abaixo de 70, seu conceito é D;"
      ],
      "metadata": {
        "id": "mYiE1Q4cDrkQ"
      }
    },
    {
      "cell_type": "code",
      "source": [
        "# Entrada de dados\n",
        "nota = float(input('Digitar a nota do aluno: '))\n",
        "\n",
        "# Avaliação e decisão\n",
        "if nota >= 90 and nota <= 100:\n",
        "    print('Sua nota é A!')\n",
        "\n",
        "elif nota >= 80 and nota < 90:\n",
        "    print('Sua nota é B!')\n",
        "\n",
        "elif nota >= 70 and nota < 80:\n",
        "    print('Sua nota é C!')\n",
        "\n",
        "else:\n",
        "    print('Sua nota é D!')\n",
        "\n",
        "# Desafio: conserte o código!"
      ],
      "metadata": {
        "colab": {
          "base_uri": "https://localhost:8080/"
        },
        "id": "tmVgc0cZ8-9_",
        "outputId": "f628aa55-1a09-452e-dfa8-91915bcafd88"
      },
      "execution_count": null,
      "outputs": [
        {
          "output_type": "stream",
          "name": "stdout",
          "text": [
            "Digitar a nota do aluno: 150\n",
            "Sua nota é D!\n"
          ]
        }
      ]
    },
    {
      "cell_type": "code",
      "source": [
        "# Problemas de IMC\n",
        "\n",
        "# Entradas de dados\n",
        "nome = input('Digite seu nome: ')\n",
        "peso = int(input('Informe seu peso: '))\n",
        "altura = float(input('Informe sua altura: '))\n",
        "\n",
        "# calculando o IMC  - KPI da área de nutrição\n",
        "imc = peso / altura ** 2\n",
        "\n",
        "# Imprimindo na tela\n",
        "print(f'{nome}, seu IMC é: {imc:.2f}')\n",
        "\n",
        "# Verificando a classificação do IMC do paciente\n",
        "\n",
        "if imc <= 0:\n",
        "    print('Você morreu!')\n",
        "\n",
        "elif imc > 0 and imc < 18.5:\n",
        "     print('Você está abaixo do peso.')\n",
        "\n",
        "elif imc >= 18.5 and imc < 25:\n",
        "    print('Seu peso está normal.')\n",
        "\n",
        "elif imc >=25 and imc < 40:\n",
        "    print('Você está com sobrepeso.')\n",
        "\n",
        "else:\n",
        "    print('Você esta obeso')"
      ],
      "metadata": {
        "colab": {
          "base_uri": "https://localhost:8080/"
        },
        "id": "gZd1aXGvI1JA",
        "outputId": "53691374-c01f-4ef1-a6b8-a5a20f66f836"
      },
      "execution_count": null,
      "outputs": [
        {
          "output_type": "stream",
          "name": "stdout",
          "text": [
            "Digite seu nome: Maria\n",
            "Informe seu peso: 86\n",
            "Informe sua altura: 1.71\n",
            "Maria, seu IMC é: 29.41\n",
            "Você está com sobrepeso.\n"
          ]
        }
      ]
    },
    {
      "cell_type": "markdown",
      "source": [
        "## **IF, ELSE, ELIF aninhado**"
      ],
      "metadata": {
        "id": "XHFs3mtDR9-6"
      }
    },
    {
      "cell_type": "markdown",
      "source": [
        "Condição aninhada: Este programa em Python solicita a nota e a frequência do aluno em uma disciplina e determina se ele foi aprovado ou reprovado. Se a frequência for igual ou superior a 75% e a nota for igual ou superior a 60, o aluno é aprovado. Caso contrário, ele é reprovado, seja por nota ou por frequência."
      ],
      "metadata": {
        "id": "LlcLIe3DSBUx"
      }
    },
    {
      "cell_type": "code",
      "source": [
        "# Entrada de dados\n",
        "frequencia = int(input('Digite a frequencia do aluno: '))\n",
        "nota = float(input('Digite a nota do aluno: '))\n",
        "\n",
        "# Comparação e decisão\n",
        "\n",
        "if frequencia >=75 and frequencia <= 100:\n",
        "    if nota >= 60 and nota <= 100:\n",
        "        print('Aprovado')\n",
        "    else:\n",
        "        print('Reprovado por nota')\n",
        "else:\n",
        "    print('Reprovado por frequencia')"
      ],
      "metadata": {
        "colab": {
          "base_uri": "https://localhost:8080/"
        },
        "id": "ZQGz0j_5SGHQ",
        "outputId": "a84ddc54-e404-466f-bf7d-2f5dd0c90997"
      },
      "execution_count": null,
      "outputs": [
        {
          "output_type": "stream",
          "name": "stdout",
          "text": [
            "Digite a frequencia do aluno: 50\n",
            "Digite a nota do aluno: 10\n",
            "Reprovado por frequencia\n"
          ]
        }
      ]
    },
    {
      "cell_type": "code",
      "source": [
        "# Sugestão de solução do desafio - Everton.\n",
        "# Entrada de dados\n",
        "nota = float(input('Digitar a nota do aluno: '))\n",
        "\n",
        "# Avaliação e decisão\n",
        "if nota >= 90 and nota <= 100:\n",
        "    print('Seu conceito é A!')\n",
        "elif nota >= 80 and nota < 90:\n",
        "    print('Seu conceito é B!')\n",
        "elif nota >= 70 and nota < 80:\n",
        "    print('Seu conceito é C!')\n",
        "elif nota >= 0 and nota < 70:\n",
        "    print('Seu conceito é D!')\n",
        "else:\n",
        "    print('Favor inserir uma nota valida!')"
      ],
      "metadata": {
        "id": "MZT94RDeD9EV"
      },
      "execution_count": null,
      "outputs": []
    },
    {
      "cell_type": "code",
      "source": [
        "# Crie um algoritmo que leia a nota de um aluno e verifique se ele passou com média 7\n",
        "\n",
        "# Crie um algoritmo que leia 5 notas de um aluno e verifique se ele passou com média 7\n",
        "\n",
        "# Crie um algoritmo que leia 5 notas de 3 alunos e verifique se eles passaram com média 7\n",
        "\n",
        "# Crie um algoritmo que leia 5 notas de uma escola com 580 alunos e verifique se eles\n",
        "\n",
        "# passaram com média 7\n",
        "\n",
        "# Crie um algoritmo que leia 5 notas de uma universidade que possui 10 mil alunos"
      ],
      "metadata": {
        "id": "1tQIGbKuWJBh"
      },
      "execution_count": null,
      "outputs": []
    },
    {
      "cell_type": "markdown",
      "source": [
        "Limitações: As estruturas condicionais toma apenas uma decisão, a primeira que é verdadeira. Elas funcionam bem para coisas simples e se você não organizar o código direito, pode causar problemas."
      ],
      "metadata": {
        "id": "2lRPoHPsXHiI"
      }
    }
  ]
}