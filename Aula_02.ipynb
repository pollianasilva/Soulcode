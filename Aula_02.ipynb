{
  "cells": [
    {
      "cell_type": "markdown",
      "metadata": {
        "id": "view-in-github",
        "colab_type": "text"
      },
      "source": [
        "<a href=\"https://colab.research.google.com/github/pollianasilva/Soulcode/blob/main/Aula_02.ipynb\" target=\"_parent\"><img src=\"https://colab.research.google.com/assets/colab-badge.svg\" alt=\"Open In Colab\"/></a>"
      ]
    },
    {
      "cell_type": "markdown",
      "metadata": {
        "id": "E4n7YSoJHYXc"
      },
      "source": [
        "# **Introdução ao Python**"
      ]
    },
    {
      "cell_type": "markdown",
      "metadata": {
        "id": "tRLSa9fCJFQt"
      },
      "source": [
        "Escola: Soulcode Academy\n",
        "\n",
        "Curso: Analista de dados e Dashboards\n",
        "\n",
        "Período: Noturno\n",
        "\n",
        "Assunto: Python\n",
        "\n",
        "Aluna: Polliana Silva"
      ]
    },
    {
      "cell_type": "markdown",
      "metadata": {
        "id": "cnrB8Dv6JbOy"
      },
      "source": [
        "## **Comentários e tipos básicos de dados**"
      ]
    },
    {
      "cell_type": "code",
      "execution_count": null,
      "metadata": {
        "colab": {
          "base_uri": "https://localhost:8080/"
        },
        "id": "pP-gReTiBDmv",
        "outputId": "cf17da41-90f2-46f7-d66b-eaac1fa26dfa"
      },
      "outputs": [
        {
          "name": "stdout",
          "output_type": "stream",
          "text": [
            "Olá, mundo!\n"
          ]
        }
      ],
      "source": [
        "print('Olá, mundo!') # Usando aspas simples"
      ]
    },
    {
      "cell_type": "code",
      "execution_count": null,
      "metadata": {
        "id": "em57F-07OSHW"
      },
      "outputs": [],
      "source": [
        "# isso aqui é um comentário"
      ]
    },
    {
      "cell_type": "code",
      "execution_count": null,
      "metadata": {
        "colab": {
          "base_uri": "https://localhost:8080/",
          "height": 35
        },
        "id": "qsNxjGCeOa7V",
        "outputId": "d8053aaa-ce76-46ff-f8c0-07f152f699fc"
      },
      "outputs": [
        {
          "data": {
            "application/vnd.google.colaboratory.intrinsic+json": {
              "type": "string"
            },
            "text/plain": [
              "'\\nisso \\né um comentário\\nlongo ou grande\\n'"
            ]
          },
          "execution_count": 5,
          "metadata": {},
          "output_type": "execute_result"
        }
      ],
      "source": [
        "'''\n",
        "isso\n",
        "é um comentário\n",
        "longo ou grande\n",
        "'''"
      ]
    },
    {
      "cell_type": "code",
      "execution_count": null,
      "metadata": {
        "colab": {
          "base_uri": "https://localhost:8080/",
          "height": 35
        },
        "id": "yGQgaCFLO3wm",
        "outputId": "62ef5bd2-13ef-4627-e805-84f2011999dc"
      },
      "outputs": [
        {
          "data": {
            "application/vnd.google.colaboratory.intrinsic+json": {
              "type": "string"
            },
            "text/plain": [
              "'Isso aqui é um comentário'"
            ]
          },
          "execution_count": 6,
          "metadata": {},
          "output_type": "execute_result"
        }
      ],
      "source": [
        "\"\"\"Isso aqui é um comentário\"\"\""
      ]
    },
    {
      "cell_type": "code",
      "execution_count": null,
      "metadata": {
        "id": "KFkSeOinPpB0"
      },
      "outputs": [],
      "source": [
        "# Isso é\n",
        "# um\n",
        "# comentário"
      ]
    },
    {
      "cell_type": "code",
      "execution_count": null,
      "metadata": {
        "colab": {
          "base_uri": "https://localhost:8080/"
        },
        "id": "9Rv-Cv-QPuak",
        "outputId": "90b002be-953a-453d-a529-509e8894990c"
      },
      "outputs": [
        {
          "name": "stdout",
          "output_type": "stream",
          "text": [
            "33\n",
            "1.71\n",
            "Polliana\n",
            "Silva\n",
            "False\n"
          ]
        }
      ],
      "source": [
        "# Vamos escrever nossos dados pessoais e imprimir na tela\n",
        "print(33)            #int - numérica/quantitativa\n",
        "print(1.71)          #float - numérica/quantitativa\n",
        "print(\"Polliana\")    #str (string) valor que envolve escrita - qualitativas/categóricas\n",
        "print(\"Silva\")       #str (string) valor que envolve escrita - qualitativo/categóricas\n",
        "print(False)         # boleanas - bool - qualitativas/categóricas."
      ]
    },
    {
      "cell_type": "markdown",
      "metadata": {
        "id": "ij3SACuJWRk1"
      },
      "source": [
        "# **Variáveis**"
      ]
    },
    {
      "cell_type": "code",
      "execution_count": null,
      "metadata": {
        "id": "uD1OjCehWbBs"
      },
      "outputs": [],
      "source": [
        "# Declarando variáveis\n",
        "idade = 33\n",
        "altura = 1.71\n",
        "nome = 'Polliana'\n",
        "sobrenome = 'Silva'\n",
        "filhos = False"
      ]
    },
    {
      "cell_type": "code",
      "source": [
        "# Imprimindo na tela\n",
        "print(idade)\n",
        "print(altura)\n",
        "print(nome)\n",
        "print(sobrenome)\n",
        "print(filhos)"
      ],
      "metadata": {
        "colab": {
          "base_uri": "https://localhost:8080/"
        },
        "id": "tYm-u_cie9o9",
        "outputId": "8d61ba8a-1bf0-4540-99fa-42c866a750f3"
      },
      "execution_count": null,
      "outputs": [
        {
          "output_type": "stream",
          "name": "stdout",
          "text": [
            "33\n",
            "1.71\n",
            "Polliana\n",
            "Silva\n",
            "False\n"
          ]
        }
      ]
    },
    {
      "cell_type": "code",
      "source": [
        "# Imprimindo na tela: modo 2\n",
        "print(idade, altura, nome, sobrenome, filhos, sep=', ')"
      ],
      "metadata": {
        "colab": {
          "base_uri": "https://localhost:8080/"
        },
        "id": "BpnWfOSZfBGF",
        "outputId": "4e7ad5de-b8db-42c9-9595-aec81d7f31b8"
      },
      "execution_count": null,
      "outputs": [
        {
          "output_type": "stream",
          "name": "stdout",
          "text": [
            "33, 1.71, Polliana, Silva, False\n"
          ]
        }
      ]
    },
    {
      "cell_type": "code",
      "source": [
        "# Checando o tipo de dado\n",
        "type(idade)"
      ],
      "metadata": {
        "colab": {
          "base_uri": "https://localhost:8080/"
        },
        "id": "nxgFXYglfD8E",
        "outputId": "7cf8d109-8127-4d13-d65d-bba05d9edf3f"
      },
      "execution_count": null,
      "outputs": [
        {
          "output_type": "execute_result",
          "data": {
            "text/plain": [
              "int"
            ]
          },
          "metadata": {},
          "execution_count": 32
        }
      ]
    },
    {
      "cell_type": "code",
      "source": [
        "# Checando o tipo de dado guardado em cada variável\n",
        "print(type(idade))\n",
        "print(type(altura))\n",
        "print(type(nome))\n",
        "print(type(sobrenome))\n",
        "print(type(filhos))"
      ],
      "metadata": {
        "colab": {
          "base_uri": "https://localhost:8080/"
        },
        "id": "ou6wGcb6fG-M",
        "outputId": "c02cb424-4d15-4bf2-fd28-a440449cbf9d"
      },
      "execution_count": null,
      "outputs": [
        {
          "output_type": "stream",
          "name": "stdout",
          "text": [
            "<class 'int'>\n",
            "<class 'float'>\n",
            "<class 'str'>\n",
            "<class 'str'>\n",
            "<class 'bool'>\n"
          ]
        }
      ]
    },
    {
      "cell_type": "code",
      "source": [
        "# Armazenando string e números\n",
        "nome_completo = 'Polliana Silva'\n",
        "numero_fav = '33'"
      ],
      "metadata": {
        "id": "q6NxsZr0fKDN"
      },
      "execution_count": null,
      "outputs": []
    },
    {
      "cell_type": "code",
      "source": [
        "#Checando o tipo de variável\n",
        "print(type(nome_completo))\n",
        "print(type(numero_fav))"
      ],
      "metadata": {
        "colab": {
          "base_uri": "https://localhost:8080/"
        },
        "id": "YKwG2VpkfTZ1",
        "outputId": "f08efe9a-77b5-4b61-e22d-a56d4068af41"
      },
      "execution_count": null,
      "outputs": [
        {
          "output_type": "stream",
          "name": "stdout",
          "text": [
            "<class 'str'>\n",
            "<class 'str'>\n"
          ]
        }
      ]
    },
    {
      "cell_type": "code",
      "source": [
        "# Atenção: o python é sensivel as letras maiusculas minusculas\n",
        "nome = 'Polliana'\n",
        "print(nome)"
      ],
      "metadata": {
        "colab": {
          "base_uri": "https://localhost:8080/"
        },
        "id": "d19Rs6dYfXce",
        "outputId": "1e702dd0-44d3-4006-e773-bd3cb9b245b4"
      },
      "execution_count": null,
      "outputs": [
        {
          "output_type": "stream",
          "name": "stdout",
          "text": [
            "Polliana\n"
          ]
        }
      ]
    },
    {
      "cell_type": "code",
      "source": [
        "# Chamando variável com letra minuscula\n",
        "#print(Nome)"
      ],
      "metadata": {
        "id": "J8WmepekfasV"
      },
      "execution_count": null,
      "outputs": []
    }
  ],
  "metadata": {
    "colab": {
      "provenance": [],
      "authorship_tag": "ABX9TyPiMKX6eMX3cFaA2+7nZwlZ",
      "include_colab_link": true
    },
    "kernelspec": {
      "display_name": "Python 3",
      "name": "python3"
    },
    "language_info": {
      "name": "python"
    }
  },
  "nbformat": 4,
  "nbformat_minor": 0
}