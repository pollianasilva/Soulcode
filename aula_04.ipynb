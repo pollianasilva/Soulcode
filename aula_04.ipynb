{
  "nbformat": 4,
  "nbformat_minor": 0,
  "metadata": {
    "colab": {
      "provenance": [],
      "authorship_tag": "ABX9TyPJ1qLoR7sr9iK1daAahx5T",
      "include_colab_link": true
    },
    "kernelspec": {
      "name": "python3",
      "display_name": "Python 3"
    },
    "language_info": {
      "name": "python"
    }
  },
  "cells": [
    {
      "cell_type": "markdown",
      "metadata": {
        "id": "view-in-github",
        "colab_type": "text"
      },
      "source": [
        "<a href=\"https://colab.research.google.com/github/pollianasilva/Soulcode/blob/main/aula_04.ipynb\" target=\"_parent\"><img src=\"https://colab.research.google.com/assets/colab-badge.svg\" alt=\"Open In Colab\"/></a>"
      ]
    },
    {
      "cell_type": "markdown",
      "source": [
        "# **Introdução ao Python**"
      ],
      "metadata": {
        "id": "j1E37-fb_DXk"
      }
    },
    {
      "cell_type": "markdown",
      "source": [
        "Escola: Soulcode Academy\n",
        "\n",
        "Curso: Analista de dados e Dashboards\n",
        "\n",
        "Período: Noturno\n",
        "\n",
        "Assunto: Python\n",
        "\n",
        "Aluna: Polliana Silva"
      ],
      "metadata": {
        "id": "QvyJIif0-7lG"
      }
    },
    {
      "cell_type": "markdown",
      "source": [
        "## **Coletando informações do usuário**"
      ],
      "metadata": {
        "id": "DABUHUjYBdpl"
      }
    },
    {
      "cell_type": "code",
      "execution_count": null,
      "metadata": {
        "colab": {
          "base_uri": "https://localhost:8080/"
        },
        "id": "iuLbBXa4-43F",
        "outputId": "ab52eb7b-96d9-4517-a238-696807baa519"
      },
      "outputs": [
        {
          "output_type": "stream",
          "name": "stdout",
          "text": [
            "Digite seu nome: Polliana\n",
            "O nome digitado é:  Polliana\n"
          ]
        }
      ],
      "source": [
        "# Coletando informações do usuário com input\n",
        "nome = input('Digite seu nome: ')\n",
        "print('O nome digitado é: ', nome)"
      ]
    },
    {
      "cell_type": "code",
      "source": [
        "# Coletando informações númericas do usuário com input\n",
        "idade = int(input('Informe sua idade: '))\n",
        "print('A idade digitado é: ', idade)"
      ],
      "metadata": {
        "colab": {
          "base_uri": "https://localhost:8080/"
        },
        "id": "5uFhWptBC6s0",
        "outputId": "ab95bd8d-8b59-42b3-b914-b899341bf429"
      },
      "execution_count": null,
      "outputs": [
        {
          "output_type": "stream",
          "name": "stdout",
          "text": [
            "Informe sua idade: 33\n",
            "A idade digitado é:  33\n"
          ]
        }
      ]
    },
    {
      "cell_type": "code",
      "source": [
        "# Coletando informações númericas do usuário com input\n",
        "peso = int(input('Informe seu peso: '))\n",
        "print('O peso digitado é: ', peso)"
      ],
      "metadata": {
        "colab": {
          "base_uri": "https://localhost:8080/"
        },
        "id": "9VvJ3C_fE59u",
        "outputId": "2a2e65e2-14d7-4517-cbbc-33aa7d9022ab"
      },
      "execution_count": null,
      "outputs": [
        {
          "output_type": "stream",
          "name": "stdout",
          "text": [
            "Informe seu peso: 85\n",
            "O peso digitado é:  85\n"
          ]
        }
      ]
    },
    {
      "cell_type": "code",
      "source": [
        "# Coletando informações númericas do usuário com input\n",
        "altura = float(input('Informe sua altura: '))\n",
        "print('A altura digitada é: ', altura, 'metros')"
      ],
      "metadata": {
        "colab": {
          "base_uri": "https://localhost:8080/"
        },
        "id": "OAPtxmkIFwrD",
        "outputId": "bc93add5-1056-4faa-e5dc-cfae26255daf"
      },
      "execution_count": null,
      "outputs": [
        {
          "output_type": "stream",
          "name": "stdout",
          "text": [
            "Informe sua altura: 1.71\n",
            "A altura digitada é:  1.71 metros\n"
          ]
        }
      ]
    },
    {
      "cell_type": "code",
      "source": [
        "# Crie um código que calcule o IMC e imprima o resultado\n",
        "nome = input('Digite seu nome: ')\n",
        "peso = int(input('Informe seu peso: '))\n",
        "altura = float(input('Informe sua altura: '))\n",
        "\n",
        "#calculand o IMC\n",
        "imc = peso / altura ** 2\n",
        "\n",
        "# Imprimindo na tela\n",
        "print(f'{nome}, seu imc é: {imc:.1f}')"
      ],
      "metadata": {
        "colab": {
          "base_uri": "https://localhost:8080/"
        },
        "id": "0N6oJ77ZG7bt",
        "outputId": "58d51a12-1640-4267-e461-50a2f1027717"
      },
      "execution_count": null,
      "outputs": [
        {
          "output_type": "stream",
          "name": "stdout",
          "text": [
            "Digite seu nome: Maria\n",
            "Informe seu peso: 65\n",
            "Informe sua altura: 1.65\n",
            "Maria, seu imc é: 23.9\n"
          ]
        }
      ]
    },
    {
      "cell_type": "code",
      "source": [
        "# Outra forma de escrever o resultado\n",
        "print(nome , ', seu imc é:',  round(imc,2))\n",
        "print(nome + ', seu imc é:', imc)\n",
        "print(nome + ', seu imc é:' + str(imc)) # concatenação de strings"
      ],
      "metadata": {
        "colab": {
          "base_uri": "https://localhost:8080/"
        },
        "id": "hcPceRQRJ4Pt",
        "outputId": "051cb715-3b09-4589-c89d-2c1e1a5db560"
      },
      "execution_count": null,
      "outputs": [
        {
          "output_type": "stream",
          "name": "stdout",
          "text": [
            "Maria , seu imc é: 23.88\n",
            "Maria, seu imc é: 23.875114784205696\n",
            "Maria, seu imc é:23.875114784205696\n"
          ]
        }
      ]
    },
    {
      "cell_type": "markdown",
      "source": [
        "## **String - Encontrando um caracter pelo índice**"
      ],
      "metadata": {
        "id": "kVXo28zjVnoV"
      }
    },
    {
      "cell_type": "code",
      "source": [
        "# Definindo uma string\n",
        "nome = 'Franciane'"
      ],
      "metadata": {
        "id": "K3I9zVVaVtc-"
      },
      "execution_count": null,
      "outputs": []
    },
    {
      "cell_type": "code",
      "source": [
        "# Exemplo: Imprima na tela o primeiro caracter da String\n",
        "\n",
        "nome[0] # Sintaxe básica de localização de caracter\n",
        "\n",
        "print('O primeiro caracter da string é: ', nome[0])"
      ],
      "metadata": {
        "colab": {
          "base_uri": "https://localhost:8080/"
        },
        "id": "DNWmWhH7VzKU",
        "outputId": "9951941d-6898-4d6e-8890-691187d082e6"
      },
      "execution_count": null,
      "outputs": [
        {
          "output_type": "stream",
          "name": "stdout",
          "text": [
            "O primeiro caracter da string é:  F\n"
          ]
        }
      ]
    },
    {
      "cell_type": "code",
      "source": [
        "# Exemplo: Imprima na tela o último caracter da string\n",
        "print(nome[8])\n",
        "print(nome[-1]) # Recomendado"
      ],
      "metadata": {
        "colab": {
          "base_uri": "https://localhost:8080/"
        },
        "id": "YVqmIxKhV4N5",
        "outputId": "49b6f1aa-baca-4ab3-b00b-ecd81698c723"
      },
      "execution_count": null,
      "outputs": [
        {
          "output_type": "stream",
          "name": "stdout",
          "text": [
            "e\n",
            "e\n"
          ]
        }
      ]
    },
    {
      "cell_type": "code",
      "source": [
        "# Exemplo: Imprima na tela o terceiro carater da string\n",
        "print(nome[2])\n",
        "# Exemplo: Imprima na tela o quinto caracter da string\n",
        "print(nome[4])"
      ],
      "metadata": {
        "colab": {
          "base_uri": "https://localhost:8080/"
        },
        "id": "s408QvQ7am22",
        "outputId": "8691dc8a-3804-4e73-c348-32ab681d8563"
      },
      "execution_count": null,
      "outputs": [
        {
          "output_type": "stream",
          "name": "stdout",
          "text": [
            "a\n",
            "c\n"
          ]
        }
      ]
    },
    {
      "cell_type": "code",
      "source": [
        "# Atividade em 10 minutos:\n",
        "# Ex.1 Definindo uma string sendo esta o seu nome\n",
        "nome = 'Polliana'\n",
        "# Ex.2 Imprima na tela o primeiro caracter do seu nome (normal e reverso)\n",
        "print(nome[0])\n",
        "print(nome[-8])\n",
        "# Ex.3 Imprima na tela o último caracter do seu nome (normal e reverso)\n",
        "print(nome[7])\n",
        "print(nome[-1])\n",
        "\n",
        "# Ex.4 Imprima na tela o terceiro caracter do seu nome (normal e reverso)\n",
        "print(nome[2])\n",
        "print(nome[-6])"
      ],
      "metadata": {
        "colab": {
          "base_uri": "https://localhost:8080/"
        },
        "id": "mQi6FOpQbruu",
        "outputId": "24adb1a4-019c-4411-a0ce-89e0697943ce"
      },
      "execution_count": null,
      "outputs": [
        {
          "output_type": "stream",
          "name": "stdout",
          "text": [
            "P\n",
            "P\n",
            "a\n",
            "a\n",
            "l\n",
            "l\n"
          ]
        }
      ]
    },
    {
      "cell_type": "code",
      "source": [
        "# Vamos fazer um fatiamento da nossa string (slicing)\n",
        "nome = 'FRANCIANE'\n",
        "\n",
        "# F   R   A   N   C    I   A   N   E\n",
        "# 0   1   2   3   4    5   6   7   8\n",
        "# 1°  2°  3°  4°  5°   6°  7°  8°  9°"
      ],
      "metadata": {
        "id": "Qox3hb9-jk2o"
      },
      "execution_count": null,
      "outputs": []
    },
    {
      "cell_type": "code",
      "source": [
        "# Imprima na tela a sequencia do segundo ao quinto caracter\n",
        "# RANC\n",
        "nome[1:5] # Sintaxe"
      ],
      "metadata": {
        "colab": {
          "base_uri": "https://localhost:8080/",
          "height": 35
        },
        "id": "Sc2voM1Ljn-m",
        "outputId": "27929159-e6fd-4374-94a9-19b3317e2474"
      },
      "execution_count": null,
      "outputs": [
        {
          "output_type": "execute_result",
          "data": {
            "text/plain": [
              "'RANC'"
            ],
            "application/vnd.google.colaboratory.intrinsic+json": {
              "type": "string"
            }
          },
          "metadata": {},
          "execution_count": 19
        }
      ]
    },
    {
      "cell_type": "code",
      "source": [
        "# Imprima na tela a sequencia do primeiro ao quinto caracter\n",
        "# RANC\n",
        "nome[0:5]"
      ],
      "metadata": {
        "colab": {
          "base_uri": "https://localhost:8080/",
          "height": 35
        },
        "id": "Zsxn6FVLk_rP",
        "outputId": "3172c391-09c7-4a33-dffa-1c8d31cb42db"
      },
      "execution_count": null,
      "outputs": [
        {
          "output_type": "execute_result",
          "data": {
            "text/plain": [
              "'FRANC'"
            ],
            "application/vnd.google.colaboratory.intrinsic+json": {
              "type": "string"
            }
          },
          "metadata": {},
          "execution_count": 20
        }
      ]
    },
    {
      "cell_type": "code",
      "source": [
        "# Exemplo da Ana Carol\n",
        "nome = 'Ana Carol'\n",
        "\n",
        "# Imprima na tela até a terceira posição do Python da string nome\n",
        "nome[0:4]\n",
        "\n",
        "# Aprendemos que espaços contam como caracter!"
      ],
      "metadata": {
        "colab": {
          "base_uri": "https://localhost:8080/",
          "height": 35
        },
        "id": "zoAlDbCxtoJf",
        "outputId": "6c290106-5388-4e2b-9596-754a1cbf007b"
      },
      "execution_count": null,
      "outputs": [
        {
          "output_type": "execute_result",
          "data": {
            "text/plain": [
              "'Ana '"
            ],
            "application/vnd.google.colaboratory.intrinsic+json": {
              "type": "string"
            }
          },
          "metadata": {},
          "execution_count": 21
        }
      ]
    },
    {
      "cell_type": "markdown",
      "source": [
        "## **Métodos de Strings**"
      ],
      "metadata": {
        "id": "c8qMoxosts-g"
      }
    },
    {
      "cell_type": "code",
      "source": [
        "# Sinal de (+) para concatenar (juntar) string\n",
        "nome = 'Franciane'\n",
        "sobrenome = 'Rodrigues'\n",
        "print(nome +' '+ sobrenome)"
      ],
      "metadata": {
        "colab": {
          "base_uri": "https://localhost:8080/"
        },
        "id": "BHZOe6Dutu4I",
        "outputId": "8b6740a9-0958-4c99-d6bc-3b4506231939"
      },
      "execution_count": null,
      "outputs": [
        {
          "output_type": "stream",
          "name": "stdout",
          "text": [
            "Franciane Rodrigues\n"
          ]
        }
      ]
    },
    {
      "cell_type": "code",
      "source": [
        "# (len) Método que conta o número de caracteres de uma string\n",
        "nome = 'Franciane'\n",
        "contagem = len(nome)\n",
        "print(nome, 'tem', contagem, 'caracteres')"
      ],
      "metadata": {
        "colab": {
          "base_uri": "https://localhost:8080/"
        },
        "id": "AOCXc6b3t1Nt",
        "outputId": "893d68f9-fb64-4e54-9dae-e2f8d6a4ff1f"
      },
      "execution_count": null,
      "outputs": [
        {
          "output_type": "stream",
          "name": "stdout",
          "text": [
            "Franciane tem 9 caracteres\n"
          ]
        }
      ]
    },
    {
      "cell_type": "code",
      "source": [
        "# (len) Método que conta o número de caracteres de uma string\n",
        "#\n",
        "nome = ' Franciane '\n",
        "contagem = len(nome)\n",
        "print(nome, 'tem', contagem, 'caracteres')"
      ],
      "metadata": {
        "colab": {
          "base_uri": "https://localhost:8080/"
        },
        "id": "do2AM_h9t4jV",
        "outputId": "b171da5e-0aa5-4c3d-d5d9-a7f14972f832"
      },
      "execution_count": null,
      "outputs": [
        {
          "output_type": "stream",
          "name": "stdout",
          "text": [
            " Franciane  tem 11 caracteres\n"
          ]
        }
      ]
    },
    {
      "cell_type": "code",
      "source": [
        "# (strip) Método que elimina caracteres indesejados de uma string\n",
        "nome = nome.strip()\n",
        "\n",
        "# Checando se o método foi aplicado\n",
        "print(len(nome))"
      ],
      "metadata": {
        "colab": {
          "base_uri": "https://localhost:8080/"
        },
        "id": "DXPjERCeuxQE",
        "outputId": "dfaa5a52-43b7-4b54-9d64-43fe6f34c3f0"
      },
      "execution_count": null,
      "outputs": [
        {
          "output_type": "stream",
          "name": "stdout",
          "text": [
            "9\n"
          ]
        }
      ]
    },
    {
      "cell_type": "code",
      "source": [
        "# (replace) Método que substitui um caracter por outro\n",
        "preco = 'R$ 10,50'\n",
        "print(preco)"
      ],
      "metadata": {
        "colab": {
          "base_uri": "https://localhost:8080/"
        },
        "id": "3oUY3tSzwQ6g",
        "outputId": "b0f303c6-6d2b-464d-97be-dc0411a8ff02"
      },
      "execution_count": null,
      "outputs": [
        {
          "output_type": "stream",
          "name": "stdout",
          "text": [
            "R$ 10,50\n"
          ]
        }
      ]
    },
    {
      "cell_type": "code",
      "source": [
        "# Aplicando o método replace na variável preco\n",
        "preco = preco.replace(',','.')"
      ],
      "metadata": {
        "id": "xh522H3-wW6I"
      },
      "execution_count": null,
      "outputs": []
    },
    {
      "cell_type": "code",
      "source": [
        "print(preco)"
      ],
      "metadata": {
        "colab": {
          "base_uri": "https://localhost:8080/"
        },
        "id": "PNat4QbAwarH",
        "outputId": "7f7b8534-e98e-492b-f9ae-d32fbccc0f68"
      },
      "execution_count": null,
      "outputs": [
        {
          "output_type": "stream",
          "name": "stdout",
          "text": [
            "R$ 10.50\n"
          ]
        }
      ]
    },
    {
      "cell_type": "code",
      "source": [
        "# Coloque seu nome\n",
        "nome = input('Informe seu nome: ')\n",
        "print('O nome digitado é: ', nome)"
      ],
      "metadata": {
        "colab": {
          "base_uri": "https://localhost:8080/"
        },
        "id": "NQjLqAtsxT93",
        "outputId": "7a068e75-d6ed-410d-cd54-3333521494e5"
      },
      "execution_count": null,
      "outputs": [
        {
          "output_type": "stream",
          "name": "stdout",
          "text": [
            "Informe seu nome: polliana\n",
            "O nome digitado é:  polliana\n"
          ]
        }
      ]
    },
    {
      "cell_type": "code",
      "source": [
        "# (capitalize) Método para deixar a primeira letra maiuscula\n",
        "nome = nome.capitalize()\n",
        "nome"
      ],
      "metadata": {
        "colab": {
          "base_uri": "https://localhost:8080/",
          "height": 35
        },
        "id": "-Tx5NGOZxdU-",
        "outputId": "ecd863b0-676b-43d1-dee6-a054ac6e8d00"
      },
      "execution_count": null,
      "outputs": [
        {
          "output_type": "execute_result",
          "data": {
            "text/plain": [
              "'Polliana'"
            ],
            "application/vnd.google.colaboratory.intrinsic+json": {
              "type": "string"
            }
          },
          "metadata": {},
          "execution_count": 30
        }
      ]
    },
    {
      "cell_type": "code",
      "source": [
        "# (upper) Método que coloca todas as letrinhas maiusculas (gritando)\n",
        "nome = nome.upper()\n",
        "nome"
      ],
      "metadata": {
        "colab": {
          "base_uri": "https://localhost:8080/",
          "height": 35
        },
        "id": "-uGqmvEbx0bl",
        "outputId": "346f819a-07c1-4f98-b518-740072d87eb6"
      },
      "execution_count": null,
      "outputs": [
        {
          "output_type": "execute_result",
          "data": {
            "text/plain": [
              "'POLLIANA'"
            ],
            "application/vnd.google.colaboratory.intrinsic+json": {
              "type": "string"
            }
          },
          "metadata": {},
          "execution_count": 31
        }
      ]
    },
    {
      "cell_type": "code",
      "source": [
        "# (casefold) Método que coloca todas as letrinhas minusculas (falando baixinho)\n",
        "nome = nome.casefold()\n",
        "nome"
      ],
      "metadata": {
        "colab": {
          "base_uri": "https://localhost:8080/",
          "height": 35
        },
        "id": "rIi1vyG3zAdN",
        "outputId": "dbb0882e-7ade-450b-a1a9-ce080f7f9b9b"
      },
      "execution_count": null,
      "outputs": [
        {
          "output_type": "execute_result",
          "data": {
            "text/plain": [
              "'polliana'"
            ],
            "application/vnd.google.colaboratory.intrinsic+json": {
              "type": "string"
            }
          },
          "metadata": {},
          "execution_count": 32
        }
      ]
    },
    {
      "cell_type": "code",
      "source": [
        "# (title) Coloca a primeira letra de cada palavra em maiúscula\n",
        "comp = 'franciane rodrigues'\n",
        "print(comp)"
      ],
      "metadata": {
        "colab": {
          "base_uri": "https://localhost:8080/"
        },
        "id": "wovfyT5v0P-Q",
        "outputId": "5f2ccbb2-a830-4046-e65d-f5c7ceb6d584"
      },
      "execution_count": null,
      "outputs": [
        {
          "output_type": "stream",
          "name": "stdout",
          "text": [
            "franciane rodrigues\n"
          ]
        }
      ]
    },
    {
      "cell_type": "code",
      "source": [
        "# Aplicando o método title\n",
        "comp = comp.title()\n",
        "print(comp)"
      ],
      "metadata": {
        "id": "ocpbrfMm0TrY",
        "outputId": "50ea4e95-301b-42ef-e7e2-168019b636f1",
        "colab": {
          "base_uri": "https://localhost:8080/"
        }
      },
      "execution_count": null,
      "outputs": [
        {
          "output_type": "stream",
          "name": "stdout",
          "text": [
            "Franciane Rodrigues\n"
          ]
        }
      ]
    }
  ]
}