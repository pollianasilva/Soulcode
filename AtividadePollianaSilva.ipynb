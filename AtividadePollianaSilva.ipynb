{
  "nbformat": 4,
  "nbformat_minor": 0,
  "metadata": {
    "colab": {
      "provenance": [],
      "authorship_tag": "ABX9TyPW69r0srTSdbZIz9F5hyfV",
      "include_colab_link": true
    },
    "kernelspec": {
      "name": "python3",
      "display_name": "Python 3"
    },
    "language_info": {
      "name": "python"
    }
  },
  "cells": [
    {
      "cell_type": "markdown",
      "metadata": {
        "id": "view-in-github",
        "colab_type": "text"
      },
      "source": [
        "<a href=\"https://colab.research.google.com/github/pollianasilva/Soulcode/blob/main/AtividadePollianaSilva.ipynb\" target=\"_parent\"><img src=\"https://colab.research.google.com/assets/colab-badge.svg\" alt=\"Open In Colab\"/></a>"
      ]
    },
    {
      "cell_type": "markdown",
      "source": [
        "# **MÓDULO 1: PYTHON PARA PROGRAMADORES**"
      ],
      "metadata": {
        "id": "cUN_sTpXyOTc"
      }
    },
    {
      "cell_type": "markdown",
      "source": [
        "# **1. Introdução ao Python**\n",
        "\n",
        "Escola: Soulcode Academy\n",
        "\n",
        "Curso: Analista de dados e Dashboards\n",
        "\n",
        "Período: Noturno\n",
        "\n",
        "Assunto: Python\n",
        "\n",
        "Aluna: Polliana Silva"
      ],
      "metadata": {
        "id": "hCysu1K6yIzl"
      }
    },
    {
      "cell_type": "markdown",
      "source": [
        "4. Crédito no banco:\n",
        "Uma assistente do banco precisa de um programa que verifica se um cliente é elegível para um empréstimo com base na sua idade (entre 18 e 65 anos), renda mensal mínima de R$ 1.500,00 e histórico de crédito sem registros de inadimplência nos últimos 12 meses. O programa irá coletar as informações do cliente e, caso ele atenda a todos os critérios, será considerado elegível para o empréstimo; caso contrário, será informado que o cliente não é elegível. Essa verificação é essencial para garantir que apenas clientes adequados sejam aprovados para empréstimos, minimizando riscos para o banco e para o cliente."
      ],
      "metadata": {
        "id": "mwqFi392EQYG"
      }
    },
    {
      "cell_type": "code",
      "source": [
        "# Entrada de dados\n",
        "idade = int(input('Informe a idade do cliente: '))\n",
        "# Verificar idade\n",
        "if 18 <= idade <= 65:\n",
        "    print('Idade ok')\n",
        "else:\n",
        "    print('Idade reprovada para empréstimo')\n",
        "\n",
        "renda = float(input('Informe a renda do cliente: '))\n",
        "# Verificar renda\n",
        "if renda >= 1500.00:\n",
        "    print('Renda ok')\n",
        "else:\n",
        "    print('Renda reprovada para empréstimo')\n",
        "\n",
        "historico_limpo = input('O histórico de  inadimplência nos últimos 12 meses do cliente está limpo? (S ou N): ')\n",
        "# Entender a resposta\n",
        "if historico_limpo.upper() == \"S\":\n",
        "    historico_limpo = True\n",
        "    print('Nome ok')\n",
        "else:\n",
        "    historico_limpo = False\n",
        "    print('Empréstimo negado por inadimplência')\n",
        "\n",
        "#Saber se emprestimo será dado ou não\n",
        "if 18 <= idade <= 65 and renda >= 1500.00 and historico_limpo:\n",
        "    print('Empréstimo concedido')\n",
        "else:\n",
        "    print('Empréstimo negado')"
      ],
      "metadata": {
        "colab": {
          "base_uri": "https://localhost:8080/"
        },
        "id": "wMV4uSg0HUEU",
        "outputId": "278d1d77-7a71-45dd-8ec5-075cb992fd61"
      },
      "execution_count": null,
      "outputs": [
        {
          "output_type": "stream",
          "name": "stdout",
          "text": [
            "Informe a idade do cliente: 14\n",
            "Idade reprovada para empréstimo\n",
            "Informe a renda do cliente: 1700.00\n",
            "Renda ok\n",
            "O histórico de  inadimplência nos últimos 12 meses do cliente está limpo? (S ou N): s\n",
            "Nome ok\n",
            "Empréstimo negado\n"
          ]
        }
      ]
    }
  ]
}