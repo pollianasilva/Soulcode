{
  "nbformat": 4,
  "nbformat_minor": 0,
  "metadata": {
    "colab": {
      "provenance": [],
      "collapsed_sections": [
        "OQtrDHyqJoUb",
        "bPepMIQYWJLM",
        "YjPs_vDG7sz_",
        "How4ipCNIoLP",
        "tVY10axmRVMF",
        "hvMuDVQJZ6qu",
        "4YnW_kqJjzTZ",
        "PtNuvtAaBb9N",
        "aFt0lm7rSre-",
        "penq0BCpq_-d",
        "SOZPvzHwLqar",
        "ELEeeemtf88q",
        "trX7DXqeNHkQ",
        "5mnuaKBKwOa4"
      ],
      "include_colab_link": true
    },
    "kernelspec": {
      "name": "python3",
      "display_name": "Python 3"
    },
    "language_info": {
      "name": "python"
    }
  },
  "cells": [
    {
      "cell_type": "markdown",
      "metadata": {
        "id": "view-in-github",
        "colab_type": "text"
      },
      "source": [
        "<a href=\"https://colab.research.google.com/github/pollianasilva/Soulcode/blob/main/Introdu%C3%A7%C3%A3o_ao_Python.ipynb\" target=\"_parent\"><img src=\"https://colab.research.google.com/assets/colab-badge.svg\" alt=\"Open In Colab\"/></a>"
      ]
    },
    {
      "cell_type": "markdown",
      "source": [
        "# **Introdução ao Python**"
      ],
      "metadata": {
        "id": "uc-fkUZRI7jq"
      }
    },
    {
      "cell_type": "markdown",
      "source": [
        "Escola: SoulCode Academy\n",
        "\n",
        "Curso: Analista de Dados e Dashboards\n",
        "\n",
        "Período: Noturno\n",
        "\n",
        "Assunto: Introdução ao Python\n",
        "\n",
        "Professor: Franciane Rodrigues\n",
        "\n",
        "Aluna: Polliana Silva"
      ],
      "metadata": {
        "id": "FEPWx5SVgdbS"
      }
    },
    {
      "cell_type": "markdown",
      "source": [
        "## **Comentários e tipos básicos de dados**"
      ],
      "metadata": {
        "id": "OQtrDHyqJoUb"
      }
    },
    {
      "cell_type": "code",
      "source": [
        "print('Olá, mundo') # Usando aspas simples\n",
        "print(\"Olá, mundo\") # Usando aspas duplas"
      ],
      "metadata": {
        "colab": {
          "base_uri": "https://localhost:8080/"
        },
        "id": "257rQRm7Kq9A",
        "outputId": "8052c19d-699c-4583-c7d8-65f1a4a1b2d3"
      },
      "execution_count": null,
      "outputs": [
        {
          "output_type": "stream",
          "name": "stdout",
          "text": [
            "Olá, mundo\n",
            "Olá, mundo\n"
          ]
        }
      ]
    },
    {
      "cell_type": "code",
      "source": [
        "# Isso aqui é um comentário"
      ],
      "metadata": {
        "id": "io1ZV4IWOMy1"
      },
      "execution_count": null,
      "outputs": []
    },
    {
      "cell_type": "code",
      "source": [
        "'''\n",
        "Isso\n",
        "é um comentário\n",
        "longo ou grande\n",
        "'''"
      ],
      "metadata": {
        "colab": {
          "base_uri": "https://localhost:8080/",
          "height": 35
        },
        "id": "bwyxY4cXOZ7C",
        "outputId": "34e44f56-68be-4b0a-ce1e-9f50fb87cdfe"
      },
      "execution_count": null,
      "outputs": [
        {
          "output_type": "execute_result",
          "data": {
            "text/plain": [
              "'\\nIsso\\né um comentário\\nlongo ou grande\\n'"
            ],
            "application/vnd.google.colaboratory.intrinsic+json": {
              "type": "string"
            }
          },
          "metadata": {},
          "execution_count": 7
        }
      ]
    },
    {
      "cell_type": "code",
      "source": [
        "\"\"\"Isso aqui é um comentário\"\"\""
      ],
      "metadata": {
        "colab": {
          "base_uri": "https://localhost:8080/",
          "height": 35
        },
        "id": "B7VW2fG2O0Hx",
        "outputId": "536a2015-88d4-4240-975b-01d92add0041"
      },
      "execution_count": null,
      "outputs": [
        {
          "output_type": "execute_result",
          "data": {
            "text/plain": [
              "'Isso aqui é um comentário'"
            ],
            "application/vnd.google.colaboratory.intrinsic+json": {
              "type": "string"
            }
          },
          "metadata": {},
          "execution_count": 9
        }
      ]
    },
    {
      "cell_type": "code",
      "source": [
        "# Isso é\n",
        "# um\n",
        "# comentário"
      ],
      "metadata": {
        "id": "UDMk2cnzPWpR"
      },
      "execution_count": null,
      "outputs": []
    },
    {
      "cell_type": "code",
      "source": [
        "# Vamos escrever nossos dados pessoais e imprimir na tela\n",
        "print(34)           # int - numerica/quantitativa\n",
        "print(1.65)         # float - numérica / quantitativa\n",
        "print('Franciane')  # str (string) - valor que envolve escrita/caracteres - qualitativas/categóricas\n",
        "print(\"Rodrigues\")  # str (string) - valor que envolve escrita/caracteres - qualitativo/categóricas\n",
        "print(False)        # bool - boleanas - qualitativas/categóricas."
      ],
      "metadata": {
        "colab": {
          "base_uri": "https://localhost:8080/"
        },
        "id": "4jTZ4CeJPi2s",
        "outputId": "9ad6caea-6d4c-4fd8-d082-34e48518f92b"
      },
      "execution_count": null,
      "outputs": [
        {
          "output_type": "stream",
          "name": "stdout",
          "text": [
            "34\n",
            "1.65\n",
            "Franciane\n",
            "Rodrigues\n",
            "False\n"
          ]
        }
      ]
    },
    {
      "cell_type": "markdown",
      "source": [
        "## **Variáveis**"
      ],
      "metadata": {
        "id": "bPepMIQYWJLM"
      }
    },
    {
      "cell_type": "code",
      "source": [
        "# Declarando variáveis\n",
        "idade = 34\n",
        "altura = 1.65\n",
        "nome = 'Franciane'\n",
        "sobrenome = \"Rodrigues\"\n",
        "filhos = False"
      ],
      "metadata": {
        "id": "pJolenmzWNor"
      },
      "execution_count": null,
      "outputs": []
    },
    {
      "cell_type": "code",
      "source": [
        "# Imprimindo na tela\n",
        "print(idade)\n",
        "print(altura)\n",
        "print(nome)\n",
        "print(sobrenome)\n",
        "print(filhos)"
      ],
      "metadata": {
        "colab": {
          "base_uri": "https://localhost:8080/"
        },
        "id": "eT0w63uaYJax",
        "outputId": "e45e5836-9674-404b-c539-9db2b44eee8f"
      },
      "execution_count": null,
      "outputs": [
        {
          "output_type": "stream",
          "name": "stdout",
          "text": [
            "34\n",
            "1.65\n",
            "Franciane\n",
            "Rodrigues\n",
            "False\n"
          ]
        }
      ]
    },
    {
      "cell_type": "code",
      "source": [
        "# Imprimindo na tela: modo 2\n",
        "print(idade, altura, nome, sobrenome, filhos, sep=', ')"
      ],
      "metadata": {
        "colab": {
          "base_uri": "https://localhost:8080/"
        },
        "id": "pWbIqLdgZm9h",
        "outputId": "4e0a089f-1d44-4089-c7af-83370e37a551"
      },
      "execution_count": null,
      "outputs": [
        {
          "output_type": "stream",
          "name": "stdout",
          "text": [
            "34, 1.65, Franciane, Rodrigues, False\n"
          ]
        }
      ]
    },
    {
      "cell_type": "code",
      "source": [
        "# Checando o tipo de dado\n",
        "type(idade)"
      ],
      "metadata": {
        "colab": {
          "base_uri": "https://localhost:8080/"
        },
        "id": "B7vcRoKxaw1l",
        "outputId": "4912b986-dbd8-48c2-e55e-ad48ac7ec2a2"
      },
      "execution_count": null,
      "outputs": [
        {
          "output_type": "execute_result",
          "data": {
            "text/plain": [
              "int"
            ]
          },
          "metadata": {},
          "execution_count": 38
        }
      ]
    },
    {
      "cell_type": "code",
      "source": [
        "# Checando o tipo de dado guardado em cada variável\n",
        "print(type(idade))\n",
        "print(type(altura))\n",
        "print(type(nome))\n",
        "print(type(sobrenome))\n",
        "print(type(filhos))"
      ],
      "metadata": {
        "colab": {
          "base_uri": "https://localhost:8080/"
        },
        "id": "7h9q5UaJbXyM",
        "outputId": "543c6d4a-0df0-49e9-9d8e-4f306dca58ce"
      },
      "execution_count": null,
      "outputs": [
        {
          "output_type": "stream",
          "name": "stdout",
          "text": [
            "<class 'int'>\n",
            "<class 'float'>\n",
            "<class 'str'>\n",
            "<class 'str'>\n",
            "<class 'bool'>\n"
          ]
        }
      ]
    },
    {
      "cell_type": "code",
      "source": [
        "# Armazenando string e números\n",
        "nome_completo = 'Franciane Rodrigues'\n",
        "numero_fav = '34'"
      ],
      "metadata": {
        "id": "clk6APPwcF1C"
      },
      "execution_count": null,
      "outputs": []
    },
    {
      "cell_type": "code",
      "source": [
        "#Checando o tipo de variável\n",
        "print(type(nome_completo))\n",
        "print(type(numero_fav))"
      ],
      "metadata": {
        "colab": {
          "base_uri": "https://localhost:8080/"
        },
        "id": "rkjFhr4YcanE",
        "outputId": "71e75935-3e57-4e50-d33f-af52e9a09c47"
      },
      "execution_count": null,
      "outputs": [
        {
          "output_type": "stream",
          "name": "stdout",
          "text": [
            "<class 'str'>\n",
            "<class 'str'>\n"
          ]
        }
      ]
    },
    {
      "cell_type": "code",
      "source": [
        "# Atenção: o python é sensivel as letras maiusculas e minusculas\n",
        "nome = 'Franciane'\n",
        "print(nome)"
      ],
      "metadata": {
        "colab": {
          "base_uri": "https://localhost:8080/"
        },
        "id": "7IaIldeJdE0S",
        "outputId": "52eaab9b-dfc1-41d0-851b-5a131fcd4b7d"
      },
      "execution_count": null,
      "outputs": [
        {
          "output_type": "stream",
          "name": "stdout",
          "text": [
            "Franciane\n"
          ]
        }
      ]
    },
    {
      "cell_type": "code",
      "source": [
        "# Chamando variável com letra minuscula\n",
        "print(Nome)"
      ],
      "metadata": {
        "id": "mJ-haTr7dnRU",
        "colab": {
          "base_uri": "https://localhost:8080/",
          "height": 162
        },
        "outputId": "4345f368-4aaf-4a20-8256-5981b7fe8da9"
      },
      "execution_count": null,
      "outputs": [
        {
          "output_type": "error",
          "ename": "NameError",
          "evalue": "name 'Nome' is not defined",
          "traceback": [
            "\u001b[0;31m---------------------------------------------------------------------------\u001b[0m",
            "\u001b[0;31mNameError\u001b[0m                                 Traceback (most recent call last)",
            "\u001b[0;32m<ipython-input-2-8767a8f99451>\u001b[0m in \u001b[0;36m<cell line: 2>\u001b[0;34m()\u001b[0m\n\u001b[1;32m      1\u001b[0m \u001b[0;31m# Chamando variável com letra minuscula\u001b[0m\u001b[0;34m\u001b[0m\u001b[0;34m\u001b[0m\u001b[0m\n\u001b[0;32m----> 2\u001b[0;31m \u001b[0mprint\u001b[0m\u001b[0;34m(\u001b[0m\u001b[0mNome\u001b[0m\u001b[0;34m)\u001b[0m\u001b[0;34m\u001b[0m\u001b[0;34m\u001b[0m\u001b[0m\n\u001b[0m",
            "\u001b[0;31mNameError\u001b[0m: name 'Nome' is not defined"
          ]
        }
      ]
    },
    {
      "cell_type": "markdown",
      "source": [
        "## **Operadores Matemáticos**"
      ],
      "metadata": {
        "id": "YjPs_vDG7sz_"
      }
    },
    {
      "cell_type": "code",
      "execution_count": null,
      "metadata": {
        "id": "m2z3zc0C58hW"
      },
      "outputs": [],
      "source": [
        "# Operador de adição\n",
        "n1 = 5.887\n",
        "n2 = 7.15\n",
        "soma = n1 + n2"
      ]
    },
    {
      "cell_type": "code",
      "source": [
        "# Modos de apresentação de resultados: adição\n",
        "print(soma)\n",
        "print('A soma é: ', soma)\n",
        "print(f'A soma dos números é: {soma:.2f}')\n",
        "print(n1 + n2)\n",
        "n1 + n2"
      ],
      "metadata": {
        "colab": {
          "base_uri": "https://localhost:8080/"
        },
        "id": "FzQn70ng8F1y",
        "outputId": "f03c9fcd-5c74-4b9e-d470-d8bee89d30eb"
      },
      "execution_count": null,
      "outputs": [
        {
          "output_type": "stream",
          "name": "stdout",
          "text": [
            "13.036999999999999\n",
            "A soma é:  13.036999999999999\n",
            "A soma dos números é: 13.04\n",
            "13.036999999999999\n"
          ]
        },
        {
          "output_type": "execute_result",
          "data": {
            "text/plain": [
              "13.036999999999999"
            ]
          },
          "metadata": {},
          "execution_count": 76
        }
      ]
    },
    {
      "cell_type": "code",
      "source": [
        "# Operador de subtração\n",
        "a1 = 154.587\n",
        "a2 = 10.548\n",
        "sub = a1 - a2"
      ],
      "metadata": {
        "id": "uk1ZO85U-8m6"
      },
      "execution_count": null,
      "outputs": []
    },
    {
      "cell_type": "code",
      "source": [
        "# Modos de apresentação de resultados: subtração\n",
        "print(sub)\n",
        "print('A subtração é: ', sub)\n",
        "print(f'A subtração dos números é: {sub:.2f}')\n",
        "print(a1 - a2)\n",
        "a1 - a2"
      ],
      "metadata": {
        "colab": {
          "base_uri": "https://localhost:8080/"
        },
        "id": "C_c6ME-i_Nys",
        "outputId": "6f26edd7-092a-47c9-d299-313e894e9005"
      },
      "execution_count": null,
      "outputs": [
        {
          "output_type": "stream",
          "name": "stdout",
          "text": [
            "144.039\n",
            "A subtração é:  144.039\n",
            "A subtração dos números é: 144.04\n",
            "144.039\n"
          ]
        },
        {
          "output_type": "execute_result",
          "data": {
            "text/plain": [
              "144.039"
            ]
          },
          "metadata": {},
          "execution_count": 78
        }
      ]
    },
    {
      "cell_type": "code",
      "source": [
        "# Operador de multiplicação\n",
        "b1 = 3.57\n",
        "multi = b1 * 3\n",
        "print('A multiplicação é: ', round(multi,2))"
      ],
      "metadata": {
        "colab": {
          "base_uri": "https://localhost:8080/"
        },
        "id": "NMDhuao8_0U4",
        "outputId": "71bfabad-a8a5-4cbd-dc8e-b45bbe8054cf"
      },
      "execution_count": null,
      "outputs": [
        {
          "output_type": "stream",
          "name": "stdout",
          "text": [
            "A multiplicação é:  10.71\n"
          ]
        }
      ]
    },
    {
      "cell_type": "code",
      "source": [
        "# Respondendo a perguntinha: Sim\n",
        "print((2 + 2)*(2 + 2))"
      ],
      "metadata": {
        "colab": {
          "base_uri": "https://localhost:8080/"
        },
        "id": "1i0w-NvRA2QY",
        "outputId": "a59e3dc5-9076-4882-fe3d-bd54e18cec49"
      },
      "execution_count": null,
      "outputs": [
        {
          "output_type": "stream",
          "name": "stdout",
          "text": [
            "16\n"
          ]
        }
      ]
    },
    {
      "cell_type": "code",
      "source": [
        "# Operador de divisão\n",
        "x1 = 3\n",
        "x2 = 2\n",
        "div = x1/x2\n",
        "\n",
        "# Imprimindo na tela\n",
        "print(div)\n",
        "print(f'A divisão dos números é: {div:.2f}')"
      ],
      "metadata": {
        "colab": {
          "base_uri": "https://localhost:8080/"
        },
        "id": "6suCLb0eDaOT",
        "outputId": "b2531a85-1d62-4a96-9eaa-a3c9525d880a"
      },
      "execution_count": null,
      "outputs": [
        {
          "output_type": "stream",
          "name": "stdout",
          "text": [
            "1.5\n",
            "A divisão dos números é: 1.50\n"
          ]
        }
      ]
    },
    {
      "cell_type": "code",
      "source": [
        "# Resto da Divisão\n",
        "rdiv = 10 % 3\n",
        "print(rdiv)"
      ],
      "metadata": {
        "colab": {
          "base_uri": "https://localhost:8080/"
        },
        "id": "Nakd64H-FEpp",
        "outputId": "339737e7-ce7e-4238-b168-03d0a002a1ac"
      },
      "execution_count": null,
      "outputs": [
        {
          "output_type": "stream",
          "name": "stdout",
          "text": [
            "1\n"
          ]
        }
      ]
    },
    {
      "cell_type": "code",
      "source": [
        "# Parte inteira da divisão\n",
        "idiv = 10 // 3\n",
        "print(f'A parte inteira da divisão 10 por 3 é : {idiv}')"
      ],
      "metadata": {
        "colab": {
          "base_uri": "https://localhost:8080/"
        },
        "id": "RN0qTgekFlgE",
        "outputId": "6a3809b5-df6f-4e5a-dc32-19a7c02c9646"
      },
      "execution_count": null,
      "outputs": [
        {
          "output_type": "stream",
          "name": "stdout",
          "text": [
            "A parte inteira da divisão 10 por 3 é : 3\n"
          ]
        }
      ]
    },
    {
      "cell_type": "code",
      "source": [
        "# Operador de potenciação\n",
        "pot = 3 ** 2 # três ao quadrado\n",
        "print(pot)"
      ],
      "metadata": {
        "colab": {
          "base_uri": "https://localhost:8080/"
        },
        "id": "78cBZVhTGWCo",
        "outputId": "d11c9690-84dd-43b6-fad1-b67010e7d6bf"
      },
      "execution_count": null,
      "outputs": [
        {
          "output_type": "stream",
          "name": "stdout",
          "text": [
            "9\n"
          ]
        }
      ]
    },
    {
      "cell_type": "code",
      "source": [
        "# Outro exemplo\n",
        "pow(3,2)"
      ],
      "metadata": {
        "colab": {
          "base_uri": "https://localhost:8080/"
        },
        "id": "oCG_Hv5HG1nw",
        "outputId": "c9489a38-e664-4a5c-f820-7f26e2765da4"
      },
      "execution_count": null,
      "outputs": [
        {
          "output_type": "execute_result",
          "data": {
            "text/plain": [
              "9"
            ]
          },
          "metadata": {},
          "execution_count": 85
        }
      ]
    },
    {
      "cell_type": "code",
      "source": [
        "# Radiciação\n",
        "import math"
      ],
      "metadata": {
        "id": "NkFExByAHQtb"
      },
      "execution_count": null,
      "outputs": []
    },
    {
      "cell_type": "code",
      "source": [
        "# Calculando raiz quadrada de 144\n",
        "math.sqrt(144)"
      ],
      "metadata": {
        "colab": {
          "base_uri": "https://localhost:8080/"
        },
        "id": "HOyuYUH0HgdR",
        "outputId": "7d616e16-2eaf-4e20-e156-6a408a7ad229"
      },
      "execution_count": null,
      "outputs": [
        {
          "output_type": "execute_result",
          "data": {
            "text/plain": [
              "12.0"
            ]
          },
          "metadata": {},
          "execution_count": 87
        }
      ]
    },
    {
      "cell_type": "code",
      "source": [
        "# sugestão\n",
        "d = math.sqrt(144)\n",
        "d = int(d)\n",
        "d"
      ],
      "metadata": {
        "colab": {
          "base_uri": "https://localhost:8080/"
        },
        "id": "mWq90yINID18",
        "outputId": "39ad1f62-22b9-4e33-b2f4-fc12a09af1ce"
      },
      "execution_count": null,
      "outputs": [
        {
          "output_type": "execute_result",
          "data": {
            "text/plain": [
              "12"
            ]
          },
          "metadata": {},
          "execution_count": 88
        }
      ]
    },
    {
      "cell_type": "markdown",
      "source": [
        "## **Operadores de Comparação (Booleanos)**"
      ],
      "metadata": {
        "id": "How4ipCNIoLP"
      }
    },
    {
      "cell_type": "code",
      "source": [
        "# (==) verifica se dois valores são iguais (retornar como resposta True ou False)\n",
        "a = 3\n",
        "b = 3.0\n",
        "teste1 = a == b\n",
        "print(teste1)"
      ],
      "metadata": {
        "colab": {
          "base_uri": "https://localhost:8080/"
        },
        "id": "xPdC7RrPIyV3",
        "outputId": "d6f5e07b-6567-4dc3-c4a4-2e1942e302d8"
      },
      "execution_count": null,
      "outputs": [
        {
          "output_type": "stream",
          "name": "stdout",
          "text": [
            "True\n"
          ]
        }
      ]
    },
    {
      "cell_type": "code",
      "source": [
        "# As comparações podem ser feitas com variáveis do tipo String\n",
        "teste2 = 'fran' == 'Fran'\n",
        "print(teste2)"
      ],
      "metadata": {
        "colab": {
          "base_uri": "https://localhost:8080/"
        },
        "id": "MvtCCa7JJ0I7",
        "outputId": "c49beb83-32f7-4542-80f9-6c4dc21c0866"
      },
      "execution_count": null,
      "outputs": [
        {
          "output_type": "stream",
          "name": "stdout",
          "text": [
            "False\n"
          ]
        }
      ]
    },
    {
      "cell_type": "code",
      "source": [
        "# (!=) verifica se dois valores são diferentes (retornar True ou False)\n",
        "a = 3\n",
        "b = 3.0\n",
        "teste3 = a != b\n",
        "print(teste3)"
      ],
      "metadata": {
        "colab": {
          "base_uri": "https://localhost:8080/"
        },
        "id": "MCkpUM1ZKliU",
        "outputId": "0c921bbb-e4cf-4f7e-c0f2-b91817942431"
      },
      "execution_count": null,
      "outputs": [
        {
          "output_type": "stream",
          "name": "stdout",
          "text": [
            "False\n"
          ]
        }
      ]
    },
    {
      "cell_type": "code",
      "source": [
        "# (>) verifica se um valor é maior que o outro\n",
        "teste4 = 3 > 2\n",
        "print(teste4)"
      ],
      "metadata": {
        "colab": {
          "base_uri": "https://localhost:8080/"
        },
        "id": "uFn9SrUVLVA9",
        "outputId": "a189a917-31e1-4ce3-a4df-519dd0652d2a"
      },
      "execution_count": null,
      "outputs": [
        {
          "output_type": "stream",
          "name": "stdout",
          "text": [
            "True\n"
          ]
        }
      ]
    },
    {
      "cell_type": "code",
      "source": [
        "# (>=) verifica se um valor é maior ou igual ao outro\n",
        "teste5 = 3 >= 3\n",
        "print(teste5)"
      ],
      "metadata": {
        "colab": {
          "base_uri": "https://localhost:8080/"
        },
        "id": "sZnkEIytMNgJ",
        "outputId": "8d4e273f-e1ea-4c6c-90e6-615f630a36fb"
      },
      "execution_count": null,
      "outputs": [
        {
          "output_type": "stream",
          "name": "stdout",
          "text": [
            "True\n"
          ]
        }
      ]
    },
    {
      "cell_type": "code",
      "source": [
        "# (<) verifica se um valor é menor que o outro\n",
        "teste6 = 2 < 2\n",
        "print(teste6)"
      ],
      "metadata": {
        "colab": {
          "base_uri": "https://localhost:8080/"
        },
        "id": "22vow-YlMydm",
        "outputId": "37ed4223-2f0d-43b2-9be1-b34acd0d2f43"
      },
      "execution_count": null,
      "outputs": [
        {
          "output_type": "stream",
          "name": "stdout",
          "text": [
            "False\n"
          ]
        }
      ]
    },
    {
      "cell_type": "code",
      "source": [
        "# (<=) verifica se um valor é menor ou igual ao outro\n",
        "teste7 = 2 <= 2\n",
        "print(teste7)"
      ],
      "metadata": {
        "colab": {
          "base_uri": "https://localhost:8080/"
        },
        "id": "d9jxGDE6M_jM",
        "outputId": "1e9bdc0a-636e-4d9c-a427-f9744b28d21b"
      },
      "execution_count": null,
      "outputs": [
        {
          "output_type": "stream",
          "name": "stdout",
          "text": [
            "True\n"
          ]
        }
      ]
    },
    {
      "cell_type": "markdown",
      "source": [
        "## **Operadores de Atribuição**"
      ],
      "metadata": {
        "id": "tVY10axmRVMF"
      }
    },
    {
      "cell_type": "code",
      "source": [
        "# (=) atribuição direta: atribui ao lado esquerdo do sinal um valor a variável\n",
        "nome = 'fran'\n",
        "peso = 51\n",
        "altura = 1.65"
      ],
      "metadata": {
        "id": "BvH_iTyDRjdg"
      },
      "execution_count": null,
      "outputs": []
    },
    {
      "cell_type": "code",
      "source": [
        "# (+=) atribuição de soma: equivale a x = x + y\n",
        "# Exemplo: crie uma variável t que receba o numero inteiro 3 e depois\n",
        "# some 1 para essa variável\n",
        "\n",
        "t = 3       # crie uma variável t\n",
        "t = t + 1   # depois some 1 para essa variável:\n",
        "print('O resultado de t + 1 é: ', t)"
      ],
      "metadata": {
        "colab": {
          "base_uri": "https://localhost:8080/"
        },
        "id": "KLQ8sf0PSN2F",
        "outputId": "cfe13355-5377-4452-c5e4-0ca0ad0d012a"
      },
      "execution_count": null,
      "outputs": [
        {
          "output_type": "stream",
          "name": "stdout",
          "text": [
            "O resultado de t + 1 é:  4\n"
          ]
        }
      ]
    },
    {
      "cell_type": "code",
      "source": [
        "# Outra forma que também resolve problema\n",
        "t = 3\n",
        "t = 3 + 1\n",
        "print(t)"
      ],
      "metadata": {
        "colab": {
          "base_uri": "https://localhost:8080/"
        },
        "id": "k5ETxwSaTWo5",
        "outputId": "40b76255-2bd9-48e4-dc80-dec1ab055638"
      },
      "execution_count": null,
      "outputs": [
        {
          "output_type": "stream",
          "name": "stdout",
          "text": [
            "4\n"
          ]
        }
      ]
    },
    {
      "cell_type": "code",
      "source": [
        "# modo usando operador de atribuição soma\n",
        "t = 3\n",
        "t += 1\n",
        "print(t)"
      ],
      "metadata": {
        "colab": {
          "base_uri": "https://localhost:8080/"
        },
        "id": "UPR5cEqlUDtY",
        "outputId": "3f5d162e-88b6-44ee-faaf-e4fa8ea8fe2e"
      },
      "execution_count": null,
      "outputs": [
        {
          "output_type": "stream",
          "name": "stdout",
          "text": [
            "4\n"
          ]
        }
      ]
    },
    {
      "cell_type": "code",
      "source": [
        "# (-=) atribuição de subtração\n",
        "# Exemplo: crie uma variável z que receba o numero inteiro 5 e\n",
        "# depois diminua 2 para essa variável\n",
        "\n",
        "z = 5\n",
        "z = z - 2\n",
        "print(z)"
      ],
      "metadata": {
        "colab": {
          "base_uri": "https://localhost:8080/"
        },
        "id": "-1q-29udUsC_",
        "outputId": "fad6a66e-b5fc-418e-bed8-8ca2164b6c81"
      },
      "execution_count": null,
      "outputs": [
        {
          "output_type": "stream",
          "name": "stdout",
          "text": [
            "3\n"
          ]
        }
      ]
    },
    {
      "cell_type": "code",
      "source": [
        "# Outro modo que resolve o problema\n",
        "z = 5\n",
        "z = 5 - 2\n",
        "print(z)"
      ],
      "metadata": {
        "colab": {
          "base_uri": "https://localhost:8080/"
        },
        "id": "s-wluvvuVJjY",
        "outputId": "50c55a4b-6fba-4733-e15b-b675b7ebc562"
      },
      "execution_count": null,
      "outputs": [
        {
          "output_type": "stream",
          "name": "stdout",
          "text": [
            "3\n"
          ]
        }
      ]
    },
    {
      "cell_type": "code",
      "source": [
        "# modo usando operador de atribuição de subtração\n",
        "z = 5\n",
        "z -= 2\n",
        "print(z)"
      ],
      "metadata": {
        "colab": {
          "base_uri": "https://localhost:8080/"
        },
        "id": "79dsvMurVXtg",
        "outputId": "0cbb5d86-7c67-4211-f7c3-8391c8cdaf40"
      },
      "execution_count": null,
      "outputs": [
        {
          "output_type": "stream",
          "name": "stdout",
          "text": [
            "3\n"
          ]
        }
      ]
    },
    {
      "cell_type": "code",
      "source": [
        "# (*=) atribuição de multiplicação\n",
        "# Crie uma variável j que receba o numero 5\n",
        "# e depois multiplique este numero por 2\n",
        "\n",
        "j = 5\n",
        "j = j * 2\n",
        "print(j)"
      ],
      "metadata": {
        "colab": {
          "base_uri": "https://localhost:8080/"
        },
        "id": "iaBBiSfcWUny",
        "outputId": "4319000e-01eb-41ee-8dae-a69985c8944b"
      },
      "execution_count": null,
      "outputs": [
        {
          "output_type": "stream",
          "name": "stdout",
          "text": [
            "10\n"
          ]
        }
      ]
    },
    {
      "cell_type": "code",
      "source": [
        "# modo sugerido\n",
        "j = 5\n",
        "j = 5 * 2\n",
        "print(j)"
      ],
      "metadata": {
        "colab": {
          "base_uri": "https://localhost:8080/"
        },
        "id": "BiJ3fos-XHXk",
        "outputId": "76b3d51b-0e53-4cbe-b81f-030798a7df7b"
      },
      "execution_count": null,
      "outputs": [
        {
          "output_type": "stream",
          "name": "stdout",
          "text": [
            "10\n"
          ]
        }
      ]
    },
    {
      "cell_type": "code",
      "source": [
        "# modo usando operador de atribuição de multiplicação\n",
        "j = 5\n",
        "j *= 2\n",
        "print(j)"
      ],
      "metadata": {
        "colab": {
          "base_uri": "https://localhost:8080/"
        },
        "id": "cQC2K2cgXhsA",
        "outputId": "6d9ef6ac-19e2-4746-9061-29b01a07781e"
      },
      "execution_count": null,
      "outputs": [
        {
          "output_type": "stream",
          "name": "stdout",
          "text": [
            "10\n"
          ]
        }
      ]
    },
    {
      "cell_type": "code",
      "source": [
        "# (%=) atribuição de resto da divisão\n",
        "# Exemplo: crie uma variável b que receba o numero 7 e depois\n",
        "# receba o resto da divisão dela por 2.\n",
        "\n",
        "b = 7\n",
        "b = b % 2\n",
        "print(b)"
      ],
      "metadata": {
        "colab": {
          "base_uri": "https://localhost:8080/"
        },
        "id": "NTj6Ao3SYTmp",
        "outputId": "af88dcf8-1968-4f85-ad02-b13264d472cf"
      },
      "execution_count": null,
      "outputs": [
        {
          "output_type": "stream",
          "name": "stdout",
          "text": [
            "1\n"
          ]
        }
      ]
    },
    {
      "cell_type": "code",
      "source": [
        "# usando modo de atribuição de resto da divisão\n",
        "b = 7\n",
        "b %= 2\n",
        "print(b)"
      ],
      "metadata": {
        "colab": {
          "base_uri": "https://localhost:8080/"
        },
        "id": "FvTD7K9oZElh",
        "outputId": "001ae841-bfcf-41f4-8bb9-d9fa921f7592"
      },
      "execution_count": null,
      "outputs": [
        {
          "output_type": "stream",
          "name": "stdout",
          "text": [
            "1\n"
          ]
        }
      ]
    },
    {
      "cell_type": "markdown",
      "source": [
        "## **Operadores Lógicos**"
      ],
      "metadata": {
        "id": "hvMuDVQJZ6qu"
      }
    },
    {
      "cell_type": "code",
      "source": [
        "# (and) retorna verdadeiro somente se TODAS as condições de uma\n",
        "# comparação forem satisfeitas\n",
        "\n",
        "teste8 = 3 >= 2 and 3 !=2 and 3 < 4 # V and V and V\n",
        "print(teste8)"
      ],
      "metadata": {
        "colab": {
          "base_uri": "https://localhost:8080/"
        },
        "id": "Cqy1eRmeaBzN",
        "outputId": "de3a9e84-bcc7-41d2-a373-d4a949aa35d4"
      },
      "execution_count": null,
      "outputs": [
        {
          "output_type": "stream",
          "name": "stdout",
          "text": [
            "True\n"
          ]
        }
      ]
    },
    {
      "cell_type": "code",
      "source": [
        "# (&) é o mesmo que 'and'. Retorna retorna verdadeiro somente se\n",
        "# TODAS as condições de uma comparação forem satisfeitas\n",
        "\n",
        "teste9 = (3 >= 2) & (3 != 2) & (3 < 4)\n",
        "print(teste9)"
      ],
      "metadata": {
        "colab": {
          "base_uri": "https://localhost:8080/"
        },
        "id": "FpQwwVM_gnVt",
        "outputId": "8cdf1e42-5cbf-4999-8280-d7e0ecd05c36"
      },
      "execution_count": null,
      "outputs": [
        {
          "output_type": "stream",
          "name": "stdout",
          "text": [
            "True\n"
          ]
        }
      ]
    },
    {
      "cell_type": "code",
      "source": [
        "# (or) Retorna verdadeiro se PELO MENOS UM dos elementos das condições\n",
        "# for verdadeiro\n",
        "\n",
        "teste10 = 3 >= 2 or 3 == 2 or 3 > 4 # v or f or f\n",
        "print(teste10)"
      ],
      "metadata": {
        "colab": {
          "base_uri": "https://localhost:8080/"
        },
        "id": "Tx9OdqXGh1b8",
        "outputId": "be8c12b3-3c9c-4623-f228-d4b9c68ed0a6"
      },
      "execution_count": null,
      "outputs": [
        {
          "output_type": "stream",
          "name": "stdout",
          "text": [
            "True\n"
          ]
        }
      ]
    },
    {
      "cell_type": "code",
      "source": [
        "teste11 = 1 >= 2 or 3 == 2 or 3 > 4 # f or f or f\n",
        "print(teste11)"
      ],
      "metadata": {
        "colab": {
          "base_uri": "https://localhost:8080/"
        },
        "id": "WDyIlxhEibcg",
        "outputId": "19f47303-dda3-4ed0-f1e0-1c8021dcfa73"
      },
      "execution_count": null,
      "outputs": [
        {
          "output_type": "stream",
          "name": "stdout",
          "text": [
            "False\n"
          ]
        }
      ]
    },
    {
      "cell_type": "code",
      "source": [
        "# (|) é a mesma coisa que o OR. Retorna verdadeiro se PELO MENOS UM dos elementos\n",
        "# das condições for verdadeiro\n",
        "\n",
        "teste12 = (3 >= 2) | (3 == 2) | (3 > 4) # v or f or f\n",
        "print(teste12)"
      ],
      "metadata": {
        "colab": {
          "base_uri": "https://localhost:8080/"
        },
        "id": "0sowBq5fi1NI",
        "outputId": "72a9df9a-2a3f-4d11-cb13-110c605a1bfa"
      },
      "execution_count": null,
      "outputs": [
        {
          "output_type": "stream",
          "name": "stdout",
          "text": [
            "True\n"
          ]
        }
      ]
    },
    {
      "cell_type": "markdown",
      "source": [
        "## **Conversão de variáveis**"
      ],
      "metadata": {
        "id": "4YnW_kqJjzTZ"
      }
    },
    {
      "cell_type": "code",
      "source": [
        "# Conversão de int para float\n",
        "num_int = 10\n",
        "num_float = float(num_int)"
      ],
      "metadata": {
        "id": "Q3eSngWoj2w6"
      },
      "execution_count": null,
      "outputs": []
    },
    {
      "cell_type": "code",
      "source": [
        "# Checando a conversão\n",
        "print(type(num_int))\n",
        "print(type(num_float))"
      ],
      "metadata": {
        "colab": {
          "base_uri": "https://localhost:8080/"
        },
        "id": "y2RJtz6AlYI7",
        "outputId": "ffef5cb7-3e45-40f8-b854-19ffa327182e"
      },
      "execution_count": null,
      "outputs": [
        {
          "output_type": "stream",
          "name": "stdout",
          "text": [
            "<class 'int'>\n",
            "<class 'float'>\n"
          ]
        }
      ]
    },
    {
      "cell_type": "code",
      "source": [
        "# Checando se transformamos de 10 para 10.0\n",
        "print(num_float)"
      ],
      "metadata": {
        "colab": {
          "base_uri": "https://localhost:8080/"
        },
        "id": "G6nkVkggllZ7",
        "outputId": "8dd48fdd-f076-4ccd-8d3a-640972e933b7"
      },
      "execution_count": null,
      "outputs": [
        {
          "output_type": "stream",
          "name": "stdout",
          "text": [
            "10.0\n"
          ]
        }
      ]
    },
    {
      "cell_type": "code",
      "source": [
        "# Conversão de int para string\n",
        "num_int = 10\n",
        "num_str = str(num_int)"
      ],
      "metadata": {
        "id": "uJqaHefNmYkX"
      },
      "execution_count": null,
      "outputs": []
    },
    {
      "cell_type": "code",
      "source": [
        "# Checando a conversão\n",
        "print(type(num_int))\n",
        "print(type(num_str))"
      ],
      "metadata": {
        "colab": {
          "base_uri": "https://localhost:8080/"
        },
        "id": "KAa-g59NmtvZ",
        "outputId": "541dd182-35a3-4542-8d3f-823599974395"
      },
      "execution_count": null,
      "outputs": [
        {
          "output_type": "stream",
          "name": "stdout",
          "text": [
            "<class 'int'>\n",
            "<class 'str'>\n"
          ]
        }
      ]
    },
    {
      "cell_type": "code",
      "source": [
        "# Checando se transformamos de 10 para '10'\n",
        "print(num_str)"
      ],
      "metadata": {
        "colab": {
          "base_uri": "https://localhost:8080/"
        },
        "id": "xqZYqb1_m4D3",
        "outputId": "cf3741f7-30b0-4771-f4c9-0f6efec66d18"
      },
      "execution_count": null,
      "outputs": [
        {
          "output_type": "stream",
          "name": "stdout",
          "text": [
            "10\n"
          ]
        }
      ]
    },
    {
      "cell_type": "code",
      "source": [
        "# Conversão de float para int\n",
        "num_float = 10.5\n",
        "num_int = int(num_float)"
      ],
      "metadata": {
        "id": "6RjgaNuZnlyZ"
      },
      "execution_count": null,
      "outputs": []
    },
    {
      "cell_type": "code",
      "source": [
        "# Checando a conversão\n",
        "print(type(num_float))\n",
        "print(type(num_int))"
      ],
      "metadata": {
        "colab": {
          "base_uri": "https://localhost:8080/"
        },
        "id": "R-kSWHw1n5gd",
        "outputId": "00c1cd49-8a85-4ece-b5d1-4a49d12ad2ae"
      },
      "execution_count": null,
      "outputs": [
        {
          "output_type": "stream",
          "name": "stdout",
          "text": [
            "<class 'float'>\n",
            "<class 'int'>\n"
          ]
        }
      ]
    },
    {
      "cell_type": "code",
      "source": [
        "# Checando se transformamos\n",
        "print(num_int)"
      ],
      "metadata": {
        "id": "RHaQW8sIoDVu",
        "outputId": "66e40a2a-2b09-499b-8132-4cfc7532de7a",
        "colab": {
          "base_uri": "https://localhost:8080/"
        }
      },
      "execution_count": null,
      "outputs": [
        {
          "output_type": "stream",
          "name": "stdout",
          "text": [
            "10\n"
          ]
        }
      ]
    },
    {
      "cell_type": "markdown",
      "source": [
        "## **Coletando informações do usuário**"
      ],
      "metadata": {
        "id": "PtNuvtAaBb9N"
      }
    },
    {
      "cell_type": "code",
      "execution_count": null,
      "metadata": {
        "id": "g4M4N_DNAhVo"
      },
      "outputs": [],
      "source": [
        "# Coletando informações do usuário com input\n",
        "nome = input('Digite seu nome: ')\n",
        "print('O nome digitado é: ', nome)"
      ]
    },
    {
      "cell_type": "code",
      "source": [
        "# Coletando informações numéricas do usuário com input\n",
        "idade = int(input('Informe sua idade: '))\n",
        "print('A idade digitado é: ', idade)"
      ],
      "metadata": {
        "id": "_7oitn-qC4AI"
      },
      "execution_count": null,
      "outputs": []
    },
    {
      "cell_type": "code",
      "source": [
        "# Coletando informações numéricas do usuário com input\n",
        "peso = int(input('Informe seu peso: '))\n",
        "print('O peso digitado é: ', peso, 'kg')"
      ],
      "metadata": {
        "id": "YgPHFnVFEst-"
      },
      "execution_count": null,
      "outputs": []
    },
    {
      "cell_type": "code",
      "source": [
        "# Coletando informações numéricas do usuário com input\n",
        "altura = float(input('Informe sua altura: '))\n",
        "print('Sua altura é: ', altura, 'metros')"
      ],
      "metadata": {
        "id": "KjCXz2NkFo2K"
      },
      "execution_count": null,
      "outputs": []
    },
    {
      "cell_type": "code",
      "source": [
        "# Crie um código que calcule o IMC  e imprima o resultado na tela.\n",
        "nome = input('Digite seu nome: ')\n",
        "peso = int(input('Informe seu peso: '))\n",
        "altura = float(input('Informe sua altura: '))\n",
        "\n",
        "# calculando o IMC\n",
        "imc = peso / altura ** 2\n",
        "\n",
        "# Imprimindo na tela\n",
        "print(f'{nome}, seu imc é: {imc:.2f}')"
      ],
      "metadata": {
        "id": "zPEPOhr_G7S9"
      },
      "execution_count": null,
      "outputs": []
    },
    {
      "cell_type": "code",
      "source": [
        "# Outra forma de escrever o resultado\n",
        "print(nome , ', seu imc é:',  round(imc,2))\n",
        "print(nome + ', seu imc é:', imc)\n",
        "print(nome + ', seu imc é:' + str(imc)) # concatenação de strings"
      ],
      "metadata": {
        "id": "8jD2IGsKJIeo"
      },
      "execution_count": null,
      "outputs": []
    },
    {
      "cell_type": "markdown",
      "source": [
        "## **String - Encontrando um caracter pelo índice**"
      ],
      "metadata": {
        "id": "aFt0lm7rSre-"
      }
    },
    {
      "cell_type": "code",
      "source": [
        "# Definindo uma string\n",
        "nome = 'Franciane'"
      ],
      "metadata": {
        "id": "yodnuPNMSz9C"
      },
      "execution_count": null,
      "outputs": []
    },
    {
      "cell_type": "code",
      "source": [
        "# Exemplo: Imprima na tela o primeiro caracter da String\n",
        "\n",
        "nome[0] # Sintaxe básica de localização de caracter\n",
        "\n",
        "print('O primeiro caracter da string é: ', nome[0])"
      ],
      "metadata": {
        "id": "_-5x4HiAUCWu"
      },
      "execution_count": null,
      "outputs": []
    },
    {
      "cell_type": "code",
      "source": [
        "# Exemplo: Imprima na tela o último caracter da string\n",
        "print(nome[8])\n",
        "print(nome[-1]) # Recomendado"
      ],
      "metadata": {
        "id": "fyqGYtXxVS-a"
      },
      "execution_count": null,
      "outputs": []
    },
    {
      "cell_type": "code",
      "source": [
        "# Exemplo: Imprima na tela o terceiro carater da string\n",
        "print(nome[2]) # => a\n",
        "\n",
        "# Exemplo: Imprima na tela o quinto caracter da string\n",
        "print(nome[4]) # => c"
      ],
      "metadata": {
        "id": "aJX1gjnuaOjB"
      },
      "execution_count": null,
      "outputs": []
    },
    {
      "cell_type": "code",
      "source": [
        "# Atividade em 10 minutos: 20:50\n",
        "# Ex.1 Definindo uma string sendo esta o seu nome\n",
        "# Ex.2 Imprima na tela o primeiro caracter do seu nome (normal e reverso)\n",
        "# Ex.3 Imprima na tela o último caracter do seu nome (normal e reverso)\n",
        "# Ex.4 Imprima na tela o terceiro caracter do seu nome (normal e reverso)"
      ],
      "metadata": {
        "id": "MHRpQUJwbqPg"
      },
      "execution_count": null,
      "outputs": []
    },
    {
      "cell_type": "code",
      "source": [
        "# Vamos fazer um fatiamento da nossa string (slicing)\n",
        "nome = 'FRANCIANE'\n",
        "\n",
        "# F   R   A   N   C    I   A   N   E\n",
        "# 0   1   2   3   4    5   6   7   8   # Pensamento computacional Python\n",
        "# 1°  2°  3°  4°  5°   6°  7°  8°  9°  # Pensamento matematico Nosso"
      ],
      "metadata": {
        "id": "2KV5Rjkshfwo"
      },
      "execution_count": null,
      "outputs": []
    },
    {
      "cell_type": "code",
      "source": [
        "# Imprima na tela a sequencia do segundo ao quinto caracter\n",
        "# RANC\n",
        "nome[1:5] # Sintaxe"
      ],
      "metadata": {
        "id": "noviey3khlqP"
      },
      "execution_count": null,
      "outputs": []
    },
    {
      "cell_type": "code",
      "source": [
        "# Imprima na tela a sequencia do primeiro até o quinto caracter\n",
        "nome[0:5]"
      ],
      "metadata": {
        "id": "h_KGGyZ3lAuh"
      },
      "execution_count": null,
      "outputs": []
    },
    {
      "cell_type": "code",
      "source": [
        "# Exemplo da Ana Carol\n",
        "nome = 'Ana Carol'\n",
        "\n",
        "# Imprima na tela até a terceira posição do Python da string nome\n",
        "nome[0:4]\n",
        "\n",
        "# Aprendemos que espaços contam como caracter!"
      ],
      "metadata": {
        "id": "dqCJjnSKpt92"
      },
      "execution_count": null,
      "outputs": []
    },
    {
      "cell_type": "markdown",
      "source": [
        "## **Métodos de Strings**"
      ],
      "metadata": {
        "id": "penq0BCpq_-d"
      }
    },
    {
      "cell_type": "code",
      "source": [
        "# Sinal de (+) para concatenar (juntar) string\n",
        "nome = 'Franciane'\n",
        "sobrenome = 'Rodrigues'\n",
        "print(nome +' '+ sobrenome)"
      ],
      "metadata": {
        "id": "1dD0owjrrejE"
      },
      "execution_count": null,
      "outputs": []
    },
    {
      "cell_type": "code",
      "source": [
        "# (len) Método que conta o número de caracteres de uma string\n",
        "nome = 'Franciane'\n",
        "contagem = len(nome)\n",
        "print(nome, 'tem', contagem, 'caracteres')"
      ],
      "metadata": {
        "id": "4LaZ6BLrs4QT"
      },
      "execution_count": null,
      "outputs": []
    },
    {
      "cell_type": "code",
      "source": [
        "# (len) Método que conta o número de caracteres de uma string\n",
        "# Obs.: Espaços são contabilizados\n",
        "nome = ' Franciane '\n",
        "contagem = len(nome)\n",
        "print(nome, 'tem', contagem, 'caracteres')"
      ],
      "metadata": {
        "id": "sLV9nvpktUh9"
      },
      "execution_count": null,
      "outputs": []
    },
    {
      "cell_type": "code",
      "source": [
        "# (strip) Método que elimina caracteres indesejados de uma string\n",
        "# no inicio e no fim\n",
        "nome = nome.strip()\n",
        "\n",
        "# Checando se o método foi aplicado\n",
        "print(len(nome))"
      ],
      "metadata": {
        "id": "ZzBiS0IeuMqI"
      },
      "execution_count": null,
      "outputs": []
    },
    {
      "cell_type": "code",
      "source": [
        "# (replace) Método que substitui um caracter por outro\n",
        "preco = 'R$ 10,50'\n",
        "print(preco)"
      ],
      "metadata": {
        "id": "u75Zen_5ugpI"
      },
      "execution_count": null,
      "outputs": []
    },
    {
      "cell_type": "code",
      "source": [
        "# Aplicando o método replace na variável preco\n",
        "preço = preco.replace(',' , '.')"
      ],
      "metadata": {
        "id": "rJpNIbOav25D"
      },
      "execution_count": null,
      "outputs": []
    },
    {
      "cell_type": "code",
      "source": [
        "# Checando a aplicação do método\n",
        "print(preco)"
      ],
      "metadata": {
        "id": "8XPoLCa2wDb1"
      },
      "execution_count": null,
      "outputs": []
    },
    {
      "cell_type": "code",
      "source": [
        "# Coloque seu nome\n",
        "nome = input('Informe seu nome: ')\n",
        "print('O nome digitado é: ', nome)"
      ],
      "metadata": {
        "id": "tSoCI1_sxNqi"
      },
      "execution_count": null,
      "outputs": []
    },
    {
      "cell_type": "code",
      "source": [
        "# (capitalize) Método para deixar a primeira letra maiuscula\n",
        "nome = nome.capitalize()\n",
        "nome"
      ],
      "metadata": {
        "id": "oXOmE3nzxZmp"
      },
      "execution_count": null,
      "outputs": []
    },
    {
      "cell_type": "code",
      "source": [
        "# (upper) Método que coloca todas as letrinhas maiusculas (gritando)\n",
        "nome = nome.upper()\n",
        "nome"
      ],
      "metadata": {
        "id": "DTPArHxCx3Yp"
      },
      "execution_count": null,
      "outputs": []
    },
    {
      "cell_type": "code",
      "source": [
        "# (casefold) Método que coloca todas as letrinhas minusculas (falando baixinho)\n",
        "nome = nome.casefold()\n",
        "nome"
      ],
      "metadata": {
        "id": "5ck0xieLyVTq"
      },
      "execution_count": null,
      "outputs": []
    },
    {
      "cell_type": "code",
      "source": [
        "# (title) Coloca a primeira letra de cada palavra em maiúscula\n",
        "comp = 'ana carolina'\n",
        "print(comp)"
      ],
      "metadata": {
        "colab": {
          "base_uri": "https://localhost:8080/"
        },
        "id": "A5Pktp4pz-aj",
        "outputId": "7db337d9-451d-45b5-8737-1389eda6742c"
      },
      "execution_count": null,
      "outputs": [
        {
          "output_type": "stream",
          "name": "stdout",
          "text": [
            "ana carolina\n"
          ]
        }
      ]
    },
    {
      "cell_type": "code",
      "source": [
        "# Aplicando o metodo title\n",
        "comp = comp.title()\n",
        "print(comp)"
      ],
      "metadata": {
        "colab": {
          "base_uri": "https://localhost:8080/"
        },
        "id": "b3Y5LKHi0EdX",
        "outputId": "dc747c4e-3bcf-43b3-abfb-83c886c4d6f2"
      },
      "execution_count": null,
      "outputs": [
        {
          "output_type": "stream",
          "name": "stdout",
          "text": [
            "Ana Carolina\n"
          ]
        }
      ]
    },
    {
      "cell_type": "markdown",
      "source": [
        "## **Estrutura de Condição: IF, ELSE, ELIF**"
      ],
      "metadata": {
        "id": "xvU4rYmvpe_b"
      }
    },
    {
      "cell_type": "markdown",
      "source": [
        "Instrução IF\n",
        "\n",
        "* A instrução \"if\" é usada para executar um bloco de código se uma determiada condição for verdadeira. A seguinte sintaxe geral é a seguinte:\n"
      ],
      "metadata": {
        "id": "bGW3vcy7psAu"
      }
    },
    {
      "cell_type": "code",
      "source": [
        "'''\n",
        "if condição:\n",
        "    # bloco de código a ser executado\n",
        "'''"
      ],
      "metadata": {
        "id": "g1cyR5SZpn_Y"
      },
      "execution_count": null,
      "outputs": []
    },
    {
      "cell_type": "code",
      "source": [
        "# Informar a variável\n",
        "idade = 19\n",
        "\n",
        "# Realizar a condição\n",
        "if idade >= 18:\n",
        "    print('Você é maior de idade')"
      ],
      "metadata": {
        "colab": {
          "base_uri": "https://localhost:8080/"
        },
        "id": "TMhCEg6qrFU9",
        "outputId": "7caa75c1-10c1-4d58-9882-b670d40b664e"
      },
      "execution_count": null,
      "outputs": [
        {
          "output_type": "stream",
          "name": "stdout",
          "text": [
            "Você é maior de idade\n"
          ]
        }
      ]
    },
    {
      "cell_type": "code",
      "source": [
        "# Informar a variável\n",
        "idade = 18\n",
        "\n",
        "# Realizar a condição\n",
        "if idade >= 18:\n",
        "    print('Você é maior de idade')"
      ],
      "metadata": {
        "colab": {
          "base_uri": "https://localhost:8080/"
        },
        "id": "N08TnIELskRP",
        "outputId": "1db107ab-8e5c-4cee-fc1d-95e1c95f8753"
      },
      "execution_count": null,
      "outputs": [
        {
          "output_type": "stream",
          "name": "stdout",
          "text": [
            "Você é maior de idade\n"
          ]
        }
      ]
    },
    {
      "cell_type": "code",
      "source": [
        "# Informar a variável\n",
        "idade = 17\n",
        "\n",
        "# Realizar a condição\n",
        "if idade >= 18:\n",
        "    print('Você é maior de idade')"
      ],
      "metadata": {
        "id": "WIuaJMWYs6SR"
      },
      "execution_count": null,
      "outputs": []
    },
    {
      "cell_type": "code",
      "source": [
        "# Informar a variável\n",
        "clima = 'ensolarado'\n",
        "\n",
        "# Vamos verificar se o clima é igual a ensolarado\n",
        "if clima == 'ensolarado': # para facilitar leia os dois pontos como \"então\".\n",
        "    print('É um bom dia para ir na pracinha')"
      ],
      "metadata": {
        "colab": {
          "base_uri": "https://localhost:8080/"
        },
        "id": "9Rg_aBxItT2N",
        "outputId": "7ba7a945-f6dd-4bbc-f5f0-9e98a231bd34"
      },
      "execution_count": null,
      "outputs": [
        {
          "output_type": "stream",
          "name": "stdout",
          "text": [
            "É um bom dia para ir na pracinha\n"
          ]
        }
      ]
    },
    {
      "cell_type": "code",
      "source": [
        "# Informar a variável\n",
        "clima = input('Digite o clima atual: ')\n",
        "\n",
        "# Vamos verificar se o clima é igual a ensolarado\n",
        "if clima == 'ensolarado': # para facilitar leia os dois pontos como \"então\".\n",
        "    print('É um bom dia para ir na pracinha')"
      ],
      "metadata": {
        "colab": {
          "base_uri": "https://localhost:8080/"
        },
        "id": "FmkWFD32ufcn",
        "outputId": "d4af6258-e022-430d-f45a-a7dda5b2693a"
      },
      "execution_count": null,
      "outputs": [
        {
          "name": "stdout",
          "output_type": "stream",
          "text": [
            "Digite o clima atual: ENSOLARADO\n"
          ]
        }
      ]
    },
    {
      "cell_type": "code",
      "source": [
        "# Informar a variável\n",
        "clima = input('Digite o clima atual: ')\n",
        "\n",
        "# Vamos verificar se o clima é igual a ensolarado\n",
        "if clima.lower() == 'ensolarado': # para facilitar leia os dois pontos como \"então\".\n",
        "    print('É um bom dia para ir na pracinha')"
      ],
      "metadata": {
        "colab": {
          "base_uri": "https://localhost:8080/"
        },
        "id": "6uBfye0_vXsD",
        "outputId": "6cdda908-f970-4290-ce71-21465b573926"
      },
      "execution_count": null,
      "outputs": [
        {
          "output_type": "stream",
          "name": "stdout",
          "text": [
            "Digite o clima atual: Ensolarado\n",
            "É um bom dia para ir na pracinha\n"
          ]
        }
      ]
    },
    {
      "cell_type": "markdown",
      "source": [
        "Instrução \"else\"\n",
        "\n",
        "* A instrução \"else\" é usada em conjunto com a instrução \"if\"  e especifica um bloco de código a ser executado se a condição do \"if\" for falsa. A sintaxe geral é a seguinte:"
      ],
      "metadata": {
        "id": "pdXzJal30avk"
      }
    },
    {
      "cell_type": "code",
      "source": [
        "'''\n",
        "if condição:\n",
        "    # bloco de código a ser executado se a condição for verdadeira;\n",
        "else:\n",
        "    # bloco de código a ser executado se a condição for falsa;\n",
        "'''"
      ],
      "metadata": {
        "id": "RikQEo9607Le"
      },
      "execution_count": null,
      "outputs": []
    },
    {
      "cell_type": "code",
      "source": [
        "# Entrada de dados\n",
        "idade = int(input('Digite sua idade: '))\n",
        "\n",
        "# Decisão\n",
        "if idade >= 18:\n",
        "    print('Você é maior de idade!')\n",
        "\n",
        "else: # leia \"else\" como \"se não\"\n",
        "    print('Você é menor de idade!')"
      ],
      "metadata": {
        "colab": {
          "base_uri": "https://localhost:8080/"
        },
        "id": "rpLSG8JW1abV",
        "outputId": "67487fe9-1084-4ee0-bf08-d137b8972b70"
      },
      "execution_count": null,
      "outputs": [
        {
          "output_type": "stream",
          "name": "stdout",
          "text": [
            "Digite sua idade: 34\n",
            "Você é maior de idade!\n"
          ]
        }
      ]
    },
    {
      "cell_type": "code",
      "source": [
        "# Exemplo: Escreva um pequeno código que decida se um numero\n",
        "# é positivo ou negativo\n",
        "\n",
        "numero = float(input('Escreva um número: '))\n",
        "\n",
        "# Verificar se o numero informado é positivo ou negativo\n",
        "\n",
        "if numero > 0:\n",
        "    print('O número informado é positivo')\n",
        "else:\n",
        "    print('O número informado é negativo')"
      ],
      "metadata": {
        "colab": {
          "base_uri": "https://localhost:8080/"
        },
        "id": "cp5RnOc12Na-",
        "outputId": "1f7fe738-1612-4bd1-84be-660f6be6d205"
      },
      "execution_count": null,
      "outputs": [
        {
          "output_type": "stream",
          "name": "stdout",
          "text": [
            "Escreva um número: 0\n",
            "O número informado é negativo\n"
          ]
        }
      ]
    },
    {
      "cell_type": "markdown",
      "source": [
        "Instrução \"elif\" (meio termo)\n",
        "\n",
        "* A instrução \"elif\" é um abreviação de \"else if\" (senão se) e permite testar multiplas condições em sequencia. Ela é usada quando há mais de duas possibilidades a serem consideradas. A sintaxe geral é a seguinte:"
      ],
      "metadata": {
        "id": "dWhyfg237tBA"
      }
    },
    {
      "cell_type": "code",
      "source": [
        "'''\n",
        "if condição1:\n",
        "    # bloco de código a ser executado se a condição1 for verdadeira\n",
        "elif condição2:\n",
        "    # bloco de código a ser executado se a condição2 for verdadeira\n",
        "else:\n",
        "    # bloco de código a ser executado se nenhuma das condições\n",
        "    # anteriores forem verdadeiras\n",
        "'''"
      ],
      "metadata": {
        "id": "Bge4tiWJ8fj4"
      },
      "execution_count": null,
      "outputs": []
    },
    {
      "cell_type": "markdown",
      "source": [
        "Exemplo: Faça um algoritmo que avalie a nota do aluno:\n",
        "\n",
        "* se ele tirou igual ou acima de 90, seu conceito é A;\n",
        "* se ele tirou igual ou acima de 80, seu conceito é B;\n",
        "* se ele tirou igual ou acima de 70, seu conceito é C;\n",
        "* se ele tirou abaixo de 70, seu conceito é D;"
      ],
      "metadata": {
        "id": "yytXJ0XrBj5S"
      }
    },
    {
      "cell_type": "code",
      "source": [
        "# Entrada de dados\n",
        "nota = float(input('Digitar a nota do aluno: '))\n",
        "\n",
        "# Avaliação e decisão\n",
        "if nota >= 90 and nota <= 100:\n",
        "    print('Sua nota é A!')\n",
        "\n",
        "elif nota >= 80 and nota < 90:\n",
        "    print('Sua nota é B!')\n",
        "\n",
        "elif nota >= 70 and nota < 80:\n",
        "    print('Sua nota é C!')\n",
        "\n",
        "else:\n",
        "    print('Sua nota é D!')\n",
        "\n",
        "# Desafio: conserte o código!"
      ],
      "metadata": {
        "colab": {
          "base_uri": "https://localhost:8080/"
        },
        "id": "Lw9EYLRY9fEu",
        "outputId": "71561a0a-b191-438f-c6bd-bacde5e7eda9"
      },
      "execution_count": null,
      "outputs": [
        {
          "output_type": "stream",
          "name": "stdout",
          "text": [
            "Digitar a nota do aluno: 120\n",
            "Sua nota é D!\n"
          ]
        }
      ]
    },
    {
      "cell_type": "code",
      "source": [
        "# Sugestão de solução do desafio - Everton.\n",
        "# Entrada de dados\n",
        "nota = float(input('Digitar a nota do aluno: '))\n",
        "\n",
        "# Avaliação e decisão\n",
        "if nota >= 90 and nota <= 100:\n",
        "    print('Seu conceito é A!')\n",
        "elif nota >= 80 and nota < 90:\n",
        "    print('Seu conceito é B!')\n",
        "elif nota >= 70 and nota < 80:\n",
        "    print('Seu conceito é C!')\n",
        "elif nota >= 0 and nota < 70:\n",
        "    print('Seu conceito é D!')\n",
        "else:\n",
        "    print('Favor inserir uma nota valida!')"
      ],
      "metadata": {
        "id": "rxL8CQUfKCQ3"
      },
      "execution_count": null,
      "outputs": []
    },
    {
      "cell_type": "code",
      "source": [
        "# Problemas de IMC\n",
        "\n",
        "# Entradas de dados\n",
        "nome = input('Digite seu nome: ')\n",
        "peso = int(input('Informe seu peso: '))\n",
        "altura = float(input('Informe sua altura: '))\n",
        "\n",
        "# calculando o IMC  - KPI da área de nutrição\n",
        "imc = peso / altura ** 2\n",
        "\n",
        "# Imprimindo na tela\n",
        "print(f'{nome}, seu IMC é: {imc:.2f}')\n",
        "\n",
        "# Verificando a classificação do IMC do paciente\n",
        "\n",
        "if imc <= 0:\n",
        "    print('Você morreu!')\n",
        "\n",
        "elif imc > 0 and imc < 18.5:\n",
        "     print('Você está abaixo do peso.')\n",
        "\n",
        "elif imc >= 18.5 and imc < 25:\n",
        "    print('Seu peso está normal.')\n",
        "\n",
        "elif imc >=25 and imc < 40:\n",
        "    print('Você está com sobrepeso.')\n",
        "\n",
        "else:\n",
        "    print('Você esta obeso')"
      ],
      "metadata": {
        "colab": {
          "base_uri": "https://localhost:8080/"
        },
        "id": "ETP8foaoF2fK",
        "outputId": "8d95da70-eaa3-4fe7-f14c-560b5960ffb9"
      },
      "execution_count": null,
      "outputs": [
        {
          "output_type": "stream",
          "name": "stdout",
          "text": [
            "Digite seu nome: Franciane\n",
            "Informe seu peso: 0\n",
            "Informe sua altura: 1.65\n",
            "Franciane, seu IMC é: 0.00\n",
            "Você morreu!\n"
          ]
        }
      ]
    },
    {
      "cell_type": "markdown",
      "source": [
        "## **Estrutura de Condição: IF, ELSE, ELIF aninhado**"
      ],
      "metadata": {
        "id": "BYgEEv5hPXg_"
      }
    },
    {
      "cell_type": "markdown",
      "source": [
        "Condição aninhada: Este programa em Python solicita a nota e a frequência do aluno em uma disciplina e determina se ele foi aprovado ou reprovado. Se a frequência for igual ou superior a 75% e a nota for igual ou superior a 60, o aluno é aprovado. Caso contrário, ele é reprovado, seja por nota ou por frequência."
      ],
      "metadata": {
        "id": "RhI0iaqEPiCw"
      }
    },
    {
      "cell_type": "code",
      "source": [
        "# Entrada de dados\n",
        "frequencia = int(input('Digite a frequencia do aluno: '))\n",
        "nota = float(input('Digite a nota do aluno: '))\n",
        "\n",
        "# Comparação e decisão\n",
        "\n",
        "if frequencia >=75 and frequencia <= 100:\n",
        "    if nota >= 60 and nota <= 100:\n",
        "        print('Aprovado')\n",
        "    else:\n",
        "        print('Reprovado por nota')\n",
        "else:\n",
        "    print('Reprovado por frequencia')"
      ],
      "metadata": {
        "colab": {
          "base_uri": "https://localhost:8080/"
        },
        "id": "csOwKsRTPdgi",
        "outputId": "1ef82312-bd43-48bd-8fca-dc905350cfb4"
      },
      "execution_count": null,
      "outputs": [
        {
          "output_type": "stream",
          "name": "stdout",
          "text": [
            "Digite a frequencia do aluno: 60\n",
            "Digite a nota do aluno: 30\n",
            "Reprovado por frequencia\n"
          ]
        }
      ]
    },
    {
      "cell_type": "code",
      "source": [
        "# Crie um algoritmo que leia a nota de um aluno e verifique se ele passou com média 7\n",
        "\n",
        "# Crie um algoritmo que leia 5 notas de um aluno e verifique se ele passou com média 7\n",
        "\n",
        "# Crie um algoritmo que leia 5 notas de 3 alunos e verifique se eles passaram com média 7\n",
        "\n",
        "# Crie um algoritmo que leia 5 notas de uma escola com 580 alunos e verifique se eles passaram com média 7\n",
        "\n",
        "# Crie um algoritmo que leia 5 notas de uma universidade que possui 10 mil alunos"
      ],
      "metadata": {
        "id": "uokVsnw8UqbG"
      },
      "execution_count": null,
      "outputs": []
    },
    {
      "cell_type": "markdown",
      "source": [
        "Limitações: As estruturas condicionais toma apenas uma decisão, a primeira que é verdadeira. Elas funcionam bem para coisas simples e se você não organizar o código direito, pode causar problemas."
      ],
      "metadata": {
        "id": "ySDChyMNW0nI"
      }
    },
    {
      "cell_type": "markdown",
      "source": [
        "## **Operadores de Associação**"
      ],
      "metadata": {
        "id": "J4CHdvRF9nbz"
      }
    },
    {
      "cell_type": "markdown",
      "source": [
        "* (in) Retorna verdadeiro se um caracter  ou sequencia de caracteres for encontrado dentro de uma string."
      ],
      "metadata": {
        "id": "XteMQAwP91ha"
      }
    },
    {
      "cell_type": "code",
      "execution_count": null,
      "metadata": {
        "colab": {
          "base_uri": "https://localhost:8080/"
        },
        "id": "lhiKK-H88NvC",
        "outputId": "610c12db-ac7e-4858-97bd-4f1916eac951"
      },
      "outputs": [
        {
          "output_type": "execute_result",
          "data": {
            "text/plain": [
              "True"
            ]
          },
          "metadata": {},
          "execution_count": 1
        }
      ],
      "source": [
        "# Exemplo 1\n",
        "nome = 'Franciane'\n",
        "'ane' in nome"
      ]
    },
    {
      "cell_type": "code",
      "source": [
        "# Exemplo 2\n",
        "nome = 'Franciane'\n",
        "'Ane' in nome"
      ],
      "metadata": {
        "colab": {
          "base_uri": "https://localhost:8080/"
        },
        "id": "cwgPWeTF-eg4",
        "outputId": "06a4bb3b-201f-4bdf-bbcc-fb99718caa9d"
      },
      "execution_count": null,
      "outputs": [
        {
          "output_type": "execute_result",
          "data": {
            "text/plain": [
              "False"
            ]
          },
          "metadata": {},
          "execution_count": 2
        }
      ]
    },
    {
      "cell_type": "code",
      "source": [
        "# Exemplo 3\n",
        "nome1 = 'Victor Gabriel'\n",
        "'vic' in nome1"
      ],
      "metadata": {
        "colab": {
          "base_uri": "https://localhost:8080/"
        },
        "id": "ZDKGgx3E-zBT",
        "outputId": "37038bef-9fa4-44a1-9033-e22906364fc7"
      },
      "execution_count": null,
      "outputs": [
        {
          "output_type": "execute_result",
          "data": {
            "text/plain": [
              "False"
            ]
          },
          "metadata": {},
          "execution_count": 6
        }
      ]
    },
    {
      "cell_type": "code",
      "source": [
        "# Exemplo 4\n",
        "nome = 'Marcos'\n",
        "'mar' in nome.lower()"
      ],
      "metadata": {
        "colab": {
          "base_uri": "https://localhost:8080/"
        },
        "id": "tccEQ5hC_VJV",
        "outputId": "8451c2ae-d866-4327-ebe6-781c1b74c837"
      },
      "execution_count": null,
      "outputs": [
        {
          "output_type": "execute_result",
          "data": {
            "text/plain": [
              "True"
            ]
          },
          "metadata": {},
          "execution_count": 10
        }
      ]
    },
    {
      "cell_type": "code",
      "source": [
        "# Exemplo 5\n",
        "nome = input('Digite seu nome: ')\n",
        "'mar' in nome.lower()"
      ],
      "metadata": {
        "colab": {
          "base_uri": "https://localhost:8080/"
        },
        "id": "sQS4QkZEBpwd",
        "outputId": "49a94075-d765-40f8-fac6-88bc348daae0"
      },
      "execution_count": null,
      "outputs": [
        {
          "name": "stdout",
          "output_type": "stream",
          "text": [
            "Digite seu nome: MARCOS\n"
          ]
        },
        {
          "output_type": "execute_result",
          "data": {
            "text/plain": [
              "True"
            ]
          },
          "metadata": {},
          "execution_count": 12
        }
      ]
    },
    {
      "cell_type": "markdown",
      "source": [
        "* (not in) Retorna verdadeiro se um caracter ou sequencia de caracteres **NÃO** for encontrado dentro de uma string"
      ],
      "metadata": {
        "id": "rSW1PaNT_1NY"
      }
    },
    {
      "cell_type": "code",
      "source": [
        "nome = 'daniela'\n",
        "teste1 = 'Dani' not in nome\n",
        "print('Dani não está contido em daniela? ', teste1)"
      ],
      "metadata": {
        "colab": {
          "base_uri": "https://localhost:8080/"
        },
        "id": "ZaUV9k1nAQHy",
        "outputId": "13185049-1792-4c94-8198-3d40488d7542"
      },
      "execution_count": null,
      "outputs": [
        {
          "output_type": "stream",
          "name": "stdout",
          "text": [
            "Dani não está contido em daniela?  True\n"
          ]
        }
      ]
    },
    {
      "cell_type": "markdown",
      "source": [
        "## **Operador Identidade**"
      ],
      "metadata": {
        "id": "TDHP-CJUCmd-"
      }
    },
    {
      "cell_type": "markdown",
      "source": [
        "* (is) compara se um objeto é igual ao outro em relação ao valor e tipo."
      ],
      "metadata": {
        "id": "Q52YStVQHGzO"
      }
    },
    {
      "cell_type": "code",
      "source": [
        "# Entrada de dados\n",
        "h = 3\n",
        "p = 3\n",
        "\n",
        "# Primeira comparação\n",
        "teste2 = p == h\n",
        "\n",
        "# Outra forma de impressão na tela\n",
        "teste2"
      ],
      "metadata": {
        "colab": {
          "base_uri": "https://localhost:8080/"
        },
        "id": "7Ywv_YHGCxT9",
        "outputId": "72f6d477-946d-4d19-cf65-f9f1e81f53d3"
      },
      "execution_count": null,
      "outputs": [
        {
          "output_type": "execute_result",
          "data": {
            "text/plain": [
              "True"
            ]
          },
          "metadata": {},
          "execution_count": 13
        }
      ]
    },
    {
      "cell_type": "code",
      "source": [
        "# Entrada de dados\n",
        "h = 3\n",
        "p = 3\n",
        "\n",
        "# Segunda comparação\n",
        "teste3 = p is h # Lê \"is\" como \"é\"\n",
        "\n",
        "# Outra forma de impressão na tela\n",
        "teste3"
      ],
      "metadata": {
        "colab": {
          "base_uri": "https://localhost:8080/"
        },
        "id": "3QqdVZDKJh8e",
        "outputId": "a801fa6a-1a2f-4c9d-c728-da70c78f0fe1"
      },
      "execution_count": null,
      "outputs": [
        {
          "output_type": "execute_result",
          "data": {
            "text/plain": [
              "True"
            ]
          },
          "metadata": {},
          "execution_count": 14
        }
      ]
    },
    {
      "cell_type": "code",
      "source": [
        "# Entrada de dados\n",
        "h = 3\n",
        "p = 3.0\n",
        "\n",
        "# Segunda comparação\n",
        "teste4 = p == h\n",
        "\n",
        "# Outra forma de impressão na tela\n",
        "teste4"
      ],
      "metadata": {
        "colab": {
          "base_uri": "https://localhost:8080/"
        },
        "id": "1qT__DWNKQ6Z",
        "outputId": "b1ebfb30-65ac-4a05-f87e-c0dcc07775de"
      },
      "execution_count": null,
      "outputs": [
        {
          "output_type": "execute_result",
          "data": {
            "text/plain": [
              "True"
            ]
          },
          "metadata": {},
          "execution_count": 15
        }
      ]
    },
    {
      "cell_type": "code",
      "source": [
        "# Entrada de dados\n",
        "h = 3\n",
        "p = 3.0\n",
        "\n",
        "# Segunda comparação\n",
        "teste5 = p is h\n",
        "\n",
        "# Outra forma de impressão na tela\n",
        "print(teste5)\n",
        "\n",
        "print(type(h))\n",
        "print(type(p))"
      ],
      "metadata": {
        "colab": {
          "base_uri": "https://localhost:8080/"
        },
        "id": "Cc02091IKqtl",
        "outputId": "1e3d5ace-8558-48c0-fd47-0acf68e7d895"
      },
      "execution_count": null,
      "outputs": [
        {
          "output_type": "stream",
          "name": "stdout",
          "text": [
            "False\n",
            "<class 'int'>\n",
            "<class 'float'>\n"
          ]
        }
      ]
    },
    {
      "cell_type": "code",
      "source": [
        "# Entrada de dados\n",
        "h = 'MARIA'\n",
        "p = 'maria'\n",
        "\n",
        "# Segunda comparação\n",
        "teste6 = p is h # lembrando que o python é case sensitive\n",
        "\n",
        "# Outra forma de impressão na tela\n",
        "print(teste6)\n",
        "\n",
        "print(type(h))\n",
        "print(type(p))"
      ],
      "metadata": {
        "colab": {
          "base_uri": "https://localhost:8080/"
        },
        "id": "MwgDllE7Lzrq",
        "outputId": "64b9ffdc-18f3-4e69-a6e8-fd4b77162c16"
      },
      "execution_count": null,
      "outputs": [
        {
          "output_type": "stream",
          "name": "stdout",
          "text": [
            "False\n",
            "<class 'str'>\n",
            "<class 'str'>\n"
          ]
        }
      ]
    },
    {
      "cell_type": "code",
      "source": [
        "# Entrada de dados\n",
        "h = 3.0\n",
        "p = 3.0\n",
        "\n",
        "# Segunda comparação\n",
        "teste7 = p is h\n",
        "\n",
        "# Outra forma de impressão na tela\n",
        "print(teste7)\n",
        "\n",
        "print(type(h))\n",
        "print(type(p))"
      ],
      "metadata": {
        "colab": {
          "base_uri": "https://localhost:8080/"
        },
        "id": "28tnp5OpMoKc",
        "outputId": "f4d47a96-0f42-40d8-89a0-8e1ebe06807f"
      },
      "execution_count": null,
      "outputs": [
        {
          "output_type": "stream",
          "name": "stdout",
          "text": [
            "False\n",
            "<class 'float'>\n",
            "<class 'float'>\n"
          ]
        }
      ]
    },
    {
      "cell_type": "code",
      "source": [
        "# Ideias do Filipe - trazer informações sobre essa situação.\n",
        "a = 10.1\n",
        "b = 10.2\n",
        "soma = a + b\n",
        "print(soma)\n",
        "print(round(soma,1))"
      ],
      "metadata": {
        "colab": {
          "base_uri": "https://localhost:8080/"
        },
        "id": "B6q-BUjUN4Tl",
        "outputId": "6f313d46-cd3e-4c7a-a319-ada4aa930524"
      },
      "execution_count": null,
      "outputs": [
        {
          "output_type": "stream",
          "name": "stdout",
          "text": [
            "20.299999999999997\n",
            "20.3\n"
          ]
        }
      ]
    },
    {
      "cell_type": "markdown",
      "source": [
        "* (is not) compara se um objeto é diferente do outro em relação ao valor e tipo."
      ],
      "metadata": {
        "id": "OZNzBddAOzqg"
      }
    },
    {
      "cell_type": "code",
      "source": [
        "# Entrada de dados\n",
        "h = 3\n",
        "p = 4\n",
        "\n",
        "# Segunda comparação\n",
        "teste8 = h != p\n",
        "\n",
        "# Outra forma de impressão na tela\n",
        "teste8"
      ],
      "metadata": {
        "colab": {
          "base_uri": "https://localhost:8080/"
        },
        "id": "DB_Q8Q46PFmN",
        "outputId": "901d2355-7569-4a86-a8e6-89f8d08cf81f"
      },
      "execution_count": null,
      "outputs": [
        {
          "output_type": "execute_result",
          "data": {
            "text/plain": [
              "True"
            ]
          },
          "metadata": {},
          "execution_count": 35
        }
      ]
    },
    {
      "cell_type": "code",
      "source": [
        "# Entrada de dados\n",
        "h = 3\n",
        "p = 4\n",
        "\n",
        "# Segunda comparação\n",
        "teste9 = h is not p # is not lê-se \"não é\"\n",
        "\n",
        "# Outra forma de impressão na tela\n",
        "teste9"
      ],
      "metadata": {
        "colab": {
          "base_uri": "https://localhost:8080/"
        },
        "id": "rsUs5rkFPdr4",
        "outputId": "9ff901f1-9740-4c18-9c36-9b35221018fd"
      },
      "execution_count": null,
      "outputs": [
        {
          "output_type": "execute_result",
          "data": {
            "text/plain": [
              "True"
            ]
          },
          "metadata": {},
          "execution_count": 36
        }
      ]
    },
    {
      "cell_type": "markdown",
      "source": [
        "## **Estrutura de Dados - Listas**"
      ],
      "metadata": {
        "id": "cIRL28tzP_XK"
      }
    },
    {
      "cell_type": "code",
      "source": [
        "# Uma lista é um objeto que pode ser vazio ou ter varios elementos.\n",
        "# Podemos localizar elementos dentro da lista através de índices\n",
        "# como fizemos nas strings,\n",
        "# inclusive podemos fazer fatiamento se necessário\n",
        "\n",
        "lista = ['dado1', 'dado2', 'dado3', 'dado4', 'dado5']\n",
        "\n",
        "# indices     0         1        2        3        4\n",
        "# reverso    -5        -4       -3       -2       -1\n",
        "\n",
        "# Qual é o quinto elemento da minha lista de forma direta e inversa?\n",
        "print(lista[4])\n",
        "print(lista[-1])"
      ],
      "metadata": {
        "colab": {
          "base_uri": "https://localhost:8080/"
        },
        "id": "vECnMEc7ZORQ",
        "outputId": "64a7e0d7-0b51-4b30-8dbc-9fb395902efc"
      },
      "execution_count": null,
      "outputs": [
        {
          "output_type": "stream",
          "name": "stdout",
          "text": [
            "dado5\n",
            "dado5\n"
          ]
        }
      ]
    },
    {
      "cell_type": "code",
      "source": [
        "# Vamos criar uma lista real\n",
        "lista = ['banana', 2.0, True, -2, 34, 'Bel']\n",
        "lista"
      ],
      "metadata": {
        "colab": {
          "base_uri": "https://localhost:8080/"
        },
        "id": "gjqcnK31bUZd",
        "outputId": "2401d2db-076e-4fa7-e276-0a7fa5c348a6"
      },
      "execution_count": null,
      "outputs": [
        {
          "output_type": "execute_result",
          "data": {
            "text/plain": [
              "['banana', 2.0, True, -2, 34, 'Bel']"
            ]
          },
          "metadata": {},
          "execution_count": 40
        }
      ]
    },
    {
      "cell_type": "code",
      "source": [
        "# len(): retorna o tamanho da lista\n",
        "len(lista)"
      ],
      "metadata": {
        "colab": {
          "base_uri": "https://localhost:8080/"
        },
        "id": "gX6AmR4XcDAb",
        "outputId": "2da0eeaa-3ed3-4bc0-a7b9-65ee1e209ad6"
      },
      "execution_count": null,
      "outputs": [
        {
          "output_type": "execute_result",
          "data": {
            "text/plain": [
              "6"
            ]
          },
          "metadata": {},
          "execution_count": 41
        }
      ]
    },
    {
      "cell_type": "code",
      "source": [
        "# Consigo imprimir o tipo dos dados igual fizemos nos exemplos de antes?\n",
        "print(type(lista))\n",
        "print(type(lista[0]))"
      ],
      "metadata": {
        "colab": {
          "base_uri": "https://localhost:8080/"
        },
        "id": "LRgusxmVcWbM",
        "outputId": "4c2b461f-f3a4-41f4-fc74-6873c701f42e"
      },
      "execution_count": null,
      "outputs": [
        {
          "output_type": "stream",
          "name": "stdout",
          "text": [
            "<class 'list'>\n",
            "<class 'str'>\n"
          ]
        }
      ]
    },
    {
      "cell_type": "code",
      "source": [
        "# Vamos criar uma lista com input - estamos criando um pequeno banco de dados\n",
        "alunos = input('Informe os nomes separados por espaços que você deseja cadastrar: ')\n",
        "nomes = alunos.split()\n",
        "print(nomes)"
      ],
      "metadata": {
        "colab": {
          "base_uri": "https://localhost:8080/"
        },
        "id": "8e1bAU7hcjla",
        "outputId": "a6af7d04-7feb-4866-990e-dbabc475a0c2"
      },
      "execution_count": null,
      "outputs": [
        {
          "output_type": "stream",
          "name": "stdout",
          "text": [
            "Informe os nomes separados por espaços que você deseja cadastrar: Bruno Arthur Carina Felipe Juliana Kleisson Luane Lucas Marcos Vanessa Vinicius\n",
            "['Bruno', 'Arthur', 'Carina', 'Felipe', 'Juliana', 'Kleisson', 'Luane', 'Lucas', 'Marcos', 'Vanessa', 'Vinicius']\n"
          ]
        }
      ]
    },
    {
      "cell_type": "code",
      "source": [
        "# len(): retorna o tamanho da lista\n",
        "len(nomes)"
      ],
      "metadata": {
        "colab": {
          "base_uri": "https://localhost:8080/"
        },
        "id": "GlledqiPjCie",
        "outputId": "91e53158-66ae-47d2-d236-1bf939bb4e95"
      },
      "execution_count": null,
      "outputs": [
        {
          "output_type": "execute_result",
          "data": {
            "text/plain": [
              "11"
            ]
          },
          "metadata": {},
          "execution_count": 13
        }
      ]
    },
    {
      "cell_type": "code",
      "source": [
        "# O 4° nome dessa lista.\n",
        "print(nomes[3])\n",
        "\n",
        "# Os nomes do 2º ao 5° nome dessa lista.\n",
        "print(nomes[1:5])\n",
        "\n",
        "# O 8° nome da lista\n",
        "print(nomes[7])\n",
        "\n",
        "# Os nomes do 7º ao 10° nome dessa lista.\n",
        "print(nomes[6:10])"
      ],
      "metadata": {
        "colab": {
          "base_uri": "https://localhost:8080/"
        },
        "id": "dwVXVmOcjOGC",
        "outputId": "2e4eb3c7-8109-4ecd-ea32-6f8d81500a94"
      },
      "execution_count": null,
      "outputs": [
        {
          "output_type": "stream",
          "name": "stdout",
          "text": [
            "Felipe\n",
            "['Arthur', 'Carina', 'Felipe', 'Juliana']\n",
            "Lucas\n",
            "['Luane', 'Lucas', 'Marcos', 'Vanessa']\n"
          ]
        }
      ]
    },
    {
      "cell_type": "code",
      "source": [
        "# Inserindo valores em uma lista pelo método append\n",
        "# por padrão o método append vai inserir o elemento sempre na última posição\n",
        "# mantendo os demais que eventualmente já existam\n",
        "\n",
        "descarte = []\n",
        "print(descarte)\n",
        "\n",
        "descarte.append('bateria')\n",
        "print(descarte)\n",
        "\n",
        "descarte.append('mouse')\n",
        "print(descarte)\n",
        "\n",
        "descarte.append('cabo para Iphone')\n",
        "print(descarte)\n",
        "\n",
        "descarte.append('teclado')\n",
        "print(descarte)"
      ],
      "metadata": {
        "colab": {
          "base_uri": "https://localhost:8080/"
        },
        "id": "IXXd6sx7lYNK",
        "outputId": "afcaef97-17bc-4b0d-b5dd-89d0c6a3c8a1"
      },
      "execution_count": null,
      "outputs": [
        {
          "output_type": "stream",
          "name": "stdout",
          "text": [
            "[]\n",
            "['bateria']\n",
            "['bateria', 'mouse']\n",
            "['bateria', 'mouse', 'cabo para Iphone']\n",
            "['bateria', 'mouse', 'cabo para Iphone', 'teclado']\n"
          ]
        }
      ]
    },
    {
      "cell_type": "code",
      "source": [
        "# Método insert() insere um valor em qualquer lugar da lista\n",
        "descarte.insert(3, 'iphone')\n",
        "print(descarte)"
      ],
      "metadata": {
        "colab": {
          "base_uri": "https://localhost:8080/"
        },
        "id": "bIKObiS4nBzx",
        "outputId": "b9ef0a66-31f2-4b70-d57a-53025caa5f54"
      },
      "execution_count": null,
      "outputs": [
        {
          "output_type": "stream",
          "name": "stdout",
          "text": [
            "['bateria', 'mouse', 'cabo para Iphone', 'iphone', 'teclado']\n"
          ]
        }
      ]
    },
    {
      "cell_type": "code",
      "source": [
        "# Método remove() - remove o elemento que está dentro do parênteses\n",
        "descarte.remove('iphone')\n",
        "print(descarte)"
      ],
      "metadata": {
        "colab": {
          "base_uri": "https://localhost:8080/"
        },
        "id": "DXIsFzcNnesL",
        "outputId": "1c3dc932-1f64-42a1-cd92-ecbab2f7c798"
      },
      "execution_count": null,
      "outputs": [
        {
          "output_type": "stream",
          "name": "stdout",
          "text": [
            "['bateria', 'mouse', 'cabo para Iphone', 'teclado']\n"
          ]
        }
      ]
    },
    {
      "cell_type": "code",
      "source": [
        "# Método pop() remove o elemento pelo índice\n",
        "descarte.pop(0)\n",
        "print(descarte)"
      ],
      "metadata": {
        "colab": {
          "base_uri": "https://localhost:8080/"
        },
        "id": "aJF-fwovoPKR",
        "outputId": "a3926509-56b5-4e3c-b45d-9a8419c89685"
      },
      "execution_count": null,
      "outputs": [
        {
          "output_type": "stream",
          "name": "stdout",
          "text": [
            "['mouse', 'cabo para Iphone', 'teclado']\n"
          ]
        }
      ]
    },
    {
      "cell_type": "code",
      "source": [
        "print(descarte)"
      ],
      "metadata": {
        "colab": {
          "base_uri": "https://localhost:8080/"
        },
        "id": "U1piMlHVoDu4",
        "outputId": "9030bd44-26c4-4580-fda5-a35b63ebc96d"
      },
      "execution_count": null,
      "outputs": [
        {
          "output_type": "stream",
          "name": "stdout",
          "text": [
            "['mouse', 'cabo para Iphone', 'teclado']\n"
          ]
        }
      ]
    },
    {
      "cell_type": "code",
      "source": [
        "# Método reverse() inverte a ordem da lista\n",
        "descarte.reverse()\n",
        "print(descarte)"
      ],
      "metadata": {
        "colab": {
          "base_uri": "https://localhost:8080/"
        },
        "id": "mC3ku3qiosSp",
        "outputId": "a440b54d-08a9-45e1-cab2-09530cc46817"
      },
      "execution_count": null,
      "outputs": [
        {
          "output_type": "stream",
          "name": "stdout",
          "text": [
            "['teclado', 'cabo para Iphone', 'mouse']\n"
          ]
        }
      ]
    },
    {
      "cell_type": "code",
      "source": [
        "# Método copy() retorna uma cópia da lista\n",
        "descarte_bkp = descarte.copy()\n",
        "descarte_bkp"
      ],
      "metadata": {
        "colab": {
          "base_uri": "https://localhost:8080/"
        },
        "id": "78fVlb-BpNAn",
        "outputId": "bb43300a-71f8-4e06-c67c-a5f75ae8cef5"
      },
      "execution_count": null,
      "outputs": [
        {
          "output_type": "execute_result",
          "data": {
            "text/plain": [
              "['teclado', 'cabo para Iphone', 'mouse']"
            ]
          },
          "metadata": {},
          "execution_count": 8
        }
      ]
    },
    {
      "cell_type": "code",
      "source": [
        "# Concatenação de listas\n",
        "\n",
        "lista1 = [0, 1, 2, 3, 4]\n",
        "lista2 = [10, 11, 12, 13, 14]\n",
        "\n",
        "lista_oficial = lista1 + lista2\n",
        "lista_oficial"
      ],
      "metadata": {
        "colab": {
          "base_uri": "https://localhost:8080/"
        },
        "id": "Q71OZze1qchr",
        "outputId": "8a87676d-de23-4d34-dce1-a323b6a9799f"
      },
      "execution_count": null,
      "outputs": [
        {
          "output_type": "execute_result",
          "data": {
            "text/plain": [
              "[0, 1, 2, 3, 4, 10, 11, 12, 13, 14]"
            ]
          },
          "metadata": {},
          "execution_count": 10
        }
      ]
    },
    {
      "cell_type": "markdown",
      "source": [
        "## **Estrutura de dados - Tuplas**\n",
        "\n",
        "*  São imutáveis: uma vez criadas, não podemos alterar\n",
        "*  São ordenáveis: elas mantêm uma ordem especifica com acesso via índice\n",
        "* Permite heterogeneidade: podem conter elementos de diversos tipos\n",
        "* Sintaxe simples: para uma criar uma tupla usamos parênteses.\n",
        "\n",
        "\n"
      ],
      "metadata": {
        "id": "YYzfsINxHfg7"
      }
    },
    {
      "cell_type": "code",
      "execution_count": null,
      "metadata": {
        "id": "DFGs1aDgGhe0"
      },
      "outputs": [],
      "source": [
        "# Criando uma tupla\n",
        "nomes = ('Fran', 'Bel', 'Bela')\n",
        "pesos = (51, 15, 40)\n",
        "alturas = (1.65, 1.81, 1.78)"
      ]
    },
    {
      "cell_type": "code",
      "source": [
        "# acessando elementos dentro das tuplas\n",
        "print(f'{nomes[0]} tem {pesos[0] } kg e {alturas[0]} metros')"
      ],
      "metadata": {
        "colab": {
          "base_uri": "https://localhost:8080/"
        },
        "id": "FByPC5U7JyfW",
        "outputId": "13444e5d-efb3-4afa-fef2-8158bd860dac"
      },
      "execution_count": null,
      "outputs": [
        {
          "output_type": "stream",
          "name": "stdout",
          "text": [
            "Fran tem 51 kg e 1.65 metros\n"
          ]
        }
      ]
    },
    {
      "cell_type": "code",
      "source": [
        "# Transformando listas em tuplas\n",
        "produtos = ['teclado', 'mouse', 'monitor', 'placa-mãe']\n",
        "print(type(produtos))"
      ],
      "metadata": {
        "colab": {
          "base_uri": "https://localhost:8080/"
        },
        "id": "ebeOATNwKwu9",
        "outputId": "40366cce-71da-4274-dcc7-3b0f3c110f94"
      },
      "execution_count": null,
      "outputs": [
        {
          "output_type": "stream",
          "name": "stdout",
          "text": [
            "<class 'list'>\n"
          ]
        }
      ]
    },
    {
      "cell_type": "code",
      "source": [
        "# convertendo lista em tupla\n",
        "produtos = tuple(produtos)\n",
        "print(type(produtos))"
      ],
      "metadata": {
        "colab": {
          "base_uri": "https://localhost:8080/"
        },
        "id": "5WSbwchKLC4I",
        "outputId": "a2531930-1d18-4ee8-e0a3-98c6c261f157"
      },
      "execution_count": null,
      "outputs": [
        {
          "output_type": "stream",
          "name": "stdout",
          "text": [
            "<class 'tuple'>\n"
          ]
        }
      ]
    },
    {
      "cell_type": "code",
      "source": [
        "# convertendo tupla em lista\n",
        "produtos = tuple(produtos)\n",
        "print(type(produtos))\n",
        "\n",
        "produtos = list(produtos)\n",
        "print(type(produtos))"
      ],
      "metadata": {
        "colab": {
          "base_uri": "https://localhost:8080/"
        },
        "id": "d0l3gCDkMAv2",
        "outputId": "ec0e719f-5137-40be-c5c4-827cca5f1acb"
      },
      "execution_count": null,
      "outputs": [
        {
          "output_type": "stream",
          "name": "stdout",
          "text": [
            "<class 'tuple'>\n",
            "<class 'list'>\n"
          ]
        }
      ]
    },
    {
      "cell_type": "markdown",
      "source": [
        "## **Estrutura de dados - Dicionários**\n",
        "\n",
        "*  Estrutura Chave-valor: Cada elemento no dicionário consiste em uma chave associada a um valor\n",
        "*  Mutabilidade: Diferentemente das tuplas, os dicionários são MUTÁVEIS. Isso significa que você pode adicionar, remover ou modificar elementos em um dicionário após sua criação.\n",
        "*  Chaves únicas: As chaves em um dicionários são únicas, garantindo que não existam chaves duplicadas."
      ],
      "metadata": {
        "id": "SOZPvzHwLqar"
      }
    },
    {
      "cell_type": "code",
      "source": [
        "# Criando e armazenando em um dicionário as informações de nome, idade, peso e altura\n",
        "\n",
        "funcionario = {'nome':'Franciane',\n",
        "               'idade': 34,\n",
        "               'altura': 1.65,\n",
        "               'peso': 51}\n",
        "print(funcionario)"
      ],
      "metadata": {
        "colab": {
          "base_uri": "https://localhost:8080/"
        },
        "id": "Ii9MctMDL0za",
        "outputId": "b4233d69-164f-440f-f1cd-3a721132bf34"
      },
      "execution_count": null,
      "outputs": [
        {
          "output_type": "stream",
          "name": "stdout",
          "text": [
            "{'nome': 'Franciane', 'idade': 34, 'altura': 1.65, 'peso': 51}\n"
          ]
        }
      ]
    },
    {
      "cell_type": "code",
      "source": [
        "# acessando valor da chave\n",
        "print(funcionario['nome'])\n",
        "print(funcionario['idade'])\n",
        "print(funcionario['altura'])\n",
        "print(funcionario['peso'])"
      ],
      "metadata": {
        "colab": {
          "base_uri": "https://localhost:8080/"
        },
        "id": "9EdBEr-4SK69",
        "outputId": "62f69f99-6b4d-4557-e31d-fb0faa3cece7"
      },
      "execution_count": null,
      "outputs": [
        {
          "output_type": "stream",
          "name": "stdout",
          "text": [
            "Franciane\n",
            "34\n",
            "1.65\n",
            "51\n"
          ]
        }
      ]
    },
    {
      "cell_type": "code",
      "source": [
        "# Outra forma de acessar valor no meu dicionário\n",
        "print(funcionario.get('nome'))\n",
        "print(funcionario.get('idade'))\n",
        "print(funcionario.get('altura'))\n",
        "print(funcionario.get('peso'))"
      ],
      "metadata": {
        "colab": {
          "base_uri": "https://localhost:8080/"
        },
        "id": "CVbeSjv4So8Q",
        "outputId": "8a7b690b-6697-46f7-892c-82a4764f76bd"
      },
      "execution_count": null,
      "outputs": [
        {
          "output_type": "stream",
          "name": "stdout",
          "text": [
            "Franciane\n",
            "34\n",
            "1.65\n",
            "51\n"
          ]
        }
      ]
    },
    {
      "cell_type": "code",
      "source": [
        "# Vamos fazer uma lista dentro de um dicionário\n",
        "dicionario_lista = {'nome': 'Franciane',\n",
        "                    'idade': 34,\n",
        "                    'animais':['Bel','Bia','Bela','Kika'],\n",
        "                    'idades':[13, 7, 4, 7]\n",
        "                    }\n",
        "print(dicionario_lista)"
      ],
      "metadata": {
        "colab": {
          "base_uri": "https://localhost:8080/"
        },
        "id": "5S-fF2WPS44q",
        "outputId": "aa1902e1-bf32-4a5d-f0cc-d8d4be3b78c5"
      },
      "execution_count": null,
      "outputs": [
        {
          "output_type": "stream",
          "name": "stdout",
          "text": [
            "{'nome': 'Franciane', 'idade': 34, 'animais': ['Bel', 'Bia', 'Bela', 'Kika'], 'idades': [13, 7, 4, 7]}\n"
          ]
        }
      ]
    },
    {
      "cell_type": "code",
      "source": [
        "# Métodos importantes\n",
        "# Utilize os métodos keys() e values()\n",
        "# Serve para obter todas as chaves ou valores do dicionário\n",
        "\n",
        "chaves = dicionario_lista.keys()\n",
        "print(chaves)\n",
        "\n",
        "valores = dicionario_lista.values()\n",
        "print(valores)"
      ],
      "metadata": {
        "colab": {
          "base_uri": "https://localhost:8080/"
        },
        "id": "0-YFNqpjT9V8",
        "outputId": "37b09346-fa07-4bf7-959b-c872efa48053"
      },
      "execution_count": null,
      "outputs": [
        {
          "output_type": "stream",
          "name": "stdout",
          "text": [
            "dict_keys(['nome', 'idade', 'animais', 'idades'])\n",
            "dict_values(['Franciane', 34, ['Bel', 'Bia', 'Bela', 'Kika'], [13, 7, 4, 7]])\n"
          ]
        }
      ]
    },
    {
      "cell_type": "code",
      "source": [
        "# Declarar um dicionário\n",
        "pessoa = {'nome': 'Joaquim da Silva',\n",
        "          'telefone': '(11)33333-3333',\n",
        "          'cpf': '000.000.000-00'\n",
        "          }\n",
        "\n",
        "# Coloca o nome da chave\n",
        "print(pessoa['nome'])\n",
        "print(pessoa['telefone'])\n",
        "print(pessoa['cpf'])"
      ],
      "metadata": {
        "colab": {
          "base_uri": "https://localhost:8080/"
        },
        "id": "_FVIeBp5aXd9",
        "outputId": "f11adb36-79f3-45c3-f6d8-581531d75b35"
      },
      "execution_count": null,
      "outputs": [
        {
          "output_type": "stream",
          "name": "stdout",
          "text": [
            "Joaquim da Silva\n",
            "(11)33333-3333\n",
            "000.000.000-00\n"
          ]
        }
      ]
    },
    {
      "cell_type": "code",
      "source": [
        "# Exemplo 2: Lista dentro do dicionário\n",
        "telefones = ['(11)9.0000-0000', '(21)9.0000-0000', '(31)9.0000-0000']\n",
        "\n",
        "telefones = {'sp':['(11)9.0000-0000', '(11)9.0000-0001','(11)9.0000-0002'],\n",
        "             'rj':'(21)9.0000-0000',\n",
        "             'mg': '(31)9.0000-0000' }\n",
        "\n",
        "# Informação pela chave\n",
        "print(telefones['sp'])"
      ],
      "metadata": {
        "colab": {
          "base_uri": "https://localhost:8080/"
        },
        "id": "N7wB-tcEasBu",
        "outputId": "82628e1b-3324-4660-8a55-18c839c7978e"
      },
      "execution_count": null,
      "outputs": [
        {
          "output_type": "stream",
          "name": "stdout",
          "text": [
            "['(11)9.0000-0000', '(11)9.0000-0001', '(11)9.0000-0002']\n"
          ]
        }
      ]
    },
    {
      "cell_type": "code",
      "source": [
        "# Depois colocarei na aula de lista\n",
        "# Criando uma lista\n",
        "lista = ['cris', 'ro']\n",
        "\n",
        "# Adicionando uma lista de itens ao final da lista\n",
        "lista.extend(['ana', 'marcos', 'carina'])\n",
        "\n",
        "# Imprimindo a lista\n",
        "print(lista)"
      ],
      "metadata": {
        "colab": {
          "base_uri": "https://localhost:8080/"
        },
        "id": "40aei3eefjfM",
        "outputId": "b6fd4577-4227-4fa7-d4bf-54a7c4e00dfe"
      },
      "execution_count": null,
      "outputs": [
        {
          "output_type": "stream",
          "name": "stdout",
          "text": [
            "['cris', 'ro', 'ana', 'marcos', 'carina']\n"
          ]
        }
      ]
    },
    {
      "cell_type": "markdown",
      "source": [
        "## **Estrutura de Repetição: WHILE**\n",
        "\n",
        "A estrutura while é uma das formas mais comuns de controle de fluxo em programação, permitindo que um bloco de código seja executado repetidamente enquanto uma condição especificada seja verdadeira. É crucial garantir que a condição eventualmente se torne falsa, pois, se não o fizer, seu programa ficará preso em um \"loop infinito\", consumindo recursos da máquina indefinidamente.\n"
      ],
      "metadata": {
        "id": "ELEeeemtf88q"
      }
    },
    {
      "cell_type": "code",
      "source": [
        "'''\n",
        "while condição:\n",
        "    blocodecodigo1\n",
        "'''"
      ],
      "metadata": {
        "id": "zL-9gKxrgD7i"
      },
      "execution_count": null,
      "outputs": []
    },
    {
      "cell_type": "markdown",
      "source": [
        "O while não possui um contador interno. Em vez disso, ele depende de uma condição para continuar ou interromper a repetição. Isso o torna muito flexível e útil."
      ],
      "metadata": {
        "id": "e9sGEmeagvku"
      }
    },
    {
      "cell_type": "code",
      "source": [
        "'''\n",
        "i = 1, 0 , -1 ou outros (inicio da contagem, também chamada de váriável de indexação ou controle)\n",
        "while condição (normalmente um operador relacional com a condição de parada):\n",
        "    bloco de codigo enquanto a condição é verdadeira\n",
        "    operadores de atribuição\n",
        "'''"
      ],
      "metadata": {
        "id": "Xl9SljgYhBet"
      },
      "execution_count": null,
      "outputs": []
    },
    {
      "cell_type": "code",
      "source": [
        "# O while necessita de um contador\n",
        "# O while precisa ser incrementado ou decrementado\n",
        "'''\n",
        "5\n",
        "4\n",
        "3\n",
        "2\n",
        "1\n",
        "'''\n",
        "\n",
        "contagem = 5                      # é da onde eu inicio\n",
        "while contagem > 0:               # condição parada\n",
        "    print(contagem)               # imprimir na tela: fazer algo\n",
        "    contagem -= 1                 # como?\n",
        "    #contagem = contagem - 1"
      ],
      "metadata": {
        "colab": {
          "base_uri": "https://localhost:8080/"
        },
        "id": "ymivBfGXhgsr",
        "outputId": "44123c07-9953-462c-8361-17f5738108eb"
      },
      "execution_count": null,
      "outputs": [
        {
          "output_type": "stream",
          "name": "stdout",
          "text": [
            "5\n",
            "4\n",
            "3\n",
            "2\n",
            "1\n"
          ]
        }
      ]
    },
    {
      "cell_type": "code",
      "source": [
        "i = 5\n",
        "while i > 0:\n",
        "    print(i)\n",
        "    i -= 1"
      ],
      "metadata": {
        "colab": {
          "base_uri": "https://localhost:8080/"
        },
        "id": "REan17JCjliz",
        "outputId": "9ed1ae37-d2c2-4cd6-8429-2f6bc87802e7"
      },
      "execution_count": null,
      "outputs": [
        {
          "output_type": "stream",
          "name": "stdout",
          "text": [
            "5\n",
            "4\n",
            "3\n",
            "2\n",
            "1\n"
          ]
        }
      ]
    },
    {
      "cell_type": "code",
      "source": [
        "# Validando informações do usuário\n",
        "numero_secreto = 42\n",
        "palpite = 0\n",
        "tentativas = 0\n",
        "\n",
        "while palpite != numero_secreto:\n",
        "    palpite = int(input('Adivinhe o numero secreto. Escreva aqui: '))\n",
        "    tentativas += 1\n",
        "    # tentativa = tentativa + 1\n",
        "\n",
        "print(f'Parabéns! Você acertou em {tentativas} tentativas o número secreto!')"
      ],
      "metadata": {
        "colab": {
          "base_uri": "https://localhost:8080/"
        },
        "id": "AJi_D6yik4n9",
        "outputId": "22169ce6-1811-4ab2-dc84-87af54c4061e"
      },
      "execution_count": null,
      "outputs": [
        {
          "output_type": "stream",
          "name": "stdout",
          "text": [
            "Adivinhe o numero secreto. Escreva aqui: 8\n",
            "Adivinhe o numero secreto. Escreva aqui: 10\n",
            "Adivinhe o numero secreto. Escreva aqui: 42\n",
            "Parabéns! Você acertou em 3 tentativas o número secreto!\n"
          ]
        }
      ]
    },
    {
      "cell_type": "code",
      "source": [
        "# Pedir para o usuário digitar um número positivo!\n",
        "# Se o usuário digitar um número que não seja positivo de um recado\n",
        "# \"Solicita ao usuário que insira um número positivo\"\n",
        "\n",
        "numero = float(input('Digite um numero positivo: '))\n",
        "\n",
        "# Continua solicitando entrada até que o número seja positivo\n",
        "while numero <= 0:\n",
        "    numero = float(input('O numero não é positivo! Eu quero um número positivo: '))\n",
        "\n",
        "# Quando um número positivo é inserido, exibe uma mensagem\n",
        "print(\"Temos um número positivo! Show de bolinha\")"
      ],
      "metadata": {
        "colab": {
          "base_uri": "https://localhost:8080/"
        },
        "id": "vxrTN2ipoiWL",
        "outputId": "ebf4ca53-99b7-4ef2-9f57-033113d5450f"
      },
      "execution_count": null,
      "outputs": [
        {
          "output_type": "stream",
          "name": "stdout",
          "text": [
            "Digite um numero positivo: -1\n",
            "O numero não é positivo! Eu quero um número positivo: -9\n",
            "O numero não é positivo! Eu quero um número positivo: -100\n",
            "O numero não é positivo! Eu quero um número positivo: -1000\n",
            "O numero não é positivo! Eu quero um número positivo: 1\n",
            "Temos um número positivo! Show de bolinha\n"
          ]
        }
      ]
    },
    {
      "cell_type": "markdown",
      "source": [
        "**Controle de Estoque**\n",
        "\n",
        "* Problema: Você precisa controlar o estoque de um determinado produto. O estoque inicial é de 100 unidades. A cada venda realizada, você precisa atualizar o estoque restante até que o estoque seja zerado."
      ],
      "metadata": {
        "id": "jtiUR5KWu7ew"
      }
    },
    {
      "cell_type": "code",
      "source": [
        "# Boas vindas\n",
        "print(\"Bem-vindo ao sistema de controle de estoque.\")\n",
        "\n",
        "estoque_inicial = 100\n",
        "continuar = True # Variável para controlar se o usuário quer continuar no sistema ou não.\n",
        "\n",
        "# Enquanto ainda houver unidades no estoque e o usuário quiser continuar:\n",
        "while estoque_inicial > 0 and continuar:\n",
        "    venda = int(input(\"Quantas unidades foram vendidas? (Digite 0 para sair) \"))\n",
        "\n",
        "    # Se o usuário digitou 0, quer sair do sistema.\n",
        "    if venda == 0:\n",
        "        continuar = False\n",
        "        print(\"Encerrando o sistema de controle de estoque.\")\n",
        "\n",
        "    # Se a quantidade de unidades vendidas for maior que o estoque disponível, avisa o usuário.\n",
        "    elif venda > estoque_inicial:\n",
        "         print(\"Não há unidades suficientes em estoque. Apenas\", estoque_inicial, \"unidades disponíveis.\")\n",
        "\n",
        "    # Caso contrário, subtrai a quantidade vendida do estoque e mostra o estoque restante.\n",
        "    else:\n",
        "        estoque_inicial -= venda # estoque_inicial = estoque_inicial - venda\n",
        "        print(\"Venda realizada. Estoque restante:\", estoque_inicial)\n",
        "\n",
        "\n",
        "# Quando o estoque acabar, mostra uma mensagem indicando que não há mais unidades disponíveis.\n",
        "if estoque_inicial == 0:\n",
        "    print(\"Estoque zerado. Não há mais unidades disponíveis.\")"
      ],
      "metadata": {
        "colab": {
          "base_uri": "https://localhost:8080/"
        },
        "id": "GqmuvphgvFaa",
        "outputId": "ea3b79fd-14be-477c-e921-4bb3eeef6fc3"
      },
      "execution_count": null,
      "outputs": [
        {
          "output_type": "stream",
          "name": "stdout",
          "text": [
            "Bem-vindo ao sistema de controle de estoque.\n",
            "Quantas unidades foram vendidas? (Digite 0 para sair) 23\n",
            "Venda realizada. Estoque restante: 77\n",
            "Quantas unidades foram vendidas? (Digite 0 para sair) -1\n",
            "Venda realizada. Estoque restante: 78\n",
            "Quantas unidades foram vendidas? (Digite 0 para sair) 25\n",
            "Venda realizada. Estoque restante: 53\n",
            "Quantas unidades foram vendidas? (Digite 0 para sair) 52\n",
            "Venda realizada. Estoque restante: 1\n",
            "Quantas unidades foram vendidas? (Digite 0 para sair) 1\n",
            "Venda realizada. Estoque restante: 0\n",
            "Estoque zerado. Não há mais unidades disponíveis.\n"
          ]
        }
      ]
    },
    {
      "cell_type": "markdown",
      "source": [
        "## **Estrutura de Repetição: FOR**"
      ],
      "metadata": {
        "id": "myDE-j1hQ0Nw"
      }
    },
    {
      "cell_type": "markdown",
      "source": [
        "O loop for é uma estrutura de repetição que permite executar um bloco de código várias vezes. Ele é amplamente usado para percorrer elementos em sequências, como listas, tuplas e strings. O loop for é uma escolha natural quando você sabe quantas vezes deseja repetir uma ação."
      ],
      "metadata": {
        "id": "bU0vu02hRBlc"
      }
    },
    {
      "cell_type": "code",
      "source": [
        "'''\n",
        "for variável in sequência:\n",
        "    bloco de codigo a ser repetido\n",
        "'''"
      ],
      "metadata": {
        "id": "Hdqc9MqLSAjc"
      },
      "execution_count": null,
      "outputs": []
    },
    {
      "cell_type": "code",
      "source": [
        "# Exemplo comparativo: Imprima na tela os números de 0 a 9 com while e for"
      ],
      "metadata": {
        "id": "vlBu1rT8SKXT"
      },
      "execution_count": null,
      "outputs": []
    },
    {
      "cell_type": "code",
      "source": [
        "# Usando While\n",
        "i = 0\n",
        "while i < 10:\n",
        "    print(i)\n",
        "    i += 1"
      ],
      "metadata": {
        "id": "WEd4tt4PSRmE"
      },
      "execution_count": null,
      "outputs": []
    },
    {
      "cell_type": "code",
      "source": [
        "# A função range poderá ter até 3 argumentos (valores)\n",
        "# for i in range (inicio_do_contador, condição_de_parada, incremento ou decremento)\n",
        "# Range em ingles significa faixa\n",
        "\n",
        "# 1° Forma\n",
        "# utilizando o range com apenas um argumento - condição de parada com incremento 1 por padrão (default)\n",
        "for i in range(10):\n",
        "    print(i)"
      ],
      "metadata": {
        "id": "x5ciQ3zrSsEy"
      },
      "execution_count": null,
      "outputs": []
    },
    {
      "cell_type": "code",
      "source": [
        "# 2° Forma\n",
        "# utilizando o range com apenas 2 argumentos (valores)\n",
        "# inicio da contagem e a condição de parada\n",
        "for i in range(0, 10):\n",
        "  print(i)"
      ],
      "metadata": {
        "id": "R0VM4OfsUi9d"
      },
      "execution_count": null,
      "outputs": []
    },
    {
      "cell_type": "code",
      "source": [
        "# 3° Forma\n",
        "# utilizando o range com apenas 3 argumentos\n",
        "# inicio da contagem, condição de parada e incremento\n",
        "\n",
        "for i in range(0, 10, 1):\n",
        "  print(i)"
      ],
      "metadata": {
        "id": "iFaSLBnvVQsn"
      },
      "execution_count": null,
      "outputs": []
    },
    {
      "cell_type": "code",
      "source": [
        "# 4° forma: exemplo de iteração de string\n",
        "\n",
        "palavra = 'Python'\n",
        "for i in palavra:\n",
        "    print(i)"
      ],
      "metadata": {
        "id": "IvylY9YnZBy8"
      },
      "execution_count": null,
      "outputs": []
    },
    {
      "cell_type": "code",
      "source": [
        "# 5° forma: exemplo de iteração de tupla\n",
        "tupla = (10, 20, 30, 40, 50)\n",
        "for i in tupla:\n",
        "    print(i)"
      ],
      "metadata": {
        "id": "Cu-dEuLFZrLz"
      },
      "execution_count": null,
      "outputs": []
    },
    {
      "cell_type": "code",
      "source": [
        "# 6° forma: exemplo de iteração com listas\n",
        "alunos = ['Erika', 'Lidiane', 'Rosangela', 'Victor Gabriel']\n",
        "for aluno in alunos:\n",
        "    print(aluno)"
      ],
      "metadata": {
        "id": "GeCvAhO6aIS7"
      },
      "execution_count": null,
      "outputs": []
    },
    {
      "cell_type": "code",
      "source": [
        "# 7° forma: exemplo de iteração com dicionários\n",
        "\n",
        "frutas = {'maça': 3,\n",
        "          'banana': 5,\n",
        "          'laranja': 10,\n",
        "          'pêra': 2\n",
        "         }\n",
        "\n",
        "for chave, valor in frutas.items():\n",
        "    print(f'{chave}:{valor}')"
      ],
      "metadata": {
        "id": "B4MzKcVTawNV"
      },
      "execution_count": null,
      "outputs": []
    },
    {
      "cell_type": "code",
      "source": [
        "# 8º forma: Calculando a soma dos numeros de 1 a 10:\n",
        "soma = 0\n",
        "for i in range(1, 11):\n",
        "    soma += i                                   # soma = soma + i\n",
        "print(\"A soma dos números de 1 a 10 é:\", soma)"
      ],
      "metadata": {
        "id": "nCfp4VwVfl8e"
      },
      "execution_count": null,
      "outputs": []
    },
    {
      "cell_type": "markdown",
      "source": [
        "## **Recapitulando**"
      ],
      "metadata": {
        "id": "trX7DXqeNHkQ"
      }
    },
    {
      "cell_type": "code",
      "execution_count": null,
      "metadata": {
        "id": "eQog916_Mvye"
      },
      "outputs": [],
      "source": [
        "'''\n",
        "Crie um programa que receba do usuário cinco valores de notas (0 - 10)\n",
        "calcule a média,\n",
        "informe o usuário a média aritmética dos valores informados.\n",
        "Método de resolução sem estruturas\n",
        "'''\n",
        "n1 = float(input('Informe a 1ª nota de 0 a 10: '))\n",
        "n2 = float(input('Informe a 2ª nota de 0 a 10: '))\n",
        "n3 = float(input('Informe a 3ª nota de 0 a 10: '))\n",
        "n4 = float(input('Informe a 4ª nota de 0 a 10: '))\n",
        "n5 = float(input('Informe a 5ª nota de 0 a 10: '))\n",
        "\n",
        "media = (n1+n2+n3+n4+n5)/5\n",
        "\n",
        "print(f'A média aritmética dos valores informados é {media:.2f}')"
      ]
    },
    {
      "cell_type": "code",
      "source": [
        "g'''\n",
        "Crie um programa que receba do usuário n valores de notas (0 - 10)\n",
        "calcule a média e\n",
        "informe o usuário a média aritmética dos valores informados\n",
        "Método de resolução com while\n",
        "'''\n",
        "# Cria a lista vazia que receberá as notas\n",
        "notas = []\n",
        "\n",
        "# Cria a variável contadora (inicial) que deverá ser atualizada a cada novo input do usuários\n",
        "c = 0\n",
        "\n",
        "# cria a variável que o usuário informará a qtde de notas a ser inserida no sistema\n",
        "qtde = float(input('Informe a quantidade de notas que deseja inserir no sistema: '))\n",
        "\n",
        "while c < qtde: # cria a condição para o laço ser executado\n",
        "  notas.append(float(input(f'Informe a {c+1}ª nota: '))) # cria o input com cada nota e as insere na lista notas criada anteriormente\n",
        "  c += 1 # Atualiza a variável contadora a cada novo input\n",
        "\n",
        "# Calcula a média aritmética das notas\n",
        "media = sum(notas)/len(notas) # metodo sum: soma todos os valores\n",
        "\n",
        "# Imprime a média\n",
        "print(f'A média aritmética dos valores informados é {media:.2f}')\n"
      ],
      "metadata": {
        "id": "AYXoAPANObb4"
      },
      "execution_count": null,
      "outputs": []
    },
    {
      "cell_type": "code",
      "source": [
        "'''\n",
        "Crie um programa que receba do usuário n valores de notas (0 - 10)\n",
        "calcule a média e informe o usuário a média aritmética dos valores informados\n",
        "Método de resolução com for\n",
        "'''\n",
        "# recebe todas as notas em um único input\n",
        "dados = input('Informe as notas separadas por espaços: ')\n",
        "print(type(dados))\n",
        "\n",
        "# Vamos colocar em uma lista via split\n",
        "notas = dados.split()\n",
        "#print(type(notas))\n",
        "#print(notas)\n",
        "#print(type(notas[0]))\n",
        "\n",
        "# Vamos fazer uma conversão de dados de str para float via for\n",
        "for cada_nota in range(len(notas)):\n",
        "    notas[cada_nota] = float(notas[cada_nota])\n",
        "\n",
        "# Verificação de que as notas foram convertidas\n",
        "print(type(notas[0]))\n",
        "\n",
        "# Calcula a média aritmética das notas\n",
        "media = sum(notas)/len(notas)\n",
        "\n",
        "# Imprime a média\n",
        "print(f'A média aritmética dos valores informados é {media:.2f}')"
      ],
      "metadata": {
        "id": "qatL0OjgqDBX"
      },
      "execution_count": null,
      "outputs": []
    },
    {
      "cell_type": "markdown",
      "source": [
        "## **Funções**"
      ],
      "metadata": {
        "id": "5mnuaKBKwOa4"
      }
    },
    {
      "cell_type": "markdown",
      "source": [
        "Funções são trechos de programa que recebem um determinado nome e podem ser chamadas várias vezes durante sua execução.\n",
        "\n",
        "Das vantagens:\n",
        "*  Reutilização de código\n",
        "*  Modularidade\n",
        "*  Facilidade de Manutenção do sistema"
      ],
      "metadata": {
        "id": "y5HA8sOBwYaG"
      }
    },
    {
      "cell_type": "code",
      "source": [
        "# 1. Função sem parâmetro e sem retorno\n",
        "def mensagem():\n",
        "    print('Olá pessoas!')"
      ],
      "metadata": {
        "id": "1nxOxyWsv_Qa"
      },
      "execution_count": null,
      "outputs": []
    },
    {
      "cell_type": "code",
      "source": [
        "# Chamando minha função\n",
        "mensagem()"
      ],
      "metadata": {
        "id": "ebK4Am7BxOBn"
      },
      "execution_count": null,
      "outputs": []
    },
    {
      "cell_type": "code",
      "source": [
        "# Modo que aprendemos a fazer cálculos\n",
        "a = 5\n",
        "b = 7\n",
        "somar = a + b\n",
        "print(somar)"
      ],
      "metadata": {
        "id": "NlQlC54cyBiG"
      },
      "execution_count": null,
      "outputs": []
    },
    {
      "cell_type": "code",
      "source": [
        "# 2. Funçao com passagem de parâmetro com cálculo\n",
        "def somar(a, b):\n",
        "    print(a + b)"
      ],
      "metadata": {
        "id": "_RddTEl9xij7"
      },
      "execution_count": null,
      "outputs": []
    },
    {
      "cell_type": "code",
      "source": [
        "# chamando nossa função\n",
        "somar(1,2)\n",
        "somar(5,7)\n",
        "\n",
        "# Lembrete: parâmetro é variável dentro de uma função\n",
        "#           argumento é número atribuido na variável dentro da função."
      ],
      "metadata": {
        "id": "zysQxM4mx4Uq"
      },
      "execution_count": null,
      "outputs": []
    },
    {
      "cell_type": "code",
      "source": [
        "# Funçao com passagem de parametro e retorno (Recomendável)\n",
        "def somar(a, b):\n",
        "    return a + b"
      ],
      "metadata": {
        "id": "sLnfYZ2G1wTJ"
      },
      "execution_count": null,
      "outputs": []
    },
    {
      "cell_type": "code",
      "source": [
        "somar(7,8)"
      ],
      "metadata": {
        "id": "Yqnehlpf2Ip0"
      },
      "execution_count": null,
      "outputs": []
    },
    {
      "cell_type": "code",
      "source": [
        "# Função com calculos\n",
        "def formula_epg(m,h,g=10):\n",
        "    '''\n",
        "    Calcula energia potencial gravitacional\n",
        "    parametros\n",
        "    m = massa, entrada como uma variável float\n",
        "    h = altura, entrada como uma variável float\n",
        "\n",
        "    Parametro opcional\n",
        "    g: aceleração gravitacional com valor padrão 10\n",
        "    '''\n",
        "    e = m*g*h\n",
        "    return e"
      ],
      "metadata": {
        "id": "QtXLobLw2O4C"
      },
      "execution_count": null,
      "outputs": []
    },
    {
      "cell_type": "code",
      "source": [
        "# Chamando função\n",
        "formula_epg(30,12,10)"
      ],
      "metadata": {
        "id": "L4E4Og162yyk"
      },
      "execution_count": null,
      "outputs": []
    },
    {
      "cell_type": "code",
      "source": [
        "formula_epg(85,3,9.8)"
      ],
      "metadata": {
        "id": "JYihsrX93q0q"
      },
      "execution_count": null,
      "outputs": []
    }
  ]
}