{
  "nbformat": 4,
  "nbformat_minor": 0,
  "metadata": {
    "colab": {
      "provenance": [],
      "authorship_tag": "ABX9TyNYfbrXsIctLQ/aS+wOWYyf",
      "include_colab_link": true
    },
    "kernelspec": {
      "name": "python3",
      "display_name": "Python 3"
    },
    "language_info": {
      "name": "python"
    }
  },
  "cells": [
    {
      "cell_type": "markdown",
      "metadata": {
        "id": "view-in-github",
        "colab_type": "text"
      },
      "source": [
        "<a href=\"https://colab.research.google.com/github/pollianasilva/Soulcode/blob/main/aula_08.ipynb\" target=\"_parent\"><img src=\"https://colab.research.google.com/assets/colab-badge.svg\" alt=\"Open In Colab\"/></a>"
      ]
    },
    {
      "cell_type": "markdown",
      "source": [
        "## **Tuplas**\n",
        "\n",
        "*  São imutáveis: uma vez criadas, não podemos alterar\n",
        "*  São ordenáveis: elas mantem uma ordem especifica com acesso via índice\n",
        "* Permite heterogeneidade: podem conter elementos de diversos tipos\n",
        "* Sintaxe simples: para uma criar uma tupla usamos parênteses."
      ],
      "metadata": {
        "id": "hNLKmWIxHsza"
      }
    },
    {
      "cell_type": "code",
      "execution_count": null,
      "metadata": {
        "id": "CIoXZXZhHnwT"
      },
      "outputs": [],
      "source": [
        "# Criando uma tupla\n",
        "\n",
        "nomes = ('Fran', 'Bel', 'Bela')\n",
        "pesos = (51, 15, 40)\n",
        "alturas = (1.65, 1.81, 1.78)"
      ]
    },
    {
      "cell_type": "code",
      "source": [
        "# acessando elementos dentro das tuplas\n",
        "print(f'{nomes[0]} tem {pesos[0] } kg e {alturas[0]} metros')"
      ],
      "metadata": {
        "colab": {
          "base_uri": "https://localhost:8080/"
        },
        "id": "5vQoutNvKIED",
        "outputId": "1adf57db-50e9-4b29-b8ad-d0c15ff04595"
      },
      "execution_count": null,
      "outputs": [
        {
          "output_type": "stream",
          "name": "stdout",
          "text": [
            "Fran tem 51 kg e 1.65 metros\n"
          ]
        }
      ]
    },
    {
      "cell_type": "code",
      "source": [
        "# Transformando listas em tuplas\n",
        "produtos = ['teclado', 'mouse', 'monitor', 'placa-mãe']\n",
        "print(type(produtos))"
      ],
      "metadata": {
        "colab": {
          "base_uri": "https://localhost:8080/"
        },
        "id": "Lv75r3EgLAnQ",
        "outputId": "5b9d9359-b4d2-4aa9-af92-4a75e9683cd2"
      },
      "execution_count": null,
      "outputs": [
        {
          "output_type": "stream",
          "name": "stdout",
          "text": [
            "<class 'list'>\n"
          ]
        }
      ]
    },
    {
      "cell_type": "code",
      "source": [
        "# convertendo lista em tupla\n",
        "produtos = tuple(produtos)\n",
        "print(type(produtos))"
      ],
      "metadata": {
        "colab": {
          "base_uri": "https://localhost:8080/"
        },
        "id": "sfXGdxjLLK8w",
        "outputId": "f3788a0c-6660-4c7d-8fc9-3f68ae9a298b"
      },
      "execution_count": null,
      "outputs": [
        {
          "output_type": "stream",
          "name": "stdout",
          "text": [
            "<class 'tuple'>\n"
          ]
        }
      ]
    },
    {
      "cell_type": "code",
      "source": [
        "# convertendo tupla em lista\n",
        "produtos = tuple(produtos)\n",
        "print(type(produtos))\n",
        "\n",
        "produtos = list(produtos)\n",
        "print(type(produtos))"
      ],
      "metadata": {
        "colab": {
          "base_uri": "https://localhost:8080/"
        },
        "id": "dzelJRaYMP06",
        "outputId": "8aedc55c-f1b9-41b3-97b3-e76ee5046e43"
      },
      "execution_count": null,
      "outputs": [
        {
          "output_type": "stream",
          "name": "stdout",
          "text": [
            "<class 'tuple'>\n",
            "<class 'list'>\n"
          ]
        }
      ]
    },
    {
      "cell_type": "markdown",
      "source": [
        "## **Dicionários**\n",
        "\n",
        "*  Estrutura Chave-valor: Cada elemento no dicionário consiste em uma chave associada a um valor\n",
        "*  Mutabilidade: Diferentemente das tuplas, os dicionários são MUTÁVEIS. Isso significa que você pode adicionar, remover ou modificar elementos em um dicionário após sua criação.\n",
        "*  Chaves únicas: As chaves em um dicionários são únicas, garantindo que não existam chaves duplicadas."
      ],
      "metadata": {
        "id": "VFwfWFhxLyHY"
      }
    },
    {
      "cell_type": "code",
      "source": [
        "# Criando e armazenando em um dicionário as informações de nome, idade, peso e altura\n",
        "\n",
        "funcionario = {'nome':'Franciane',\n",
        "               'idade': 34,\n",
        "               'altura': 1.65,\n",
        "               'peso': 51}\n",
        "print(funcionario)"
      ],
      "metadata": {
        "colab": {
          "base_uri": "https://localhost:8080/"
        },
        "id": "IXJnY52YkihD",
        "outputId": "13c1ba98-68e0-489c-ea5e-3fb3f851d25c"
      },
      "execution_count": null,
      "outputs": [
        {
          "output_type": "stream",
          "name": "stdout",
          "text": [
            "{'nome': 'Franciane', 'idade': 34, 'altura': 1.65, 'peso': 51}\n"
          ]
        }
      ]
    },
    {
      "cell_type": "code",
      "source": [
        "# acessando valor da chave\n",
        "print(funcionario['nome'])\n",
        "print(funcionario['idade'])\n",
        "print(funcionario['altura'])\n",
        "print(funcionario['peso'])"
      ],
      "metadata": {
        "colab": {
          "base_uri": "https://localhost:8080/"
        },
        "id": "q6FWsPsEkkr6",
        "outputId": "3b3e78f3-a749-45f7-c3dc-a34210935f7c"
      },
      "execution_count": null,
      "outputs": [
        {
          "output_type": "stream",
          "name": "stdout",
          "text": [
            "Franciane\n",
            "34\n",
            "1.65\n",
            "51\n"
          ]
        }
      ]
    },
    {
      "cell_type": "code",
      "source": [
        "# Outra forma de acessar valor no meu dicionário\n",
        "print(funcionario.get('nome'))\n",
        "print(funcionario.get('idade'))\n",
        "print(funcionario.get('altura'))\n",
        "print(funcionario.get('peso'))"
      ],
      "metadata": {
        "colab": {
          "base_uri": "https://localhost:8080/"
        },
        "id": "FV0J8xnzkm6L",
        "outputId": "2dc53645-c99b-458a-fa9d-534973afa22f"
      },
      "execution_count": null,
      "outputs": [
        {
          "output_type": "stream",
          "name": "stdout",
          "text": [
            "Franciane\n",
            "34\n",
            "1.65\n",
            "51\n"
          ]
        }
      ]
    },
    {
      "cell_type": "code",
      "source": [
        "# Vamos fazer uma lista dentro de um dicionário\n",
        "dicionario_lista = {'nome': 'Franciane',\n",
        "                    'idade': 34,\n",
        "                    'animais':['Bel','Bia','Bela','Kika'],\n",
        "                    'idades':[13, 7, 4, 7]\n",
        "                    }\n",
        "print(dicionario_lista)"
      ],
      "metadata": {
        "colab": {
          "base_uri": "https://localhost:8080/"
        },
        "id": "tSIpOUG1kpsa",
        "outputId": "0f49d041-1e27-452d-fb06-5c198040cf18"
      },
      "execution_count": null,
      "outputs": [
        {
          "output_type": "stream",
          "name": "stdout",
          "text": [
            "{'nome': 'Franciane', 'idade': 34, 'animais': ['Bel', 'Bia', 'Bela', 'Kika'], 'idades': [13, 7, 4, 7]}\n"
          ]
        }
      ]
    },
    {
      "cell_type": "code",
      "source": [
        "# Métodos importantes\n",
        "# Utilize os métodos keys() e values()\n",
        "# Serve para obter todas as chaves ou valores do dicionário\n",
        "\n",
        "chaves = dicionario_lista.keys()\n",
        "print(chaves)\n",
        "\n",
        "valores = dicionario_lista.values()\n",
        "print(valores)"
      ],
      "metadata": {
        "colab": {
          "base_uri": "https://localhost:8080/"
        },
        "id": "v1T6Q5Ackr06",
        "outputId": "4912f896-31af-460f-a99b-a019cb4dfc42"
      },
      "execution_count": null,
      "outputs": [
        {
          "output_type": "stream",
          "name": "stdout",
          "text": [
            "dict_keys(['nome', 'idade', 'animais', 'idades'])\n",
            "dict_values(['Franciane', 34, ['Bel', 'Bia', 'Bela', 'Kika'], [13, 7, 4, 7]])\n"
          ]
        }
      ]
    },
    {
      "cell_type": "code",
      "source": [
        "# Declarar um dicionário\n",
        "pessoa = {'nome': 'Joaquim da Silva',\n",
        "          'telefone': '(11)33333-3333',\n",
        "          'cpf': '000.000.000-00'\n",
        "          }\n",
        "\n",
        "# Coloca o nome da chave\n",
        "print(pessoa['nome'])\n",
        "print(pessoa['telefone'])\n",
        "print(pessoa['cpf'])"
      ],
      "metadata": {
        "colab": {
          "base_uri": "https://localhost:8080/"
        },
        "id": "Q7xLqS8Vkueq",
        "outputId": "b36c2956-8420-44f1-e8fb-eece7a807e62"
      },
      "execution_count": null,
      "outputs": [
        {
          "output_type": "stream",
          "name": "stdout",
          "text": [
            "Joaquim da Silva\n",
            "(11)33333-3333\n",
            "000.000.000-00\n"
          ]
        }
      ]
    },
    {
      "cell_type": "code",
      "source": [
        "# Exemplo 2: Lista dentro do dicionário\n",
        "telefones = ['(11)9.0000-0000', '(21)9.0000-0000', '(31)9.0000-0000']\n",
        "\n",
        "telefones = {'sp':['(11)9.0000-0000', '(11)9.0000-0001','(11)9.0000-0002'],\n",
        "             'rj':'(21)9.0000-0000',\n",
        "             'mg': '(31)9.0000-0000' }\n",
        "\n",
        "# Informação pela chave\n",
        "print(telefones['sp'])"
      ],
      "metadata": {
        "colab": {
          "base_uri": "https://localhost:8080/"
        },
        "id": "-UOxc0qakxSz",
        "outputId": "c50b96e7-7977-48b4-bcea-1a59cc9c25bb"
      },
      "execution_count": null,
      "outputs": [
        {
          "output_type": "stream",
          "name": "stdout",
          "text": [
            "['(11)9.0000-0000', '(11)9.0000-0001', '(11)9.0000-0002']\n"
          ]
        }
      ]
    },
    {
      "cell_type": "code",
      "source": [
        "# Depois colocarei na aula de lista\n",
        "# Criando uma lista\n",
        "lista = ['cris', 'ro']\n",
        "\n",
        "# Adicionando uma lista de itens ao final da lista\n",
        "lista.extend(['ana', 'marcos', 'carina'])\n",
        "\n",
        "# Imprimindo a lista\n",
        "print(lista)"
      ],
      "metadata": {
        "colab": {
          "base_uri": "https://localhost:8080/"
        },
        "id": "6Nv09UD4k82q",
        "outputId": "cc918ac9-a31d-44d8-c2c6-956b966137f8"
      },
      "execution_count": null,
      "outputs": [
        {
          "output_type": "stream",
          "name": "stdout",
          "text": [
            "['cris', 'ro', 'ana', 'marcos', 'carina']\n"
          ]
        }
      ]
    },
    {
      "cell_type": "markdown",
      "source": [
        "## **Estrutura de Repetição: WHILE**\n",
        "\n",
        "A estrutura while é uma das formas mais comuns de controle de fluxo em programação, permitindo que um bloco de código seja executado repetidamente enquanto uma condição especificada seja verdadeira. É crucial garantir que a condição eventualmente se torne falsa, pois, se não o fizer, seu programa ficará preso em um \"loop infinito\", consumindo recursos da máquina indefinidamente."
      ],
      "metadata": {
        "id": "swb_mIN_lBJz"
      }
    },
    {
      "cell_type": "code",
      "source": [
        "'''\n",
        "while condição:\n",
        "    blocodecodigo1\n",
        "'''"
      ],
      "metadata": {
        "id": "e7UV71BklCaZ"
      },
      "execution_count": null,
      "outputs": []
    },
    {
      "cell_type": "markdown",
      "source": [
        "O while não possui um contador interno. Em vez disso, ele depende de uma condição para continuar ou interromper a repetição. Isso o torna muito flexível e útil."
      ],
      "metadata": {
        "id": "fTaw516wlF_b"
      }
    },
    {
      "cell_type": "code",
      "source": [
        "'''\n",
        "i = 1, 0 , -1 ou outros (inicio da contagem, também chamada de váriável de indexação ou controle)\n",
        "while condição (normalmente um operador relacional com a condição de parada):\n",
        "    bloco de codigo enquanto a condição é verdadeira\n",
        "    operadores de atribuição\n",
        "'''"
      ],
      "metadata": {
        "id": "7P1-X7jPlHKq"
      },
      "execution_count": null,
      "outputs": []
    },
    {
      "cell_type": "code",
      "source": [
        "# O while necessita de um contador\n",
        "# O while precisa ser incrementado ou decrementado\n",
        "'''\n",
        "5\n",
        "4\n",
        "3\n",
        "2\n",
        "1\n",
        "'''\n",
        "\n",
        "contagem = 5                      # é da onde eu inicio\n",
        "while contagem > 0:               # condição parada\n",
        "    print(contagem)               # imprimir na tela\n",
        "    contagem -= 1                 # como?\n",
        "    #contagem = contagem - 1"
      ],
      "metadata": {
        "colab": {
          "base_uri": "https://localhost:8080/"
        },
        "id": "fwtN-tM_lKaq",
        "outputId": "bdf07fd3-c913-4020-d35c-8fffe674b643"
      },
      "execution_count": null,
      "outputs": [
        {
          "output_type": "stream",
          "name": "stdout",
          "text": [
            "5\n",
            "4\n",
            "3\n",
            "2\n",
            "1\n"
          ]
        }
      ]
    },
    {
      "cell_type": "code",
      "source": [
        "i = 5\n",
        "while i > 0:\n",
        "    print(i)\n",
        "    i -= 1"
      ],
      "metadata": {
        "colab": {
          "base_uri": "https://localhost:8080/"
        },
        "id": "ZXBliwUYpOkE",
        "outputId": "699b863a-eb40-4e9b-aac7-da7863c660c6"
      },
      "execution_count": null,
      "outputs": [
        {
          "output_type": "stream",
          "name": "stdout",
          "text": [
            "5\n",
            "4\n",
            "3\n",
            "2\n",
            "1\n"
          ]
        }
      ]
    },
    {
      "cell_type": "code",
      "source": [
        "# Validando informações do usuário\n",
        "numero_secreto = 42\n",
        "palpite = 0\n",
        "tentativas = 0\n",
        "\n",
        "while palpite != numero_secreto:\n",
        "    palpite = int(input('Adivinhe o numero secreto. Escreva aqui: '))\n",
        "    tentativas += 1\n",
        "    # tentativa = tentativa + 1\n",
        "\n",
        "print(f'Parabéns! Você acertou em {tentativas} tentativas o número secreto!')"
      ],
      "metadata": {
        "colab": {
          "base_uri": "https://localhost:8080/"
        },
        "id": "XihPHf4GpR3K",
        "outputId": "21d6cdf3-c5ac-4213-ba18-8173ce295729"
      },
      "execution_count": null,
      "outputs": [
        {
          "output_type": "stream",
          "name": "stdout",
          "text": [
            "Adivinhe o numero secreto. Escreva aqui: 5\n",
            "Adivinhe o numero secreto. Escreva aqui: 7\n",
            "Adivinhe o numero secreto. Escreva aqui: 10\n",
            "Adivinhe o numero secreto. Escreva aqui: 42\n",
            "Parabéns! Você acertou em 4 tentativas o número secreto!\n"
          ]
        }
      ]
    },
    {
      "cell_type": "code",
      "source": [
        "# Pedir para o usuário digitar um número positivo!\n",
        "# Se o usuário digitar um número que não seja positivo de um recado\n",
        "# \"Solicita ao usuário que insira um número positivo\"\n",
        "\n",
        "numero = float(input('Digite um numero positivo: '))\n",
        "\n",
        "# Continua solicitando entrada até que o número seja positivo\n",
        "while numero <= 0:\n",
        "    numero = float(input('O numero não é positivo! Eu quero um número positivo: '))\n",
        "\n",
        "# Quando um número positivo é inserido, exibe uma mensagem\n",
        "print(\"Temos um número positivo! Show de bolinha\")"
      ],
      "metadata": {
        "colab": {
          "base_uri": "https://localhost:8080/"
        },
        "id": "BYAs2VKBpYwj",
        "outputId": "a660cc27-5d26-4b90-b06e-24929896aeb9"
      },
      "execution_count": null,
      "outputs": [
        {
          "output_type": "stream",
          "name": "stdout",
          "text": [
            "Digite um numero positivo: 5\n",
            "Temos um número positivo! Show de bolinha\n"
          ]
        }
      ]
    },
    {
      "cell_type": "markdown",
      "source": [
        "**Controle de Estoque**\n",
        "\n",
        "* Problema: Você precisa controlar o estoque de um determinado produto. O estoque inicial é de 100 unidades. A cada venda realizada, você precisa atualizar o estoque restante até que o estoque seja zerado."
      ],
      "metadata": {
        "id": "3ZusJ50Bu_nz"
      }
    },
    {
      "cell_type": "code",
      "source": [
        "# Boas vindas\n",
        "print(\"Bem-vindo ao sistema de controle de estoque.\")\n",
        "\n",
        "estoque_inicial = 100\n",
        "continuar = True # Variável para controlar se o usuário quer continuar no sistema ou não.\n",
        "\n",
        "# Enquanto ainda houver unidades no estoque e o usuário quiser continuar:\n",
        "while estoque_inicial > 0 and continuar:\n",
        "    venda = int(input(\"Quantas unidades foram vendidas? (Digite 0 para sair) \"))\n",
        "\n",
        "    # Se o usuário digitou 0, quer sair do sistema.\n",
        "    if venda == 0:\n",
        "        continuar = False\n",
        "        print(\"Encerrando o sistema de controle de estoque.\")\n",
        "\n",
        "    # Se a quantidade de unidades vendidas for maior que o estoque disponível, avisa o usuário.\n",
        "    elif venda > estoque_inicial:\n",
        "         print(\"Não há unidades suficientes em estoque. Apenas\", estoque_inicial, \"unidades disponíveis.\")\n",
        "\n",
        "    # Caso contrário, subtrai a quantidade vendida do estoque e mostra o estoque restante.\n",
        "    else:\n",
        "        estoque_inicial -= venda # estoque_inicial = estoque_inicial - venda\n",
        "        print(\"Venda realizada. Estoque restante:\", estoque_inicial)\n",
        "\n",
        "\n",
        "# Quando o estoque acabar, mostra uma mensagem indicando que não há mais unidades disponíveis.\n",
        "if estoque_inicial == 0:\n",
        "    print(\"Estoque zerado. Não há mais unidades disponíveis.\")"
      ],
      "metadata": {
        "colab": {
          "base_uri": "https://localhost:8080/"
        },
        "id": "vQhM4jTLvldy",
        "outputId": "faa928a4-993e-4c0f-d0d7-0d7ca40c845b"
      },
      "execution_count": null,
      "outputs": [
        {
          "output_type": "stream",
          "name": "stdout",
          "text": [
            "Bem-vindo ao sistema de controle de estoque.\n",
            "Quantas unidades foram vendidas? (Digite 0 para sair) 5\n",
            "Venda realizada. Estoque restante: 95\n",
            "Quantas unidades foram vendidas? (Digite 0 para sair) 95\n",
            "Venda realizada. Estoque restante: 0\n",
            "Estoque zerado. Não há mais unidades disponíveis.\n"
          ]
        }
      ]
    }
  ]
}